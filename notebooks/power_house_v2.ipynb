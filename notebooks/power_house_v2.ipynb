{
 "cells": [
  {
   "cell_type": "code",
   "execution_count": 1,
   "metadata": {},
   "outputs": [],
   "source": [
    "import sys\n",
    "import numpy as np\n",
    "import random\n",
    "import copy\n",
    "\n",
    "random.seed(10)\n",
    "\n",
    "# mbnpy toolkit\n",
    "sys.path.append(r\"C:\\Users\\jb622s\\git\\BNS-JT\\BNS_JT\") \n",
    "from BNS_JT import cpm, variable"
   ]
  },
  {
   "cell_type": "markdown",
   "metadata": {},
   "source": [
    "# Problem\n",
    "<figure>\n",
    "<img src=\"img/house_power_prob.png\" style=\"width:400px\">\n",
    "</figure>"
   ]
  },
  {
   "cell_type": "markdown",
   "metadata": {},
   "source": [
    "# Modelling\n",
    "\n",
    "## Hazard scenarios"
   ]
  },
  {
   "cell_type": "code",
   "execution_count": 2,
   "metadata": {},
   "outputs": [
    {
     "name": "stdout",
     "output_type": "stream",
     "text": [
      "\"Variable(name=haz, B=[{0}, {1}, {2}, {0, 1}, {0, 2}, {1, 2}, {0, 1, 2}], values=['mild', 'medi', 'inte'])\"\n",
      "Cpm(variables=['haz'], no_child=1, C=[[0]\n",
      " [1]\n",
      " [2]], p=[[0.5]\n",
      " [0.2]\n",
      " [0.3]]\n"
     ]
    }
   ],
   "source": [
    "cpms={}\n",
    "vars={}\n",
    "\n",
    "vars['haz'] = variable.Variable( name='haz', values=['mild','medi','inte'] ) # values=(mild, medium, intense)\n",
    "cpms['haz'] = cpm.Cpm( variables=[vars['haz']], no_child=1, C=np.array([0,1,2]), p=[0.5,0.2,0.3] )\n",
    "\n",
    "print(vars['haz'])\n",
    "print(cpms['haz'])\n"
   ]
  },
  {
   "cell_type": "markdown",
   "metadata": {},
   "source": [
    "## Structural daamage"
   ]
  },
  {
   "cell_type": "code",
   "execution_count": 3,
   "metadata": {},
   "outputs": [],
   "source": [
    "# Substations\n",
    "n_subs = 2\n",
    "for i in range(n_subs):\n",
    "    name = 'xs' + str(i)\n",
    "    vars[name] = variable.Variable( name=name, values=['fail','surv'] ) # values=(failure, survival)\n",
    "    cpms[name] = cpm.Cpm( variables = [vars[name], vars['haz']], no_child = 1,\n",
    "                      C=np.array([[0,0], [1,0], [0,1], [1,1], [0,2], [1,2]]) )\n",
    "\n",
    "cpms['xs0'].p = np.array([0.001, 0.999, 0.01, 0.99, 0.1, 0.9])\n",
    "cpms['xs1'].p = np.array([0.005, 0.995, 0.05, 0.95, 0.2, 0.8])\n",
    "\n",
    "# Poles\n",
    "n_pole = 8\n",
    "for i in range(n_pole):\n",
    "    name = 'xp' + str(i)\n",
    "    vars[name] = variable.Variable( name=name, values=['fail','surv'] ) # values=(failure, survival)\n",
    "    cpms[name] = cpm.Cpm( variables = [vars[name], vars['haz']], no_child = 1,\n",
    "                      C=np.array([[0,0], [1,0], [0,1], [1,1], [0,2], [1,2]]) )\n",
    "    \n",
    "    if i in [0,2,4,6]:\n",
    "        cpms[name].p = np.array([0.001, 0.999, 0.01, 0.99, 0.1, 0.9])\n",
    "    else:\n",
    "        cpms[name].p = np.array([0.005, 0.995, 0.05, 0.95, 0.2, 0.8])\n"
   ]
  },
  {
   "cell_type": "markdown",
   "metadata": {},
   "source": [
    "## Downtime"
   ]
  },
  {
   "cell_type": "code",
   "execution_count": 4,
   "metadata": {},
   "outputs": [
    {
     "name": "stdout",
     "output_type": "stream",
     "text": [
      "['xs0', 'xs1', 'xp0', 'xp1', 'xp2', 'xp3', 'xp4', 'xp5', 'xp6', 'xp7']\n"
     ]
    }
   ],
   "source": [
    "max_ct = n_subs + n_pole \n",
    "rep_pri = ['xs' + str(i) for i in range(n_subs)] + ['xp' + str(i) for i in range(n_pole)] # repair priority\n",
    "\n",
    "print(rep_pri)\n"
   ]
  },
  {
   "cell_type": "code",
   "execution_count": 5,
   "metadata": {},
   "outputs": [
    {
     "name": "stdout",
     "output_type": "stream",
     "text": [
      "'Variable(name=ts0, B=[{0}, {1}, {0, 1}], values=[0, 1])'\n",
      "Cpm(variables=['ts0', 'xs0'], no_child=1, C=[[1 0]\n",
      " [0 1]], p=[[1]\n",
      " [1]]\n",
      " \n",
      "'Variable(name=tp3, B=[{0}, {1}, {2}, {3}, {4}, {5}, {6}, {0, 1}, {0, 2}, {0, 3}, {0, 4}, {0, 5}, {0, 6}, {1, 2}, {1, 3}, {1, 4}, {1, 5}, {1, 6}, {2, 3}, {2, 4}, {2, 5}, {2, 6}, {3, 4}, {3, 5}, {3, 6}, {4, 5}, {4, 6}, {5, 6}, {0, 1, 2}, {0, 1, 3}, {0, 1, 4}, {0, 1, 5}, {0, 1, 6}, {0, 2, 3}, {0, 2, 4}, {0, 2, 5}, {0, 2, 6}, {0, 3, 4}, {0, 3, 5}, {0, 3, 6}, {0, 4, 5}, {0, 4, 6}, {0, 5, 6}, {1, 2, 3}, {1, 2, 4}, {1, 2, 5}, {1, 2, 6}, {1, 3, 4}, {1, 3, 5}, {1, 3, 6}, {1, 4, 5}, {1, 4, 6}, {1, 5, 6}, {2, 3, 4}, {2, 3, 5}, {2, 3, 6}, {2, 4, 5}, {2, 4, 6}, {2, 5, 6}, {3, 4, 5}, {3, 4, 6}, {3, 5, 6}, {4, 5, 6}, {0, 1, 2, 3}, {0, 1, 2, 4}, {0, 1, 2, 5}, {0, 1, 2, 6}, {0, 1, 3, 4}, {0, 1, 3, 5}, {0, 1, 3, 6}, {0, 1, 4, 5}, {0, 1, 4, 6}, {0, 1, 5, 6}, {0, 2, 3, 4}, {0, 2, 3, 5}, {0, 2, 3, 6}, {0, 2, 4, 5}, {0, 2, 4, 6}, {0, 2, 5, 6}, {0, 3, 4, 5}, {0, 3, 4, 6}, {0, 3, 5, 6}, {0, 4, 5, 6}, {1, 2, 3, 4}, {1, 2, 3, 5}, {1, 2, 3, 6}, {1, 2, 4, 5}, {1, 2, 4, 6}, {1, 2, 5, 6}, {1, 3, 4, 5}, {1, 3, 4, 6}, {1, 3, 5, 6}, {1, 4, 5, 6}, {2, 3, 4, 5}, {2, 3, 4, 6}, {2, 3, 5, 6}, {2, 4, 5, 6}, {3, 4, 5, 6}, {0, 1, 2, 3, 4}, {0, 1, 2, 3, 5}, {0, 1, 2, 3, 6}, {0, 1, 2, 4, 5}, {0, 1, 2, 4, 6}, {0, 1, 2, 5, 6}, {0, 1, 3, 4, 5}, {0, 1, 3, 4, 6}, {0, 1, 3, 5, 6}, {0, 1, 4, 5, 6}, {0, 2, 3, 4, 5}, {0, 2, 3, 4, 6}, {0, 2, 3, 5, 6}, {0, 2, 4, 5, 6}, {0, 3, 4, 5, 6}, {1, 2, 3, 4, 5}, {1, 2, 3, 4, 6}, {1, 2, 3, 5, 6}, {1, 2, 4, 5, 6}, {1, 3, 4, 5, 6}, {2, 3, 4, 5, 6}, {0, 1, 2, 3, 4, 5}, {0, 1, 2, 3, 4, 6}, {0, 1, 2, 3, 5, 6}, {0, 1, 2, 4, 5, 6}, {0, 1, 3, 4, 5, 6}, {0, 2, 3, 4, 5, 6}, {1, 2, 3, 4, 5, 6}, {0, 1, 2, 3, 4, 5, 6}], values=[0, 1, 2, 3, 4, 5, 6])'\n",
      "Cpm(variables=['tp3', 'xp3', 'tp2'], no_child=1, C=[[0 1 0]\n",
      " [1 0 0]\n",
      " [1 1 1]\n",
      " [2 0 1]\n",
      " [2 1 2]\n",
      " [3 0 2]\n",
      " [3 1 3]\n",
      " [4 0 3]\n",
      " [4 1 4]\n",
      " [5 0 4]\n",
      " [5 1 5]\n",
      " [6 0 5]], p=[[1.]\n",
      " [1.]\n",
      " [1.]\n",
      " [1.]\n",
      " [1.]\n",
      " [1.]\n",
      " [1.]\n",
      " [1.]\n",
      " [1.]\n",
      " [1.]\n",
      " [1.]\n",
      " [1.]]\n"
     ]
    }
   ],
   "source": [
    "for i, x in enumerate(rep_pri):\n",
    "    name = 't'+x[1:]\n",
    "    vars[name] = variable.Variable( name=name, values=list(range(i+2)) )\n",
    "\n",
    "    if i < 1: # first element\n",
    "        cpms[name] = cpm.Cpm( variables = [vars[name], vars[x]], no_child = 1, C=np.array([[1,0], [0, 1]]), p=np.array([1,1]) )\n",
    "    else:\n",
    "        t_old_vars = vars[t_old].values\n",
    "\n",
    "        Cx = np.empty(shape=(0,3), dtype=int)\n",
    "        for v in t_old_vars:\n",
    "            Cx_new = [[v, 1, v], [v+1, 0, v]]\n",
    "            Cx = np.vstack( [Cx, Cx_new] )\n",
    "\n",
    "        cpms[name] = cpm.Cpm( variables = [vars[name], vars[x], vars[t_old]], no_child = 1, C=Cx, p=np.ones(shape=(2*len(t_old_vars)), dtype=np.float32) )\n",
    "\n",
    "    t_old = copy.deepcopy(name)\n",
    "\n",
    "\n",
    "print(vars['ts0'])\n",
    "print(cpms['ts0'])\n",
    "print(\" \")\n",
    "print(vars['tp3'])\n",
    "print(cpms['tp3'])"
   ]
  },
  {
   "cell_type": "markdown",
   "metadata": {},
   "source": [
    "## Power cut time"
   ]
  },
  {
   "cell_type": "code",
   "execution_count": 6,
   "metadata": {},
   "outputs": [],
   "source": [
    "def get_C_max_val( vars_p ):\n",
    "\n",
    "    def get_mv( var ): # get maximum values\n",
    "        return max(var.values)\n",
    "    \n",
    "    vars_p.sort(key=get_mv) # sort variables with a lower maximum value (to minimise # of C's rows)\n",
    "\n",
    "    C_new = np.empty(shape=(0,1+len(vars_p)), dtype='int32') # var: [X] + vars_p\n",
    "    vals_new = []\n",
    "    for i, p in enumerate(vars_p):\n",
    "        vs_p = copy.deepcopy( vars_p[i].values )\n",
    "        vs_p.sort()\n",
    "        \n",
    "        for v in vs_p:\n",
    "            c_i = np.zeros(shape=(1,1+len(vars_p)), dtype='int32')\n",
    "            c_i[0][i+1] = p.values.index(v)\n",
    "\n",
    "            add = True\n",
    "            for i2, p2 in enumerate(vars_p):\n",
    "                if i != i2:\n",
    "                    if i2 < i:\n",
    "                        vs_i2 = {y for y, z in enumerate(p2.values) if z < v}\n",
    "\n",
    "                    if i2 > i:\n",
    "                        vs_i2 = {y for y, z in enumerate(p2.values) if z <= v}\n",
    "                        \n",
    "\n",
    "                    if len(vs_i2) < 1:\n",
    "                        add = False\n",
    "                        break\n",
    "                    else:\n",
    "                        st_i2 = p2.B.index(vs_i2)\n",
    "                        c_i[0][i2+1] = st_i2\n",
    "\n",
    "            if add:\n",
    "                if v not in vals_new:\n",
    "                    vals_new.append(v)\n",
    "                c_i[0][0] = vals_new.index(v)\n",
    "                C_new = np.vstack([C_new, c_i])\n",
    "\n",
    "    return C_new, vals_new"
   ]
  },
  {
   "cell_type": "code",
   "execution_count": 7,
   "metadata": {},
   "outputs": [
    {
     "name": "stdout",
     "output_type": "stream",
     "text": [
      "[[0 0 0]\n",
      " [1 1 4]\n",
      " [1 0 1]\n",
      " [2 2 2]\n",
      " [3 2 3]] [0, 1, 2, 3]\n",
      "[[ 0  0  0  0]\n",
      " [ 1  1  4  5]\n",
      " [ 1  0  1  5]\n",
      " [ 2  2  2 15]\n",
      " [ 3  2  3 25]\n",
      " [ 1  0  0  1]\n",
      " [ 2  2  4  2]\n",
      " [ 3  2 10  3]\n",
      " [ 4  2 14  4]] [0, 1, 2, 3, 4]\n"
     ]
    }
   ],
   "source": [
    "# Example 1\n",
    "vars_p_h0 = [vars['tp0'], vars['ts0']]\n",
    "C_h0, vals_h0 = get_C_max_val(vars_p_h0)\n",
    "\n",
    "print(C_h0, vals_h0)\n",
    "\n",
    "# Example 2\n",
    "vars_p_h1 = [vars['tp1'], vars['tp0'], vars['ts0']]\n",
    "C_h1, vals_h1 = get_C_max_val(vars_p_h1)\n",
    "\n",
    "print(C_h1, vals_h1)"
   ]
  },
  {
   "cell_type": "code",
   "execution_count": 8,
   "metadata": {},
   "outputs": [],
   "source": [
    "def get_C_min_val( vars_p ):\n",
    "\n",
    "    def get_mv( var ): # get maximum values\n",
    "        return max(var.values)\n",
    "    \n",
    "    vars_p.sort(key=get_mv) # sort variables with a lower maximum value (to minimise # of C's rows)\n",
    "\n",
    "    C_new = np.empty(shape=(0,1+len(vars_p)), dtype='int32') # var: [X] + vars_p\n",
    "    vals_new = []\n",
    "    for i, p in enumerate(vars_p):\n",
    "        vs_p = copy.deepcopy( vars_p[i].values )\n",
    "        vs_p.sort()\n",
    "        \n",
    "        for v in vs_p:\n",
    "            c_i = np.zeros(shape=(1,1+len(vars_p)), dtype='int32')\n",
    "            c_i[0][i+1] = p.values.index(v)\n",
    "\n",
    "            add = True\n",
    "            for i2, p2 in enumerate(vars_p):\n",
    "                if i != i2:\n",
    "                    if i2 < i:\n",
    "                        vs_i2 = {y for y, z in enumerate(p2.values) if z > v}\n",
    "\n",
    "                    if i2 > i:\n",
    "                        vs_i2 = {y for y, z in enumerate(p2.values) if z >= v}\n",
    "                        \n",
    "\n",
    "                    if len(vs_i2) < 1:\n",
    "                        add = False\n",
    "                        break\n",
    "                    else:\n",
    "                        st_i2 = p2.B.index(vs_i2)\n",
    "                        c_i[0][i2+1] = st_i2\n",
    "\n",
    "            if add:\n",
    "                if v not in vals_new:\n",
    "                    vals_new.append(v)\n",
    "                c_i[0][0] = vals_new.index(v)\n",
    "                C_new = np.vstack([C_new, c_i])\n",
    "\n",
    "    return C_new, vals_new"
   ]
  },
  {
   "cell_type": "code",
   "execution_count": 9,
   "metadata": {},
   "outputs": [
    {
     "name": "stdout",
     "output_type": "stream",
     "text": [
      "[[ 0  0 14]\n",
      " [ 1  1 13]\n",
      " [ 0  1  0]] [0, 1]\n",
      "[[ 0  0 14 30]\n",
      " [ 1  1 13 29]\n",
      " [ 0  1  0 30]\n",
      " [ 0  1 13  0]] [0, 1]\n"
     ]
    }
   ],
   "source": [
    "# Example 1\n",
    "vars_p_h0 = [vars['tp0'], vars['ts0']]\n",
    "C_h0, vals_h0 = get_C_min_val(vars_p_h0)\n",
    "\n",
    "print(C_h0, vals_h0)\n",
    "\n",
    "# Example 2\n",
    "vars_p_h1 = [vars['tp1'], vars['tp0'], vars['ts0']]\n",
    "C_h1, vals_h1 = get_C_min_val(vars_p_h1)\n",
    "\n",
    "print(C_h1, vals_h1)"
   ]
  },
  {
   "cell_type": "code",
   "execution_count": 10,
   "metadata": {},
   "outputs": [],
   "source": [
    "cut_lin = {} # cut-set of link-sets for each house\n",
    "\n",
    "cut_lin['h0'] = [['ts0', 'tp0']]\n",
    "cut_lin['h1'] = [['ts0', 'tp0', 'tp1']]\n",
    "cut_lin['h2'] = [['ts0', 'tp2']]\n",
    "cut_lin['h3'] = [['ts0', 'tp2', 'tp3'], ['ts1','tp4']]\n",
    "cut_lin['h4'] = [['ts0', 'tp2', 'tp3', 'tp5'], ['ts1', 'tp4','tp5']]\n",
    "cut_lin['h5'] = [['ts1','tp6']]\n",
    "cut_lin['h6'] = [['ts1','tp6', 'tp7']]\n",
    "\n",
    "for h, sets in cut_lin.items():\n",
    "    if len(sets) == 1:              \n",
    "        vars_h = [vars[x] for x in sets[0]]\n",
    "\n",
    "        C_h, vals_h = get_C_max_val( vars_h )\n",
    "        vars[h] = variable.Variable( name=h, values=vals_h )\n",
    "        cpms[h] = cpm.Cpm( variables=[vars[h]] + vars_h, no_child=1, C=C_h, p=np.ones(shape=(len(C_h),1), dtype='float64') )\n",
    "\n",
    "    else:\n",
    "        names_hs = [h+str(i) for i in range(len(sets))]\n",
    "        for h_i, s_i in zip(names_hs, sets):\n",
    "            vars_h_i = [vars[x] for x in s_i]\n",
    "\n",
    "            C_h_i, vals_h_i = get_C_max_val( vars_h_i )\n",
    "            vars[h_i] = variable.Variable( name=h_i, values=vals_h_i )\n",
    "            cpms[h_i] = cpm.Cpm( variables=[vars[h_i]] + vars_h_i, no_child=1, C=C_h_i, p=np.ones(shape=(len(C_h_i),1), dtype='float64') )\n",
    "\n",
    "        vars_hs = [vars[n] for n in names_hs]\n",
    "        C_h, vals_h = get_C_min_val( vars_hs )\n",
    "        vars[h] = variable.Variable( name=h, values=vals_h )\n",
    "        cpms[h] = cpm.Cpm( variables=[vars[h]] + vars_hs, no_child=1, C=C_h, p=np.ones(shape=(len(C_h),1), dtype='float64') )\n"
   ]
  },
  {
   "cell_type": "code",
   "execution_count": 11,
   "metadata": {},
   "outputs": [
    {
     "name": "stdout",
     "output_type": "stream",
     "text": [
      "'Variable(name=h1, B=[{0}, {1}, {2}, {3}, {4}, {0, 1}, {0, 2}, {0, 3}, {0, 4}, {1, 2}, {1, 3}, {1, 4}, {2, 3}, {2, 4}, {3, 4}, {0, 1, 2}, {0, 1, 3}, {0, 1, 4}, {0, 2, 3}, {0, 2, 4}, {0, 3, 4}, {1, 2, 3}, {1, 2, 4}, {1, 3, 4}, {2, 3, 4}, {0, 1, 2, 3}, {0, 1, 2, 4}, {0, 1, 3, 4}, {0, 2, 3, 4}, {1, 2, 3, 4}, {0, 1, 2, 3, 4}], values=[0, 1, 2, 3, 4])'\n",
      "Cpm(variables=['h1', 'ts0', 'tp0', 'tp1'], no_child=1, C=[[ 0  0  0  0]\n",
      " [ 1  1  4  5]\n",
      " [ 1  0  1  5]\n",
      " [ 2  2  2 15]\n",
      " [ 3  2  3 25]\n",
      " [ 1  0  0  1]\n",
      " [ 2  2  4  2]\n",
      " [ 3  2 10  3]\n",
      " [ 4  2 14  4]], p=[[1.]\n",
      " [1.]\n",
      " [1.]\n",
      " [1.]\n",
      " [1.]\n",
      " [1.]\n",
      " [1.]\n",
      " [1.]\n",
      " [1.]]\n",
      "'Variable(name=h3, B=[{0}, {1}, {2}, {3}, {4}, {5}, {6}, {0, 1}, {0, 2}, {0, 3}, {0, 4}, {0, 5}, {0, 6}, {1, 2}, {1, 3}, {1, 4}, {1, 5}, {1, 6}, {2, 3}, {2, 4}, {2, 5}, {2, 6}, {3, 4}, {3, 5}, {3, 6}, {4, 5}, {4, 6}, {5, 6}, {0, 1, 2}, {0, 1, 3}, {0, 1, 4}, {0, 1, 5}, {0, 1, 6}, {0, 2, 3}, {0, 2, 4}, {0, 2, 5}, {0, 2, 6}, {0, 3, 4}, {0, 3, 5}, {0, 3, 6}, {0, 4, 5}, {0, 4, 6}, {0, 5, 6}, {1, 2, 3}, {1, 2, 4}, {1, 2, 5}, {1, 2, 6}, {1, 3, 4}, {1, 3, 5}, {1, 3, 6}, {1, 4, 5}, {1, 4, 6}, {1, 5, 6}, {2, 3, 4}, {2, 3, 5}, {2, 3, 6}, {2, 4, 5}, {2, 4, 6}, {2, 5, 6}, {3, 4, 5}, {3, 4, 6}, {3, 5, 6}, {4, 5, 6}, {0, 1, 2, 3}, {0, 1, 2, 4}, {0, 1, 2, 5}, {0, 1, 2, 6}, {0, 1, 3, 4}, {0, 1, 3, 5}, {0, 1, 3, 6}, {0, 1, 4, 5}, {0, 1, 4, 6}, {0, 1, 5, 6}, {0, 2, 3, 4}, {0, 2, 3, 5}, {0, 2, 3, 6}, {0, 2, 4, 5}, {0, 2, 4, 6}, {0, 2, 5, 6}, {0, 3, 4, 5}, {0, 3, 4, 6}, {0, 3, 5, 6}, {0, 4, 5, 6}, {1, 2, 3, 4}, {1, 2, 3, 5}, {1, 2, 3, 6}, {1, 2, 4, 5}, {1, 2, 4, 6}, {1, 2, 5, 6}, {1, 3, 4, 5}, {1, 3, 4, 6}, {1, 3, 5, 6}, {1, 4, 5, 6}, {2, 3, 4, 5}, {2, 3, 4, 6}, {2, 3, 5, 6}, {2, 4, 5, 6}, {3, 4, 5, 6}, {0, 1, 2, 3, 4}, {0, 1, 2, 3, 5}, {0, 1, 2, 3, 6}, {0, 1, 2, 4, 5}, {0, 1, 2, 4, 6}, {0, 1, 2, 5, 6}, {0, 1, 3, 4, 5}, {0, 1, 3, 4, 6}, {0, 1, 3, 5, 6}, {0, 1, 4, 5, 6}, {0, 2, 3, 4, 5}, {0, 2, 3, 4, 6}, {0, 2, 3, 5, 6}, {0, 2, 4, 5, 6}, {0, 3, 4, 5, 6}, {1, 2, 3, 4, 5}, {1, 2, 3, 4, 6}, {1, 2, 3, 5, 6}, {1, 2, 4, 5, 6}, {1, 3, 4, 5, 6}, {2, 3, 4, 5, 6}, {0, 1, 2, 3, 4, 5}, {0, 1, 2, 3, 4, 6}, {0, 1, 2, 3, 5, 6}, {0, 1, 2, 4, 5, 6}, {0, 1, 3, 4, 5, 6}, {0, 2, 3, 4, 5, 6}, {1, 2, 3, 4, 5, 6}, {0, 1, 2, 3, 4, 5, 6}], values=[0, 1, 2, 3, 4, 5, 6])'\n",
      "Cpm(variables=['h3', 'h30', 'h31'], no_child=1, C=[[  0   0 254]\n",
      " [  1   1 253]\n",
      " [  2   2 245]\n",
      " [  3   3 217]\n",
      " [  4   4 161]\n",
      " [  5   5  91]\n",
      " [  6   6  35]\n",
      " [  0 125   0]\n",
      " [  1 118   1]\n",
      " [  2  97   2]\n",
      " [  3  62   3]\n",
      " [  4  27   4]\n",
      " [  5   6   5]], p=[[1.]\n",
      " [1.]\n",
      " [1.]\n",
      " [1.]\n",
      " [1.]\n",
      " [1.]\n",
      " [1.]\n",
      " [1.]\n",
      " [1.]\n",
      " [1.]\n",
      " [1.]\n",
      " [1.]\n",
      " [1.]]\n",
      "'Variable(name=h30, B=[{0}, {1}, {2}, {3}, {4}, {5}, {6}, {0, 1}, {0, 2}, {0, 3}, {0, 4}, {0, 5}, {0, 6}, {1, 2}, {1, 3}, {1, 4}, {1, 5}, {1, 6}, {2, 3}, {2, 4}, {2, 5}, {2, 6}, {3, 4}, {3, 5}, {3, 6}, {4, 5}, {4, 6}, {5, 6}, {0, 1, 2}, {0, 1, 3}, {0, 1, 4}, {0, 1, 5}, {0, 1, 6}, {0, 2, 3}, {0, 2, 4}, {0, 2, 5}, {0, 2, 6}, {0, 3, 4}, {0, 3, 5}, {0, 3, 6}, {0, 4, 5}, {0, 4, 6}, {0, 5, 6}, {1, 2, 3}, {1, 2, 4}, {1, 2, 5}, {1, 2, 6}, {1, 3, 4}, {1, 3, 5}, {1, 3, 6}, {1, 4, 5}, {1, 4, 6}, {1, 5, 6}, {2, 3, 4}, {2, 3, 5}, {2, 3, 6}, {2, 4, 5}, {2, 4, 6}, {2, 5, 6}, {3, 4, 5}, {3, 4, 6}, {3, 5, 6}, {4, 5, 6}, {0, 1, 2, 3}, {0, 1, 2, 4}, {0, 1, 2, 5}, {0, 1, 2, 6}, {0, 1, 3, 4}, {0, 1, 3, 5}, {0, 1, 3, 6}, {0, 1, 4, 5}, {0, 1, 4, 6}, {0, 1, 5, 6}, {0, 2, 3, 4}, {0, 2, 3, 5}, {0, 2, 3, 6}, {0, 2, 4, 5}, {0, 2, 4, 6}, {0, 2, 5, 6}, {0, 3, 4, 5}, {0, 3, 4, 6}, {0, 3, 5, 6}, {0, 4, 5, 6}, {1, 2, 3, 4}, {1, 2, 3, 5}, {1, 2, 3, 6}, {1, 2, 4, 5}, {1, 2, 4, 6}, {1, 2, 5, 6}, {1, 3, 4, 5}, {1, 3, 4, 6}, {1, 3, 5, 6}, {1, 4, 5, 6}, {2, 3, 4, 5}, {2, 3, 4, 6}, {2, 3, 5, 6}, {2, 4, 5, 6}, {3, 4, 5, 6}, {0, 1, 2, 3, 4}, {0, 1, 2, 3, 5}, {0, 1, 2, 3, 6}, {0, 1, 2, 4, 5}, {0, 1, 2, 4, 6}, {0, 1, 2, 5, 6}, {0, 1, 3, 4, 5}, {0, 1, 3, 4, 6}, {0, 1, 3, 5, 6}, {0, 1, 4, 5, 6}, {0, 2, 3, 4, 5}, {0, 2, 3, 4, 6}, {0, 2, 3, 5, 6}, {0, 2, 4, 5, 6}, {0, 3, 4, 5, 6}, {1, 2, 3, 4, 5}, {1, 2, 3, 4, 6}, {1, 2, 3, 5, 6}, {1, 2, 4, 5, 6}, {1, 3, 4, 5, 6}, {2, 3, 4, 5, 6}, {0, 1, 2, 3, 4, 5}, {0, 1, 2, 3, 4, 6}, {0, 1, 2, 3, 5, 6}, {0, 1, 2, 4, 5, 6}, {0, 1, 3, 4, 5, 6}, {0, 2, 3, 4, 5, 6}, {1, 2, 3, 4, 5, 6}, {0, 1, 2, 3, 4, 5, 6}], values=[0, 1, 2, 3, 4, 5, 6])'\n",
      "Cpm(variables=['h30', 'ts0', 'tp2', 'tp3'], no_child=1, C=[[  0   0   0   0]\n",
      " [  1   1   6   7]\n",
      " [  1   0   1   7]\n",
      " [  2   2   2  28]\n",
      " [  3   2   3  63]\n",
      " [  4   2   4  98]\n",
      " [  5   2   5 119]\n",
      " [  1   0   0   1]\n",
      " [  2   2   6   2]\n",
      " [  3   2  21   3]\n",
      " [  4   2  41   4]\n",
      " [  5   2  56   5]\n",
      " [  6   2  62   6]], p=[[1.]\n",
      " [1.]\n",
      " [1.]\n",
      " [1.]\n",
      " [1.]\n",
      " [1.]\n",
      " [1.]\n",
      " [1.]\n",
      " [1.]\n",
      " [1.]\n",
      " [1.]\n",
      " [1.]\n",
      " [1.]]\n"
     ]
    }
   ],
   "source": [
    "print(vars['h1'])\n",
    "print(cpms['h1'])\n",
    "\n",
    "print(vars['h3'])\n",
    "print(cpms['h3'])\n",
    "\n",
    "print(vars['h30'])\n",
    "print(cpms['h30'])"
   ]
  },
  {
   "cell_type": "markdown",
   "metadata": {},
   "source": [
    "# Inference"
   ]
  },
  {
   "cell_type": "code",
   "execution_count": 26,
   "metadata": {},
   "outputs": [],
   "source": [
    "def get_inf_vars( vars_star, cpms, VE_ord = None ):\n",
    "\n",
    "    \"\"\"\n",
    "    INPUT:\n",
    "    - vars_star: a list of variable names, whose marginal distributions are of interest\n",
    "    - cpms: a list of CPMs\n",
    "    - VE_ord (optional): a list of variable names, representing a VE order. The output list of vars_inf is sorted accordingly.\n",
    "    \"\"\"\n",
    "\n",
    "    vars_inf = [] # relevant variables for inference\n",
    "    vars_inf_new = vars_star\n",
    "    while len(vars_inf_new) > 0:\n",
    "        v1 = copy.deepcopy( vars_inf_new[0] )\n",
    "        vars_inf_new.remove(v1)\n",
    "        vars_inf.append(v1)\n",
    "\n",
    "        v1_sco = [x.name for x in cpms[v1].variables] # Scope of v1\n",
    "        for p in v1_sco:\n",
    "            if p not in vars_inf and p not in vars_inf_new:\n",
    "                vars_inf_new.append(p)\n",
    "\n",
    "    if VE_ord is not None:\n",
    "        def get_ord_inf( x, VE_ord ):\n",
    "            return VE_ord.index(x) \n",
    "        \n",
    "        vars_inf.sort( key=(lambda x: get_ord_inf(x, VE_ord)) )\n",
    "\n",
    "    return vars_inf"
   ]
  },
  {
   "cell_type": "code",
   "execution_count": 27,
   "metadata": {},
   "outputs": [
    {
     "name": "stdout",
     "output_type": "stream",
     "text": [
      "['haz', 'xs0', 'xs1', 'xp0', 'ts0', 'ts1', 'tp0', 'h0']\n",
      "['haz', 'xs0', 'xs1', 'xp0', 'xp1', 'ts0', 'ts1', 'tp0', 'tp1', 'h0', 'h1']\n"
     ]
    }
   ],
   "source": [
    "n_hou = len(cut_lin)\n",
    "\n",
    "VE_ord= ['haz'] + ['xs'+str(i) for i in range(n_subs)] + ['xp'+str(i) for i in range(n_pole)] + \\\n",
    "        ['ts'+str(i) for i in range(n_subs)] + ['tp'+str(i) for i in range(n_pole)] + \\\n",
    "        ['h'+str(i) for i in range(n_hou)]\n",
    "\n",
    "# Example 1\n",
    "h_star1 = ['h0']\n",
    "vars_inf1 = get_inf_vars( h_star1, cpms, VE_ord )\n",
    "print(vars_inf1)\n",
    "\n",
    "# Example 2\n",
    "h_star2 = ['h0','h1']\n",
    "vars_inf2 = get_inf_vars( h_star2, cpms, VE_ord )\n",
    "print(vars_inf2)"
   ]
  },
  {
   "cell_type": "code",
   "execution_count": 136,
   "metadata": {},
   "outputs": [
    {
     "name": "stdout",
     "output_type": "stream",
     "text": [
      "[Cpm(variables=['haz'], no_child=1, C=[[0]\n",
      " [1]\n",
      " [2]], p=[[0.5]\n",
      " [0.2]\n",
      " [0.3]], Cpm(variables=['xs0', 'haz'], no_child=1, C=[[0 0]\n",
      " [1 0]\n",
      " [0 1]\n",
      " [1 1]\n",
      " [0 2]\n",
      " [1 2]], p=[0.001 0.999 0.01  0.99  0.1   0.9  ]]\n"
     ]
    }
   ],
   "source": [
    "print([cpms[v] for v in cond_vars])"
   ]
  },
  {
   "cell_type": "code",
   "execution_count": 16,
   "metadata": {},
   "outputs": [
    {
     "ename": "KeyError",
     "evalue": "<module 'BNS_JT.cpm' from 'C:\\\\Users\\\\jb622s\\\\git\\\\BNS-JT\\\\BNS_JT\\\\cpm.py'>",
     "output_type": "error",
     "traceback": [
      "\u001b[1;31m---------------------------------------------------------------------------\u001b[0m",
      "\u001b[1;31mKeyError\u001b[0m                                  Traceback (most recent call last)",
      "Cell \u001b[1;32mIn[16], line 1\u001b[0m\n\u001b[1;32m----> 1\u001b[0m \u001b[38;5;28;01mdel\u001b[39;00m \u001b[43msys\u001b[49m\u001b[38;5;241;43m.\u001b[39;49m\u001b[43mmodules\u001b[49m\u001b[43m[\u001b[49m\u001b[43mcpm\u001b[49m\u001b[43m]\u001b[49m\n\u001b[0;32m      2\u001b[0m \u001b[38;5;28;01mfrom\u001b[39;00m \u001b[38;5;21;01mBNS_JT\u001b[39;00m \u001b[38;5;28;01mimport\u001b[39;00m cpm\n",
      "\u001b[1;31mKeyError\u001b[0m: <module 'BNS_JT.cpm' from 'C:\\\\Users\\\\jb622s\\\\git\\\\BNS-JT\\\\BNS_JT\\\\cpm.py'>"
     ]
    }
   ],
   "source": [
    "del sys.modules[cpm]\n",
    "from BNS_JT import cpm"
   ]
  },
  {
   "cell_type": "code",
   "execution_count": 23,
   "metadata": {},
   "outputs": [],
   "source": [
    "cpms_inf = {x: cpms[x] for x in vars_inf1}\n",
    "cond_vars = ['haz', 'xs0']\n",
    "oth_vars = [v for v in vars_inf1 if v not in cond_vars] # other variables\n",
    "oth_cpms = {v: cpms_inf[v] for v in oth_vars}\n",
    "sys_var = 'h0' # must be one (FUTHER RESEARCH REQUIRED: there is no efficient way yet to compute a joint distribution of more than one system event)\n",
    "VE_vars = [v for v in vars_inf1 if v not in cond_vars and v != sys_var]\n",
    "VE_cpms = {v: cpms_inf[v] for v in VE_vars}\n",
    "\n",
    "M_cvars = cpm.prod_cpms( [cpms[v] for v in cond_vars] )\n",
    "m1 = M_cvars.get_subset([0])\n",
    "\n",
    "VE_cpms_m1 = cpm.condition( VE_cpms, m1.variables, m1.C[0] )\n",
    "sys_cpm_m1 = cpm.condition(cpms_inf[sys_var], m1.variables, m1.C[0] )\n",
    "\n",
    "m_m1 = cpm.variable_elim(  )"
   ]
  },
  {
   "cell_type": "code",
   "execution_count": 30,
   "metadata": {},
   "outputs": [
    {
     "name": "stdout",
     "output_type": "stream",
     "text": [
      "[[False]\n",
      " [ True]\n",
      " [False]\n",
      " [False]\n",
      " [False]\n",
      " [False]\n",
      " [False]\n",
      " [False]\n",
      " [False]\n",
      " [False]\n",
      " [False]\n",
      " [ True]\n",
      " [False]\n",
      " [False]\n",
      " [False]\n",
      " [False]\n",
      " [False]\n",
      " [False]\n",
      " [False]\n",
      " [False]\n",
      " [False]\n",
      " [False]\n",
      " [False]\n",
      " [False]\n",
      " [False]\n",
      " [False]\n",
      " [False]\n",
      " [False]\n",
      " [False]\n",
      " [False]\n",
      " [False]\n",
      " [False]]\n"
     ]
    }
   ],
   "source": [
    "isin = cpm.isinscope([vars['xs0']], cpms)\n",
    "print(isin)"
   ]
  }
 ],
 "metadata": {
  "kernelspec": {
   "display_name": "bns",
   "language": "python",
   "name": "python3"
  },
  "language_info": {
   "codemirror_mode": {
    "name": "ipython",
    "version": 3
   },
   "file_extension": ".py",
   "mimetype": "text/x-python",
   "name": "python",
   "nbconvert_exporter": "python",
   "pygments_lexer": "ipython3",
   "version": "3.11.0"
  }
 },
 "nbformat": 4,
 "nbformat_minor": 2
}
