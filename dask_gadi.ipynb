{
 "cells": [
  {
   "cell_type": "code",
   "execution_count": 1,
   "id": "4d7e40cc-628e-4e40-a265-892440966bfe",
   "metadata": {},
   "outputs": [],
   "source": [
    "from dask.distributed import Client, LocalCluster"
   ]
  },
  {
   "cell_type": "code",
   "execution_count": 2,
   "id": "be93d1fb-9544-4ad8-930f-7ec44b6b92c5",
   "metadata": {},
   "outputs": [],
   "source": [
    "import dask"
   ]
  },
  {
   "cell_type": "code",
   "execution_count": 3,
   "id": "d2d9e62a-a3bb-49c8-abe0-ad72c8340b9b",
   "metadata": {},
   "outputs": [
    {
     "data": {
      "text/plain": [
       "{'heartbeat': '5s',\n",
       " 'scheduler-info-interval': '2s',\n",
       " 'security-loader': None,\n",
       " 'preload': [],\n",
       " 'preload-argv': []}"
      ]
     },
     "execution_count": 3,
     "metadata": {},
     "output_type": "execute_result"
    }
   ],
   "source": [
    "\n",
    "dask.config.get(\"distributed.client\") "
   ]
  },
  {
   "cell_type": "code",
   "execution_count": 2,
   "id": "9e0a8a10-3620-40da-9872-39f952a16715",
   "metadata": {},
   "outputs": [],
   "source": [
    "from dask_jobqueue import PBSCluster\n"
   ]
  },
  {
   "cell_type": "code",
   "execution_count": 27,
   "id": "ee4ee54f-b48a-43d1-b024-335e6131aec1",
   "metadata": {},
   "outputs": [],
   "source": [
    "client.close()"
   ]
  },
  {
   "cell_type": "code",
   "execution_count": 28,
   "id": "154d5fb1-c97e-4b8e-88e4-a713bb06343a",
   "metadata": {},
   "outputs": [
    {
     "name": "stderr",
     "output_type": "stream",
     "text": [
      "/g/data/n74/hxr547/bns/lib/python3.10/site-packages/dask_jobqueue/core.py:293: FutureWarning: header_skip has been renamed to job_directives_skip. You are still using it (even if only set to []; please also check config files). If you did not set job_directives_skip yet, header_skip will be respected for now, but it will be removed in a future release. If you already set job_directives_skip, header_skip is ignored and you can remove it.\n",
      "  warnings.warn(warn, FutureWarning)\n",
      "2023-07-14 21:23:30,249 - distributed.deploy.adaptive_core - INFO - Adaptive stop\n"
     ]
    }
   ],
   "source": [
    "cluster.close()"
   ]
  },
  {
   "cell_type": "code",
   "execution_count": 35,
   "id": "5739758e-ec28-4af3-9ffd-356683120cc2",
   "metadata": {},
   "outputs": [
    {
     "name": "stderr",
     "output_type": "stream",
     "text": [
      "/g/data/n74/hxr547/bns/lib/python3.10/site-packages/distributed/node.py:182: UserWarning: Port 8787 is already in use.\n",
      "Perhaps you already have a cluster running?\n",
      "Hosting the HTTP server on port 37279 instead\n",
      "  warnings.warn(\n"
     ]
    }
   ],
   "source": [
    "    walltime = '01:00:00'\n",
    "    cores = 112\n",
    "    memory = '192GB'\n",
    "\n",
    "    cluster = PBSCluster(walltime=str(walltime), cores=cores, memory=str(memory), processes=cores,\n",
    "                     job_extra_directives=['-q normalbw','-P n74','-l ncpus='+str(cores),'-l mem='+str(memory),'-l storage=scratch/y57+scratch/n74+gdata/n74'],\n",
    "                     local_directory='$TMPDIR',\n",
    "                     job_directives_skip=[\"select\"],\n",
    "                     python='/g/data1b/n74/hxr547/bns')\n",
    "    cluster.scale(jobs=10)\n"
   ]
  },
  {
   "cell_type": "code",
   "execution_count": 90,
   "id": "235e2fe6-8c71-40ee-b595-ffc5e032b080",
   "metadata": {},
   "outputs": [
    {
     "name": "stdout",
     "output_type": "stream",
     "text": [
      "PBSCluster(3ce203bb, 'tcp://10.6.121.8:36423', workers=0, threads=0, memory=0 B)\n"
     ]
    }
   ],
   "source": [
    "print(cluster)"
   ]
  },
  {
   "cell_type": "code",
   "execution_count": 77,
   "id": "8804edf3-cec9-429e-840e-e915cc018dec",
   "metadata": {},
   "outputs": [],
   "source": [
    "#cluster.scale(jobs=2)\n",
    "client = Client(cluster)"
   ]
  },
  {
   "cell_type": "code",
   "execution_count": 80,
   "id": "fdc243f6-3bf3-4cc8-8ebc-8df30c6c10ad",
   "metadata": {},
   "outputs": [
    {
     "name": "stdout",
     "output_type": "stream",
     "text": [
      "<Client: 'tcp://10.6.121.8:36423' processes=0 threads=0, memory=0 B>\n"
     ]
    }
   ],
   "source": [
    "print(client)\n"
   ]
  },
  {
   "cell_type": "code",
   "execution_count": 5,
   "id": "c215d8cf-36e7-4136-8b8c-b2edd4466adb",
   "metadata": {},
   "outputs": [
    {
     "name": "stderr",
     "output_type": "stream",
     "text": [
      "/g/data/n74/hxr547/bns/lib/python3.10/site-packages/dask_jobqueue/core.py:293: FutureWarning: header_skip has been renamed to job_directives_skip. You are still using it (even if only set to []; please also check config files). If you did not set job_directives_skip yet, header_skip will be respected for now, but it will be removed in a future release. If you already set job_directives_skip, header_skip is ignored and you can remove it.\n",
      "  warnings.warn(warn, FutureWarning)\n"
     ]
    },
    {
     "data": {
      "text/plain": [
       "<distributed.deploy.adaptive.Adaptive at 0x15353f500340>"
      ]
     },
     "execution_count": 5,
     "metadata": {},
     "output_type": "execute_result"
    }
   ],
   "source": [
    "cluster.adapt(maximum_jobs=20)"
   ]
  },
  {
   "cell_type": "code",
   "execution_count": 6,
   "id": "bb7b0689-de7b-439c-a783-1d4dc7385ca3",
   "metadata": {},
   "outputs": [
    {
     "name": "stdout",
     "output_type": "stream",
     "text": [
      "PBSCluster(fc6de43c, 'tcp://10.6.121.8:39303', workers=0, threads=0, memory=0 B)\n"
     ]
    }
   ],
   "source": [
    "print(cluster)"
   ]
  },
  {
   "cell_type": "code",
   "execution_count": 7,
   "id": "6be73c3e-a9c4-4cc4-988a-f029abd6aeb0",
   "metadata": {},
   "outputs": [
    {
     "data": {
      "text/plain": [
       "<distributed.deploy.adaptive.Adaptive at 0x15353f079270>"
      ]
     },
     "execution_count": 7,
     "metadata": {},
     "output_type": "execute_result"
    }
   ],
   "source": [
    "cluster.adapt(n_workers=10)"
   ]
  },
  {
   "cell_type": "code",
   "execution_count": 8,
   "id": "9c67897d-a56f-400b-b0a1-04093a1866f2",
   "metadata": {},
   "outputs": [
    {
     "name": "stdout",
     "output_type": "stream",
     "text": [
      "PBSCluster(fc6de43c, 'tcp://10.6.121.8:39303', workers=0, threads=0, memory=0 B)\n"
     ]
    }
   ],
   "source": [
    "print(cluster)"
   ]
  },
  {
   "cell_type": "code",
   "execution_count": 4,
   "id": "3515f489-7af9-4403-a371-6cc5ee31c654",
   "metadata": {},
   "outputs": [],
   "source": [
    "import importlib"
   ]
  },
  {
   "cell_type": "code",
   "execution_count": 5,
   "id": "cec76f29",
   "metadata": {},
   "outputs": [],
   "source": [
    "import time"
   ]
  },
  {
   "cell_type": "code",
   "execution_count": 5,
   "id": "c0e8a5d4-8198-4cc4-a2c1-c06db7a1c3aa",
   "metadata": {},
   "outputs": [],
   "source": [
    "cluster = LocalCluster()\n",
    "client = Client(cluster)"
   ]
  },
  {
   "cell_type": "code",
   "execution_count": 5,
   "id": "8e95f2e8-d2e6-4b2b-857b-06a07f694bf2",
   "metadata": {},
   "outputs": [],
   "source": [
    "cluster = LocalCluster(n_workers=10, threads_per_worker=10, memory_limit='18GB')\n",
    "\n",
    "                       "
   ]
  },
  {
   "cell_type": "code",
   "execution_count": 6,
   "id": "624d51f2-6075-41c0-a11f-57f51bfe8643",
   "metadata": {},
   "outputs": [
    {
     "data": {
      "text/plain": [
       "'/home/547/hxr547'"
      ]
     },
     "execution_count": 6,
     "metadata": {},
     "output_type": "execute_result"
    }
   ],
   "source": [
    "pwd"
   ]
  },
  {
   "cell_type": "code",
   "execution_count": 7,
   "id": "e0e7a040-d416-40b8-bbbd-24fb241579f7",
   "metadata": {},
   "outputs": [],
   "source": [
    "import os"
   ]
  },
  {
   "cell_type": "code",
   "execution_count": 8,
   "id": "6d8bd20b-abee-425f-a98f-a73d18be24ef",
   "metadata": {},
   "outputs": [],
   "source": [
    "import sys"
   ]
  },
  {
   "cell_type": "code",
   "execution_count": 9,
   "id": "21afc5ba-0208-4fd2-83cd-db1513b7f954",
   "metadata": {},
   "outputs": [
    {
     "name": "stdout",
     "output_type": "stream",
     "text": [
      "/scratch/n74/hxr547/Projects/BNS_JT\n"
     ]
    }
   ],
   "source": [
    "cd /scratch/n74/hxr547/Projects/BNS_JT"
   ]
  },
  {
   "cell_type": "code",
   "execution_count": 4,
   "id": "ba0030ab-499a-43ed-9f2d-2e9605973f78",
   "metadata": {},
   "outputs": [],
   "source": [
    "import importlib"
   ]
  },
  {
   "cell_type": "code",
   "execution_count": 10,
   "id": "eea072ea-2e5a-477e-b73e-223294204903",
   "metadata": {},
   "outputs": [],
   "source": [
    "from BNS_JT import config\n",
    "from BNS_JT import variable\n",
    "from BNS_JT import model\n",
    "from BNS_JT import cpm\n",
    "from BNS_JT import branch\n",
    "from BNS_JT import trans\n",
    "import numpy as np"
   ]
  },
  {
   "cell_type": "code",
   "execution_count": 6,
   "id": "15fe70a0-4952-41af-9b6d-ddf17a916372",
   "metadata": {},
   "outputs": [],
   "source": [
    "import time"
   ]
  },
  {
   "cell_type": "code",
   "execution_count": 78,
   "id": "c2ae50f5-52e8-47db-95cd-d813d3ecd20c",
   "metadata": {},
   "outputs": [
    {
     "data": {
      "text/plain": [
       "<module 'BNS_JT.branch' from '/scratch/n74/hxr547/Projects/BNS_JT/BNS_JT/branch.py'>"
      ]
     },
     "execution_count": 78,
     "metadata": {},
     "output_type": "execute_result"
    }
   ],
   "source": [
    "importlib.reload(branch)"
   ]
  },
  {
   "cell_type": "code",
   "execution_count": 72,
   "id": "6e339b11-de84-43ca-80c0-8ab5a68b476e",
   "metadata": {},
   "outputs": [],
   "source": [
    "cfg = config.Config('./BNS_JT/tests/config_rbd.json')"
   ]
  },
  {
   "cell_type": "code",
   "execution_count": 48,
   "id": "d20a29c9",
   "metadata": {},
   "outputs": [],
   "source": [
    "cfg = config.Config('./BNS_JT/demos/SF/config_SF.json')"
   ]
  },
  {
   "cell_type": "code",
   "execution_count": 79,
   "id": "da9e31a4-8bf6-47fe-92c2-41459dc89cb2",
   "metadata": {},
   "outputs": [],
   "source": [
    "# Arcs (components): P(X_i | GM = GM_ob ), i = 1 .. N (= nArc)\n",
    "cpms = {}\n",
    "varis = {}\n",
    "\n",
    "# FIXME: only works for binary ATM\n",
    "B = np.vstack([np.eye(cfg.no_ds), np.ones(cfg.no_ds)])\n",
    "\n",
    "# only value is related to the scenario \n",
    "s1 = list(cfg.scenarios['scenarios'].keys())[0]\n",
    "for k, values in cfg.scenarios['scenarios'][s1].items():\n",
    "    varis[k] = variable.Variable(name=k, B=B, values=cfg.scenarios['damage_states'])\n",
    "    cpms[k] = cpm.Cpm(variables = [varis[k]],\n",
    "            no_child = 1,\n",
    "            C = np.arange(len(values))[:, np.newaxis],\n",
    "            p = values)\n",
    "\n",
    "\n",
    "path_times = trans.get_all_paths_and_times(cfg.infra['ODs'].values(), cfg.infra['G'], key='time')\n",
    "\n",
    "\n"
   ]
  },
  {
   "cell_type": "code",
   "execution_count": 80,
   "id": "dfa6a59a",
   "metadata": {},
   "outputs": [],
   "source": [
    "# FIXME: only works for binary ATM\n",
    "lower = {k: 0 for k, _ in cfg.infra['edges'].items()}\n",
    "upper = {k: 1 for k, _ in cfg.infra['edges'].items()}\n",
    "\n",
    "variables = {k: varis[k] for k in cfg.infra['edges'].keys()}\n",
    "for k, v in cfg.infra['ODs'].items():\n",
    "    k, v"
   ]
  },
  {
   "cell_type": "code",
   "execution_count": 81,
   "id": "f4955766-1fa4-4c8c-ae1b-87ce7293b24c",
   "metadata": {},
   "outputs": [],
   "source": [
    "values = [np.inf] + sorted([y for _, y in path_times[v]], reverse=True)\n",
    "\n",
    "varis[k] = variable.Variable(name=k, B=np.eye(len(values)), values=values)\n"
   ]
  },
  {
   "cell_type": "code",
   "execution_count": 68,
   "id": "a60d54c4-a230-47ef-9366-5ffbba56a2e4",
   "metadata": {},
   "outputs": [],
   "source": [
    "import json\n",
    "import time"
   ]
  },
  {
   "cell_type": "code",
   "execution_count": 53,
   "id": "94846424-a493-4687-8c63-9c18a0df0b26",
   "metadata": {},
   "outputs": [],
   "source": [
    "with open('./BNS_JT/demos/SF/path_time_idx.json', 'r') as fid:\n",
    "    path_time_idx_dic = json.load(fid)"
   ]
  },
  {
   "cell_type": "code",
   "execution_count": 14,
   "id": "ea93307c-e7ee-4a53-a095-b0235ecab6e6",
   "metadata": {},
   "outputs": [
    {
     "data": {
      "text/plain": [
       "dict_keys(['od1'])"
      ]
     },
     "execution_count": 14,
     "metadata": {},
     "output_type": "execute_result"
    }
   ],
   "source": [
    "path_time_idx_dic.keys()"
   ]
  },
  {
   "cell_type": "code",
   "execution_count": 28,
   "id": "cbcbfdfb-9125-4da1-a496-49490734eb26",
   "metadata": {},
   "outputs": [
    {
     "ename": "NameError",
     "evalue": "name 'path_time_idx_dic' is not defined",
     "output_type": "error",
     "traceback": [
      "\u001b[0;31m---------------------------------------------------------------------------\u001b[0m",
      "\u001b[0;31mNameError\u001b[0m                                 Traceback (most recent call last)",
      "Cell \u001b[0;32mIn[28], line 1\u001b[0m\n\u001b[0;32m----> 1\u001b[0m path_time_idx \u001b[38;5;241m=\u001b[39m \u001b[43mpath_time_idx_dic\u001b[49m[\u001b[38;5;124m'\u001b[39m\u001b[38;5;124mod1\u001b[39m\u001b[38;5;124m'\u001b[39m]\n",
      "\u001b[0;31mNameError\u001b[0m: name 'path_time_idx_dic' is not defined"
     ]
    }
   ],
   "source": [
    "path_time_idx = path_time_idx_dic['od1']"
   ]
  },
  {
   "cell_type": "code",
   "execution_count": 76,
   "id": "87c09fce",
   "metadata": {},
   "outputs": [
    {
     "name": "stdout",
     "output_type": "stream",
     "text": [
      "0.002284526824951172\n"
     ]
    }
   ],
   "source": [
    "\n",
    "\n",
    "tic = time.time()\n",
    "path_time_idx = trans.get_path_time_idx(path_times[v], varis[k])\n",
    "print(time.time() - tic)\n"
   ]
  },
  {
   "cell_type": "code",
   "execution_count": 20,
   "id": "83fbd5b6-5c23-416d-a6d2-b1c2874e4bbe",
   "metadata": {},
   "outputs": [],
   "source": [
    "import json"
   ]
  },
  {
   "cell_type": "code",
   "execution_count": 35,
   "id": "c15381a8-2809-47b4-9728-52bb3c8c876c",
   "metadata": {},
   "outputs": [
    {
     "name": "stdout",
     "output_type": "stream",
     "text": [
      "LocalCluster(8de5c531, 'tcp://127.0.0.1:35537', workers=0, threads=0, memory=0 B)\n"
     ]
    }
   ],
   "source": [
    "print(cluster)"
   ]
  },
  {
   "cell_type": "code",
   "execution_count": 16,
   "id": "80fa1ae0-8c22-467c-953e-bc3b37614a42",
   "metadata": {},
   "outputs": [],
   "source": [
    "client = Client('127.0.0.1:39741')"
   ]
  },
  {
   "cell_type": "code",
   "execution_count": 22,
   "id": "9f95f1ef-574d-41eb-bdac-64252b7d577f",
   "metadata": {},
   "outputs": [
    {
     "name": "stdout",
     "output_type": "stream",
     "text": [
      "<Client: 'tcp://127.0.0.1:39741' processes=7 threads=14, memory=63.00 GiB>\n"
     ]
    }
   ],
   "source": [
    "print(client)"
   ]
  },
  {
   "cell_type": "code",
   "execution_count": 82,
   "id": "a8dc3faa-bedb-4742-bd29-1befcbeaa438",
   "metadata": {},
   "outputs": [
    {
     "name": "stdout",
     "output_type": "stream",
     "text": [
      "/proxy/39947/status\n",
      "b*: 1, sb: 1\n",
      "1 1\n",
      "elapsed: 0.023834943771362305\n",
      "b*: 1, sb: 1\n",
      "Unexpected exception formatting exception. Falling back to standard exception\n"
     ]
    },
    {
     "name": "stderr",
     "output_type": "stream",
     "text": [
      "Traceback (most recent call last):\n",
      "  File \"/g/data/n74/hxr547/bns/lib/python3.10/site-packages/IPython/core/interactiveshell.py\", line 3508, in run_code\n",
      "    exec(code_obj, self.user_global_ns, self.user_ns)\n",
      "  File \"/jobfs/90512557.gadi-pbs/ipykernel_3627401/3761341828.py\", line 6, in <module>\n",
      "    sb = branch.branch_and_bound_dask(path_time_idx, lower, upper, 1, client)\n",
      "  File \"/scratch/n74/hxr547/Projects/BNS_JT/BNS_JT/branch.py\", line 357, in branch_and_bound_dask\n",
      "    results = client.gather(results)\n",
      "  File \"/g/data/n74/hxr547/bns/lib/python3.10/site-packages/distributed/client.py\", line 2384, in gather\n",
      "    return self.sync(\n",
      "  File \"/g/data/n74/hxr547/bns/lib/python3.10/site-packages/distributed/utils.py\", line 356, in sync\n",
      "    return sync(\n",
      "  File \"/g/data/n74/hxr547/bns/lib/python3.10/site-packages/distributed/utils.py\", line 423, in sync\n",
      "    raise exc.with_traceback(tb)\n",
      "  File \"/g/data/n74/hxr547/bns/lib/python3.10/site-packages/distributed/utils.py\", line 396, in f\n",
      "    result = yield future\n",
      "  File \"/g/data/n74/hxr547/bns/lib/python3.10/site-packages/tornado/gen.py\", line 767, in run\n",
      "    value = future.result()\n",
      "  File \"/g/data/n74/hxr547/bns/lib/python3.10/site-packages/distributed/client.py\", line 2247, in _gather\n",
      "    raise exception.with_traceback(traceback)\n",
      "  File \"/g/data/n74/hxr547/bns/lib/python3.10/site-packages/BNS_JT/branch.py\", line 284, in fn_dummy\n",
      "ValueError: too many values to unpack (expected 4)\n",
      "\n",
      "During handling of the above exception, another exception occurred:\n",
      "\n",
      "Traceback (most recent call last):\n",
      "  File \"/g/data/n74/hxr547/bns/lib/python3.10/site-packages/IPython/core/interactiveshell.py\", line 2105, in showtraceback\n",
      "    stb = self.InteractiveTB.structured_traceback(\n",
      "  File \"/g/data/n74/hxr547/bns/lib/python3.10/site-packages/IPython/core/ultratb.py\", line 1428, in structured_traceback\n",
      "    return FormattedTB.structured_traceback(\n",
      "  File \"/g/data/n74/hxr547/bns/lib/python3.10/site-packages/IPython/core/ultratb.py\", line 1319, in structured_traceback\n",
      "    return VerboseTB.structured_traceback(\n",
      "  File \"/g/data/n74/hxr547/bns/lib/python3.10/site-packages/IPython/core/ultratb.py\", line 1172, in structured_traceback\n",
      "    formatted_exception = self.format_exception_as_a_whole(etype, evalue, etb, number_of_lines_of_context,\n",
      "  File \"/g/data/n74/hxr547/bns/lib/python3.10/site-packages/IPython/core/ultratb.py\", line 1087, in format_exception_as_a_whole\n",
      "    frames.append(self.format_record(record))\n",
      "  File \"/g/data/n74/hxr547/bns/lib/python3.10/site-packages/IPython/core/ultratb.py\", line 969, in format_record\n",
      "    frame_info.lines, Colors, self.has_colors, lvals\n",
      "  File \"/g/data/n74/hxr547/bns/lib/python3.10/site-packages/IPython/core/ultratb.py\", line 792, in lines\n",
      "    return self._sd.lines\n",
      "  File \"/g/data/n74/hxr547/bns/lib/python3.10/site-packages/stack_data/utils.py\", line 144, in cached_property_wrapper\n",
      "    value = obj.__dict__[self.func.__name__] = self.func(obj)\n",
      "  File \"/g/data/n74/hxr547/bns/lib/python3.10/site-packages/stack_data/core.py\", line 734, in lines\n",
      "    pieces = self.included_pieces\n",
      "  File \"/g/data/n74/hxr547/bns/lib/python3.10/site-packages/stack_data/utils.py\", line 144, in cached_property_wrapper\n",
      "    value = obj.__dict__[self.func.__name__] = self.func(obj)\n",
      "  File \"/g/data/n74/hxr547/bns/lib/python3.10/site-packages/stack_data/core.py\", line 681, in included_pieces\n",
      "    pos = scope_pieces.index(self.executing_piece)\n",
      "  File \"/g/data/n74/hxr547/bns/lib/python3.10/site-packages/stack_data/utils.py\", line 144, in cached_property_wrapper\n",
      "    value = obj.__dict__[self.func.__name__] = self.func(obj)\n",
      "  File \"/g/data/n74/hxr547/bns/lib/python3.10/site-packages/stack_data/core.py\", line 660, in executing_piece\n",
      "    return only(\n",
      "  File \"/g/data/n74/hxr547/bns/lib/python3.10/site-packages/executing/executing.py\", line 190, in only\n",
      "    raise NotOneValueFound('Expected one value, found 0')\n",
      "executing.executing.NotOneValueFound: Expected one value, found 0\n"
     ]
    }
   ],
   "source": [
    "\n",
    "# FIXME\n",
    "#tic = time.time()\n",
    "#with Client('127.0.0.1:39011') as client:\n",
    "#    print(client)\n",
    "#pdb.set_trace()\n",
    "sb = branch.branch_and_bound_dask(path_time_idx, lower, upper, 1, client)\n",
    "\n",
    "with open('./sb.json', 'w') as w:\n",
    "    json.dump(sb, w, indent=4)\n"
   ]
  },
  {
   "cell_type": "code",
   "execution_count": 43,
   "id": "4eafde61-0b33-40d6-a456-2c7b94a7c723",
   "metadata": {},
   "outputs": [
    {
     "data": {
      "text/plain": [
       "77"
      ]
     },
     "execution_count": 43,
     "metadata": {},
     "output_type": "execute_result"
    }
   ],
   "source": [
    "len(sb)"
   ]
  },
  {
   "cell_type": "code",
   "execution_count": 46,
   "id": "8d354786-a2c8-4b8c-9045-ec40b723ad8a",
   "metadata": {},
   "outputs": [],
   "source": [
    "results = [([({'e1': 0, 'e2': 0, 'e3': 0, 'e4': 0, 'e5': 0, 'e6': 0, 'e7': 0, 'e8': 0, 'e9': 0, 'e10': 0, 'e11': 0, 'e12': 0}, {'e1': 1, 'e2': 1, 'e3': 0, 'e4': 1, 'e5': 1, 'e6': 1, 'e7': 1, 'e8': 1, 'e9': 1, 'e10': 1, 'e11': 1, 'e12': 1}, 0, 3), ({'e1': 0, 'e2': 0, 'e3': 1, 'e4': 0, 'e5': 0, 'e6': 0, 'e7': 0, 'e8': 0, 'e9': 0, 'e10': 0, 'e11': 0, 'e12': 0}, {'e1': 1, 'e2': 1, 'e3': 1, 'e4': 1, 'e5': 1, 'e6': 1, 'e7': 1, 'e8': 1, 'e9': 1, 'e10': 1, 'e11': 1, 'e12': 0}, 0, 3), ({'e1': 0, 'e2': 0, 'e3': 1, 'e4': 0, 'e5': 0, 'e6': 0, 'e7': 0, 'e8': 0, 'e9': 0, 'e10': 0, 'e11': 0, 'e12': 1}, {'e1': 1, 'e2': 1, 'e3': 1, 'e4': 1, 'e5': 1, 'e6': 1, 'e7': 1, 'e8': 0, 'e9': 1, 'e10': 1, 'e11': 1, 'e12': 1}, 0, 0), ({'e1': 0, 'e2': 0, 'e3': 1, 'e4': 0, 'e5': 0, 'e6': 0, 'e7': 0, 'e8': 1, 'e9': 0, 'e10': 0, 'e11': 0, 'e12': 1}, {'e1': 1, 'e2': 1, 'e3': 1, 'e4': 1, 'e5': 1, 'e6': 1, 'e7': 1, 'e8': 1, 'e9': 0, 'e10': 1, 'e11': 1, 'e12': 1}, 0, 0), ({'e1': 0, 'e2': 0, 'e3': 1, 'e4': 0, 'e5': 0, 'e6': 0, 'e7': 0, 'e8': 1, 'e9': 1, 'e10': 0, 'e11': 0, 'e12': 1}, {'e1': 1, 'e2': 1, 'e3': 1, 'e4': 1, 'e5': 1, 'e6': 1, 'e7': 1, 'e8': 1, 'e9': 1, 'e10': 1, 'e11': 1, 'e12': 1}, 4, 4)], ({'e1': 0, 'e2': 0, 'e3': 0, 'e4': 0, 'e5': 0, 'e6': 0, 'e7': 0, 'e8': 0, 'e9': 0, 'e10': 0, 'e11': 0, 'e12': 0}, {'e1': 1, 'e2': 1, 'e3': 1, 'e4': 1, 'e5': 1, 'e6': 1, 'e7': 1, 'e8': 1, 'e9': 1, 'e10': 1, 'e11': 1, 'e12': 1}, 0, 4))]"
   ]
  },
  {
   "cell_type": "code",
   "execution_count": 47,
   "id": "f90becdb-febd-4b0a-ba30-c76f5d89fd93",
   "metadata": {},
   "outputs": [
    {
     "data": {
      "text/plain": [
       "1"
      ]
     },
     "execution_count": 47,
     "metadata": {},
     "output_type": "execute_result"
    }
   ],
   "source": [
    "len(results)"
   ]
  },
  {
   "cell_type": "code",
   "execution_count": 53,
   "id": "811cb1b8-0d1b-49d2-a790-c44ed831beff",
   "metadata": {},
   "outputs": [],
   "source": [
    "r1, r2 = zip(*results)"
   ]
  },
  {
   "cell_type": "code",
   "execution_count": 55,
   "id": "97caa020-00a7-4081-b8f8-e1d14148498d",
   "metadata": {},
   "outputs": [
    {
     "data": {
      "text/plain": [
       "(({'e1': 0,\n",
       "   'e2': 0,\n",
       "   'e3': 0,\n",
       "   'e4': 0,\n",
       "   'e5': 0,\n",
       "   'e6': 0,\n",
       "   'e7': 0,\n",
       "   'e8': 0,\n",
       "   'e9': 0,\n",
       "   'e10': 0,\n",
       "   'e11': 0,\n",
       "   'e12': 0},\n",
       "  {'e1': 1,\n",
       "   'e2': 1,\n",
       "   'e3': 1,\n",
       "   'e4': 1,\n",
       "   'e5': 1,\n",
       "   'e6': 1,\n",
       "   'e7': 1,\n",
       "   'e8': 1,\n",
       "   'e9': 1,\n",
       "   'e10': 1,\n",
       "   'e11': 1,\n",
       "   'e12': 1},\n",
       "  0,\n",
       "  4),)"
      ]
     },
     "execution_count": 55,
     "metadata": {},
     "output_type": "execute_result"
    }
   ],
   "source": [
    "r2"
   ]
  },
  {
   "cell_type": "code",
   "execution_count": 47,
   "id": "f8c9a86e-7b71-4e30-afdd-16430523b501",
   "metadata": {},
   "outputs": [
    {
     "data": {
      "text/plain": [
       "'/scratch/n74/hxr547/Projects/BNS_JT'"
      ]
     },
     "execution_count": 47,
     "metadata": {},
     "output_type": "execute_result"
    }
   ],
   "source": [
    "pwd()"
   ]
  },
  {
   "cell_type": "code",
   "execution_count": 33,
   "id": "2c00b834-2433-420a-9bcd-7c6ded4dc79e",
   "metadata": {},
   "outputs": [
    {
     "name": "stdout",
     "output_type": "stream",
     "text": [
      "<Client: No scheduler connected>\n"
     ]
    }
   ],
   "source": [
    "print(client)"
   ]
  },
  {
   "cell_type": "code",
   "execution_count": 25,
   "id": "750e3795-facb-4ce8-a014-b92e6fdc5532",
   "metadata": {},
   "outputs": [
    {
     "name": "stdout",
     "output_type": "stream",
     "text": [
      "LocalCluster(8de5c531, 'tcp://127.0.0.1:35537', workers=0, threads=0, memory=0 B)\n"
     ]
    }
   ],
   "source": [
    "print(cluster)"
   ]
  },
  {
   "cell_type": "code",
   "execution_count": 27,
   "id": "4b29f3d1-4149-4b52-80c1-8379bfd976c1",
   "metadata": {},
   "outputs": [
    {
     "data": {
      "text/plain": [
       "<BNS_JT.config.Config at 0x14f7eddff100>"
      ]
     },
     "execution_count": 27,
     "metadata": {},
     "output_type": "execute_result"
    }
   ],
   "source": [
    "cfg"
   ]
  },
  {
   "cell_type": "code",
   "execution_count": null,
   "id": "2e93cc11-07e8-4430-8e21-d1131471b5a2",
   "metadata": {},
   "outputs": [],
   "source": []
  }
 ],
 "metadata": {
  "kernelspec": {
   "display_name": "Python 3 (ipykernel)",
   "language": "python",
   "name": "python3"
  },
  "language_info": {
   "codemirror_mode": {
    "name": "ipython",
    "version": 3
   },
   "file_extension": ".py",
   "mimetype": "text/x-python",
   "name": "python",
   "nbconvert_exporter": "python",
   "pygments_lexer": "ipython3",
   "version": "3.10.4"
  }
 },
 "nbformat": 4,
 "nbformat_minor": 5
}
