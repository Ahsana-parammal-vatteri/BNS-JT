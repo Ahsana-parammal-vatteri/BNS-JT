{
 "cells": [
  {
   "cell_type": "code",
   "execution_count": 1,
   "metadata": {},
   "outputs": [],
   "source": [
    "import networkx as nx\n",
    "import matplotlib.pyplot as plt\n",
    "import os\n",
    "from BNS_JT import trans\n",
    "from BNS_JT import variable, cpm\n",
    "import numpy as np\n",
    "\n",
    "import BNS_JT\n",
    "from BNS_JT import gen_bnb\n",
    "import copy\n",
    "\n",
    "HOME = os.getcwd()\n"
   ]
  },
  {
   "cell_type": "code",
   "execution_count": 2,
   "metadata": {},
   "outputs": [
    {
     "data": {
      "text/plain": [
       "<module 'BNS_JT.gen_bnb' from 'c:\\\\Users\\\\jb622s\\\\git\\\\BNS-JT\\\\BNS_JT\\\\gen_bnb.py'>"
      ]
     },
     "execution_count": 2,
     "metadata": {},
     "output_type": "execute_result"
    }
   ],
   "source": [
    "import importlib\n",
    "importlib.reload(gen_bnb)"
   ]
  },
  {
   "cell_type": "markdown",
   "metadata": {},
   "source": [
    "# Results of general B&B algorithm to reliability analysis\n",
    "\n",
    "Complete branch and bound, deterministic inference, and indepdent components\n",
    "\n",
    "# Problem\n",
    "## Network"
   ]
  },
  {
   "cell_type": "code",
   "execution_count": 3,
   "metadata": {},
   "outputs": [],
   "source": [
    "# Network\n",
    "node_coords = {'n1': (-2, 3),\n",
    "               'n2': (-2, -3),\n",
    "               'n3': (2, -2),\n",
    "               'n4': (1, 1),\n",
    "               'n5': (0, 0)}\n",
    "\n",
    "arcs = {'e1': ['n1', 'n2'],\n",
    "\t'e2': ['n1', 'n5'],\n",
    "\t'e3': ['n2', 'n5'],\n",
    "\t'e4': ['n3', 'n4'],\n",
    "\t'e5': ['n3', 'n5'],\n",
    "\t'e6': ['n4', 'n5']}\n",
    "\n",
    "arcs_avg_kmh = {'e1': 40,\n",
    "                'e2': 40,\n",
    "                'e3': 40,\n",
    "                'e4': 30,\n",
    "                'e5': 30,\n",
    "                'e6': 20}\n",
    "\n",
    "arc_lens_km = trans.get_arcs_length(arcs, node_coords)\n",
    "arc_times_h = {k: v/arcs_avg_kmh[k] for k, v in arc_lens_km.items()}\n",
    "\n",
    "comps_name = [k for k in arcs] # *TODO* this is not necessary if branch's down and up are defined by dictionary (instead of list)\n",
    "\n",
    "\n",
    "od_pair = ('n1', 'n3')\n",
    "\n",
    "\n",
    "# Component events\n",
    "no_arc_st = 3 # number of component states \n",
    "delay_rat = [10, 2, 1] # delay in travel time given each component state (ratio)\n",
    "varis = {}\n",
    "for k, v in arcs.items():\n",
    "    varis[k] = variable.Variable( name=k, B = np.eye( no_arc_st ), values = [arc_times_h[k]*np.float64(x) for x in delay_rat])\n",
    "\n",
    "\n",
    "# plot graph\n",
    "G = nx.Graph()\n",
    "for k, x in arcs.items():\n",
    "    G.add_edge(x[0], x[1], time=arc_times_h[k], label=k)\n",
    "\n",
    "for k, v in node_coords.items():\n",
    "    G.add_node(k, pos=v)\n",
    "\n",
    "pos = nx.get_node_attributes(G, 'pos')\n",
    "edge_labels = nx.get_edge_attributes(G, 'label')\n",
    "\n",
    "fig = plt.figure()\n",
    "ax = fig.add_subplot()\n",
    "nx.draw(G, pos, with_labels=True, ax=ax)\n",
    "nx.draw_networkx_edge_labels(G, pos, edge_labels=edge_labels, ax=ax)\n",
    "fig.savefig(os.path.join(HOME, 'graph.png'), dpi=200)"
   ]
  },
  {
   "cell_type": "markdown",
   "metadata": {},
   "source": [
    "## Events: Independent component events"
   ]
  },
  {
   "cell_type": "code",
   "execution_count": 4,
   "metadata": {},
   "outputs": [
    {
     "name": "stdout",
     "output_type": "stream",
     "text": [
      "Cpm(variables=['e1'], no_child=1, C=[[0]\n",
      " [1]\n",
      " [2]], p=[[0.1]\n",
      " [0.2]\n",
      " [0.7]]\n",
      "Cpm(variables=['o1', 'e1'], no_child=1, C=[[0 0]\n",
      " [1 0]\n",
      " [2 0]\n",
      " [0 1]\n",
      " [1 1]\n",
      " [2 1]\n",
      " [0 2]\n",
      " [1 2]\n",
      " [2 2]], p=[[0.95]\n",
      " [0.04]\n",
      " [0.01]\n",
      " [0.3 ]\n",
      " [0.5 ]\n",
      " [0.2 ]\n",
      " [0.01]\n",
      " [0.19]\n",
      " [0.8 ]]\n"
     ]
    }
   ],
   "source": [
    "cpms = {}\n",
    "\n",
    "# Component events\n",
    "for k in arcs:\n",
    "    cpms[k] = cpm.Cpm( variables=[ varis[k] ], no_child = 1, C = np.array([1,2,3])-1, p = [0.1, 0.2, 0.7] ) \n",
    "\n",
    "# Damage observation\n",
    "C_o = np.array([[1,1], [2,1], [3,1], [1,2], [2,2], [3,2], [1,3], [2,3], [3,3]])-1\n",
    "p_o = np.array([0.95, 0.04, 0.01, 0.3, 0.5, 0.2, 0.01, 0.19, 0.8]).T\n",
    "for (i,k) in enumerate(arcs):\n",
    "    name = 'o' + str(i+1)\n",
    "\n",
    "    varis[name] = variable.Variable( name=name, B = np.eye( no_arc_st ), values = [0,1,2] ) # observation that e_i = 0, 1, or 2 ** TO DISCUSS: probably values in dictionary..?\n",
    "    cpms[name] = cpm.Cpm( variables=[ varis[name], varis[k] ], no_child = 1, C = C_o, p = p_o )\n",
    "\n",
    "print(cpms['e1'])\n",
    "print(cpms['o1'])"
   ]
  },
  {
   "cell_type": "markdown",
   "metadata": {},
   "source": [
    "# System event quantification by general B&B algorithm\n",
    "\n",
    "## System function"
   ]
  },
  {
   "cell_type": "code",
   "execution_count": 5,
   "metadata": {},
   "outputs": [],
   "source": [
    "def get_time_and_path( comps_st, od_pair, arcs, vari ):\n",
    "    G = nx.Graph()\n",
    "    for k, x in arcs.items():\n",
    "        c_st = comps_st[k]\n",
    "        G.add_edge(x[0], x[1], time=vari[k].values[c_st])\n",
    "\n",
    "    path = nx.shortest_path( G, source = od_pair[0], target = od_pair[1], weight = 'time' )\n",
    "    time = nx.shortest_path_length( G, source = od_pair[0], target = od_pair[1], weight = 'time' )\n",
    "\n",
    "    return time, path\n",
    "\n",
    "\n",
    "def sf_min_path( comps_st, od_pair, arcs, vari, thres, sys_val_itc ):\n",
    "\n",
    "    sys_val, path = get_time_and_path( comps_st, od_pair, arcs, vari )\n",
    "\n",
    "    if sys_val > thres*sys_val_itc:\n",
    "        sys_st = 'fail'\n",
    "    else:\n",
    "        sys_st = 'surv'\n",
    "\n",
    "    if sys_st == 'surv': # in this case we know how to find out minimally required component state\n",
    "        min_comps_st = {}\n",
    "        for i in range(len(path)-1):\n",
    "            nodes_i = [path[i], path[i+1]]\n",
    "            nodes_i_rev = [path[i+1], path[i]] # reversed pair (arcs are bi-directional)\n",
    "            arc_i = next((k for k, v in arcs.items() if v == nodes_i or v == nodes_i_rev), None)\n",
    "            min_comps_st[arc_i] = comps_st[arc_i]\n",
    "    \n",
    "    else: # sys_st == 'fail'\n",
    "        min_comps_st = None\n",
    "\n",
    "    return sys_val, sys_st, min_comps_st\n",
    "\n",
    "# Intact state of component vector\n",
    "comps_st_itc = {k: len(varis[k].B[0])-1 for k in arcs} # intact state (i.e. the highest state)\n",
    "sys_val_itc, path_itc = get_time_and_path( comps_st_itc, od_pair, arcs, varis )\n",
    "\n",
    "# defines the system failure event\n",
    "thres = 2 \n",
    "\n",
    "# Given a system function, i.e. sf_min_path, it should be represented by a function that only has \"comps_st\" as input.\n",
    "sys_fun = lambda comps_st : sf_min_path( comps_st, od_pair, arcs, varis, thres, sys_val_itc ) # TODO: branch needs to have states defined in dictionary instead of list."
   ]
  },
  {
   "cell_type": "markdown",
   "metadata": {},
   "source": [
    "# Branch and Bound: Incomplete results, producing unknown branches"
   ]
  },
  {
   "cell_type": "code",
   "execution_count": 6,
   "metadata": {},
   "outputs": [
    {
     "data": {
      "text/plain": [
       "<module 'BNS_JT.gen_bnb' from 'c:\\\\Users\\\\jb622s\\\\git\\\\BNS-JT\\\\BNS_JT\\\\gen_bnb.py'>"
      ]
     },
     "execution_count": 6,
     "metadata": {},
     "output_type": "execute_result"
    }
   ],
   "source": [
    "import importlib\n",
    "importlib.reload(gen_bnb)"
   ]
  },
  {
   "cell_type": "code",
   "execution_count": 7,
   "metadata": {},
   "outputs": [
    {
     "name": "stdout",
     "output_type": "stream",
     "text": [
      "[Iteration 1]..\n",
      "The # of found non-dominated rules: 0\n",
      "The # of branches: 0\n",
      "---\n",
      "[Iteration 2]..\n",
      "The # of found non-dominated rules: 1\n",
      "The # of branches: 1\n",
      "---\n",
      "[Iteration 3]..\n",
      "The # of found non-dominated rules: 2\n",
      "The # of branches: 1\n",
      "---\n",
      "[Iteration 4]..\n",
      "The # of found non-dominated rules: 3\n",
      "The # of branches: 1\n",
      "---\n",
      "[Iteration 5]..\n",
      "The # of found non-dominated rules: 3\n",
      "The # of branches: 1\n",
      "---\n",
      "[Iteration 6]..\n",
      "The # of found non-dominated rules: 4\n",
      "The # of branches: 1\n",
      "---\n",
      "[Iteration 7]..\n",
      "The # of found non-dominated rules: 4\n",
      "The # of branches: 1\n",
      "---\n",
      "[Iteration 8]..\n",
      "The # of found non-dominated rules: 5\n",
      "The # of branches: 1\n",
      "---\n",
      "[Iteration 9]..\n",
      "The # of found non-dominated rules: 5\n",
      "The # of branches: 2\n",
      "---\n",
      "[Iteration 10]..\n",
      "The # of found non-dominated rules: 6\n",
      "The # of branches: 2\n",
      "---\n",
      "[Iteration 11]..\n",
      "The # of found non-dominated rules: 6\n",
      "The # of branches: 4\n",
      "---\n",
      "[Iteration 12]..\n",
      "The # of found non-dominated rules: 7\n",
      "The # of branches: 4\n",
      "---\n",
      "[Iteration 13]..\n",
      "The # of found non-dominated rules: 8\n",
      "The # of branches: 4\n",
      "---\n",
      "[Iteration 14]..\n",
      "The # of found non-dominated rules: 8\n",
      "The # of branches: 4\n",
      "---\n",
      "[Iteration 15]..\n",
      "The # of found non-dominated rules: 8\n",
      "The # of branches: 4\n",
      "---\n",
      "[Iteration 16]..\n",
      "The # of found non-dominated rules: 7\n",
      "The # of branches: 4\n",
      "---\n",
      "[Iteration 17]..\n",
      "The # of found non-dominated rules: 7\n",
      "The # of branches: 4\n",
      "---\n",
      "[Iteration 18]..\n",
      "The # of found non-dominated rules: 8\n",
      "The # of branches: 4\n",
      "---\n",
      "[Algorithm completed.]\n",
      "The # of found non-dominated rules:  8\n",
      "System function runs:  18\n",
      "The total # of branches:  5\n",
      "The # of incomplete branches:  2\n"
     ]
    }
   ],
   "source": [
    "varis_comp = {}\n",
    "for k in arcs:\n",
    "    varis_comp[k] = copy.deepcopy( varis[k] )\n",
    "    \n",
    "\n",
    "no_sf, rules, rules_st, brs, sys_res = gen_bnb.do_gen_bnb( sys_fun, varis_comp, max_br=5 ) # Complete "
   ]
  },
  {
   "cell_type": "markdown",
   "metadata": {},
   "source": [
    "# MCS on unknown branches\n",
    "\n",
    "%% 141223"
   ]
  },
  {
   "cell_type": "code",
   "execution_count": 8,
   "metadata": {},
   "outputs": [],
   "source": []
  },
  {
   "cell_type": "code",
   "execution_count": null,
   "metadata": {},
   "outputs": [],
   "source": []
  }
 ],
 "metadata": {
  "kernelspec": {
   "display_name": "Python 3",
   "language": "python",
   "name": "python3"
  },
  "language_info": {
   "codemirror_mode": {
    "name": "ipython",
    "version": 3
   },
   "file_extension": ".py",
   "mimetype": "text/x-python",
   "name": "python",
   "nbconvert_exporter": "python",
   "pygments_lexer": "ipython3",
   "version": "3.10.10"
  }
 },
 "nbformat": 4,
 "nbformat_minor": 2
}
