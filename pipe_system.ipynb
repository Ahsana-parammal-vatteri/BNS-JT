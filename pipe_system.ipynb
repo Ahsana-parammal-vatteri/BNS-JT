{
 "cells": [
  {
   "cell_type": "code",
   "execution_count": 1,
   "metadata": {},
   "outputs": [],
   "source": [
    "import networkx as nx\n",
    "import numpy as np\n",
    "import matplotlib.pyplot as plt\n",
    "import os\n",
    "\n",
    "from BNS_JT import cpm, variable"
   ]
  },
  {
   "cell_type": "code",
   "execution_count": 18,
   "metadata": {},
   "outputs": [
    {
     "data": {
      "image/png": "[encoded data removed]",
      "text/plain": [
       "<Figure size 640x480 with 1 Axes>"
      ]
     },
     "metadata": {},
     "output_type": "display_data"
    }
   ],
   "source": [
    "HOME = os.getcwd()\n",
    "\n",
    "node_coords = {'n1': (0, 1),\n",
    "                'n2': (0, 0),\n",
    "                'n3': (0, -1),\n",
    "                'n4': (2, 0),\n",
    "                'n5': (2, 1),\n",
    "                'n6': (1, 1),\n",
    "                'n7': (2, -1),\n",
    "                'n8': (1, -1),\n",
    "                'n9': (1, -2),\n",
    "                'n10': (3, 1),\n",
    "                'n11': (3, -1)}\n",
    "\n",
    "no_node_st = 2 # Number of a node's states\n",
    "node_st_cp = [0, 2] # state index to actual capacity (e.g. state 1 stands for flow capacity 2, etc.)\n",
    "varis = {}\n",
    "for k, v in node_coords.items():\n",
    "    varis[k] = variable.Variable( name=k, B = np.eye( no_node_st ), values = node_st_cp )\n",
    "\n",
    "arcs = {'e1': ['n1', 'n2'],\n",
    "        'e2': ['n2', 'n3'],\n",
    "        'e3': ['n2', 'n4'],\n",
    "        'e4': ['n4', 'n5'],\n",
    "        'e5': ['n4', 'n7'],\n",
    "        'e6': ['n5', 'n6'],\n",
    "        'e7': ['n7', 'n8'],\n",
    "        'e8': ['n7', 'n9'],\n",
    "        'e9': ['n5', 'n10'],\n",
    "        'e10': ['n7', 'n11']}\n",
    "\n",
    "arcs_inds = { }\n",
    "ind = 0\n",
    "for e in arcs:\n",
    "    ind += 1\n",
    "    arcs_inds[e] = ind\n",
    "\n",
    "no_arc_st = 3 # Number of an arc's states\n",
    "arc_st_cp = [0, 1, 2] # state index to actual capacity (e.g. state 0 stands for flow capacity 0, etc.)\n",
    "for k, v in arcs.items():\n",
    "    varis[k] = variable.Variable( name=k, B = np.eye( no_arc_st ), values = arc_st_cp )\n",
    "\n",
    "# subsystems information\n",
    "no_sub = 2\n",
    "subs = ['sub' + str( int(i+1) ) for i in range(no_sub)] # linear progression is assumed sub1 --> sub2 --> ...\n",
    "sub_nodes = [['n1', 'n2', 'n3', 'n4', 'n5', 'n6', 'n7', 'n8', 'n9'],\n",
    "                ['n4', 'n5', 'n6', 'n7', 'n8', 'n9', 'n10', 'n11']] # nodes in subsystem\n",
    "sub_edges = [['e1', 'e2', 'e3', 'e4', 'e5', 'e6', 'e7', 'e8'],\n",
    "                ['e4', 'e5', 'e6', 'e7', 'e8', 'e9', 'e10']] # edges in subsystem\n",
    "orig = {'sub1': ['n1', 'n3'], 'sub2': ['n6', 'n8', 'n9']}\n",
    "dest = {'sub1': ['n6', 'n8', 'n9'], 'sub2': ['n10', 'n11']}\n",
    "\n",
    "\n",
    "depots = [['n1', 'n3'], ['n6', 'n8', 'n9'], ['n10', 'n11']] # nodes that flows must stop by\n",
    "\n",
    "\n",
    "G = nx.Graph()\n",
    "for k, x in arcs.items():\n",
    "    G.add_edge(x[0], x[1], label=k)\n",
    "\n",
    "for k, v in node_coords.items():\n",
    "    G.add_node(k, pos=v, label = k)\n",
    "\n",
    "pos = nx.get_node_attributes(G, 'pos')\n",
    "edge_labels = nx.get_edge_attributes(G, 'label')\n",
    "\n",
    "fig = plt.figure()\n",
    "ax = fig.add_subplot()\n",
    "nx.draw(G, pos, with_labels=True, ax=ax)\n",
    "nx.draw_networkx_edge_labels(G, pos, edge_labels=edge_labels, ax=ax)\n",
    "fig.savefig( os.path.join(HOME, 'graph_toy.png'), dpi=200)\n",
    "\n"
   ]
  },
  {
   "cell_type": "code",
   "execution_count": 23,
   "metadata": {},
   "outputs": [],
   "source": [
    "import scipy.optimize\n",
    "# scipy.optimize.milp to be used\n",
    "\n",
    "# cost function\n",
    "## decision variables (x, u, v), where x are flows on arcs, u are flows from sources, and v are flows to terminals.\n",
    "no_x = 2*len(arcs) # both directions are modelled, e.g. (x12, x21, x13, x31, ...)\n",
    "\n",
    "orig_end = orig[subs[0]]\n",
    "dest_end = dest[subs[-1]]\n",
    "\n",
    "orig_end_inds = {}\n",
    "ind = 0\n",
    "for n in orig_end:\n",
    "    ind += 1\n",
    "    orig_end_inds[n] = ind\n",
    "\n",
    "dest_end_inds = {}\n",
    "ind = 0\n",
    "for n in dest_end:\n",
    "    ind += 1\n",
    "    dest_end_inds[n] = ind\n",
    "\n",
    "no_u = len( orig_end )\n",
    "no_v = len( dest_end )\n",
    "\n",
    "no_d_vars = no_x + no_u + no_v\n",
    "\n",
    "# Cost function\n",
    "c = np.zeros( (no_d_vars,) )\n",
    "c[no_x:(no_x+no_u)] = 1\n",
    "\n"
   ]
  },
  {
   "cell_type": "code",
   "execution_count": 20,
   "metadata": {},
   "outputs": [
    {
     "name": "stdout",
     "output_type": "stream",
     "text": [
      "['n1', 'n3']\n"
     ]
    }
   ],
   "source": [
    "print(orig_end)"
   ]
  },
  {
   "cell_type": "code",
   "execution_count": 46,
   "metadata": {},
   "outputs": [],
   "source": [
    "# constraints\n",
    "\n",
    "## Depends on component vector state\n",
    "### Example 1: all in the highest state\n",
    "comps_st = {n: len(varis[n].B[0]) for n in node_coords}\n",
    "for e in arcs:\n",
    "    comps_st[e] = len(varis[e].B[0])\n",
    "\n",
    "\n",
    "## Constraint matrices\n",
    "A = np.empty(shape = (0,no_d_vars))\n",
    "b_up = np.empty(shape=(0,))\n",
    "b_down = np.empty(shape=(0,))\n",
    "\n",
    "### Origins\n",
    "for o_i in orig_end:\n",
    "    a_i = np.zeros((1,no_d_vars))\n",
    "    a_i[0][no_x + orig_end_inds[o_i] - 1] = -1\n",
    "\n",
    "    for e, p in arcs.items():\n",
    "\n",
    "        e_ind = arcs_inds[e]\n",
    "\n",
    "        if p[0] == o_i:        \n",
    "            a_i[0][ 2*(e_ind-1) ] = 1\n",
    "            a_i[0][ 2*(e_ind-1) + 1 ] = -1\n",
    "        \n",
    "        elif p[1] == o_i:\n",
    "            a_i[0][ 2*(e_ind-1) ] = -1\n",
    "            a_i[0][ 2*(e_ind-1) + 1 ] = 1\n",
    "\n",
    "    A = np.append(A, a_i, axis = 0)\n",
    "    b_up = np.append(b_up, np.array(0))\n",
    "    b_down = np.append(b_down, np.array(0))\n",
    "\n",
    "### intermediate stations\n",
    "##############231023\n"
   ]
  },
  {
   "cell_type": "code",
   "execution_count": 47,
   "metadata": {},
   "outputs": [
    {
     "name": "stdout",
     "output_type": "stream",
     "text": [
      "[[ 1. -1.  0.  0.  0.  0.  0.  0.  0.  0.  0.  0.  0.  0.  0.  0.  0.  0.\n",
      "   0.  0. -1.  0.  0.  0.]\n",
      " [ 0.  0. -1.  1.  0.  0.  0.  0.  0.  0.  0.  0.  0.  0.  0.  0.  0.  0.\n",
      "   0.  0.  0. -1.  0.  0.]]\n",
      "[0. 0.]\n",
      "[0. 0.]\n"
     ]
    }
   ],
   "source": [
    "print(A)\n",
    "print(b_up)\n",
    "print(b_down)"
   ]
  },
  {
   "cell_type": "code",
   "execution_count": 14,
   "metadata": {},
   "outputs": [
    {
     "name": "stdout",
     "output_type": "stream",
     "text": [
      "{'n1': 2, 'n2': 2, 'n3': 2, 'n4': 2, 'n5': 2, 'n6': 2, 'n7': 2, 'n8': 2, 'n9': 2, 'n10': 2, 'n11': 2, 'e1': 3, 'e2': 3, 'e3': 3, 'e4': 3, 'e5': 3, 'e6': 3, 'e7': 3, 'e8': 3, 'e9': 3, 'e10': 3}\n"
     ]
    }
   ],
   "source": [
    "print(comps_st)"
   ]
  },
  {
   "cell_type": "code",
   "execution_count": null,
   "metadata": {},
   "outputs": [],
   "source": []
  }
 ],
 "metadata": {
  "kernelspec": {
   "display_name": "Python 3",
   "language": "python",
   "name": "python3"
  },
  "language_info": {
   "codemirror_mode": {
    "name": "ipython",
    "version": 3
   },
   "file_extension": ".py",
   "mimetype": "text/x-python",
   "name": "python",
   "nbconvert_exporter": "python",
   "pygments_lexer": "ipython3",
   "version": "3.10.10"
  }
 },
 "nbformat": 4,
 "nbformat_minor": 2
}
