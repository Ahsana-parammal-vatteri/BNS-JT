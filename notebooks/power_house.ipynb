{
 "cells": [
  {
   "cell_type": "code",
   "execution_count": 1,
   "metadata": {},
   "outputs": [],
   "source": [
    "import sys\n",
    "import numpy as np\n",
    "import random\n",
    "import copy\n",
    "import time\n",
    "import pandas as pd\n",
    "\n",
    "random.seed(10)\n",
    "\n",
    "# mbnpy toolkit\n",
    "sys.path.append(r\"C:\\Users\\jb622s\\git\\BNS-JT\\BNS_JT\") \n",
    "from BNS_JT import cpm, variable, quant"
   ]
  },
  {
   "cell_type": "markdown",
   "metadata": {},
   "source": [
    "# Problem\n",
    "## System\n",
    "<figure>\n",
    "<img src=\"img/house_power_prob.png\" style=\"width:400px\">\n",
    "</figure>\n",
    "\n",
    "The system consists of two power substations $S_0$ and $S_1$, eight transmission line poles $P_0$, ..., $P_7$, and seven houses $H_0$, ..., $H_6$. The substations and poles may fail being subjected to hazard scenarios $H$. Once a hazard event occurs, repair works will take place with priorities $S_0$ &rarr; $S_1$ &rarr; $P_0$ &rarr; $P_1$ &rarr; ... &rarr; $P_6$. The works are done only for failed components, and repairing a component takes a day.\n",
    "\n",
    "Of interest is the expected number of days of power cut for each house. A house has power when the substation and poles it is connected to all survive. For example, $H_0$ has access to power if $S_0$ and $P_0$ are both in operation, while $H_1$ does if $S_0$, $P_0$, and $P_1$ are all in operation. We note that houses $H_3$ and $H_4$ have access to both substations and get power when either of the two link-sets is available. For example, $H_3$ has power either $S_0$, $P_2$, and $P_3$ work together or $S_1$ and $P_4$ are in operation.\n",
    "\n",
    "## Bayesian network (BN) graph\n",
    "The BN graph can be set up as below:\n",
    "<figure>\n",
    "<img src=\"img/power_house_bn.png\" style=\"width:400px\">\n",
    "</figure>\n",
    " \n",
    "The hazard node $H$ affects damage states of components, $S_0$, $S_1$, $P_0$, ..., $P_7$. Then, damage state of a component $X$ decides the rapair timing (i.e. how many days after a hazard occurrence) of a corresponding component, $T^X$. $T^X$ is also affected by the timing of the component right before in the repair priority, e.g. $T_1^S$ is dependent on $T^S_0$ as $S_0$ is right before $S_1$ in the repair priority. Then, actual closure time of each component, $C^X$ is decided by the corresponding damage state $X$ and $T^X$. That is, if $X$ has failed, then the closure time is the same as $T^X$, while if it is not, the closure time is zero. Finally, each house's duration of power cut, represneted by $H_0$, ..., $H_7$, is decided by the closure duration of components constituting their link-sets. For example, as aforementioned, teh first house has $S_0$ and $P_0$ in its link set, and therefore the node $H_0$ is connected to $C_0^S$ and $C^P_0$.\n",
    "\n",
    "In the graph, random variables are represented by single border, while deterministic variables are represented by double border. "
   ]
  },
  {
   "cell_type": "markdown",
   "metadata": {},
   "source": [
    "# Modelling\n",
    "\n",
    "## Hazard scenarios"
   ]
  },
  {
   "cell_type": "code",
   "execution_count": 2,
   "metadata": {},
   "outputs": [
    {
     "name": "stdout",
     "output_type": "stream",
     "text": [
      "\"Variable(name=haz, B=[{0}, {1}, {2}, {0, 1}, {0, 2}, {1, 2}, {0, 1, 2}], values=['mild', 'medi', 'inte'])\"\n",
      "Cpm(variables=['haz'], no_child=1, C=[[0]\n",
      " [1]\n",
      " [2]], p=[[0.5]\n",
      " [0.2]\n",
      " [0.3]]\n"
     ]
    }
   ],
   "source": [
    "cpms={}\n",
    "vars={}\n",
    "\n",
    "vars['haz'] = variable.Variable( name='haz', values=['mild','medi','inte'] ) # values=(mild, medium, intense)\n",
    "cpms['haz'] = cpm.Cpm( variables=[vars['haz']], no_child=1, C=np.array([0,1,2]), p=[0.5,0.2,0.3] )\n",
    "\n",
    "print(vars['haz'])\n",
    "print(cpms['haz'])\n"
   ]
  },
  {
   "cell_type": "markdown",
   "metadata": {},
   "source": [
    "## Structural damage"
   ]
  },
  {
   "cell_type": "code",
   "execution_count": 3,
   "metadata": {},
   "outputs": [],
   "source": [
    "# Substations\n",
    "n_subs = 2\n",
    "for i in range(n_subs):\n",
    "    name = 'xs' + str(i)\n",
    "    vars[name] = variable.Variable( name=name, values=['fail','surv'] ) # values=(failure, survival)\n",
    "    cpms[name] = cpm.Cpm( variables = [vars[name], vars['haz']], no_child = 1,\n",
    "                      C=np.array([[0,0], [1,0], [0,1], [1,1], [0,2], [1,2]]) )\n",
    "\n",
    "cpms['xs0'].p = np.array([0.001, 0.999, 0.01, 0.99, 0.1, 0.9])\n",
    "cpms['xs1'].p = np.array([0.005, 0.995, 0.05, 0.95, 0.2, 0.8])\n",
    "\n",
    "# Poles\n",
    "n_pole = 8\n",
    "for i in range(n_pole):\n",
    "    name = 'xp' + str(i)\n",
    "    vars[name] = variable.Variable( name=name, values=['fail','surv'] ) # values=(failure, survival)\n",
    "    cpms[name] = cpm.Cpm( variables = [vars[name], vars['haz']], no_child = 1,\n",
    "                      C=np.array([[0,0], [1,0], [0,1], [1,1], [0,2], [1,2]]) )\n",
    "    \n",
    "    if i in [0,2,4,6]:\n",
    "        cpms[name].p = np.array([0.001, 0.999, 0.01, 0.99, 0.1, 0.9])\n",
    "    else:\n",
    "        cpms[name].p = np.array([0.005, 0.995, 0.05, 0.95, 0.2, 0.8])\n"
   ]
  },
  {
   "cell_type": "markdown",
   "metadata": {},
   "source": [
    "## Repair timing"
   ]
  },
  {
   "cell_type": "code",
   "execution_count": 4,
   "metadata": {},
   "outputs": [
    {
     "name": "stdout",
     "output_type": "stream",
     "text": [
      "['xs0', 'xs1', 'xp0', 'xp1', 'xp2', 'xp3', 'xp4', 'xp5', 'xp6', 'xp7']\n"
     ]
    }
   ],
   "source": [
    "max_ct = n_subs + n_pole \n",
    "\n",
    "# Repair priority\n",
    "rep_pri = ['xs' + str(i) for i in range(n_subs)] + ['xp' + str(i) for i in range(n_pole)] # repair priority\n",
    "\n",
    "print(rep_pri)\n"
   ]
  },
  {
   "cell_type": "code",
   "execution_count": 5,
   "metadata": {},
   "outputs": [
    {
     "name": "stdout",
     "output_type": "stream",
     "text": [
      "'Variable(name=ts0, B=[{0}, {1}, {0, 1}], values=[0, 1])'\n",
      "Cpm(variables=['ts0', 'xs0'], no_child=1, C=[[1 0]\n",
      " [0 1]], p=[[1]\n",
      " [1]]\n",
      " \n",
      "'Variable(name=tp3, B=[{0}, {1}, {2}, {3}, {4}, {5}, {6}, {0, 1}, {0, 2}, {0, 3}, {0, 4}, {0, 5}, {0, 6}, {1, 2}, {1, 3}, {1, 4}, {1, 5}, {1, 6}, {2, 3}, {2, 4}, {2, 5}, {2, 6}, {3, 4}, {3, 5}, {3, 6}, {4, 5}, {4, 6}, {5, 6}, {0, 1, 2}, {0, 1, 3}, {0, 1, 4}, {0, 1, 5}, {0, 1, 6}, {0, 2, 3}, {0, 2, 4}, {0, 2, 5}, {0, 2, 6}, {0, 3, 4}, {0, 3, 5}, {0, 3, 6}, {0, 4, 5}, {0, 4, 6}, {0, 5, 6}, {1, 2, 3}, {1, 2, 4}, {1, 2, 5}, {1, 2, 6}, {1, 3, 4}, {1, 3, 5}, {1, 3, 6}, {1, 4, 5}, {1, 4, 6}, {1, 5, 6}, {2, 3, 4}, {2, 3, 5}, {2, 3, 6}, {2, 4, 5}, {2, 4, 6}, {2, 5, 6}, {3, 4, 5}, {3, 4, 6}, {3, 5, 6}, {4, 5, 6}, {0, 1, 2, 3}, {0, 1, 2, 4}, {0, 1, 2, 5}, {0, 1, 2, 6}, {0, 1, 3, 4}, {0, 1, 3, 5}, {0, 1, 3, 6}, {0, 1, 4, 5}, {0, 1, 4, 6}, {0, 1, 5, 6}, {0, 2, 3, 4}, {0, 2, 3, 5}, {0, 2, 3, 6}, {0, 2, 4, 5}, {0, 2, 4, 6}, {0, 2, 5, 6}, {0, 3, 4, 5}, {0, 3, 4, 6}, {0, 3, 5, 6}, {0, 4, 5, 6}, {1, 2, 3, 4}, {1, 2, 3, 5}, {1, 2, 3, 6}, {1, 2, 4, 5}, {1, 2, 4, 6}, {1, 2, 5, 6}, {1, 3, 4, 5}, {1, 3, 4, 6}, {1, 3, 5, 6}, {1, 4, 5, 6}, {2, 3, 4, 5}, {2, 3, 4, 6}, {2, 3, 5, 6}, {2, 4, 5, 6}, {3, 4, 5, 6}, {0, 1, 2, 3, 4}, {0, 1, 2, 3, 5}, {0, 1, 2, 3, 6}, {0, 1, 2, 4, 5}, {0, 1, 2, 4, 6}, {0, 1, 2, 5, 6}, {0, 1, 3, 4, 5}, {0, 1, 3, 4, 6}, {0, 1, 3, 5, 6}, {0, 1, 4, 5, 6}, {0, 2, 3, 4, 5}, {0, 2, 3, 4, 6}, {0, 2, 3, 5, 6}, {0, 2, 4, 5, 6}, {0, 3, 4, 5, 6}, {1, 2, 3, 4, 5}, {1, 2, 3, 4, 6}, {1, 2, 3, 5, 6}, {1, 2, 4, 5, 6}, {1, 3, 4, 5, 6}, {2, 3, 4, 5, 6}, {0, 1, 2, 3, 4, 5}, {0, 1, 2, 3, 4, 6}, {0, 1, 2, 3, 5, 6}, {0, 1, 2, 4, 5, 6}, {0, 1, 3, 4, 5, 6}, {0, 2, 3, 4, 5, 6}, {1, 2, 3, 4, 5, 6}, {0, 1, 2, 3, 4, 5, 6}], values=[0, 1, 2, 3, 4, 5, 6])'\n",
      "Cpm(variables=['tp3', 'xp3', 'tp2'], no_child=1, C=[[0 1 0]\n",
      " [1 0 0]\n",
      " [1 1 1]\n",
      " [2 0 1]\n",
      " [2 1 2]\n",
      " [3 0 2]\n",
      " [3 1 3]\n",
      " [4 0 3]\n",
      " [4 1 4]\n",
      " [5 0 4]\n",
      " [5 1 5]\n",
      " [6 0 5]], p=[[1.]\n",
      " [1.]\n",
      " [1.]\n",
      " [1.]\n",
      " [1.]\n",
      " [1.]\n",
      " [1.]\n",
      " [1.]\n",
      " [1.]\n",
      " [1.]\n",
      " [1.]\n",
      " [1.]]\n"
     ]
    }
   ],
   "source": [
    "for i, x in enumerate(rep_pri):\n",
    "    name = 't'+x[1:]\n",
    "    vars[name] = variable.Variable( name=name, values=list(range(i+2)) )\n",
    "\n",
    "    if i < 1: # first element\n",
    "        cpms[name] = cpm.Cpm( variables = [vars[name], vars[x]], no_child = 1, C=np.array([[1,0], [0, 1]]), p=np.array([1,1]) )\n",
    "    else:\n",
    "        t_old_vars = vars[t_old].values\n",
    "\n",
    "        Cx = np.empty(shape=(0,3), dtype=int)\n",
    "        for v in t_old_vars:\n",
    "            Cx_new = [[v, 1, v], [v+1, 0, v]]\n",
    "            Cx = np.vstack( [Cx, Cx_new] )\n",
    "\n",
    "        cpms[name] = cpm.Cpm( variables = [vars[name], vars[x], vars[t_old]], no_child = 1, C=Cx, p=np.ones(shape=(2*len(t_old_vars)), dtype=np.float32) )\n",
    "\n",
    "    t_old = copy.deepcopy(name)\n",
    "\n",
    "\n",
    "print(vars['ts0'])\n",
    "print(cpms['ts0'])\n",
    "print(\" \")\n",
    "print(vars['tp3'])\n",
    "print(cpms['tp3'])"
   ]
  },
  {
   "cell_type": "markdown",
   "metadata": {},
   "source": [
    "## Closure time"
   ]
  },
  {
   "cell_type": "code",
   "execution_count": 6,
   "metadata": {},
   "outputs": [
    {
     "name": "stdout",
     "output_type": "stream",
     "text": [
      "[0, 1, 2]\n",
      "6\n"
     ]
    }
   ],
   "source": [
    "i=1\n",
    "name = 'cs' + str(i)\n",
    "vals = vars['ts'+str(i)].values\n",
    "#vars[name] = variable.Variable( name=name, values=vals )\n",
    "\n",
    "print(vals)\n",
    "\n",
    "st = vars['ts'+str(i)].B.index(set(vals))\n",
    "print(st)"
   ]
  },
  {
   "cell_type": "code",
   "execution_count": 7,
   "metadata": {},
   "outputs": [
    {
     "name": "stdout",
     "output_type": "stream",
     "text": [
      "'Variable(name=cs0, B=[{0}, {1}, {0, 1}], values=[0, 1])'\n",
      "Cpm(variables=['cs0', 'xs0', 'ts0'], no_child=1, C=[[0 1 2]\n",
      " [1 0 1]], p=[[1.]\n",
      " [1.]]\n",
      " \n",
      "'Variable(name=cp3, B=[{0}, {1}, {2}, {3}, {4}, {5}, {6}, {0, 1}, {0, 2}, {0, 3}, {0, 4}, {0, 5}, {0, 6}, {1, 2}, {1, 3}, {1, 4}, {1, 5}, {1, 6}, {2, 3}, {2, 4}, {2, 5}, {2, 6}, {3, 4}, {3, 5}, {3, 6}, {4, 5}, {4, 6}, {5, 6}, {0, 1, 2}, {0, 1, 3}, {0, 1, 4}, {0, 1, 5}, {0, 1, 6}, {0, 2, 3}, {0, 2, 4}, {0, 2, 5}, {0, 2, 6}, {0, 3, 4}, {0, 3, 5}, {0, 3, 6}, {0, 4, 5}, {0, 4, 6}, {0, 5, 6}, {1, 2, 3}, {1, 2, 4}, {1, 2, 5}, {1, 2, 6}, {1, 3, 4}, {1, 3, 5}, {1, 3, 6}, {1, 4, 5}, {1, 4, 6}, {1, 5, 6}, {2, 3, 4}, {2, 3, 5}, {2, 3, 6}, {2, 4, 5}, {2, 4, 6}, {2, 5, 6}, {3, 4, 5}, {3, 4, 6}, {3, 5, 6}, {4, 5, 6}, {0, 1, 2, 3}, {0, 1, 2, 4}, {0, 1, 2, 5}, {0, 1, 2, 6}, {0, 1, 3, 4}, {0, 1, 3, 5}, {0, 1, 3, 6}, {0, 1, 4, 5}, {0, 1, 4, 6}, {0, 1, 5, 6}, {0, 2, 3, 4}, {0, 2, 3, 5}, {0, 2, 3, 6}, {0, 2, 4, 5}, {0, 2, 4, 6}, {0, 2, 5, 6}, {0, 3, 4, 5}, {0, 3, 4, 6}, {0, 3, 5, 6}, {0, 4, 5, 6}, {1, 2, 3, 4}, {1, 2, 3, 5}, {1, 2, 3, 6}, {1, 2, 4, 5}, {1, 2, 4, 6}, {1, 2, 5, 6}, {1, 3, 4, 5}, {1, 3, 4, 6}, {1, 3, 5, 6}, {1, 4, 5, 6}, {2, 3, 4, 5}, {2, 3, 4, 6}, {2, 3, 5, 6}, {2, 4, 5, 6}, {3, 4, 5, 6}, {0, 1, 2, 3, 4}, {0, 1, 2, 3, 5}, {0, 1, 2, 3, 6}, {0, 1, 2, 4, 5}, {0, 1, 2, 4, 6}, {0, 1, 2, 5, 6}, {0, 1, 3, 4, 5}, {0, 1, 3, 4, 6}, {0, 1, 3, 5, 6}, {0, 1, 4, 5, 6}, {0, 2, 3, 4, 5}, {0, 2, 3, 4, 6}, {0, 2, 3, 5, 6}, {0, 2, 4, 5, 6}, {0, 3, 4, 5, 6}, {1, 2, 3, 4, 5}, {1, 2, 3, 4, 6}, {1, 2, 3, 5, 6}, {1, 2, 4, 5, 6}, {1, 3, 4, 5, 6}, {2, 3, 4, 5, 6}, {0, 1, 2, 3, 4, 5}, {0, 1, 2, 3, 4, 6}, {0, 1, 2, 3, 5, 6}, {0, 1, 2, 4, 5, 6}, {0, 1, 3, 4, 5, 6}, {0, 2, 3, 4, 5, 6}, {1, 2, 3, 4, 5, 6}, {0, 1, 2, 3, 4, 5, 6}], values=[0, 1, 2, 3, 4, 5, 6])'\n",
      "Cpm(variables=['cp3', 'xp3', 'tp3'], no_child=1, C=[[  0   1 126]\n",
      " [  1   0   1]\n",
      " [  2   0   2]\n",
      " [  3   0   3]\n",
      " [  4   0   4]\n",
      " [  5   0   5]\n",
      " [  6   0   6]], p=[[1.]\n",
      " [1.]\n",
      " [1.]\n",
      " [1.]\n",
      " [1.]\n",
      " [1.]\n",
      " [1.]]\n"
     ]
    }
   ],
   "source": [
    "for x in rep_pri:\n",
    "    name = 'c'+x[1:]\n",
    "    name_t = 't'+x[1:]\n",
    "    vals = vars[name_t].values\n",
    "    vars[name] = variable.Variable( name=name, values=vals )\n",
    "\n",
    "    ts_all = vars[name_t].B.index(set(vals))\n",
    "    Cx = np.array([[0, 1, ts_all]])\n",
    "    for v in vals:\n",
    "        if v > 0:\n",
    "            Cx = np.vstack((Cx, [v, 0, v]))\n",
    "\n",
    "    cpms[name] = cpm.Cpm( variables = [vars[name], vars[x], vars[name_t]], no_child = 1, C=Cx, p=np.ones(shape=(len(Cx),1), dtype=np.float32) )\n",
    "\n",
    "\n",
    "print(vars['cs0'])\n",
    "print(cpms['cs0'])\n",
    "print(\" \")\n",
    "print(vars['cp3'])\n",
    "print(cpms['cp3'])"
   ]
  },
  {
   "cell_type": "markdown",
   "metadata": {},
   "source": [
    "## Power cut time"
   ]
  },
  {
   "cell_type": "code",
   "execution_count": 8,
   "metadata": {},
   "outputs": [
    {
     "name": "stdout",
     "output_type": "stream",
     "text": [
      "Cpm(variables=['h0', 'cp0', 'cs0'], no_child=1, C=[[0 0 0]\n",
      " [1 1 2]\n",
      " [2 2 2]\n",
      " [3 3 2]\n",
      " [1 0 1]], p=[[1.]\n",
      " [1.]\n",
      " [1.]\n",
      " [1.]\n",
      " [1.]] 'Variable(name=h0, B=[{0}, {1}, {2}, {3}, {0, 1}, {0, 2}, {0, 3}, {1, 2}, {1, 3}, {2, 3}, {0, 1, 2}, {0, 1, 3}, {0, 2, 3}, {1, 2, 3}, {0, 1, 2, 3}], values=[0, 1, 2, 3])'\n",
      "\n",
      "Cpm(variables=['h1', 'cp1', 'cp0', 'cs0'], no_child=1, C=[[ 0  0  0  0]\n",
      " [ 1  1  4  2]\n",
      " [ 2  2 10  2]\n",
      " [ 3  3 14  2]\n",
      " [ 4  4 14  2]\n",
      " [ 1  0  1  2]\n",
      " [ 2  5  2  2]\n",
      " [ 3 15  3  2]\n",
      " [ 1  0  0  1]], p=[[1.]\n",
      " [1.]\n",
      " [1.]\n",
      " [1.]\n",
      " [1.]\n",
      " [1.]\n",
      " [1.]\n",
      " [1.]\n",
      " [1.]] 'Variable(name=h1, B=[{0}, {1}, {2}, {3}, {4}, {0, 1}, {0, 2}, {0, 3}, {0, 4}, {1, 2}, {1, 3}, {1, 4}, {2, 3}, {2, 4}, {3, 4}, {0, 1, 2}, {0, 1, 3}, {0, 1, 4}, {0, 2, 3}, {0, 2, 4}, {0, 3, 4}, {1, 2, 3}, {1, 2, 4}, {1, 3, 4}, {2, 3, 4}, {0, 1, 2, 3}, {0, 1, 2, 4}, {0, 1, 3, 4}, {0, 2, 3, 4}, {1, 2, 3, 4}, {0, 1, 2, 3, 4}], values=[0, 1, 2, 3, 4])'\n"
     ]
    }
   ],
   "source": [
    "# Example 1\n",
    "vars_p_h0 = [vars['cp0'], vars['cs0']]\n",
    "M_h0, v_h0 = quant.sys_max_val('h0', vars_p_h0)\n",
    "\n",
    "print(M_h0, v_h0)\n",
    "\n",
    "# Example 2\n",
    "vars_p_h1 = [vars['cp1'], vars['cp0'], vars['cs0']]\n",
    "M_h1, v_h1 = quant.sys_max_val('h1', vars_p_h1)\n",
    "\n",
    "print(\"\")\n",
    "print(M_h1, v_h1)"
   ]
  },
  {
   "cell_type": "code",
   "execution_count": 9,
   "metadata": {},
   "outputs": [],
   "source": [
    "cut_lin = {} # cut-set of link-sets for each house\n",
    "\n",
    "cut_lin['h0'] = [['cs0', 'cp0']]\n",
    "cut_lin['h1'] = [['cs0', 'cp0', 'cp1']]\n",
    "cut_lin['h2'] = [['cs0', 'cp2']]\n",
    "cut_lin['h3'] = [['cs0', 'cp2', 'cp3'], ['cs1','cp4']]\n",
    "cut_lin['h4'] = [['cs0', 'cp2', 'cp3', 'cp5'], ['cs1', 'cp4','cp5']]\n",
    "cut_lin['h5'] = [['cs1', 'cp6']]\n",
    "cut_lin['h6'] = [['cs1', 'cp6', 'cp7']]\n",
    "\n",
    "for h, sets in cut_lin.items():\n",
    "    if len(sets) == 1:              \n",
    "        vars_h = [vars[x] for x in sets[0]]\n",
    "\n",
    "        cpms[h], vars[h] = quant.sys_max_val( h, vars_h )\n",
    "        \n",
    "    else:\n",
    "        names_hs = [h+str(i) for i in range(len(sets))]\n",
    "        for h_i, s_i in zip(names_hs, sets):\n",
    "            vars_h_i = [vars[x] for x in s_i]\n",
    "\n",
    "            cpms[h_i], vars[h_i] = quant.sys_max_val( h_i, vars_h_i )\n",
    "            \n",
    "        vars_hs = [vars[n] for n in names_hs]\n",
    "        cpms[h], vars[h] = quant.sys_min_val( h, vars_hs )\n",
    "       "
   ]
  },
  {
   "cell_type": "code",
   "execution_count": 10,
   "metadata": {},
   "outputs": [
    {
     "name": "stdout",
     "output_type": "stream",
     "text": [
      "'Variable(name=h1, B=[{0}, {1}, {2}, {3}, {4}, {0, 1}, {0, 2}, {0, 3}, {0, 4}, {1, 2}, {1, 3}, {1, 4}, {2, 3}, {2, 4}, {3, 4}, {0, 1, 2}, {0, 1, 3}, {0, 1, 4}, {0, 2, 3}, {0, 2, 4}, {0, 3, 4}, {1, 2, 3}, {1, 2, 4}, {1, 3, 4}, {2, 3, 4}, {0, 1, 2, 3}, {0, 1, 2, 4}, {0, 1, 3, 4}, {0, 2, 3, 4}, {1, 2, 3, 4}, {0, 1, 2, 3, 4}], values=[0, 1, 2, 3, 4])'\n",
      "Cpm(variables=['h1', 'cs0', 'cp0', 'cp1'], no_child=1, C=[[ 0  0  0  0]\n",
      " [ 1  1  4  5]\n",
      " [ 1  0  1  5]\n",
      " [ 2  2  2 15]\n",
      " [ 3  2  3 25]\n",
      " [ 1  0  0  1]\n",
      " [ 2  2  4  2]\n",
      " [ 3  2 10  3]\n",
      " [ 4  2 14  4]], p=[[1.]\n",
      " [1.]\n",
      " [1.]\n",
      " [1.]\n",
      " [1.]\n",
      " [1.]\n",
      " [1.]\n",
      " [1.]\n",
      " [1.]]\n",
      "\n",
      "'Variable(name=h3, B=[{0}, {1}, {2}, {3}, {4}, {5}, {6}, {0, 1}, {0, 2}, {0, 3}, {0, 4}, {0, 5}, {0, 6}, {1, 2}, {1, 3}, {1, 4}, {1, 5}, {1, 6}, {2, 3}, {2, 4}, {2, 5}, {2, 6}, {3, 4}, {3, 5}, {3, 6}, {4, 5}, {4, 6}, {5, 6}, {0, 1, 2}, {0, 1, 3}, {0, 1, 4}, {0, 1, 5}, {0, 1, 6}, {0, 2, 3}, {0, 2, 4}, {0, 2, 5}, {0, 2, 6}, {0, 3, 4}, {0, 3, 5}, {0, 3, 6}, {0, 4, 5}, {0, 4, 6}, {0, 5, 6}, {1, 2, 3}, {1, 2, 4}, {1, 2, 5}, {1, 2, 6}, {1, 3, 4}, {1, 3, 5}, {1, 3, 6}, {1, 4, 5}, {1, 4, 6}, {1, 5, 6}, {2, 3, 4}, {2, 3, 5}, {2, 3, 6}, {2, 4, 5}, {2, 4, 6}, {2, 5, 6}, {3, 4, 5}, {3, 4, 6}, {3, 5, 6}, {4, 5, 6}, {0, 1, 2, 3}, {0, 1, 2, 4}, {0, 1, 2, 5}, {0, 1, 2, 6}, {0, 1, 3, 4}, {0, 1, 3, 5}, {0, 1, 3, 6}, {0, 1, 4, 5}, {0, 1, 4, 6}, {0, 1, 5, 6}, {0, 2, 3, 4}, {0, 2, 3, 5}, {0, 2, 3, 6}, {0, 2, 4, 5}, {0, 2, 4, 6}, {0, 2, 5, 6}, {0, 3, 4, 5}, {0, 3, 4, 6}, {0, 3, 5, 6}, {0, 4, 5, 6}, {1, 2, 3, 4}, {1, 2, 3, 5}, {1, 2, 3, 6}, {1, 2, 4, 5}, {1, 2, 4, 6}, {1, 2, 5, 6}, {1, 3, 4, 5}, {1, 3, 4, 6}, {1, 3, 5, 6}, {1, 4, 5, 6}, {2, 3, 4, 5}, {2, 3, 4, 6}, {2, 3, 5, 6}, {2, 4, 5, 6}, {3, 4, 5, 6}, {0, 1, 2, 3, 4}, {0, 1, 2, 3, 5}, {0, 1, 2, 3, 6}, {0, 1, 2, 4, 5}, {0, 1, 2, 4, 6}, {0, 1, 2, 5, 6}, {0, 1, 3, 4, 5}, {0, 1, 3, 4, 6}, {0, 1, 3, 5, 6}, {0, 1, 4, 5, 6}, {0, 2, 3, 4, 5}, {0, 2, 3, 4, 6}, {0, 2, 3, 5, 6}, {0, 2, 4, 5, 6}, {0, 3, 4, 5, 6}, {1, 2, 3, 4, 5}, {1, 2, 3, 4, 6}, {1, 2, 3, 5, 6}, {1, 2, 4, 5, 6}, {1, 3, 4, 5, 6}, {2, 3, 4, 5, 6}, {0, 1, 2, 3, 4, 5}, {0, 1, 2, 3, 4, 6}, {0, 1, 2, 3, 5, 6}, {0, 1, 2, 4, 5, 6}, {0, 1, 3, 4, 5, 6}, {0, 2, 3, 4, 5, 6}, {1, 2, 3, 4, 5, 6}, {0, 1, 2, 3, 4, 5, 6}], values=[0, 1, 2, 3, 4, 5, 6])'\n",
      "Cpm(variables=['h3', 'h30', 'h31'], no_child=1, C=[[  0   0 254]\n",
      " [  1   1 253]\n",
      " [  2   2 245]\n",
      " [  3   3 217]\n",
      " [  4   4 161]\n",
      " [  5   5  91]\n",
      " [  6   6  35]\n",
      " [  0 125   0]\n",
      " [  1 118   1]\n",
      " [  2  97   2]\n",
      " [  3  62   3]\n",
      " [  4  27   4]\n",
      " [  5   6   5]], p=[[1.]\n",
      " [1.]\n",
      " [1.]\n",
      " [1.]\n",
      " [1.]\n",
      " [1.]\n",
      " [1.]\n",
      " [1.]\n",
      " [1.]\n",
      " [1.]\n",
      " [1.]\n",
      " [1.]\n",
      " [1.]]\n",
      "\n",
      "'Variable(name=h30, B=[{0}, {1}, {2}, {3}, {4}, {5}, {6}, {0, 1}, {0, 2}, {0, 3}, {0, 4}, {0, 5}, {0, 6}, {1, 2}, {1, 3}, {1, 4}, {1, 5}, {1, 6}, {2, 3}, {2, 4}, {2, 5}, {2, 6}, {3, 4}, {3, 5}, {3, 6}, {4, 5}, {4, 6}, {5, 6}, {0, 1, 2}, {0, 1, 3}, {0, 1, 4}, {0, 1, 5}, {0, 1, 6}, {0, 2, 3}, {0, 2, 4}, {0, 2, 5}, {0, 2, 6}, {0, 3, 4}, {0, 3, 5}, {0, 3, 6}, {0, 4, 5}, {0, 4, 6}, {0, 5, 6}, {1, 2, 3}, {1, 2, 4}, {1, 2, 5}, {1, 2, 6}, {1, 3, 4}, {1, 3, 5}, {1, 3, 6}, {1, 4, 5}, {1, 4, 6}, {1, 5, 6}, {2, 3, 4}, {2, 3, 5}, {2, 3, 6}, {2, 4, 5}, {2, 4, 6}, {2, 5, 6}, {3, 4, 5}, {3, 4, 6}, {3, 5, 6}, {4, 5, 6}, {0, 1, 2, 3}, {0, 1, 2, 4}, {0, 1, 2, 5}, {0, 1, 2, 6}, {0, 1, 3, 4}, {0, 1, 3, 5}, {0, 1, 3, 6}, {0, 1, 4, 5}, {0, 1, 4, 6}, {0, 1, 5, 6}, {0, 2, 3, 4}, {0, 2, 3, 5}, {0, 2, 3, 6}, {0, 2, 4, 5}, {0, 2, 4, 6}, {0, 2, 5, 6}, {0, 3, 4, 5}, {0, 3, 4, 6}, {0, 3, 5, 6}, {0, 4, 5, 6}, {1, 2, 3, 4}, {1, 2, 3, 5}, {1, 2, 3, 6}, {1, 2, 4, 5}, {1, 2, 4, 6}, {1, 2, 5, 6}, {1, 3, 4, 5}, {1, 3, 4, 6}, {1, 3, 5, 6}, {1, 4, 5, 6}, {2, 3, 4, 5}, {2, 3, 4, 6}, {2, 3, 5, 6}, {2, 4, 5, 6}, {3, 4, 5, 6}, {0, 1, 2, 3, 4}, {0, 1, 2, 3, 5}, {0, 1, 2, 3, 6}, {0, 1, 2, 4, 5}, {0, 1, 2, 4, 6}, {0, 1, 2, 5, 6}, {0, 1, 3, 4, 5}, {0, 1, 3, 4, 6}, {0, 1, 3, 5, 6}, {0, 1, 4, 5, 6}, {0, 2, 3, 4, 5}, {0, 2, 3, 4, 6}, {0, 2, 3, 5, 6}, {0, 2, 4, 5, 6}, {0, 3, 4, 5, 6}, {1, 2, 3, 4, 5}, {1, 2, 3, 4, 6}, {1, 2, 3, 5, 6}, {1, 2, 4, 5, 6}, {1, 3, 4, 5, 6}, {2, 3, 4, 5, 6}, {0, 1, 2, 3, 4, 5}, {0, 1, 2, 3, 4, 6}, {0, 1, 2, 3, 5, 6}, {0, 1, 2, 4, 5, 6}, {0, 1, 3, 4, 5, 6}, {0, 2, 3, 4, 5, 6}, {1, 2, 3, 4, 5, 6}, {0, 1, 2, 3, 4, 5, 6}], values=[0, 1, 2, 3, 4, 5, 6])'\n",
      "Cpm(variables=['h30', 'cs0', 'cp2', 'cp3'], no_child=1, C=[[  0   0   0   0]\n",
      " [  1   1   6   7]\n",
      " [  1   0   1   7]\n",
      " [  2   2   2  28]\n",
      " [  3   2   3  63]\n",
      " [  4   2   4  98]\n",
      " [  5   2   5 119]\n",
      " [  1   0   0   1]\n",
      " [  2   2   6   2]\n",
      " [  3   2  21   3]\n",
      " [  4   2  41   4]\n",
      " [  5   2  56   5]\n",
      " [  6   2  62   6]], p=[[1.]\n",
      " [1.]\n",
      " [1.]\n",
      " [1.]\n",
      " [1.]\n",
      " [1.]\n",
      " [1.]\n",
      " [1.]\n",
      " [1.]\n",
      " [1.]\n",
      " [1.]\n",
      " [1.]\n",
      " [1.]]\n"
     ]
    }
   ],
   "source": [
    "print(vars['h1'])\n",
    "print(cpms['h1'])\n",
    "\n",
    "print(\"\")\n",
    "print(vars['h3'])\n",
    "print(cpms['h3'])\n",
    "\n",
    "print(\"\")\n",
    "print(vars['h30'])\n",
    "print(cpms['h30'])"
   ]
  },
  {
   "cell_type": "markdown",
   "metadata": {},
   "source": [
    "# Inference\n",
    "\n",
    "We apply conditioning on $H$ and variable elimination (VE) on other variables. For VE, we need to decide elimination order as $S_0$ &rarr; $T_0^S$ &rarr; $C^S_0$ &rarr; $S_1$ &rarr; $T_1^S$ &rarr; $C^S_1$ &rarr; $P_0$ &rarr; ... &rarr; $C_7^P$ &rarr; $H_0$ &rarr; $H_1$ &rarr; ... &rarr; $H_6$. "
   ]
  },
  {
   "cell_type": "code",
   "execution_count": 11,
   "metadata": {},
   "outputs": [],
   "source": [
    "n_hou = len(cut_lin)\n",
    "\n",
    "VE_ord= ['haz']\n",
    "for x in rep_pri:\n",
    "    VE_ord.append(x)\n",
    "    VE_ord.append('t'+x[1:])\n",
    "    VE_ord.append('c'+x[1:])\n",
    "VE_ord += ['h0', 'h1', 'h2']+['h30', 'h31', 'h3']+['h40', 'h41', 'h4'] + ['h5', 'h6']"
   ]
  },
  {
   "cell_type": "markdown",
   "metadata": {},
   "source": [
    "Then, if we want to obtain the marginal distribution of $H_n$, $P(H_n)$ by summing out all other variables, we only need to consider those variables that are (grand, great grand, etc.) parents of $H_n$. \n",
    "\n",
    "For example, in case of $H_0$, we have those relevant variables as marked blue in the figure below:\n",
    "<figure>\n",
    "<img src=\"img/power_house_bn_h0.png\" style=\"width:400px\">\n",
    "</figure>\n",
    "\n",
    "The set of those relevant variables can be obtained using the function <span style=\"font-family:Consolas;\">cpm.get_inf_vars</span>, as shown in the code below:"
   ]
  },
  {
   "cell_type": "code",
   "execution_count": 12,
   "metadata": {},
   "outputs": [
    {
     "name": "stdout",
     "output_type": "stream",
     "text": [
      "['haz', 'xs0', 'ts0', 'cs0', 'xs1', 'ts1', 'xp0', 'tp0', 'cp0', 'h0']\n",
      "['haz', 'xs0', 'ts0', 'cs0', 'xs1', 'ts1', 'xp0', 'tp0', 'cp0', 'xp1', 'tp1', 'cp1', 'h0', 'h1']\n"
     ]
    }
   ],
   "source": [
    "# Example 1\n",
    "h_star1 = ['h0']\n",
    "vars_inf1 = cpm.get_inf_vars( h_star1, cpms, VE_ord )\n",
    "print(vars_inf1)\n",
    "\n",
    "# Example 2\n",
    "h_star2 = ['h0','h1']\n",
    "vars_inf2 = cpm.get_inf_vars( h_star2, cpms, VE_ord )\n",
    "print(vars_inf2)"
   ]
  },
  {
   "cell_type": "markdown",
   "metadata": {},
   "source": [
    "Now we perform inference.\n",
    "\n",
    "Below, we calcualte $P(H_0)$ by first obtaining an inference scope (i.e. variables to consider) using <span style=\"font-family:Consolas;\">cpm.get_inf_vars</span> and executing the conditioning-VE algorithm by <span style=\"font-family:Consolas;\">cpm.cal_Msys_by_cond_VE</span>."
   ]
  },
  {
   "cell_type": "code",
   "execution_count": 13,
   "metadata": {},
   "outputs": [
    {
     "name": "stdout",
     "output_type": "stream",
     "text": [
      "Cpm(variables=['h0'], no_child=1, C=[[0]\n",
      " [1]\n",
      " [2]\n",
      " [3]], p=[[9.38020500e-01]\n",
      " [5.34575025e-02]\n",
      " [7.92099500e-03]\n",
      " [6.01002500e-04]]\n",
      "[1.]\n"
     ]
    }
   ],
   "source": [
    "cond_names = ['haz']\n",
    "\n",
    "# H0\n",
    "vars_inf_h0 = cpm.get_inf_vars( ['h0'], cpms, VE_ord )\n",
    "ve_names = [x for x in vars_inf_h0 if x not in cond_names]\n",
    "\n",
    "Msys_h0 = cpm.cal_Msys_by_cond_VE( cpms, vars, cond_names, VE_ord, 'h0' )\n",
    "print(Msys_h0)\n",
    "print(sum(Msys_h0.p))"
   ]
  },
  {
   "cell_type": "markdown",
   "metadata": {},
   "source": [
    "We now calculate $P(H_6)$, which takes much longer than $H_0$ (in my desktop, it takes 30 seconds). This is because we now have more variables to consider because $T_7^P$ is in the last priority of repair, and thus all $T_x$ becomes relevant. The variables in the inference scope are marked below in the figure below:\n",
    "<figure>\n",
    "<img src=\"img/power_house_bn_h6.png\" style=\"width:400px\">\n",
    "</figure>\n",
    "\n",
    "One might consider applying sampling instead of the applied exact inference for faster calculation or a larger number of components (i.e. substations and poles)."
   ]
  },
  {
   "cell_type": "code",
   "execution_count": 14,
   "metadata": {},
   "outputs": [
    {
     "name": "stdout",
     "output_type": "stream",
     "text": [
      "Cpm(variables=['h6'], no_child=1, C=[[ 0]\n",
      " [ 1]\n",
      " [ 2]\n",
      " [ 3]\n",
      " [ 4]\n",
      " [ 5]\n",
      " [ 6]\n",
      " [ 7]\n",
      " [ 8]\n",
      " [ 9]\n",
      " [10]], p=[[8.46012488e-01]\n",
      " [8.37913635e-02]\n",
      " [3.87747064e-02]\n",
      " [2.13166722e-02]\n",
      " [7.92699644e-03]\n",
      " [1.86292686e-03]\n",
      " [2.84743240e-04]\n",
      " [2.82798049e-05]\n",
      " [1.76064092e-06]\n",
      " [6.24000037e-08]\n",
      " [9.60000006e-10]]\n",
      "[1.]\n"
     ]
    }
   ],
   "source": [
    "# H7\n",
    "vars_inf_h6 = cpm.get_inf_vars( ['h6'], cpms, VE_ord )\n",
    "ve_names = [x for x in vars_inf_h6 if x not in cond_names]\n",
    "\n",
    "Msys_h6 = cpm.cal_Msys_by_cond_VE( cpms, vars, cond_names, VE_ord, 'h6' )\n",
    "print(Msys_h6)\n",
    "print(sum(Msys_h6.p))"
   ]
  },
  {
   "cell_type": "markdown",
   "metadata": {},
   "source": [
    "# Final result"
   ]
  },
  {
   "cell_type": "code",
   "execution_count": 15,
   "metadata": {},
   "outputs": [
    {
     "name": "stdout",
     "output_type": "stream",
     "text": [
      "h0 Done. Took 0.11 sec.\n",
      "h1 Done. Took 0.26 sec.\n",
      "h2 Done. Took 0.37 sec.\n",
      "h3 Done. Took 36.34 sec.\n",
      "h4 Done. Took 173.04 sec.\n",
      "h5 Done. Took 7.88 sec.\n",
      "h6 Done. Took 36.04 sec.\n"
     ]
    }
   ],
   "source": [
    "VE_ord= ['haz']\n",
    "for x in rep_pri:\n",
    "    VE_ord.append(x)\n",
    "    VE_ord.append('t'+x[1:])\n",
    "    VE_ord.append('c'+x[1:])\n",
    "VE_ord += ['h0', 'h1', 'h2']+['h30', 'h31', 'h3']+['h40', 'h41', 'h4'] + ['h5', 'h6']\n",
    "\n",
    "Mhs = {}\n",
    "for h in cut_lin.keys():\n",
    "    st = time.time()\n",
    "\n",
    "    Mhs[h] = cpm.cal_Msys_by_cond_VE( cpms, vars, cond_names, VE_ord, h )\n",
    "    en = time.time()\n",
    "\n",
    "    print( h + \" Done. \" + \"Took {:.2f} sec.\".format(en-st) )"
   ]
  },
  {
   "cell_type": "code",
   "execution_count": 21,
   "metadata": {},
   "outputs": [
    {
     "ename": "KeyboardInterrupt",
     "evalue": "",
     "output_type": "error",
     "traceback": [
      "\u001b[1;31m---------------------------------------------------------------------------\u001b[0m",
      "\u001b[1;31mKeyboardInterrupt\u001b[0m                         Traceback (most recent call last)",
      "Cell \u001b[1;32mIn[21], line 4\u001b[0m\n\u001b[0;32m      2\u001b[0m \u001b[38;5;66;03m#for h in cut_lin.keys():\u001b[39;00m\n\u001b[0;32m      3\u001b[0m \u001b[38;5;28;01mfor\u001b[39;00m h \u001b[38;5;129;01min\u001b[39;00m [\u001b[38;5;124m'\u001b[39m\u001b[38;5;124mh1\u001b[39m\u001b[38;5;124m'\u001b[39m]:\n\u001b[1;32m----> 4\u001b[0m     days \u001b[38;5;241m=\u001b[39m \u001b[43mcpm\u001b[49m\u001b[38;5;241;43m.\u001b[39;49m\u001b[43mget_means\u001b[49m\u001b[43m(\u001b[49m\u001b[43m \u001b[49m\u001b[43mMhs\u001b[49m\u001b[43m[\u001b[49m\u001b[43mh\u001b[49m\u001b[43m]\u001b[49m\u001b[43m,\u001b[49m\u001b[43m \u001b[49m\u001b[43mh\u001b[49m\u001b[43m \u001b[49m\u001b[43m)\u001b[49m\n\u001b[0;32m      5\u001b[0m     avg_cut_days[h] \u001b[38;5;241m=\u001b[39m days\n\u001b[0;32m      7\u001b[0m \u001b[38;5;28mprint\u001b[39m(avg_cut_days)\n",
      "File \u001b[1;32m~\\git\\BNS-JT\\BNS_JT\\cpm.py:1068\u001b[0m, in \u001b[0;36mget_means\u001b[1;34m(M1, v_names)\u001b[0m\n\u001b[0;32m   1066\u001b[0m \u001b[38;5;28;01mfor\u001b[39;00m v \u001b[38;5;129;01min\u001b[39;00m v_names:\n\u001b[0;32m   1067\u001b[0m     col_idx \u001b[38;5;241m=\u001b[39m [i \u001b[38;5;28;01mfor\u001b[39;00m i \u001b[38;5;129;01min\u001b[39;00m \u001b[38;5;28mrange\u001b[39m(\u001b[38;5;28mlen\u001b[39m(M1\u001b[38;5;241m.\u001b[39mvariables)) \u001b[38;5;28;01mif\u001b[39;00m M1\u001b[38;5;241m.\u001b[39mvariables[i]\u001b[38;5;241m.\u001b[39mname \u001b[38;5;241m==\u001b[39m v]\n\u001b[1;32m-> 1068\u001b[0m     \u001b[38;5;28;01mif\u001b[39;00m \u001b[38;5;28;43mlen\u001b[39;49m(col_idx) \u001b[38;5;241m!=\u001b[39m \u001b[38;5;241m1\u001b[39m:\n\u001b[0;32m   1069\u001b[0m         \u001b[38;5;28;01mraise\u001b[39;00m( v \u001b[38;5;241m+\u001b[39m \u001b[38;5;124m\"\u001b[39m\u001b[38;5;124m appears \u001b[39m\u001b[38;5;132;01m{:d}\u001b[39;00m\u001b[38;5;124m times in M1.variables. It must appear exactly ONCE.\u001b[39m\u001b[38;5;124m\"\u001b[39m\u001b[38;5;241m.\u001b[39mformat(\u001b[38;5;28mlen\u001b[39m(col_idx)) )\n\u001b[0;32m   1070\u001b[0m     \u001b[38;5;28;01melif\u001b[39;00m col_idx[\u001b[38;5;241m0\u001b[39m] \u001b[38;5;241m>\u001b[39m M1\u001b[38;5;241m.\u001b[39mno_child\u001b[38;5;241m-\u001b[39m\u001b[38;5;241m1\u001b[39m:\n",
      "File \u001b[1;32m~\\git\\BNS-JT\\BNS_JT\\cpm.py:1068\u001b[0m, in \u001b[0;36mget_means\u001b[1;34m(M1, v_names)\u001b[0m\n\u001b[0;32m   1066\u001b[0m \u001b[38;5;28;01mfor\u001b[39;00m v \u001b[38;5;129;01min\u001b[39;00m v_names:\n\u001b[0;32m   1067\u001b[0m     col_idx \u001b[38;5;241m=\u001b[39m [i \u001b[38;5;28;01mfor\u001b[39;00m i \u001b[38;5;129;01min\u001b[39;00m \u001b[38;5;28mrange\u001b[39m(\u001b[38;5;28mlen\u001b[39m(M1\u001b[38;5;241m.\u001b[39mvariables)) \u001b[38;5;28;01mif\u001b[39;00m M1\u001b[38;5;241m.\u001b[39mvariables[i]\u001b[38;5;241m.\u001b[39mname \u001b[38;5;241m==\u001b[39m v]\n\u001b[1;32m-> 1068\u001b[0m     \u001b[38;5;28;01mif\u001b[39;00m \u001b[38;5;28;43mlen\u001b[39;49m(col_idx) \u001b[38;5;241m!=\u001b[39m \u001b[38;5;241m1\u001b[39m:\n\u001b[0;32m   1069\u001b[0m         \u001b[38;5;28;01mraise\u001b[39;00m( v \u001b[38;5;241m+\u001b[39m \u001b[38;5;124m\"\u001b[39m\u001b[38;5;124m appears \u001b[39m\u001b[38;5;132;01m{:d}\u001b[39;00m\u001b[38;5;124m times in M1.variables. It must appear exactly ONCE.\u001b[39m\u001b[38;5;124m\"\u001b[39m\u001b[38;5;241m.\u001b[39mformat(\u001b[38;5;28mlen\u001b[39m(col_idx)) )\n\u001b[0;32m   1070\u001b[0m     \u001b[38;5;28;01melif\u001b[39;00m col_idx[\u001b[38;5;241m0\u001b[39m] \u001b[38;5;241m>\u001b[39m M1\u001b[38;5;241m.\u001b[39mno_child\u001b[38;5;241m-\u001b[39m\u001b[38;5;241m1\u001b[39m:\n",
      "File \u001b[1;32m_pydevd_bundle/pydevd_cython.pyx:1457\u001b[0m, in \u001b[0;36m_pydevd_bundle.pydevd_cython.SafeCallWrapper.__call__\u001b[1;34m()\u001b[0m\n",
      "File \u001b[1;32m_pydevd_bundle/pydevd_cython.pyx:701\u001b[0m, in \u001b[0;36m_pydevd_bundle.pydevd_cython.PyDBFrame.trace_dispatch\u001b[1;34m()\u001b[0m\n",
      "File \u001b[1;32m_pydevd_bundle/pydevd_cython.pyx:1152\u001b[0m, in \u001b[0;36m_pydevd_bundle.pydevd_cython.PyDBFrame.trace_dispatch\u001b[1;34m()\u001b[0m\n",
      "File \u001b[1;32m_pydevd_bundle/pydevd_cython.pyx:1135\u001b[0m, in \u001b[0;36m_pydevd_bundle.pydevd_cython.PyDBFrame.trace_dispatch\u001b[1;34m()\u001b[0m\n",
      "File \u001b[1;32m_pydevd_bundle/pydevd_cython.pyx:312\u001b[0m, in \u001b[0;36m_pydevd_bundle.pydevd_cython.PyDBFrame.do_wait_suspend\u001b[1;34m()\u001b[0m\n",
      "File \u001b[1;32mc:\\Users\\jb622s\\Anaconda3\\envs\\bns\\Lib\\site-packages\\debugpy\\_vendored\\pydevd\\pydevd.py:2070\u001b[0m, in \u001b[0;36mPyDB.do_wait_suspend\u001b[1;34m(self, thread, frame, event, arg, exception_type)\u001b[0m\n\u001b[0;32m   2067\u001b[0m             from_this_thread\u001b[38;5;241m.\u001b[39mappend(frame_custom_thread_id)\n\u001b[0;32m   2069\u001b[0m     \u001b[38;5;28;01mwith\u001b[39;00m \u001b[38;5;28mself\u001b[39m\u001b[38;5;241m.\u001b[39m_threads_suspended_single_notification\u001b[38;5;241m.\u001b[39mnotify_thread_suspended(thread_id, thread, stop_reason):\n\u001b[1;32m-> 2070\u001b[0m         keep_suspended \u001b[38;5;241m=\u001b[39m \u001b[38;5;28;43mself\u001b[39;49m\u001b[38;5;241;43m.\u001b[39;49m\u001b[43m_do_wait_suspend\u001b[49m\u001b[43m(\u001b[49m\u001b[43mthread\u001b[49m\u001b[43m,\u001b[49m\u001b[43m \u001b[49m\u001b[43mframe\u001b[49m\u001b[43m,\u001b[49m\u001b[43m \u001b[49m\u001b[43mevent\u001b[49m\u001b[43m,\u001b[49m\u001b[43m \u001b[49m\u001b[43marg\u001b[49m\u001b[43m,\u001b[49m\u001b[43m \u001b[49m\u001b[43msuspend_type\u001b[49m\u001b[43m,\u001b[49m\u001b[43m \u001b[49m\u001b[43mfrom_this_thread\u001b[49m\u001b[43m,\u001b[49m\u001b[43m \u001b[49m\u001b[43mframes_tracker\u001b[49m\u001b[43m)\u001b[49m\n\u001b[0;32m   2072\u001b[0m frames_list \u001b[38;5;241m=\u001b[39m \u001b[38;5;28;01mNone\u001b[39;00m\n\u001b[0;32m   2074\u001b[0m \u001b[38;5;28;01mif\u001b[39;00m keep_suspended:\n\u001b[0;32m   2075\u001b[0m     \u001b[38;5;66;03m# This means that we should pause again after a set next statement.\u001b[39;00m\n",
      "File \u001b[1;32mc:\\Users\\jb622s\\Anaconda3\\envs\\bns\\Lib\\site-packages\\debugpy\\_vendored\\pydevd\\pydevd.py:2106\u001b[0m, in \u001b[0;36mPyDB._do_wait_suspend\u001b[1;34m(self, thread, frame, event, arg, suspend_type, from_this_thread, frames_tracker)\u001b[0m\n\u001b[0;32m   2103\u001b[0m         \u001b[38;5;28mself\u001b[39m\u001b[38;5;241m.\u001b[39m_call_input_hook()\n\u001b[0;32m   2105\u001b[0m     \u001b[38;5;28mself\u001b[39m\u001b[38;5;241m.\u001b[39mprocess_internal_commands()\n\u001b[1;32m-> 2106\u001b[0m     time\u001b[38;5;241m.\u001b[39msleep(\u001b[38;5;241m0.01\u001b[39m)\n\u001b[0;32m   2108\u001b[0m \u001b[38;5;28mself\u001b[39m\u001b[38;5;241m.\u001b[39mcancel_async_evaluation(get_current_thread_id(thread), \u001b[38;5;28mstr\u001b[39m(\u001b[38;5;28mid\u001b[39m(frame)))\n\u001b[0;32m   2110\u001b[0m \u001b[38;5;66;03m# process any stepping instructions\u001b[39;00m\n",
      "\u001b[1;31mKeyboardInterrupt\u001b[0m: "
     ]
    }
   ],
   "source": [
    "avg_cut_days = {}\n",
    "#for h in cut_lin.keys():\n",
    "for h in ['h1']:\n",
    "    days = cpm.get_means( Mhs[h], [h] )\n",
    "    avg_cut_days[h] = days\n",
    "\n",
    "print(avg_cut_days)"
   ]
  },
  {
   "cell_type": "code",
   "execution_count": 17,
   "metadata": {},
   "outputs": [],
   "source": [
    "# Locations for mapping\n",
    "xdist, ydist = 0.5, 1.0\n",
    "locs = {\"h0\": (-xdist, -ydist), \"h1\": (-2*xdist, -2*ydist), \"h2\": (xdist, -ydist), \"h3\": (2*xdist, -2*ydist), \"h4\": (xdist, -3*ydist), \"h5\": (4*xdist,-2*ydist), \"h6\": (5*xdist, -3*ydist)}\n",
    "locs[\"s0\"], locs[\"s1\"] = (0.0, 0.0), (3*xdist, ydist)\n",
    "conn = {\"p0\": ('s0', 'h0'), \"p1\": ('h0', 'h1'), \"p2\": ('s0', 'h2'), \"p3\": ('h2', 'h3'), \"p4\": ('s1', 'h3'), \"p5\": ('h3', 'h4'), \"p6\": ('s1', 'h5'), \"p7\": ('h5', 'h6')}\n",
    "\n",
    "for i in range(n_pole):\n",
    "    p = 'p' + str(i)\n",
    "    locs[p] = tuple( [0.5*sum(tup) for tup in zip(locs[conn[p][0]], locs[conn[p][1]])] )"
   ]
  },
  {
   "cell_type": "code",
   "execution_count": 22,
   "metadata": {},
   "outputs": [],
   "source": [
    "def get_means( M1, v_names ):\n",
    "\n",
    "    \"\"\"\n",
    "    Get means of variables in v_names from CPM M1.\n",
    "    INPUT: \n",
    "    M1: A CPM\n",
    "    v_names: a list of names\n",
    "    OUTPUT:\n",
    "    means: a list of means (the same order as v_names)\n",
    "    \"\"\"\n",
    "    means = []\n",
    "    for v in v_names:\n",
    "        col_idx = [i for i in range(len(M1.variables)) if M1.variables[i].name == v]\n",
    "        if len(col_idx) != 1:\n",
    "            raise( v + \" appears {:d} times in M1.variables. It must appear exactly ONCE.\".format(len(col_idx)) )\n",
    "        elif col_idx[0] > M1.no_child-1:\n",
    "            raise( v + \" must not be a parent node.\" )\n",
    "\n",
    "        m = 0\n",
    "        for c, p in zip(M1.C, M1.p):\n",
    "            m += c[col_idx[0]] * p[0]\n",
    "        means.append(m)\n",
    "    \n",
    "    return means\n"
   ]
  },
  {
   "cell_type": "code",
   "execution_count": 23,
   "metadata": {},
   "outputs": [
    {
     "name": "stdout",
     "output_type": "stream",
     "text": [
      "[0.07110250000000003]\n"
     ]
    }
   ],
   "source": [
    "mean = get_means( Mhs['h0'], ['h0'] )\n",
    "print(mean)"
   ]
  },
  {
   "cell_type": "code",
   "execution_count": 42,
   "metadata": {},
   "outputs": [
    {
     "name": "stdout",
     "output_type": "stream",
     "text": [
      "  name  loc_x  loc_y  avg_cut_days\n",
      "0   h0   -0.5   -1.0      0.071103\n",
      "1   h1   -1.0   -2.0      0.154910\n",
      "2   h2    0.5   -1.0      0.080226\n",
      "3   h3    1.0   -2.0      0.037582\n",
      "4   h4    0.5   -3.0      0.164643\n",
      "5   h5    2.0   -2.0      0.140891\n",
      "6   h6    2.5   -3.0      0.268234\n"
     ]
    }
   ],
   "source": [
    "# For visualisation\n",
    "\n",
    "cd_df = pd.DataFrame(columns=['name', 'loc_x', 'loc_y', 'avg_cut_days']) # cut days\n",
    "for h in cut_lin.keys():\n",
    "    cd_df = pd.concat( [cd_df, pd.DataFrame( [[h, locs[h][0], locs[h][1], avg_cut_days[h]]], columns=cd_df.columns )], ignore_index = True )\n",
    "\n",
    "fr_df = pd.DataFrame( columns=['name', 'loc_x', 'loc_y', 'pf'] ) # failure probabilities \n",
    "for i in range(n_subs):\n",
    "    x = 'xs' + str(i)\n",
    "    Mx = cpm.cal_Msys_by_cond_VE( cpms, vars, ['haz'], VE_ord, x )\n",
    "    pf = cpm.get_prob( Mx, [x], 0 )\n",
    "    fr_df = pd.concat( [fr_df, pd.DataFrame([[x, locs['s'+str(i)][0], locs['s'+str(i)][1], pf]], columns=fr_df.columns)], ignore_index=True )\n",
    "\n",
    "print(cd_df)\n",
    "print(fr_df)"
   ]
  }
 ],
 "metadata": {
  "kernelspec": {
   "display_name": "bns",
   "language": "python",
   "name": "python3"
  },
  "language_info": {
   "codemirror_mode": {
    "name": "ipython",
    "version": 3
   },
   "file_extension": ".py",
   "mimetype": "text/x-python",
   "name": "python",
   "nbconvert_exporter": "python",
   "pygments_lexer": "ipython3",
   "version": "3.11.0"
  }
 },
 "nbformat": 4,
 "nbformat_minor": 2
}
