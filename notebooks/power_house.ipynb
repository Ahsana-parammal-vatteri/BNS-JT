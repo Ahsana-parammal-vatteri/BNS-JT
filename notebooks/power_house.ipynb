{
 "cells": [
  {
   "cell_type": "code",
   "execution_count": 1,
   "metadata": {},
   "outputs": [],
   "source": [
    "import sys\n",
    "import numpy as np\n",
    "import random\n",
    "import copy\n",
    "\n",
    "random.seed(10)\n",
    "\n",
    "# mbnpy toolkit\n",
    "sys.path.append(r\"C:\\Users\\jb622s\\git\\BNS-JT\\BNS_JT\") \n",
    "from BNS_JT import cpm, variable, quant"
   ]
  },
  {
   "cell_type": "markdown",
   "metadata": {},
   "source": [
    "# Problem\n",
    "## System\n",
    "<figure>\n",
    "<img src=\"img/house_power_prob.png\" style=\"width:400px\">\n",
    "</figure>\n",
    "\n",
    "The system consists of two power substations $S_0$ and $S_1$, eight transmission line poles $P_0$, ..., $P_7$, and seven houses $H_0$, ..., $H_6$. The substations and poles may fail being subjected to hazard scenarios $H$. Once a hazard event occurs, repair works will take place with priorities $S_0$ &rarr; $S_1$ &rarr; $P_0$ &rarr; $P_1$ &rarr; ... &rarr; $P_6$. The works are done only for failed components, and repairing a component takes a day.\n",
    "\n",
    "Of interest is the expected number of days of power cut for each house. A house has power when the substation and poles it is connected to all survive. For example, $H_0$ has access to power if $S_0$ and $P_0$ are both in operation, while $H_1$ does if $S_0$, $P_0$, and $P_1$ are all in operation. We note that houses $H_3$ and $H_4$ have access to both substations and get power when either of the two link-sets is available. For example, $H_3$ has power either $S_0$, $P_2$, and $P_3$ work together or $S_1$ and $P_4$ are in operation.\n",
    "\n",
    "## Bayesian network (BN) graph\n",
    "The BN graph can be set up as below:\n",
    "<figure>\n",
    "<img src=\"img/power_house_bn.png\" style=\"width:400px\">\n",
    "</figure>\n",
    " \n",
    "The hazard node $H$ affects damage states of components, $S_0$, $S_1$, $P_0$, ..., $P_7$. Then, damage state of a component $X$ decides the rapair timing (i.e. how many days after a hazard occurrence) of a corresponding component, $T^X$. $T^X$ is also affected by the timing of the component right before in the repair priority, e.g. $T_1^S$ is dependent on $T^S_0$ as $S_0$ is right before $S_1$ in the repair priority. Then, actual closure time of each component, $C^X$ is decided by the corresponding damage state $X$ and $T^X$. That is, if $X$ has failed, then the closure time is the same as $T^X$, while if it is not, the closure time is zero. Finally, each house's duration of power cut, represneted by $H_0$, ..., $H_7$, is decided by the closure duration of components constituting their link-sets. For example, as aforementioned, teh first house has $S_0$ and $P_0$ in its link set, and therefore the node $H_0$ is connected to $C_0^S$ and $C^P_0$.\n",
    "\n",
    "In the graph, random variables are represented by single border, while deterministic variables are represented by double border. "
   ]
  },
  {
   "cell_type": "markdown",
   "metadata": {},
   "source": [
    "# Modelling\n",
    "\n",
    "## Hazard scenarios"
   ]
  },
  {
   "cell_type": "code",
   "execution_count": 2,
   "metadata": {},
   "outputs": [
    {
     "name": "stdout",
     "output_type": "stream",
     "text": [
      "\"Variable(name=haz, B=[{0}, {1}, {2}, {0, 1}, {0, 2}, {1, 2}, {0, 1, 2}], values=['mild', 'medi', 'inte'])\"\n",
      "Cpm(variables=['haz'], no_child=1, C=[[0]\n",
      " [1]\n",
      " [2]], p=[[0.5]\n",
      " [0.2]\n",
      " [0.3]]\n"
     ]
    }
   ],
   "source": [
    "cpms={}\n",
    "vars={}\n",
    "\n",
    "vars['haz'] = variable.Variable( name='haz', values=['mild','medi','inte'] ) # values=(mild, medium, intense)\n",
    "cpms['haz'] = cpm.Cpm( variables=[vars['haz']], no_child=1, C=np.array([0,1,2]), p=[0.5,0.2,0.3] )\n",
    "\n",
    "print(vars['haz'])\n",
    "print(cpms['haz'])\n"
   ]
  },
  {
   "cell_type": "markdown",
   "metadata": {},
   "source": [
    "## Structural damage"
   ]
  },
  {
   "cell_type": "code",
   "execution_count": 3,
   "metadata": {},
   "outputs": [],
   "source": [
    "# Substations\n",
    "n_subs = 2\n",
    "for i in range(n_subs):\n",
    "    name = 'xs' + str(i)\n",
    "    vars[name] = variable.Variable( name=name, values=['fail','surv'] ) # values=(failure, survival)\n",
    "    cpms[name] = cpm.Cpm( variables = [vars[name], vars['haz']], no_child = 1,\n",
    "                      C=np.array([[0,0], [1,0], [0,1], [1,1], [0,2], [1,2]]) )\n",
    "\n",
    "cpms['xs0'].p = np.array([0.001, 0.999, 0.01, 0.99, 0.1, 0.9])\n",
    "cpms['xs1'].p = np.array([0.005, 0.995, 0.05, 0.95, 0.2, 0.8])\n",
    "\n",
    "# Poles\n",
    "n_pole = 8\n",
    "for i in range(n_pole):\n",
    "    name = 'xp' + str(i)\n",
    "    vars[name] = variable.Variable( name=name, values=['fail','surv'] ) # values=(failure, survival)\n",
    "    cpms[name] = cpm.Cpm( variables = [vars[name], vars['haz']], no_child = 1,\n",
    "                      C=np.array([[0,0], [1,0], [0,1], [1,1], [0,2], [1,2]]) )\n",
    "    \n",
    "    if i in [0,2,4,6]:\n",
    "        cpms[name].p = np.array([0.001, 0.999, 0.01, 0.99, 0.1, 0.9])\n",
    "    else:\n",
    "        cpms[name].p = np.array([0.005, 0.995, 0.05, 0.95, 0.2, 0.8])\n"
   ]
  },
  {
   "cell_type": "markdown",
   "metadata": {},
   "source": [
    "## Repair timing"
   ]
  },
  {
   "cell_type": "code",
   "execution_count": 4,
   "metadata": {},
   "outputs": [
    {
     "name": "stdout",
     "output_type": "stream",
     "text": [
      "['xs0', 'xs1', 'xp0', 'xp1', 'xp2', 'xp3', 'xp4', 'xp5', 'xp6', 'xp7']\n"
     ]
    }
   ],
   "source": [
    "max_ct = n_subs + n_pole \n",
    "\n",
    "# Repair priority\n",
    "rep_pri = ['xs' + str(i) for i in range(n_subs)] + ['xp' + str(i) for i in range(n_pole)] # repair priority\n",
    "\n",
    "print(rep_pri)\n"
   ]
  },
  {
   "cell_type": "code",
   "execution_count": 5,
   "metadata": {},
   "outputs": [
    {
     "name": "stdout",
     "output_type": "stream",
     "text": [
      "'Variable(name=ts0, B=[{0}, {1}, {0, 1}], values=[0, 1])'\n",
      "Cpm(variables=['ts0', 'xs0'], no_child=1, C=[[1 0]\n",
      " [0 1]], p=[[1]\n",
      " [1]]\n",
      " \n",
      "'Variable(name=tp3, B=[{0}, {1}, {2}, {3}, {4}, {5}, {6}, {0, 1}, {0, 2}, {0, 3}, {0, 4}, {0, 5}, {0, 6}, {1, 2}, {1, 3}, {1, 4}, {1, 5}, {1, 6}, {2, 3}, {2, 4}, {2, 5}, {2, 6}, {3, 4}, {3, 5}, {3, 6}, {4, 5}, {4, 6}, {5, 6}, {0, 1, 2}, {0, 1, 3}, {0, 1, 4}, {0, 1, 5}, {0, 1, 6}, {0, 2, 3}, {0, 2, 4}, {0, 2, 5}, {0, 2, 6}, {0, 3, 4}, {0, 3, 5}, {0, 3, 6}, {0, 4, 5}, {0, 4, 6}, {0, 5, 6}, {1, 2, 3}, {1, 2, 4}, {1, 2, 5}, {1, 2, 6}, {1, 3, 4}, {1, 3, 5}, {1, 3, 6}, {1, 4, 5}, {1, 4, 6}, {1, 5, 6}, {2, 3, 4}, {2, 3, 5}, {2, 3, 6}, {2, 4, 5}, {2, 4, 6}, {2, 5, 6}, {3, 4, 5}, {3, 4, 6}, {3, 5, 6}, {4, 5, 6}, {0, 1, 2, 3}, {0, 1, 2, 4}, {0, 1, 2, 5}, {0, 1, 2, 6}, {0, 1, 3, 4}, {0, 1, 3, 5}, {0, 1, 3, 6}, {0, 1, 4, 5}, {0, 1, 4, 6}, {0, 1, 5, 6}, {0, 2, 3, 4}, {0, 2, 3, 5}, {0, 2, 3, 6}, {0, 2, 4, 5}, {0, 2, 4, 6}, {0, 2, 5, 6}, {0, 3, 4, 5}, {0, 3, 4, 6}, {0, 3, 5, 6}, {0, 4, 5, 6}, {1, 2, 3, 4}, {1, 2, 3, 5}, {1, 2, 3, 6}, {1, 2, 4, 5}, {1, 2, 4, 6}, {1, 2, 5, 6}, {1, 3, 4, 5}, {1, 3, 4, 6}, {1, 3, 5, 6}, {1, 4, 5, 6}, {2, 3, 4, 5}, {2, 3, 4, 6}, {2, 3, 5, 6}, {2, 4, 5, 6}, {3, 4, 5, 6}, {0, 1, 2, 3, 4}, {0, 1, 2, 3, 5}, {0, 1, 2, 3, 6}, {0, 1, 2, 4, 5}, {0, 1, 2, 4, 6}, {0, 1, 2, 5, 6}, {0, 1, 3, 4, 5}, {0, 1, 3, 4, 6}, {0, 1, 3, 5, 6}, {0, 1, 4, 5, 6}, {0, 2, 3, 4, 5}, {0, 2, 3, 4, 6}, {0, 2, 3, 5, 6}, {0, 2, 4, 5, 6}, {0, 3, 4, 5, 6}, {1, 2, 3, 4, 5}, {1, 2, 3, 4, 6}, {1, 2, 3, 5, 6}, {1, 2, 4, 5, 6}, {1, 3, 4, 5, 6}, {2, 3, 4, 5, 6}, {0, 1, 2, 3, 4, 5}, {0, 1, 2, 3, 4, 6}, {0, 1, 2, 3, 5, 6}, {0, 1, 2, 4, 5, 6}, {0, 1, 3, 4, 5, 6}, {0, 2, 3, 4, 5, 6}, {1, 2, 3, 4, 5, 6}, {0, 1, 2, 3, 4, 5, 6}], values=[0, 1, 2, 3, 4, 5, 6])'\n",
      "Cpm(variables=['tp3', 'xp3', 'tp2'], no_child=1, C=[[0 1 0]\n",
      " [1 0 0]\n",
      " [1 1 1]\n",
      " [2 0 1]\n",
      " [2 1 2]\n",
      " [3 0 2]\n",
      " [3 1 3]\n",
      " [4 0 3]\n",
      " [4 1 4]\n",
      " [5 0 4]\n",
      " [5 1 5]\n",
      " [6 0 5]], p=[[1.]\n",
      " [1.]\n",
      " [1.]\n",
      " [1.]\n",
      " [1.]\n",
      " [1.]\n",
      " [1.]\n",
      " [1.]\n",
      " [1.]\n",
      " [1.]\n",
      " [1.]\n",
      " [1.]]\n"
     ]
    }
   ],
   "source": [
    "for i, x in enumerate(rep_pri):\n",
    "    name = 't'+x[1:]\n",
    "    vars[name] = variable.Variable( name=name, values=list(range(i+2)) )\n",
    "\n",
    "    if i < 1: # first element\n",
    "        cpms[name] = cpm.Cpm( variables = [vars[name], vars[x]], no_child = 1, C=np.array([[1,0], [0, 1]]), p=np.array([1,1]) )\n",
    "    else:\n",
    "        t_old_vars = vars[t_old].values\n",
    "\n",
    "        Cx = np.empty(shape=(0,3), dtype=int)\n",
    "        for v in t_old_vars:\n",
    "            Cx_new = [[v, 1, v], [v+1, 0, v]]\n",
    "            Cx = np.vstack( [Cx, Cx_new] )\n",
    "\n",
    "        cpms[name] = cpm.Cpm( variables = [vars[name], vars[x], vars[t_old]], no_child = 1, C=Cx, p=np.ones(shape=(2*len(t_old_vars)), dtype=np.float32) )\n",
    "\n",
    "    t_old = copy.deepcopy(name)\n",
    "\n",
    "\n",
    "print(vars['ts0'])\n",
    "print(cpms['ts0'])\n",
    "print(\" \")\n",
    "print(vars['tp3'])\n",
    "print(cpms['tp3'])"
   ]
  },
  {
   "cell_type": "markdown",
   "metadata": {},
   "source": [
    "## Closure time"
   ]
  },
  {
   "cell_type": "code",
   "execution_count": 6,
   "metadata": {},
   "outputs": [
    {
     "name": "stdout",
     "output_type": "stream",
     "text": [
      "[0, 1, 2]\n",
      "6\n"
     ]
    }
   ],
   "source": [
    "i=1\n",
    "name = 'cs' + str(i)\n",
    "vals = vars['ts'+str(i)].values\n",
    "#vars[name] = variable.Variable( name=name, values=vals )\n",
    "\n",
    "print(vals)\n",
    "\n",
    "st = vars['ts'+str(i)].B.index(set(vals))\n",
    "print(st)"
   ]
  },
  {
   "cell_type": "code",
   "execution_count": 7,
   "metadata": {},
   "outputs": [
    {
     "name": "stdout",
     "output_type": "stream",
     "text": [
      "'Variable(name=cs0, B=[{0}, {1}, {0, 1}], values=[0, 1])'\n",
      "Cpm(variables=['cs0', 'xs0', 'ts0'], no_child=1, C=[[0 1 2]\n",
      " [1 0 1]], p=[[1.]\n",
      " [1.]]\n",
      " \n",
      "'Variable(name=cp3, B=[{0}, {1}, {2}, {3}, {4}, {5}, {6}, {0, 1}, {0, 2}, {0, 3}, {0, 4}, {0, 5}, {0, 6}, {1, 2}, {1, 3}, {1, 4}, {1, 5}, {1, 6}, {2, 3}, {2, 4}, {2, 5}, {2, 6}, {3, 4}, {3, 5}, {3, 6}, {4, 5}, {4, 6}, {5, 6}, {0, 1, 2}, {0, 1, 3}, {0, 1, 4}, {0, 1, 5}, {0, 1, 6}, {0, 2, 3}, {0, 2, 4}, {0, 2, 5}, {0, 2, 6}, {0, 3, 4}, {0, 3, 5}, {0, 3, 6}, {0, 4, 5}, {0, 4, 6}, {0, 5, 6}, {1, 2, 3}, {1, 2, 4}, {1, 2, 5}, {1, 2, 6}, {1, 3, 4}, {1, 3, 5}, {1, 3, 6}, {1, 4, 5}, {1, 4, 6}, {1, 5, 6}, {2, 3, 4}, {2, 3, 5}, {2, 3, 6}, {2, 4, 5}, {2, 4, 6}, {2, 5, 6}, {3, 4, 5}, {3, 4, 6}, {3, 5, 6}, {4, 5, 6}, {0, 1, 2, 3}, {0, 1, 2, 4}, {0, 1, 2, 5}, {0, 1, 2, 6}, {0, 1, 3, 4}, {0, 1, 3, 5}, {0, 1, 3, 6}, {0, 1, 4, 5}, {0, 1, 4, 6}, {0, 1, 5, 6}, {0, 2, 3, 4}, {0, 2, 3, 5}, {0, 2, 3, 6}, {0, 2, 4, 5}, {0, 2, 4, 6}, {0, 2, 5, 6}, {0, 3, 4, 5}, {0, 3, 4, 6}, {0, 3, 5, 6}, {0, 4, 5, 6}, {1, 2, 3, 4}, {1, 2, 3, 5}, {1, 2, 3, 6}, {1, 2, 4, 5}, {1, 2, 4, 6}, {1, 2, 5, 6}, {1, 3, 4, 5}, {1, 3, 4, 6}, {1, 3, 5, 6}, {1, 4, 5, 6}, {2, 3, 4, 5}, {2, 3, 4, 6}, {2, 3, 5, 6}, {2, 4, 5, 6}, {3, 4, 5, 6}, {0, 1, 2, 3, 4}, {0, 1, 2, 3, 5}, {0, 1, 2, 3, 6}, {0, 1, 2, 4, 5}, {0, 1, 2, 4, 6}, {0, 1, 2, 5, 6}, {0, 1, 3, 4, 5}, {0, 1, 3, 4, 6}, {0, 1, 3, 5, 6}, {0, 1, 4, 5, 6}, {0, 2, 3, 4, 5}, {0, 2, 3, 4, 6}, {0, 2, 3, 5, 6}, {0, 2, 4, 5, 6}, {0, 3, 4, 5, 6}, {1, 2, 3, 4, 5}, {1, 2, 3, 4, 6}, {1, 2, 3, 5, 6}, {1, 2, 4, 5, 6}, {1, 3, 4, 5, 6}, {2, 3, 4, 5, 6}, {0, 1, 2, 3, 4, 5}, {0, 1, 2, 3, 4, 6}, {0, 1, 2, 3, 5, 6}, {0, 1, 2, 4, 5, 6}, {0, 1, 3, 4, 5, 6}, {0, 2, 3, 4, 5, 6}, {1, 2, 3, 4, 5, 6}, {0, 1, 2, 3, 4, 5, 6}], values=[0, 1, 2, 3, 4, 5, 6])'\n",
      "Cpm(variables=['cp3', 'xp3', 'tp3'], no_child=1, C=[[  0   1 126]\n",
      " [  1   0   1]\n",
      " [  2   0   2]\n",
      " [  3   0   3]\n",
      " [  4   0   4]\n",
      " [  5   0   5]\n",
      " [  6   0   6]], p=[[1.]\n",
      " [1.]\n",
      " [1.]\n",
      " [1.]\n",
      " [1.]\n",
      " [1.]\n",
      " [1.]]\n"
     ]
    }
   ],
   "source": [
    "for x in rep_pri:\n",
    "    name = 'c'+x[1:]\n",
    "    name_t = 't'+x[1:]\n",
    "    vals = vars[name_t].values\n",
    "    vars[name] = variable.Variable( name=name, values=vals )\n",
    "\n",
    "    ts_all = vars[name_t].B.index(set(vals))\n",
    "    Cx = np.array([[0, 1, ts_all]])\n",
    "    for v in vals:\n",
    "        if v > 0:\n",
    "            Cx = np.vstack((Cx, [v, 0, v]))\n",
    "\n",
    "    cpms[name] = cpm.Cpm( variables = [vars[name], vars[x], vars[name_t]], no_child = 1, C=Cx, p=np.ones(shape=(len(Cx),1), dtype=np.float32) )\n",
    "\n",
    "\n",
    "print(vars['cs0'])\n",
    "print(cpms['cs0'])\n",
    "print(\" \")\n",
    "print(vars['cp3'])\n",
    "print(cpms['cp3'])"
   ]
  },
  {
   "cell_type": "markdown",
   "metadata": {},
   "source": [
    "## Power cut time"
   ]
  },
  {
   "cell_type": "code",
   "execution_count": 8,
   "metadata": {},
   "outputs": [
    {
     "name": "stdout",
     "output_type": "stream",
     "text": [
      "Cpm(variables=['h0', 'cp0', 'cs0'], no_child=1, C=[[0 0 0]\n",
      " [1 1 2]\n",
      " [2 2 2]\n",
      " [3 3 2]\n",
      " [1 0 1]], p=[[1.]\n",
      " [1.]\n",
      " [1.]\n",
      " [1.]\n",
      " [1.]] 'Variable(name=h0, B=[{0}, {1}, {2}, {3}, {0, 1}, {0, 2}, {0, 3}, {1, 2}, {1, 3}, {2, 3}, {0, 1, 2}, {0, 1, 3}, {0, 2, 3}, {1, 2, 3}, {0, 1, 2, 3}], values=[0, 1, 2, 3])'\n",
      "\n",
      "Cpm(variables=['h1', 'cp1', 'cp0', 'cs0'], no_child=1, C=[[ 0  0  0  0]\n",
      " [ 1  1  4  2]\n",
      " [ 2  2 10  2]\n",
      " [ 3  3 14  2]\n",
      " [ 4  4 14  2]\n",
      " [ 1  0  1  2]\n",
      " [ 2  5  2  2]\n",
      " [ 3 15  3  2]\n",
      " [ 1  0  0  1]], p=[[1.]\n",
      " [1.]\n",
      " [1.]\n",
      " [1.]\n",
      " [1.]\n",
      " [1.]\n",
      " [1.]\n",
      " [1.]\n",
      " [1.]] 'Variable(name=h1, B=[{0}, {1}, {2}, {3}, {4}, {0, 1}, {0, 2}, {0, 3}, {0, 4}, {1, 2}, {1, 3}, {1, 4}, {2, 3}, {2, 4}, {3, 4}, {0, 1, 2}, {0, 1, 3}, {0, 1, 4}, {0, 2, 3}, {0, 2, 4}, {0, 3, 4}, {1, 2, 3}, {1, 2, 4}, {1, 3, 4}, {2, 3, 4}, {0, 1, 2, 3}, {0, 1, 2, 4}, {0, 1, 3, 4}, {0, 2, 3, 4}, {1, 2, 3, 4}, {0, 1, 2, 3, 4}], values=[0, 1, 2, 3, 4])'\n"
     ]
    }
   ],
   "source": [
    "# Example 1\n",
    "vars_p_h0 = [vars['cp0'], vars['cs0']]\n",
    "M_h0, v_h0 = quant.sys_max_val('h0', vars_p_h0)\n",
    "\n",
    "print(M_h0, v_h0)\n",
    "\n",
    "# Example 2\n",
    "vars_p_h1 = [vars['cp1'], vars['cp0'], vars['cs0']]\n",
    "M_h1, v_h1 = quant.sys_max_val('h1', vars_p_h1)\n",
    "\n",
    "print(\"\")\n",
    "print(M_h1, v_h1)"
   ]
  },
  {
   "cell_type": "code",
   "execution_count": 9,
   "metadata": {},
   "outputs": [],
   "source": [
    "cut_lin = {} # cut-set of link-sets for each house\n",
    "\n",
    "cut_lin['h0'] = [['cs0', 'cp0']]\n",
    "cut_lin['h1'] = [['cs0', 'cp0', 'cp1']]\n",
    "cut_lin['h2'] = [['cs0', 'cp2']]\n",
    "cut_lin['h3'] = [['cs0', 'cp2', 'cp3'], ['cs1','cp4']]\n",
    "cut_lin['h4'] = [['cs0', 'cp2', 'cp3', 'cp5'], ['cs1', 'cp4','cp5']]\n",
    "cut_lin['h5'] = [['cs1', 'cp6']]\n",
    "cut_lin['h6'] = [['cs1', 'cp6', 'cp7']]\n",
    "\n",
    "for h, sets in cut_lin.items():\n",
    "    if len(sets) == 1:              \n",
    "        vars_h = [vars[x] for x in sets[0]]\n",
    "\n",
    "        cpms[h], vars[h] = quant.sys_max_val( h, vars_h )\n",
    "        \n",
    "    else:\n",
    "        names_hs = [h+str(i) for i in range(len(sets))]\n",
    "        for h_i, s_i in zip(names_hs, sets):\n",
    "            vars_h_i = [vars[x] for x in s_i]\n",
    "\n",
    "            cpms[h_i], vars[h_i] = quant.sys_max_val( h_i, vars_h_i )\n",
    "            \n",
    "        vars_hs = [vars[n] for n in names_hs]\n",
    "        cpms[h], vars[h] = quant.sys_min_val( h, vars_hs )\n",
    "       "
   ]
  },
  {
   "cell_type": "code",
   "execution_count": 10,
   "metadata": {},
   "outputs": [
    {
     "name": "stdout",
     "output_type": "stream",
     "text": [
      "'Variable(name=h1, B=[{0}, {1}, {2}, {3}, {4}, {0, 1}, {0, 2}, {0, 3}, {0, 4}, {1, 2}, {1, 3}, {1, 4}, {2, 3}, {2, 4}, {3, 4}, {0, 1, 2}, {0, 1, 3}, {0, 1, 4}, {0, 2, 3}, {0, 2, 4}, {0, 3, 4}, {1, 2, 3}, {1, 2, 4}, {1, 3, 4}, {2, 3, 4}, {0, 1, 2, 3}, {0, 1, 2, 4}, {0, 1, 3, 4}, {0, 2, 3, 4}, {1, 2, 3, 4}, {0, 1, 2, 3, 4}], values=[0, 1, 2, 3, 4])'\n",
      "Cpm(variables=['h1', 'cs0', 'cp0', 'cp1'], no_child=1, C=[[ 0  0  0  0]\n",
      " [ 1  1  4  5]\n",
      " [ 1  0  1  5]\n",
      " [ 2  2  2 15]\n",
      " [ 3  2  3 25]\n",
      " [ 1  0  0  1]\n",
      " [ 2  2  4  2]\n",
      " [ 3  2 10  3]\n",
      " [ 4  2 14  4]], p=[[1.]\n",
      " [1.]\n",
      " [1.]\n",
      " [1.]\n",
      " [1.]\n",
      " [1.]\n",
      " [1.]\n",
      " [1.]\n",
      " [1.]]\n",
      "\n",
      "'Variable(name=h3, B=[{0}, {1}, {2}, {3}, {4}, {5}, {6}, {0, 1}, {0, 2}, {0, 3}, {0, 4}, {0, 5}, {0, 6}, {1, 2}, {1, 3}, {1, 4}, {1, 5}, {1, 6}, {2, 3}, {2, 4}, {2, 5}, {2, 6}, {3, 4}, {3, 5}, {3, 6}, {4, 5}, {4, 6}, {5, 6}, {0, 1, 2}, {0, 1, 3}, {0, 1, 4}, {0, 1, 5}, {0, 1, 6}, {0, 2, 3}, {0, 2, 4}, {0, 2, 5}, {0, 2, 6}, {0, 3, 4}, {0, 3, 5}, {0, 3, 6}, {0, 4, 5}, {0, 4, 6}, {0, 5, 6}, {1, 2, 3}, {1, 2, 4}, {1, 2, 5}, {1, 2, 6}, {1, 3, 4}, {1, 3, 5}, {1, 3, 6}, {1, 4, 5}, {1, 4, 6}, {1, 5, 6}, {2, 3, 4}, {2, 3, 5}, {2, 3, 6}, {2, 4, 5}, {2, 4, 6}, {2, 5, 6}, {3, 4, 5}, {3, 4, 6}, {3, 5, 6}, {4, 5, 6}, {0, 1, 2, 3}, {0, 1, 2, 4}, {0, 1, 2, 5}, {0, 1, 2, 6}, {0, 1, 3, 4}, {0, 1, 3, 5}, {0, 1, 3, 6}, {0, 1, 4, 5}, {0, 1, 4, 6}, {0, 1, 5, 6}, {0, 2, 3, 4}, {0, 2, 3, 5}, {0, 2, 3, 6}, {0, 2, 4, 5}, {0, 2, 4, 6}, {0, 2, 5, 6}, {0, 3, 4, 5}, {0, 3, 4, 6}, {0, 3, 5, 6}, {0, 4, 5, 6}, {1, 2, 3, 4}, {1, 2, 3, 5}, {1, 2, 3, 6}, {1, 2, 4, 5}, {1, 2, 4, 6}, {1, 2, 5, 6}, {1, 3, 4, 5}, {1, 3, 4, 6}, {1, 3, 5, 6}, {1, 4, 5, 6}, {2, 3, 4, 5}, {2, 3, 4, 6}, {2, 3, 5, 6}, {2, 4, 5, 6}, {3, 4, 5, 6}, {0, 1, 2, 3, 4}, {0, 1, 2, 3, 5}, {0, 1, 2, 3, 6}, {0, 1, 2, 4, 5}, {0, 1, 2, 4, 6}, {0, 1, 2, 5, 6}, {0, 1, 3, 4, 5}, {0, 1, 3, 4, 6}, {0, 1, 3, 5, 6}, {0, 1, 4, 5, 6}, {0, 2, 3, 4, 5}, {0, 2, 3, 4, 6}, {0, 2, 3, 5, 6}, {0, 2, 4, 5, 6}, {0, 3, 4, 5, 6}, {1, 2, 3, 4, 5}, {1, 2, 3, 4, 6}, {1, 2, 3, 5, 6}, {1, 2, 4, 5, 6}, {1, 3, 4, 5, 6}, {2, 3, 4, 5, 6}, {0, 1, 2, 3, 4, 5}, {0, 1, 2, 3, 4, 6}, {0, 1, 2, 3, 5, 6}, {0, 1, 2, 4, 5, 6}, {0, 1, 3, 4, 5, 6}, {0, 2, 3, 4, 5, 6}, {1, 2, 3, 4, 5, 6}, {0, 1, 2, 3, 4, 5, 6}], values=[0, 1, 2, 3, 4, 5, 6])'\n",
      "Cpm(variables=['h3', 'h30', 'h31'], no_child=1, C=[[  0   0 254]\n",
      " [  1   1 253]\n",
      " [  2   2 245]\n",
      " [  3   3 217]\n",
      " [  4   4 161]\n",
      " [  5   5  91]\n",
      " [  6   6  35]\n",
      " [  0 125   0]\n",
      " [  1 118   1]\n",
      " [  2  97   2]\n",
      " [  3  62   3]\n",
      " [  4  27   4]\n",
      " [  5   6   5]], p=[[1.]\n",
      " [1.]\n",
      " [1.]\n",
      " [1.]\n",
      " [1.]\n",
      " [1.]\n",
      " [1.]\n",
      " [1.]\n",
      " [1.]\n",
      " [1.]\n",
      " [1.]\n",
      " [1.]\n",
      " [1.]]\n",
      "\n",
      "'Variable(name=h30, B=[{0}, {1}, {2}, {3}, {4}, {5}, {6}, {0, 1}, {0, 2}, {0, 3}, {0, 4}, {0, 5}, {0, 6}, {1, 2}, {1, 3}, {1, 4}, {1, 5}, {1, 6}, {2, 3}, {2, 4}, {2, 5}, {2, 6}, {3, 4}, {3, 5}, {3, 6}, {4, 5}, {4, 6}, {5, 6}, {0, 1, 2}, {0, 1, 3}, {0, 1, 4}, {0, 1, 5}, {0, 1, 6}, {0, 2, 3}, {0, 2, 4}, {0, 2, 5}, {0, 2, 6}, {0, 3, 4}, {0, 3, 5}, {0, 3, 6}, {0, 4, 5}, {0, 4, 6}, {0, 5, 6}, {1, 2, 3}, {1, 2, 4}, {1, 2, 5}, {1, 2, 6}, {1, 3, 4}, {1, 3, 5}, {1, 3, 6}, {1, 4, 5}, {1, 4, 6}, {1, 5, 6}, {2, 3, 4}, {2, 3, 5}, {2, 3, 6}, {2, 4, 5}, {2, 4, 6}, {2, 5, 6}, {3, 4, 5}, {3, 4, 6}, {3, 5, 6}, {4, 5, 6}, {0, 1, 2, 3}, {0, 1, 2, 4}, {0, 1, 2, 5}, {0, 1, 2, 6}, {0, 1, 3, 4}, {0, 1, 3, 5}, {0, 1, 3, 6}, {0, 1, 4, 5}, {0, 1, 4, 6}, {0, 1, 5, 6}, {0, 2, 3, 4}, {0, 2, 3, 5}, {0, 2, 3, 6}, {0, 2, 4, 5}, {0, 2, 4, 6}, {0, 2, 5, 6}, {0, 3, 4, 5}, {0, 3, 4, 6}, {0, 3, 5, 6}, {0, 4, 5, 6}, {1, 2, 3, 4}, {1, 2, 3, 5}, {1, 2, 3, 6}, {1, 2, 4, 5}, {1, 2, 4, 6}, {1, 2, 5, 6}, {1, 3, 4, 5}, {1, 3, 4, 6}, {1, 3, 5, 6}, {1, 4, 5, 6}, {2, 3, 4, 5}, {2, 3, 4, 6}, {2, 3, 5, 6}, {2, 4, 5, 6}, {3, 4, 5, 6}, {0, 1, 2, 3, 4}, {0, 1, 2, 3, 5}, {0, 1, 2, 3, 6}, {0, 1, 2, 4, 5}, {0, 1, 2, 4, 6}, {0, 1, 2, 5, 6}, {0, 1, 3, 4, 5}, {0, 1, 3, 4, 6}, {0, 1, 3, 5, 6}, {0, 1, 4, 5, 6}, {0, 2, 3, 4, 5}, {0, 2, 3, 4, 6}, {0, 2, 3, 5, 6}, {0, 2, 4, 5, 6}, {0, 3, 4, 5, 6}, {1, 2, 3, 4, 5}, {1, 2, 3, 4, 6}, {1, 2, 3, 5, 6}, {1, 2, 4, 5, 6}, {1, 3, 4, 5, 6}, {2, 3, 4, 5, 6}, {0, 1, 2, 3, 4, 5}, {0, 1, 2, 3, 4, 6}, {0, 1, 2, 3, 5, 6}, {0, 1, 2, 4, 5, 6}, {0, 1, 3, 4, 5, 6}, {0, 2, 3, 4, 5, 6}, {1, 2, 3, 4, 5, 6}, {0, 1, 2, 3, 4, 5, 6}], values=[0, 1, 2, 3, 4, 5, 6])'\n",
      "Cpm(variables=['h30', 'cs0', 'cp2', 'cp3'], no_child=1, C=[[  0   0   0   0]\n",
      " [  1   1   6   7]\n",
      " [  1   0   1   7]\n",
      " [  2   2   2  28]\n",
      " [  3   2   3  63]\n",
      " [  4   2   4  98]\n",
      " [  5   2   5 119]\n",
      " [  1   0   0   1]\n",
      " [  2   2   6   2]\n",
      " [  3   2  21   3]\n",
      " [  4   2  41   4]\n",
      " [  5   2  56   5]\n",
      " [  6   2  62   6]], p=[[1.]\n",
      " [1.]\n",
      " [1.]\n",
      " [1.]\n",
      " [1.]\n",
      " [1.]\n",
      " [1.]\n",
      " [1.]\n",
      " [1.]\n",
      " [1.]\n",
      " [1.]\n",
      " [1.]\n",
      " [1.]]\n"
     ]
    }
   ],
   "source": [
    "print(vars['h1'])\n",
    "print(cpms['h1'])\n",
    "\n",
    "print(\"\")\n",
    "print(vars['h3'])\n",
    "print(cpms['h3'])\n",
    "\n",
    "print(\"\")\n",
    "print(vars['h30'])\n",
    "print(cpms['h30'])"
   ]
  },
  {
   "cell_type": "markdown",
   "metadata": {},
   "source": [
    "# Inference\n",
    "\n",
    "We apply conditioning on $H$ and variable elimination (VE) on other variables. For VE, we need to decide elimination order as $S_0$ &rarr; $T_0^S$ &rarr; $C^S_0$ &rarr; $S_1$ &rarr; $T_1^S$ &rarr; $C^S_1$ &rarr; $P_0$ &rarr; ... &rarr; $C_7^P$ &rarr; $H_0$ &rarr; $H_1$ &rarr; ... &rarr; $H_6$. "
   ]
  },
  {
   "cell_type": "code",
   "execution_count": 11,
   "metadata": {},
   "outputs": [
    {
     "name": "stdout",
     "output_type": "stream",
     "text": [
      "['haz', 'xs0', 'ts0', 'cs0', 'xs1', 'ts1', 'xp0', 'tp0', 'cp0', 'h0']\n",
      "['haz', 'xs0', 'ts0', 'cs0', 'xs1', 'ts1', 'xp0', 'tp0', 'cp0', 'xp1', 'tp1', 'cp1', 'h0', 'h1']\n"
     ]
    }
   ],
   "source": [
    "n_hou = len(cut_lin)\n",
    "\n",
    "VE_ord= ['haz']\n",
    "for x in rep_pri:\n",
    "    VE_ord.append(x)\n",
    "    VE_ord.append('t'+x[1:])\n",
    "    VE_ord.append('c'+x[1:])\n",
    "VE_ord += ['h'+str(i) for i in range(n_hou)]"
   ]
  },
  {
   "cell_type": "markdown",
   "metadata": {},
   "source": [
    "Then, if we want to obtain the marginal distribution of $H_n$, $P(H_n)$ by summing out all other variables, we only need to consider those variables that are (grand, great grand, etc.) parents of $H_n$. \n",
    "\n",
    "For example, in case of $H_0$, we have those relevant variables as marked blue in the figure below:\n",
    "<figure>\n",
    "<img src=\"img/power_house_bn_h0.png\" style=\"width:400px\">\n",
    "</figure>\n",
    "\n",
    "The set of those relevant variables can be obtained using the function <span style=\"font-family:Consolas;\">cpm.get_inf_vars</span>, as shown in the code below:"
   ]
  },
  {
   "cell_type": "code",
   "execution_count": 14,
   "metadata": {},
   "outputs": [
    {
     "name": "stdout",
     "output_type": "stream",
     "text": [
      "['haz', 'xs0', 'ts0', 'cs0', 'xs1', 'ts1', 'xp0', 'tp0', 'cp0', 'h0']\n",
      "['haz', 'xs0', 'ts0', 'cs0', 'xs1', 'ts1', 'xp0', 'tp0', 'cp0', 'xp1', 'tp1', 'cp1', 'h0', 'h1']\n"
     ]
    }
   ],
   "source": [
    "# Example 1\n",
    "h_star1 = ['h0']\n",
    "vars_inf1 = cpm.get_inf_vars( h_star1, cpms, VE_ord )\n",
    "print(vars_inf1)\n",
    "\n",
    "# Example 2\n",
    "h_star2 = ['h0','h1']\n",
    "vars_inf2 = cpm.get_inf_vars( h_star2, cpms, VE_ord )\n",
    "print(vars_inf2)"
   ]
  },
  {
   "cell_type": "markdown",
   "metadata": {},
   "source": [
    "Now we perform inference.\n",
    "\n",
    "Below, we calcualte $P(H_0)$ by first obtaining an inference scope (i.e. variables to consider) using <span style=\"font-family:Consolas;\">cpm.get_inf_vars</span> and executing the conditioning-VE algorithm by <span style=\"font-family:Consolas;\">cpm.cal_Msys_by_cond_VE</span>."
   ]
  },
  {
   "cell_type": "code",
   "execution_count": 12,
   "metadata": {},
   "outputs": [
    {
     "name": "stdout",
     "output_type": "stream",
     "text": [
      "Cpm(variables=['h0'], no_child=1, C=[[0]\n",
      " [1]\n",
      " [2]\n",
      " [3]], p=[[9.38020500e-01]\n",
      " [5.34575025e-02]\n",
      " [7.92099500e-03]\n",
      " [6.01002500e-04]]\n",
      "[1.]\n"
     ]
    }
   ],
   "source": [
    "cond_names = ['haz']\n",
    "\n",
    "# H0\n",
    "vars_inf_h0 = cpm.get_inf_vars( ['h0'], cpms, VE_ord )\n",
    "ve_names = [x for x in vars_inf_h0 if x not in cond_names]\n",
    "\n",
    "Msys_h0 = cpm.cal_Msys_by_cond_VE( cpms, vars, cond_names, ve_names, 'h0' )\n",
    "print(Msys_h0)\n",
    "print(sum(Msys_h0.p))"
   ]
  },
  {
   "cell_type": "markdown",
   "metadata": {},
   "source": [
    "We now calculate $P(H_6)$, which takes much longer than $H_0$ (in my desktop, it takes 30 seconds). This is because we now have more variables to consider because $T_7^P$ is in the last priority of repair, and thus all $T_x$ becomes relevant. The variables in the inference scope are marked below in the figure below:\n",
    "<figure>\n",
    "<img src=\"img/power_house_bn_h6.png\" style=\"width:400px\">\n",
    "</figure>\n",
    "\n",
    "One might consider applying sampling instead of the applied exact inference for faster calculation or a larger number of components (i.e. substations and poles)."
   ]
  },
  {
   "cell_type": "code",
   "execution_count": 13,
   "metadata": {},
   "outputs": [
    {
     "name": "stdout",
     "output_type": "stream",
     "text": [
      "Cpm(variables=['h6'], no_child=1, C=[[ 0]\n",
      " [ 1]\n",
      " [ 2]\n",
      " [ 3]\n",
      " [ 4]\n",
      " [ 5]\n",
      " [ 6]\n",
      " [ 7]\n",
      " [ 8]\n",
      " [ 9]\n",
      " [10]], p=[[8.46012488e-01]\n",
      " [8.37913635e-02]\n",
      " [3.87747064e-02]\n",
      " [2.13166722e-02]\n",
      " [7.92699644e-03]\n",
      " [1.86292686e-03]\n",
      " [2.84743240e-04]\n",
      " [2.82798049e-05]\n",
      " [1.76064092e-06]\n",
      " [6.24000037e-08]\n",
      " [9.60000006e-10]]\n",
      "[1.]\n"
     ]
    }
   ],
   "source": [
    "# H7\n",
    "vars_inf_h6 = cpm.get_inf_vars( ['h6'], cpms, VE_ord )\n",
    "ve_names = [x for x in vars_inf_h6 if x not in cond_names]\n",
    "\n",
    "Msys_h6 = cpm.cal_Msys_by_cond_VE( cpms, vars, cond_names, ve_names, 'h6' )\n",
    "print(Msys_h6)\n",
    "print(sum(Msys_h6.p))"
   ]
  }
 ],
 "metadata": {
  "kernelspec": {
   "display_name": "bns",
   "language": "python",
   "name": "python3"
  },
  "language_info": {
   "codemirror_mode": {
    "name": "ipython",
    "version": 3
   },
   "file_extension": ".py",
   "mimetype": "text/x-python",
   "name": "python",
   "nbconvert_exporter": "python",
   "pygments_lexer": "ipython3",
   "version": "3.11.0"
  }
 },
 "nbformat": 4,
 "nbformat_minor": 2
}
