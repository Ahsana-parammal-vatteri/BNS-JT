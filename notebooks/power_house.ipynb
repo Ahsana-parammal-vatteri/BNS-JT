{
 "cells": [
  {
   "cell_type": "code",
   "execution_count": 2,
   "metadata": {},
   "outputs": [],
   "source": [
    "import sys\n",
    "import numpy as np\n",
    "import random\n",
    "import copy\n",
    "\n",
    "random.seed(10)\n",
    "\n",
    "# mbnpy toolkit\n",
    "sys.path.append(r\"C:\\Users\\jb622s\\git\\BNS-JT\\BNS_JT\") \n",
    "from BNS_JT import cpm, variable"
   ]
  },
  {
   "cell_type": "markdown",
   "metadata": {},
   "source": [
    "# Problem\n",
    "## System\n",
    "<figure>\n",
    "<img src=\"img/house_power_prob.png\" style=\"width:400px\">\n",
    "</figure>\n",
    "\n",
    "The system consists of two power substations $S_0$ and $S_1$, eight transmission line poles $P_0$, ..., $P_7$, and seven houses $H_0$, ..., $H_6$. The substations and poles may fail being subjected to hazard scenarios $H$. Once a hazard event occurs, repair works will take place with priorities $S_0$ &rarr; $S_1$ &rarr; $P_0$ &rarr; $P_1$ &rarr; ... &rarr; $P_6$. The works are done only for failed components, and repairing a component takes a day.\n",
    "\n",
    "Of interest is the expected number of days of power cut for each house. A house has power when the substation and poles it is connected to all survive. For example, $H_0$ has access to power if $S_0$ and $P_0$ are both in operation, while $H_1$ does if $S_0$, $P_0$, and $P_1$ are all in operation. We note that houses $H_3$ and $H_4$ have access to both substations and get power when either of the two link-sets is available. For example, $H_3$ has power either $S_0$, $P_2$, and $P_3$ work together or $S_1$ and $P_4$ are in operation.\n",
    "\n",
    "## Bayesian network (BN) graph\n",
    "The BN graph can be set up as below:\n",
    "<figure>\n",
    "<img src=\"img/power_house_bn.PNG\" style=\"width:400px\">\n",
    "</figure>\n",
    " \n",
    "The hazard node $H$ affects damage states of components, $S_0$, $S_1$, $P_0$, ..., $P_7$. Then, damage state of a component $X$ decides the rapair timing (i.e. how many days after a hazard occurrence) of a corresponding component, $T^X$. $T^X$ is also affected by the timing of the component right before in the repair priority, e.g. $T_1^S$ is dependent on $T^S_0$ as $S_0$ is right before $S_1$ in the repair priority. Then, actual closure time of each component, $C^X$ is decided by the corresponding damage state $X$ and $T^X$. That is, if $X$ has failed, then the closure time is the same as $T^X$, while if it is not, the closure time is zero. Finally, each house's duration of power cut, represneted by $H_0$, ..., $H_7$, is decided by the closure duration of components constituting their link-sets. For example, as aforementioned, teh first house has $S_0$ and $P_0$ in its link set, and therefore the node $H_0$ is connected to $C_0^S$ and $C^P_0$.\n",
    "\n",
    "In the graph, random variables are represented by single border, while deterministic variables are represented by double border. "
   ]
  },
  {
   "cell_type": "markdown",
   "metadata": {},
   "source": [
    "# Modelling\n",
    "\n",
    "## Hazard scenarios"
   ]
  },
  {
   "cell_type": "code",
   "execution_count": 3,
   "metadata": {},
   "outputs": [
    {
     "name": "stdout",
     "output_type": "stream",
     "text": [
      "\"Variable(name=haz, B=[{0}, {1}, {2}, {0, 1}, {0, 2}, {1, 2}, {0, 1, 2}], values=['mild', 'medi', 'inte'])\"\n",
      "Cpm(variables=['haz'], no_child=1, C=[[0]\n",
      " [1]\n",
      " [2]], p=[[0.5]\n",
      " [0.2]\n",
      " [0.3]]\n"
     ]
    }
   ],
   "source": [
    "cpms={}\n",
    "vars={}\n",
    "\n",
    "vars['haz'] = variable.Variable( name='haz', values=['mild','medi','inte'] ) # values=(mild, medium, intense)\n",
    "cpms['haz'] = cpm.Cpm( variables=[vars['haz']], no_child=1, C=np.array([0,1,2]), p=[0.5,0.2,0.3] )\n",
    "\n",
    "print(vars['haz'])\n",
    "print(cpms['haz'])\n"
   ]
  },
  {
   "cell_type": "markdown",
   "metadata": {},
   "source": [
    "## Structural damage"
   ]
  },
  {
   "cell_type": "code",
   "execution_count": 4,
   "metadata": {},
   "outputs": [],
   "source": [
    "# Substations\n",
    "n_subs = 2\n",
    "for i in range(n_subs):\n",
    "    name = 'xs' + str(i)\n",
    "    vars[name] = variable.Variable( name=name, values=['fail','surv'] ) # values=(failure, survival)\n",
    "    cpms[name] = cpm.Cpm( variables = [vars[name], vars['haz']], no_child = 1,\n",
    "                      C=np.array([[0,0], [1,0], [0,1], [1,1], [0,2], [1,2]]) )\n",
    "\n",
    "cpms['xs0'].p = np.array([0.001, 0.999, 0.01, 0.99, 0.1, 0.9])\n",
    "cpms['xs1'].p = np.array([0.005, 0.995, 0.05, 0.95, 0.2, 0.8])\n",
    "\n",
    "# Poles\n",
    "n_pole = 8\n",
    "for i in range(n_pole):\n",
    "    name = 'xp' + str(i)\n",
    "    vars[name] = variable.Variable( name=name, values=['fail','surv'] ) # values=(failure, survival)\n",
    "    cpms[name] = cpm.Cpm( variables = [vars[name], vars['haz']], no_child = 1,\n",
    "                      C=np.array([[0,0], [1,0], [0,1], [1,1], [0,2], [1,2]]) )\n",
    "    \n",
    "    if i in [0,2,4,6]:\n",
    "        cpms[name].p = np.array([0.001, 0.999, 0.01, 0.99, 0.1, 0.9])\n",
    "    else:\n",
    "        cpms[name].p = np.array([0.005, 0.995, 0.05, 0.95, 0.2, 0.8])\n"
   ]
  },
  {
   "cell_type": "markdown",
   "metadata": {},
   "source": [
    "## Repair timing"
   ]
  },
  {
   "cell_type": "code",
   "execution_count": 6,
   "metadata": {},
   "outputs": [
    {
     "name": "stdout",
     "output_type": "stream",
     "text": [
      "['xs0', 'xs1', 'xp0', 'xp1', 'xp2', 'xp3', 'xp4', 'xp5', 'xp6', 'xp7']\n"
     ]
    }
   ],
   "source": [
    "max_ct = n_subs + n_pole \n",
    "\n",
    "# Repair priority\n",
    "rep_pri = ['xs' + str(i) for i in range(n_subs)] + ['xp' + str(i) for i in range(n_pole)] # repair priority\n",
    "\n",
    "print(rep_pri)\n"
   ]
  },
  {
   "cell_type": "code",
   "execution_count": 7,
   "metadata": {},
   "outputs": [
    {
     "name": "stdout",
     "output_type": "stream",
     "text": [
      "'Variable(name=ts0, B=[{0}, {1}, {0, 1}], values=[0, 1])'\n",
      "Cpm(variables=['ts0', 'xs0'], no_child=1, C=[[1 0]\n",
      " [0 1]], p=[[1]\n",
      " [1]]\n",
      " \n",
      "'Variable(name=tp3, B=[{0}, {1}, {2}, {3}, {4}, {5}, {6}, {0, 1}, {0, 2}, {0, 3}, {0, 4}, {0, 5}, {0, 6}, {1, 2}, {1, 3}, {1, 4}, {1, 5}, {1, 6}, {2, 3}, {2, 4}, {2, 5}, {2, 6}, {3, 4}, {3, 5}, {3, 6}, {4, 5}, {4, 6}, {5, 6}, {0, 1, 2}, {0, 1, 3}, {0, 1, 4}, {0, 1, 5}, {0, 1, 6}, {0, 2, 3}, {0, 2, 4}, {0, 2, 5}, {0, 2, 6}, {0, 3, 4}, {0, 3, 5}, {0, 3, 6}, {0, 4, 5}, {0, 4, 6}, {0, 5, 6}, {1, 2, 3}, {1, 2, 4}, {1, 2, 5}, {1, 2, 6}, {1, 3, 4}, {1, 3, 5}, {1, 3, 6}, {1, 4, 5}, {1, 4, 6}, {1, 5, 6}, {2, 3, 4}, {2, 3, 5}, {2, 3, 6}, {2, 4, 5}, {2, 4, 6}, {2, 5, 6}, {3, 4, 5}, {3, 4, 6}, {3, 5, 6}, {4, 5, 6}, {0, 1, 2, 3}, {0, 1, 2, 4}, {0, 1, 2, 5}, {0, 1, 2, 6}, {0, 1, 3, 4}, {0, 1, 3, 5}, {0, 1, 3, 6}, {0, 1, 4, 5}, {0, 1, 4, 6}, {0, 1, 5, 6}, {0, 2, 3, 4}, {0, 2, 3, 5}, {0, 2, 3, 6}, {0, 2, 4, 5}, {0, 2, 4, 6}, {0, 2, 5, 6}, {0, 3, 4, 5}, {0, 3, 4, 6}, {0, 3, 5, 6}, {0, 4, 5, 6}, {1, 2, 3, 4}, {1, 2, 3, 5}, {1, 2, 3, 6}, {1, 2, 4, 5}, {1, 2, 4, 6}, {1, 2, 5, 6}, {1, 3, 4, 5}, {1, 3, 4, 6}, {1, 3, 5, 6}, {1, 4, 5, 6}, {2, 3, 4, 5}, {2, 3, 4, 6}, {2, 3, 5, 6}, {2, 4, 5, 6}, {3, 4, 5, 6}, {0, 1, 2, 3, 4}, {0, 1, 2, 3, 5}, {0, 1, 2, 3, 6}, {0, 1, 2, 4, 5}, {0, 1, 2, 4, 6}, {0, 1, 2, 5, 6}, {0, 1, 3, 4, 5}, {0, 1, 3, 4, 6}, {0, 1, 3, 5, 6}, {0, 1, 4, 5, 6}, {0, 2, 3, 4, 5}, {0, 2, 3, 4, 6}, {0, 2, 3, 5, 6}, {0, 2, 4, 5, 6}, {0, 3, 4, 5, 6}, {1, 2, 3, 4, 5}, {1, 2, 3, 4, 6}, {1, 2, 3, 5, 6}, {1, 2, 4, 5, 6}, {1, 3, 4, 5, 6}, {2, 3, 4, 5, 6}, {0, 1, 2, 3, 4, 5}, {0, 1, 2, 3, 4, 6}, {0, 1, 2, 3, 5, 6}, {0, 1, 2, 4, 5, 6}, {0, 1, 3, 4, 5, 6}, {0, 2, 3, 4, 5, 6}, {1, 2, 3, 4, 5, 6}, {0, 1, 2, 3, 4, 5, 6}], values=[0, 1, 2, 3, 4, 5, 6])'\n",
      "Cpm(variables=['tp3', 'xp3', 'tp2'], no_child=1, C=[[0 1 0]\n",
      " [1 0 0]\n",
      " [1 1 1]\n",
      " [2 0 1]\n",
      " [2 1 2]\n",
      " [3 0 2]\n",
      " [3 1 3]\n",
      " [4 0 3]\n",
      " [4 1 4]\n",
      " [5 0 4]\n",
      " [5 1 5]\n",
      " [6 0 5]], p=[[1.]\n",
      " [1.]\n",
      " [1.]\n",
      " [1.]\n",
      " [1.]\n",
      " [1.]\n",
      " [1.]\n",
      " [1.]\n",
      " [1.]\n",
      " [1.]\n",
      " [1.]\n",
      " [1.]]\n"
     ]
    }
   ],
   "source": [
    "for i, x in enumerate(rep_pri):\n",
    "    name = 't'+x[1:]\n",
    "    vars[name] = variable.Variable( name=name, values=list(range(i+2)) )\n",
    "\n",
    "    if i < 1: # first element\n",
    "        cpms[name] = cpm.Cpm( variables = [vars[name], vars[x]], no_child = 1, C=np.array([[1,0], [0, 1]]), p=np.array([1,1]) )\n",
    "    else:\n",
    "        t_old_vars = vars[t_old].values\n",
    "\n",
    "        Cx = np.empty(shape=(0,3), dtype=int)\n",
    "        for v in t_old_vars:\n",
    "            Cx_new = [[v, 1, v], [v+1, 0, v]]\n",
    "            Cx = np.vstack( [Cx, Cx_new] )\n",
    "\n",
    "        cpms[name] = cpm.Cpm( variables = [vars[name], vars[x], vars[t_old]], no_child = 1, C=Cx, p=np.ones(shape=(2*len(t_old_vars)), dtype=np.float32) )\n",
    "\n",
    "    t_old = copy.deepcopy(name)\n",
    "\n",
    "\n",
    "print(vars['ts0'])\n",
    "print(cpms['ts0'])\n",
    "print(\" \")\n",
    "print(vars['tp3'])\n",
    "print(cpms['tp3'])"
   ]
  },
  {
   "cell_type": "markdown",
   "metadata": {},
   "source": [
    "## Closure time"
   ]
  },
  {
   "cell_type": "code",
   "execution_count": null,
   "metadata": {},
   "outputs": [],
   "source": [
    "#### 070324"
   ]
  },
  {
   "cell_type": "markdown",
   "metadata": {},
   "source": [
    "## Power cut time"
   ]
  },
  {
   "cell_type": "code",
   "execution_count": 6,
   "metadata": {},
   "outputs": [],
   "source": [
    "def get_C_max_val( vars_p ):\n",
    "\n",
    "    def get_mv( var ): # get maximum values\n",
    "        return max(var.values)\n",
    "    \n",
    "    vars_p.sort(key=get_mv) # sort variables with a lower maximum value (to minimise # of C's rows)\n",
    "\n",
    "    C_new = np.empty(shape=(0,1+len(vars_p)), dtype='int32') # var: [X] + vars_p\n",
    "    vals_new = []\n",
    "    for i, p in enumerate(vars_p):\n",
    "        vs_p = copy.deepcopy( vars_p[i].values )\n",
    "        vs_p.sort()\n",
    "        \n",
    "        for v in vs_p:\n",
    "            c_i = np.zeros(shape=(1,1+len(vars_p)), dtype='int32')\n",
    "            c_i[0][i+1] = p.values.index(v)\n",
    "\n",
    "            add = True\n",
    "            for i2, p2 in enumerate(vars_p):\n",
    "                if i != i2:\n",
    "                    if i2 < i:\n",
    "                        vs_i2 = {y for y, z in enumerate(p2.values) if z < v}\n",
    "\n",
    "                    if i2 > i:\n",
    "                        vs_i2 = {y for y, z in enumerate(p2.values) if z <= v}\n",
    "                        \n",
    "\n",
    "                    if len(vs_i2) < 1:\n",
    "                        add = False\n",
    "                        break\n",
    "                    else:\n",
    "                        st_i2 = p2.B.index(vs_i2)\n",
    "                        c_i[0][i2+1] = st_i2\n",
    "\n",
    "            if add:\n",
    "                if v not in vals_new:\n",
    "                    vals_new.append(v)\n",
    "                c_i[0][0] = vals_new.index(v)\n",
    "                C_new = np.vstack([C_new, c_i])\n",
    "\n",
    "    return C_new, vals_new"
   ]
  },
  {
   "cell_type": "code",
   "execution_count": 7,
   "metadata": {},
   "outputs": [
    {
     "name": "stdout",
     "output_type": "stream",
     "text": [
      "[[0 0 0]\n",
      " [1 1 4]\n",
      " [1 0 1]\n",
      " [2 2 2]\n",
      " [3 2 3]] [0, 1, 2, 3]\n",
      "[[ 0  0  0  0]\n",
      " [ 1  1  4  5]\n",
      " [ 1  0  1  5]\n",
      " [ 2  2  2 15]\n",
      " [ 3  2  3 25]\n",
      " [ 1  0  0  1]\n",
      " [ 2  2  4  2]\n",
      " [ 3  2 10  3]\n",
      " [ 4  2 14  4]] [0, 1, 2, 3, 4]\n"
     ]
    }
   ],
   "source": [
    "# Example 1\n",
    "vars_p_h0 = [vars['tp0'], vars['ts0']]\n",
    "C_h0, vals_h0 = get_C_max_val(vars_p_h0)\n",
    "\n",
    "print(C_h0, vals_h0)\n",
    "\n",
    "# Example 2\n",
    "vars_p_h1 = [vars['tp1'], vars['tp0'], vars['ts0']]\n",
    "C_h1, vals_h1 = get_C_max_val(vars_p_h1)\n",
    "\n",
    "print(C_h1, vals_h1)"
   ]
  },
  {
   "cell_type": "code",
   "execution_count": 8,
   "metadata": {},
   "outputs": [],
   "source": [
    "def get_C_min_val( vars_p ):\n",
    "\n",
    "    def get_mv( var ): # get maximum values\n",
    "        return max(var.values)\n",
    "    \n",
    "    vars_p.sort(key=get_mv) # sort variables with a lower maximum value (to minimise # of C's rows)\n",
    "\n",
    "    C_new = np.empty(shape=(0,1+len(vars_p)), dtype='int32') # var: [X] + vars_p\n",
    "    vals_new = []\n",
    "    for i, p in enumerate(vars_p):\n",
    "        vs_p = copy.deepcopy( vars_p[i].values )\n",
    "        vs_p.sort()\n",
    "        \n",
    "        for v in vs_p:\n",
    "            c_i = np.zeros(shape=(1,1+len(vars_p)), dtype='int32')\n",
    "            c_i[0][i+1] = p.values.index(v)\n",
    "\n",
    "            add = True\n",
    "            for i2, p2 in enumerate(vars_p):\n",
    "                if i != i2:\n",
    "                    if i2 < i:\n",
    "                        vs_i2 = {y for y, z in enumerate(p2.values) if z > v}\n",
    "\n",
    "                    if i2 > i:\n",
    "                        vs_i2 = {y for y, z in enumerate(p2.values) if z >= v}\n",
    "                        \n",
    "\n",
    "                    if len(vs_i2) < 1:\n",
    "                        add = False\n",
    "                        break\n",
    "                    else:\n",
    "                        st_i2 = p2.B.index(vs_i2)\n",
    "                        c_i[0][i2+1] = st_i2\n",
    "\n",
    "            if add:\n",
    "                if v not in vals_new:\n",
    "                    vals_new.append(v)\n",
    "                c_i[0][0] = vals_new.index(v)\n",
    "                C_new = np.vstack([C_new, c_i])\n",
    "\n",
    "    return C_new, vals_new"
   ]
  },
  {
   "cell_type": "code",
   "execution_count": 9,
   "metadata": {},
   "outputs": [
    {
     "name": "stdout",
     "output_type": "stream",
     "text": [
      "[[ 0  0 14]\n",
      " [ 1  1 13]\n",
      " [ 0  1  0]] [0, 1]\n",
      "[[ 0  0 14 30]\n",
      " [ 1  1 13 29]\n",
      " [ 0  1  0 30]\n",
      " [ 0  1 13  0]] [0, 1]\n"
     ]
    }
   ],
   "source": [
    "# Example 1\n",
    "vars_p_h0 = [vars['tp0'], vars['ts0']]\n",
    "C_h0, vals_h0 = get_C_min_val(vars_p_h0)\n",
    "\n",
    "print(C_h0, vals_h0)\n",
    "\n",
    "# Example 2\n",
    "vars_p_h1 = [vars['tp1'], vars['tp0'], vars['ts0']]\n",
    "C_h1, vals_h1 = get_C_min_val(vars_p_h1)\n",
    "\n",
    "print(C_h1, vals_h1)"
   ]
  },
  {
   "cell_type": "code",
   "execution_count": 10,
   "metadata": {},
   "outputs": [],
   "source": [
    "cut_lin = {} # cut-set of link-sets for each house\n",
    "\n",
    "cut_lin['h0'] = [['ts0', 'tp0']]\n",
    "cut_lin['h1'] = [['ts0', 'tp0', 'tp1']]\n",
    "cut_lin['h2'] = [['ts0', 'tp2']]\n",
    "cut_lin['h3'] = [['ts0', 'tp2', 'tp3'], ['ts1','tp4']]\n",
    "cut_lin['h4'] = [['ts0', 'tp2', 'tp3', 'tp5'], ['ts1', 'tp4','tp5']]\n",
    "cut_lin['h5'] = [['ts1','tp6']]\n",
    "cut_lin['h6'] = [['ts1','tp6', 'tp7']]\n",
    "\n",
    "for h, sets in cut_lin.items():\n",
    "    if len(sets) == 1:              \n",
    "        vars_h = [vars[x] for x in sets[0]]\n",
    "\n",
    "        C_h, vals_h = get_C_max_val( vars_h )\n",
    "        vars[h] = variable.Variable( name=h, values=vals_h )\n",
    "        cpms[h] = cpm.Cpm( variables=[vars[h]] + vars_h, no_child=1, C=C_h, p=np.ones(shape=(len(C_h),1), dtype='float64') )\n",
    "\n",
    "    else:\n",
    "        names_hs = [h+str(i) for i in range(len(sets))]\n",
    "        for h_i, s_i in zip(names_hs, sets):\n",
    "            vars_h_i = [vars[x] for x in s_i]\n",
    "\n",
    "            C_h_i, vals_h_i = get_C_max_val( vars_h_i )\n",
    "            vars[h_i] = variable.Variable( name=h_i, values=vals_h_i )\n",
    "            cpms[h_i] = cpm.Cpm( variables=[vars[h_i]] + vars_h_i, no_child=1, C=C_h_i, p=np.ones(shape=(len(C_h_i),1), dtype='float64') )\n",
    "\n",
    "        vars_hs = [vars[n] for n in names_hs]\n",
    "        C_h, vals_h = get_C_min_val( vars_hs )\n",
    "        vars[h] = variable.Variable( name=h, values=vals_h )\n",
    "        cpms[h] = cpm.Cpm( variables=[vars[h]] + vars_hs, no_child=1, C=C_h, p=np.ones(shape=(len(C_h),1), dtype='float64') )\n"
   ]
  },
  {
   "cell_type": "code",
   "execution_count": 11,
   "metadata": {},
   "outputs": [
    {
     "name": "stdout",
     "output_type": "stream",
     "text": [
      "'Variable(name=h1, B=[{0}, {1}, {2}, {3}, {4}, {0, 1}, {0, 2}, {0, 3}, {0, 4}, {1, 2}, {1, 3}, {1, 4}, {2, 3}, {2, 4}, {3, 4}, {0, 1, 2}, {0, 1, 3}, {0, 1, 4}, {0, 2, 3}, {0, 2, 4}, {0, 3, 4}, {1, 2, 3}, {1, 2, 4}, {1, 3, 4}, {2, 3, 4}, {0, 1, 2, 3}, {0, 1, 2, 4}, {0, 1, 3, 4}, {0, 2, 3, 4}, {1, 2, 3, 4}, {0, 1, 2, 3, 4}], values=[0, 1, 2, 3, 4])'\n",
      "Cpm(variables=['h1', 'ts0', 'tp0', 'tp1'], no_child=1, C=[[ 0  0  0  0]\n",
      " [ 1  1  4  5]\n",
      " [ 1  0  1  5]\n",
      " [ 2  2  2 15]\n",
      " [ 3  2  3 25]\n",
      " [ 1  0  0  1]\n",
      " [ 2  2  4  2]\n",
      " [ 3  2 10  3]\n",
      " [ 4  2 14  4]], p=[[1.]\n",
      " [1.]\n",
      " [1.]\n",
      " [1.]\n",
      " [1.]\n",
      " [1.]\n",
      " [1.]\n",
      " [1.]\n",
      " [1.]]\n",
      "'Variable(name=h3, B=[{0}, {1}, {2}, {3}, {4}, {5}, {6}, {0, 1}, {0, 2}, {0, 3}, {0, 4}, {0, 5}, {0, 6}, {1, 2}, {1, 3}, {1, 4}, {1, 5}, {1, 6}, {2, 3}, {2, 4}, {2, 5}, {2, 6}, {3, 4}, {3, 5}, {3, 6}, {4, 5}, {4, 6}, {5, 6}, {0, 1, 2}, {0, 1, 3}, {0, 1, 4}, {0, 1, 5}, {0, 1, 6}, {0, 2, 3}, {0, 2, 4}, {0, 2, 5}, {0, 2, 6}, {0, 3, 4}, {0, 3, 5}, {0, 3, 6}, {0, 4, 5}, {0, 4, 6}, {0, 5, 6}, {1, 2, 3}, {1, 2, 4}, {1, 2, 5}, {1, 2, 6}, {1, 3, 4}, {1, 3, 5}, {1, 3, 6}, {1, 4, 5}, {1, 4, 6}, {1, 5, 6}, {2, 3, 4}, {2, 3, 5}, {2, 3, 6}, {2, 4, 5}, {2, 4, 6}, {2, 5, 6}, {3, 4, 5}, {3, 4, 6}, {3, 5, 6}, {4, 5, 6}, {0, 1, 2, 3}, {0, 1, 2, 4}, {0, 1, 2, 5}, {0, 1, 2, 6}, {0, 1, 3, 4}, {0, 1, 3, 5}, {0, 1, 3, 6}, {0, 1, 4, 5}, {0, 1, 4, 6}, {0, 1, 5, 6}, {0, 2, 3, 4}, {0, 2, 3, 5}, {0, 2, 3, 6}, {0, 2, 4, 5}, {0, 2, 4, 6}, {0, 2, 5, 6}, {0, 3, 4, 5}, {0, 3, 4, 6}, {0, 3, 5, 6}, {0, 4, 5, 6}, {1, 2, 3, 4}, {1, 2, 3, 5}, {1, 2, 3, 6}, {1, 2, 4, 5}, {1, 2, 4, 6}, {1, 2, 5, 6}, {1, 3, 4, 5}, {1, 3, 4, 6}, {1, 3, 5, 6}, {1, 4, 5, 6}, {2, 3, 4, 5}, {2, 3, 4, 6}, {2, 3, 5, 6}, {2, 4, 5, 6}, {3, 4, 5, 6}, {0, 1, 2, 3, 4}, {0, 1, 2, 3, 5}, {0, 1, 2, 3, 6}, {0, 1, 2, 4, 5}, {0, 1, 2, 4, 6}, {0, 1, 2, 5, 6}, {0, 1, 3, 4, 5}, {0, 1, 3, 4, 6}, {0, 1, 3, 5, 6}, {0, 1, 4, 5, 6}, {0, 2, 3, 4, 5}, {0, 2, 3, 4, 6}, {0, 2, 3, 5, 6}, {0, 2, 4, 5, 6}, {0, 3, 4, 5, 6}, {1, 2, 3, 4, 5}, {1, 2, 3, 4, 6}, {1, 2, 3, 5, 6}, {1, 2, 4, 5, 6}, {1, 3, 4, 5, 6}, {2, 3, 4, 5, 6}, {0, 1, 2, 3, 4, 5}, {0, 1, 2, 3, 4, 6}, {0, 1, 2, 3, 5, 6}, {0, 1, 2, 4, 5, 6}, {0, 1, 3, 4, 5, 6}, {0, 2, 3, 4, 5, 6}, {1, 2, 3, 4, 5, 6}, {0, 1, 2, 3, 4, 5, 6}], values=[0, 1, 2, 3, 4, 5, 6])'\n",
      "Cpm(variables=['h3', 'h30', 'h31'], no_child=1, C=[[  0   0 254]\n",
      " [  1   1 253]\n",
      " [  2   2 245]\n",
      " [  3   3 217]\n",
      " [  4   4 161]\n",
      " [  5   5  91]\n",
      " [  6   6  35]\n",
      " [  0 125   0]\n",
      " [  1 118   1]\n",
      " [  2  97   2]\n",
      " [  3  62   3]\n",
      " [  4  27   4]\n",
      " [  5   6   5]], p=[[1.]\n",
      " [1.]\n",
      " [1.]\n",
      " [1.]\n",
      " [1.]\n",
      " [1.]\n",
      " [1.]\n",
      " [1.]\n",
      " [1.]\n",
      " [1.]\n",
      " [1.]\n",
      " [1.]\n",
      " [1.]]\n",
      "'Variable(name=h30, B=[{0}, {1}, {2}, {3}, {4}, {5}, {6}, {0, 1}, {0, 2}, {0, 3}, {0, 4}, {0, 5}, {0, 6}, {1, 2}, {1, 3}, {1, 4}, {1, 5}, {1, 6}, {2, 3}, {2, 4}, {2, 5}, {2, 6}, {3, 4}, {3, 5}, {3, 6}, {4, 5}, {4, 6}, {5, 6}, {0, 1, 2}, {0, 1, 3}, {0, 1, 4}, {0, 1, 5}, {0, 1, 6}, {0, 2, 3}, {0, 2, 4}, {0, 2, 5}, {0, 2, 6}, {0, 3, 4}, {0, 3, 5}, {0, 3, 6}, {0, 4, 5}, {0, 4, 6}, {0, 5, 6}, {1, 2, 3}, {1, 2, 4}, {1, 2, 5}, {1, 2, 6}, {1, 3, 4}, {1, 3, 5}, {1, 3, 6}, {1, 4, 5}, {1, 4, 6}, {1, 5, 6}, {2, 3, 4}, {2, 3, 5}, {2, 3, 6}, {2, 4, 5}, {2, 4, 6}, {2, 5, 6}, {3, 4, 5}, {3, 4, 6}, {3, 5, 6}, {4, 5, 6}, {0, 1, 2, 3}, {0, 1, 2, 4}, {0, 1, 2, 5}, {0, 1, 2, 6}, {0, 1, 3, 4}, {0, 1, 3, 5}, {0, 1, 3, 6}, {0, 1, 4, 5}, {0, 1, 4, 6}, {0, 1, 5, 6}, {0, 2, 3, 4}, {0, 2, 3, 5}, {0, 2, 3, 6}, {0, 2, 4, 5}, {0, 2, 4, 6}, {0, 2, 5, 6}, {0, 3, 4, 5}, {0, 3, 4, 6}, {0, 3, 5, 6}, {0, 4, 5, 6}, {1, 2, 3, 4}, {1, 2, 3, 5}, {1, 2, 3, 6}, {1, 2, 4, 5}, {1, 2, 4, 6}, {1, 2, 5, 6}, {1, 3, 4, 5}, {1, 3, 4, 6}, {1, 3, 5, 6}, {1, 4, 5, 6}, {2, 3, 4, 5}, {2, 3, 4, 6}, {2, 3, 5, 6}, {2, 4, 5, 6}, {3, 4, 5, 6}, {0, 1, 2, 3, 4}, {0, 1, 2, 3, 5}, {0, 1, 2, 3, 6}, {0, 1, 2, 4, 5}, {0, 1, 2, 4, 6}, {0, 1, 2, 5, 6}, {0, 1, 3, 4, 5}, {0, 1, 3, 4, 6}, {0, 1, 3, 5, 6}, {0, 1, 4, 5, 6}, {0, 2, 3, 4, 5}, {0, 2, 3, 4, 6}, {0, 2, 3, 5, 6}, {0, 2, 4, 5, 6}, {0, 3, 4, 5, 6}, {1, 2, 3, 4, 5}, {1, 2, 3, 4, 6}, {1, 2, 3, 5, 6}, {1, 2, 4, 5, 6}, {1, 3, 4, 5, 6}, {2, 3, 4, 5, 6}, {0, 1, 2, 3, 4, 5}, {0, 1, 2, 3, 4, 6}, {0, 1, 2, 3, 5, 6}, {0, 1, 2, 4, 5, 6}, {0, 1, 3, 4, 5, 6}, {0, 2, 3, 4, 5, 6}, {1, 2, 3, 4, 5, 6}, {0, 1, 2, 3, 4, 5, 6}], values=[0, 1, 2, 3, 4, 5, 6])'\n",
      "Cpm(variables=['h30', 'ts0', 'tp2', 'tp3'], no_child=1, C=[[  0   0   0   0]\n",
      " [  1   1   6   7]\n",
      " [  1   0   1   7]\n",
      " [  2   2   2  28]\n",
      " [  3   2   3  63]\n",
      " [  4   2   4  98]\n",
      " [  5   2   5 119]\n",
      " [  1   0   0   1]\n",
      " [  2   2   6   2]\n",
      " [  3   2  21   3]\n",
      " [  4   2  41   4]\n",
      " [  5   2  56   5]\n",
      " [  6   2  62   6]], p=[[1.]\n",
      " [1.]\n",
      " [1.]\n",
      " [1.]\n",
      " [1.]\n",
      " [1.]\n",
      " [1.]\n",
      " [1.]\n",
      " [1.]\n",
      " [1.]\n",
      " [1.]\n",
      " [1.]\n",
      " [1.]]\n"
     ]
    }
   ],
   "source": [
    "print(vars['h1'])\n",
    "print(cpms['h1'])\n",
    "\n",
    "print(vars['h3'])\n",
    "print(cpms['h3'])\n",
    "\n",
    "print(vars['h30'])\n",
    "print(cpms['h30'])"
   ]
  },
  {
   "cell_type": "markdown",
   "metadata": {},
   "source": [
    "# Inference"
   ]
  },
  {
   "cell_type": "code",
   "execution_count": 12,
   "metadata": {},
   "outputs": [],
   "source": [
    "def get_inf_vars( vars_star, cpms, VE_ord = None ):\n",
    "\n",
    "    \"\"\"\n",
    "    INPUT:\n",
    "    - vars_star: a list of variable names, whose marginal distributions are of interest\n",
    "    - cpms: a list of CPMs\n",
    "    - VE_ord (optional): a list of variable names, representing a VE order. The output list of vars_inf is sorted accordingly.\n",
    "    OUPUT:\n",
    "    - vars_inf: a list of variable names\n",
    "    \"\"\"\n",
    "\n",
    "    vars_inf = [] # relevant variables for inference\n",
    "    vars_inf_new = vars_star\n",
    "    while len(vars_inf_new) > 0:\n",
    "        v1 = copy.deepcopy( vars_inf_new[0] )\n",
    "        vars_inf_new.remove(v1)\n",
    "        vars_inf.append(v1)\n",
    "\n",
    "        v1_sco = [x.name for x in cpms[v1].variables] # Scope of v1\n",
    "        for p in v1_sco:\n",
    "            if p not in vars_inf and p not in vars_inf_new:\n",
    "                vars_inf_new.append(p)\n",
    "\n",
    "    if VE_ord is not None:\n",
    "        def get_ord_inf( x, VE_ord ):\n",
    "            return VE_ord.index(x) \n",
    "        \n",
    "        vars_inf.sort( key=(lambda x: get_ord_inf(x, VE_ord)) )\n",
    "\n",
    "    return vars_inf"
   ]
  },
  {
   "cell_type": "code",
   "execution_count": 13,
   "metadata": {},
   "outputs": [
    {
     "name": "stdout",
     "output_type": "stream",
     "text": [
      "['haz', 'xs0', 'xs1', 'xp0', 'ts0', 'ts1', 'tp0', 'h0']\n",
      "['haz', 'xs0', 'xs1', 'xp0', 'xp1', 'ts0', 'ts1', 'tp0', 'tp1', 'h0', 'h1']\n"
     ]
    }
   ],
   "source": [
    "n_hou = len(cut_lin)\n",
    "\n",
    "VE_ord= ['haz'] + ['xs'+str(i) for i in range(n_subs)] + ['xp'+str(i) for i in range(n_pole)] + \\\n",
    "        ['ts'+str(i) for i in range(n_subs)] + ['tp'+str(i) for i in range(n_pole)] + \\\n",
    "        ['h'+str(i) for i in range(n_hou)]\n",
    "\n",
    "# Example 1\n",
    "h_star1 = ['h0']\n",
    "vars_inf1 = get_inf_vars( h_star1, cpms, VE_ord )\n",
    "print(vars_inf1)\n",
    "\n",
    "# Example 2\n",
    "h_star2 = ['h0','h1']\n",
    "vars_inf2 = get_inf_vars( h_star2, cpms, VE_ord )\n",
    "print(vars_inf2)"
   ]
  },
  {
   "cell_type": "code",
   "execution_count": 34,
   "metadata": {},
   "outputs": [],
   "source": [
    "def merge_cpms( cpm1, cpm2 ):\n",
    "    # cpm1 and cpm2 must have the same scope.\n",
    "\n",
    "    M_new = copy.deepcopy( cpm1 )\n",
    "    C1_list = cpm1.C.tolist()\n",
    "    for c1, p1 in zip( cpm2.C, cpm2.p ):\n",
    "        if c1 in C1_list:\n",
    "            idx = C1_list.index(c1)\n",
    "            M_new.p[idx] += p1\n",
    "        else:\n",
    "            M_new.C = np.vstack( (M_new.C, c1) )\n",
    "            M_new.p = np.vstack( (M_new.p, p1) )\n",
    "\n",
    "    return M_new"
   ]
  },
  {
   "cell_type": "code",
   "execution_count": 54,
   "metadata": {},
   "outputs": [],
   "source": [
    "def cal_Msys_by_cond_VE( cpms, vars, cond_names, ve_names, sys_name ):\n",
    "    \"\"\"\n",
    "    INPUT:\n",
    "    - cpms: a dictionary of cpms\n",
    "    - vars: a dictionary of variables\n",
    "    - cond_names: a list of variables to be conditioned\n",
    "    - oth_names: a list of variables to be eliminated by VE\n",
    "    - sys_name: a system variable's name (NB not list!) **FUTHER RESEARCH REQUIRED: there is no efficient way yet to compute a joint distribution of more than one system event\n",
    "\n",
    "    OUTPUT:\n",
    "    - Msys: a cpm containing the marginal distribution of variable 'sys_name'\n",
    "    \"\"\"\n",
    "\n",
    "    ve_vars = [vars[v] for v in ve_names if v != sys_name] # other variables\n",
    "\n",
    "    cpms_inf = {v: cpms[v] for v in ve_names}\n",
    "    cpms_inf[sys_name] = cpms[sys_name]\n",
    "    cond_cpms = [cpms[v] for v in cond_names]\n",
    "\n",
    "    M_cond = cpm.prod_cpms( cond_cpms )\n",
    "    n_crows = len(M_cond.C)\n",
    "\n",
    "    for i in range(n_crows):\n",
    "        m1 = M_cond.get_subset([i])\n",
    "        VE_cpms_m1 = cpm.condition( cpms_inf, m1.variables, m1.C[0] )\n",
    "\n",
    "        m_m1 = cpm.variable_elim( VE_cpms_m1, ve_vars )\n",
    "        m_m1 = m_m1.product(m1)\n",
    "        m_m1 = m_m1.sum(cond_names)\n",
    "\n",
    "        if i < 1:\n",
    "            Msys = copy.deepcopy( m_m1 )\n",
    "        else:\n",
    "            Msys = merge_cpms( Msys, m_m1 )\n",
    "    \n",
    "    return Msys\n",
    "    "
   ]
  },
  {
   "cell_type": "code",
   "execution_count": 61,
   "metadata": {},
   "outputs": [
    {
     "name": "stdout",
     "output_type": "stream",
     "text": [
      "Cpm(variables=['h0'], no_child=1, C=[[0]\n",
      " [1]\n",
      " [2]\n",
      " [3]], p=[[8.77124498e-01]\n",
      " [1.08852008e-01]\n",
      " [1.34224925e-02]\n",
      " [6.01002500e-04]]\n",
      "[1.]\n",
      "Cpm(variables=['h6'], no_child=1, C=[[ 0]\n",
      " [ 1]\n",
      " [ 2]\n",
      " [ 3]\n",
      " [ 4]\n",
      " [ 5]\n",
      " [ 6]\n",
      " [ 7]\n",
      " [ 8]\n",
      " [ 9]\n",
      " [10]], p=[[6.90410249e-01]\n",
      " [1.65589430e-01]\n",
      " [9.01282113e-02]\n",
      " [3.94423861e-02]\n",
      " [1.17121852e-02]\n",
      " [2.36083768e-03]\n",
      " [3.24764791e-04]\n",
      " [3.00769304e-05]\n",
      " [1.79520093e-06]\n",
      " [6.24000037e-08]\n",
      " [9.60000006e-10]]\n",
      "[1.]\n"
     ]
    }
   ],
   "source": [
    "cond_names = ['haz']\n",
    "\n",
    "# H0\n",
    "vars_inf_h0 = get_inf_vars( ['h0'], cpms, VE_ord )\n",
    "ve_names = [x for x in vars_inf_h0 if x not in cond_names]\n",
    "\n",
    "Msys_h0 = cal_Msys_by_cond_VE( cpms, vars, cond_names, ve_names, 'h0' )\n",
    "print(Msys_h0)\n",
    "print(sum(Msys_h0.p))\n",
    "\n",
    "# H7\n",
    "vars_inf_h6 = get_inf_vars( ['h6'], cpms, VE_ord )\n",
    "ve_names = [x for x in vars_inf_h6 if x not in cond_names]\n",
    "\n",
    "Msys_h6 = cal_Msys_by_cond_VE( cpms, vars, cond_names, ve_names, 'h6' )\n",
    "print(Msys_h6)\n",
    "print(sum(Msys_h6.p))"
   ]
  }
 ],
 "metadata": {
  "kernelspec": {
   "display_name": "bns",
   "language": "python",
   "name": "python3"
  },
  "language_info": {
   "codemirror_mode": {
    "name": "ipython",
    "version": 3
   },
   "file_extension": ".py",
   "mimetype": "text/x-python",
   "name": "python",
   "nbconvert_exporter": "python",
   "pygments_lexer": "ipython3",
   "version": "3.11.0"
  }
 },
 "nbformat": 4,
 "nbformat_minor": 2
}
