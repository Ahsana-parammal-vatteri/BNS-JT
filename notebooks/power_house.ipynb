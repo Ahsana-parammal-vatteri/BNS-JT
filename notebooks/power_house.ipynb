{
 "cells": [
  {
   "cell_type": "code",
   "execution_count": 152,
   "metadata": {},
   "outputs": [],
   "source": [
    "import sys\n",
    "import numpy as np\n",
    "import random\n",
    "import copy\n",
    "\n",
    "random.seed(10)\n",
    "\n",
    "# mbnpy toolkit\n",
    "sys.path.append(r\"C:\\Users\\jb622s\\git\\BNS-JT\\BNS_JT\") \n",
    "from BNS_JT import cpm, variable"
   ]
  },
  {
   "cell_type": "markdown",
   "metadata": {},
   "source": [
    "# Problem\n",
    "\n",
    "## Example\n",
    "<figure>\n",
    "<img src=\"img/house_power_prob.png\" style=\"width:400px\">\n",
    "</figure>\n",
    "\n",
    "## Bayesian network\n",
    "<figure>\n",
    "<img src=\"img/house_power_bn.png\" style=\"width:600px\">\n",
    "</figure>\n",
    "\n"
   ]
  },
  {
   "cell_type": "markdown",
   "metadata": {},
   "source": [
    "# Complexity of the following computation\n",
    "\n",
    "## Offline\n",
    "(no. of samples) x (damage assessments) + (no. of samples) x (repair simulation)\n",
    "\n",
    "## Online (when one house is selected for display)\n",
    "min-max operation over (no. of connected substations) x (distances to substations) elements"
   ]
  },
  {
   "cell_type": "markdown",
   "metadata": {},
   "source": [
    "# Offline computation and data storage\n",
    "\n",
    "## Quantification of probability distributions (using matrix-based Bayesian network (MBN))\n",
    "\n",
    "### Hazard node"
   ]
  },
  {
   "cell_type": "code",
   "execution_count": 153,
   "metadata": {},
   "outputs": [],
   "source": [
    "cpms = {}\n",
    "vars = {}\n",
    "\n",
    "# hazard scenario\n",
    "vars['h'] = variable.Variable( name='h', B=np.eye(3), values=['s1', 's2', 's3'] ) # 3 hazard scenarios\n",
    "cpms['h'] = cpm.Cpm( variables=[vars['h']], no_child=1, C=np.array([0,1,2]), p=[0.5,0.2,0.3] )\n"
   ]
  },
  {
   "cell_type": "markdown",
   "metadata": {},
   "source": [
    "### Structural performance"
   ]
  },
  {
   "cell_type": "code",
   "execution_count": 154,
   "metadata": {},
   "outputs": [],
   "source": [
    "# substations\n",
    "n_sub = 2\n",
    "C_sub = np.array([[0,0], [0,1], [0,2], [1,0], [1,1], [1,2]])\n",
    "for i in range(n_sub):\n",
    "    nam = 'xs' + str(i)\n",
    "    vars[nam] = variable.Variable(name=nam, B=np.eye(2), values=['f','s']) # failure or survival\n",
    "\n",
    "    p = np.random.uniform( size=len(C_sub) ) # randomly generated probabilities just for demonstration\n",
    "    p[0:3] = p[0:3] / np.sum(p[0:3])\n",
    "    p[3:6] = p[3:6] / np.sum(p[3:6])\n",
    "\n",
    "    cpms[nam] = cpm.Cpm( variables=[vars[nam], vars['h']], no_child=1, C = C_sub, p = p )\n",
    "\n",
    "# poles\n",
    "n_pol = 8\n",
    "C_pol = copy.deepcopy( C_sub )\n",
    "for i in range(n_pol):\n",
    "    nam = 'xp' + str(i)\n",
    "    vars[nam] = variable.Variable(name=nam, B=np.eye(2), values=['f','s']) \n",
    "\n",
    "    p = np.random.uniform( size=len(C_pol) ) \n",
    "    p[0:3] = p[0:3] / np.sum(p[0:3])\n",
    "    p[3:6] = p[3:6] / np.sum(p[3:6])\n",
    "\n",
    "    cpms[nam] = cpm.Cpm( variables=[vars[nam], vars['h']], no_child=1, C = C_pol, p = p )"
   ]
  },
  {
   "cell_type": "markdown",
   "metadata": {},
   "source": [
    "### Down time (and recovery plan)\n",
    "\n",
    "We assume a simple recovery plan that it takes 1 day to repair a failed components, and the order is sub0 -> sub1 -> pol0 -> ... -> pol8."
   ]
  },
  {
   "cell_type": "code",
   "execution_count": 155,
   "metadata": {},
   "outputs": [],
   "source": [
    "max_tim = n_sub + n_pol \n",
    "\n",
    "C_dum = np.empty((0,1+n_sub+n_pol), dtype='int32') # dummies: C and p are not quantified now (too much memory for exhaustive storage--this will be addressed by performing sampling.)\n",
    "p_dum = []\n",
    "\n",
    "# substations\n",
    "for i in range(n_sub):\n",
    "    nam = 'ts' + str(i)\n",
    "    vars[nam] = variable.Variable(name=nam, B=np.eye(1+max_tim), values=list(range(1+max_tim))) # 0 days to (max_tim) days\n",
    "    cpms[nam] = cpm.Cpm( variables=[vars[nam]] + [vars['xs'+str(i)] for i in range(n_sub)] + [vars['xp'+str(i)] for i in range(n_pol)], no_child=1, C = C_dum, p = p_dum ) \n",
    "\n",
    "# poles\n",
    "for i in range(n_pol):\n",
    "    nam = 'tp' + str(i)\n",
    "    vars[nam] = variable.Variable(name=nam, B=np.eye(1+max_tim), values=list(range(1+max_tim)))\n",
    "    cpms[nam] = cpm.Cpm( variables=[vars[nam]] + [vars['xs'+str(i)] for i in range(n_sub)] + [vars['xp'+str(i)] for i in range(n_pol)], no_child=1, C = C_dum, p = p_dum )"
   ]
  },
  {
   "cell_type": "markdown",
   "metadata": {},
   "source": [
    "## Inference by MCS\n",
    "\n",
    "### Hazard"
   ]
  },
  {
   "cell_type": "code",
   "execution_count": 156,
   "metadata": {},
   "outputs": [
    {
     "name": "stdout",
     "output_type": "stream",
     "text": [
      "[[1]\n",
      " [0]\n",
      " [1]\n",
      " [0]\n",
      " [2]\n",
      " [2]\n",
      " [1]\n",
      " [0]\n",
      " [1]\n",
      " [0]] [[0.2]\n",
      " [0.5]\n",
      " [0.2]\n",
      " [0.5]\n",
      " [0.3]\n",
      " [0.3]\n",
      " [0.2]\n",
      " [0.5]\n",
      " [0.2]\n",
      " [0.5]] [[0]\n",
      " [1]\n",
      " [2]\n",
      " [3]\n",
      " [4]\n",
      " [5]\n",
      " [6]\n",
      " [7]\n",
      " [8]\n",
      " [9]]\n"
     ]
    }
   ],
   "source": [
    "n_sam = 10\n",
    "cpms_s = {} # CPM of samples\n",
    "\n",
    "# hazard \n",
    "C_hs = np.empty((n_sam,1), dtype='int32')\n",
    "p_hs = np.zeros((n_sam,1)) # dummy\n",
    "q_hs = np.empty((n_sam,1))\n",
    "si_hs = np.empty((n_sam,1), dtype='int32')\n",
    "for i in range(n_sam):\n",
    "    h1 = random.choices( [s[0] for s in cpms['h'].C], weights = cpms['h'].p )\n",
    "    C_hs[i], q_hs[i], si_hs[i] = h1, cpms['h'].p[h1], i\n",
    "    \n",
    "cpms_s['h'] = cpm.Cpm( variables=[vars['h']], no_child=1, C=C_hs, p = p_hs, q = q_hs, sample_idx=si_hs )\n",
    "\n",
    "print(C_hs, q_hs, si_hs)\n"
   ]
  },
  {
   "cell_type": "markdown",
   "metadata": {},
   "source": [
    "### Structural performance"
   ]
  },
  {
   "cell_type": "code",
   "execution_count": 157,
   "metadata": {},
   "outputs": [],
   "source": [
    "def sample_x( cpm_x, cpm_hs, n_sam, vars ):\n",
    "\n",
    "    C_xs = np.empty((n_sam,1), dtype='int32')\n",
    "    p_xs = np.zeros((n_sam,1)) # dummy\n",
    "    q_xs = np.empty((n_sam,1))\n",
    "    si_xs = np.empty((n_sam,1), dtype='int32')\n",
    "    for i in range(n_sam):\n",
    "        h1 = cpms_s['h'].C[i]\n",
    "        cpm_x1 = cpm.condition( [cpm_x], [vars['h']], h1 )\n",
    "        x1 = random.choices( [s[0] for s in cpm_x1[0].C], weights = cpm_x1[0].p )\n",
    "        C_xs[i], q_xs[i], si_xs[i] = x1, cpm_x1[0].p[x1], i\n",
    "\n",
    "    cpm_xs = cpm.Cpm( variables=[cpm_x.variables[0]], no_child=1, C=C_xs, p = p_xs, q = q_xs, sample_idx=si_xs )\n",
    "\n",
    "    return cpm_xs\n"
   ]
  },
  {
   "cell_type": "code",
   "execution_count": 158,
   "metadata": {},
   "outputs": [],
   "source": [
    "# substations \n",
    "for i in range(n_sub):\n",
    "    nam = 'xs' + str(i)\n",
    "    cpms_s[nam] = sample_x( cpms[nam], cpms_s['h'], n_sam, vars )\n",
    "\n",
    "# poles\n",
    "for i in range(n_pol):\n",
    "    nam = 'xp' + str(i)\n",
    "    cpms_s[nam] = sample_x( cpms[nam], cpms_s['h'], n_sam, vars )"
   ]
  },
  {
   "cell_type": "markdown",
   "metadata": {},
   "source": [
    "### Downtime"
   ]
  },
  {
   "cell_type": "code",
   "execution_count": 159,
   "metadata": {},
   "outputs": [],
   "source": [
    "rep_ord = ['xs'+str(i) for i in range(n_sub)] + ['xp'+str(i) for i in range(n_pol)] # repair order\n",
    "\n",
    "p_ts = np.ones((n_sam,1)) \n",
    "q_ts = np.zeros((n_sam,1)) # dummy\n",
    "\n",
    "for i, x in enumerate(rep_ord):\n",
    "\n",
    "    C_ts = np.empty((n_sam,1), dtype='int32')\n",
    "    si_ts = np.empty((n_sam,1), dtype='int32')\n",
    "\n",
    "    for j in range(n_sam):\n",
    "        x_st = cpms_s[x].C[j][0]\n",
    "\n",
    "        if vars[x].values[x_st] == 's':\n",
    "            x_dt = 0 # no downtime\n",
    "        else:\n",
    "            xs = rep_ord[:(i+1)]\n",
    "            x_dt = 0\n",
    "            for y in xs:\n",
    "                y_st = cpms_s[y].C[j][0]\n",
    "                if vars[y].values[y_st] == 'f':\n",
    "                    x_dt += 1\n",
    "\n",
    "        C_ts[j], si_ts[j] = x_dt, j\n",
    "    \n",
    "    nam = 't' + x[1::]\n",
    "    cpms_s[nam] = cpm.Cpm(variables=[vars[nam]], no_child=1, C = C_ts, p=p_ts, q = q_ts, sample_idx= si_ts)\n",
    "\n",
    "    \n",
    "    "
   ]
  },
  {
   "cell_type": "markdown",
   "metadata": {},
   "source": [
    "## House loss estimation - disconnection duration: by a cut-set of link-sets (i.e. min-max)"
   ]
  },
  {
   "cell_type": "code",
   "execution_count": 160,
   "metadata": {},
   "outputs": [],
   "source": [
    "cut_lin = {} # cut-set of link-sets for each house\n",
    "\n",
    "cut_lin['h0'] = [['s0', 'p0']]\n",
    "cut_lin['h1'] = [['s0', 'p0', 'p1']]\n",
    "cut_lin['h2'] = [['s0', 'p2']]\n",
    "cut_lin['h3'] = [['s0', 'p2', 'p3'], ['s1','p4']]\n",
    "cut_lin['h4'] = [['s0', 'p2', 'p3', 'p5'], ['s1', 'p4','p5']]\n",
    "cut_lin['h5'] = [['s1','p6']]\n",
    "cut_lin['h6'] = [['s1','p6', 'p7']]"
   ]
  },
  {
   "cell_type": "code",
   "execution_count": 165,
   "metadata": {},
   "outputs": [],
   "source": [
    "def get_down_time( h_id, cut_lin, cpms_s, n_sam ):\n",
    "    dts = np.empty( (n_sam,1) )\n",
    "    n_lin = len(cut_lin[h_id])\n",
    "\n",
    "    for i in range(n_sam):\n",
    "        dts_i = np.empty( (n_lin,) )\n",
    "        for j, lin in enumerate(cut_lin[h_id]):\n",
    "            dts_lin = [cpms_s['t'+x].C[i][0] for x in lin]\n",
    "            dts_i[j] = max( dts_lin )\n",
    "        \n",
    "        dt1 = np.amin(dts_i)\n",
    "        dts[i] = dt1\n",
    "\n",
    "\n",
    "    # Result\n",
    "    dt_m = np.mean(dts) # mean\n",
    "    dt_s = np.std(dts) # standard deviation\n",
    "    dt_cov = dt_s / dt_m # Coefficient of variance (c.o.v.)\n",
    "\n",
    "    print( '[' + h_id + '] ..' )\n",
    "    print('Expected down time: ', dt_m)\n",
    "    print(f'Sampling c.o.v.: {dt_cov*100: 2.1f} %' )"
   ]
  },
  {
   "cell_type": "markdown",
   "metadata": {},
   "source": [
    "# Online computation: User chooses a house"
   ]
  },
  {
   "cell_type": "code",
   "execution_count": 166,
   "metadata": {},
   "outputs": [
    {
     "name": "stdout",
     "output_type": "stream",
     "text": [
      "[h1] ..\n",
      "Expected down time:  1.9\n",
      "Sampling c.o.v.:  28.3 %\n"
     ]
    }
   ],
   "source": [
    "user_h = 'h1' # user chooses a house\n",
    "\n",
    "get_down_time( user_h, cut_lin, cpms_s, n_sam )"
   ]
  },
  {
   "cell_type": "code",
   "execution_count": 167,
   "metadata": {},
   "outputs": [
    {
     "name": "stdout",
     "output_type": "stream",
     "text": [
      "[h0] ..\n",
      "Expected down time:  1.3\n",
      "Sampling c.o.v.:  69.2 %\n",
      "[h1] ..\n",
      "Expected down time:  1.9\n",
      "Sampling c.o.v.:  28.3 %\n",
      "[h2] ..\n",
      "Expected down time:  1.2\n",
      "Sampling c.o.v.:  97.2 %\n",
      "[h3] ..\n",
      "Expected down time:  1.5\n",
      "Sampling c.o.v.:  112.5 %\n",
      "[h4] ..\n",
      "Expected down time:  2.5\n",
      "Sampling c.o.v.:  76.4 %\n",
      "[h5] ..\n",
      "Expected down time:  2.2\n",
      "Sampling c.o.v.:  97.1 %\n",
      "[h6] ..\n",
      "Expected down time:  4.2\n",
      "Sampling c.o.v.:  48.6 %\n"
     ]
    }
   ],
   "source": [
    "# all results\n",
    "\n",
    "for h in cut_lin:\n",
    "    get_down_time( h, cut_lin, cpms_s, n_sam )"
   ]
  },
  {
   "cell_type": "markdown",
   "metadata": {},
   "source": [
    "NB: Coefficients of variance (c.o.v.) can be reduced by increasing the number of samples."
   ]
  }
 ],
 "metadata": {
  "kernelspec": {
   "display_name": "Python 3",
   "language": "python",
   "name": "python3"
  },
  "language_info": {
   "codemirror_mode": {
    "name": "ipython",
    "version": 3
   },
   "file_extension": ".py",
   "mimetype": "text/x-python",
   "name": "python",
   "nbconvert_exporter": "python",
   "pygments_lexer": "ipython3",
   "version": "3.10.10"
  }
 },
 "nbformat": 4,
 "nbformat_minor": 2
}
