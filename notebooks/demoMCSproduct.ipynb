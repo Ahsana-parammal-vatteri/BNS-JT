{
 "cells": [
  {
   "cell_type": "code",
   "execution_count": 3,
   "id": "edbdd82b",
   "metadata": {},
   "outputs": [
    {
     "name": "stdout",
     "output_type": "stream",
     "text": [
      "\n",
      "Note: you may need to restart the kernel to use updated packages.\n"
     ]
    }
   ],
   "source": [
    "conda activate bns"
   ]
  },
  {
   "cell_type": "code",
   "execution_count": 80,
   "id": "16c9347f",
   "metadata": {},
   "outputs": [],
   "source": [
    "import networkx as nx\n",
    "import matplotlib.pyplot as plt\n",
    "from pathlib import Path\n",
    "import numpy as np\n",
    "from scipy.stats import lognorm\n",
    "import os\n",
    "\n",
    "from BNS_JT import cpm, variable\n",
    "from Trans.trans import get_arcs_length, get_all_paths_and_times\n",
    "from BNS_JT.cpm import variable_elim, mcs_product, single_sample, get_sample_order\n"
   ]
  },
  {
   "cell_type": "code",
   "execution_count": 27,
   "id": "b58ac5fa",
   "metadata": {},
   "outputs": [],
   "source": [
    "np.set_printoptions(precision=3)\n",
    "HOME = os.getcwd()"
   ]
  },
  {
   "cell_type": "markdown",
   "id": "5bad1533",
   "metadata": {},
   "source": [
    "# Toy example\n",
    "\n",
    "First, add hazard nodes."
   ]
  },
  {
   "cell_type": "code",
   "execution_count": 44,
   "id": "c327b42b",
   "metadata": {},
   "outputs": [
    {
     "name": "stdout",
     "output_type": "stream",
     "text": [
      "\"Variable(name=haz, B=[[1 0]\\n [0 1]], values=['low', 'high'])\"\n",
      "Cpm(variables=['haz'], no_child=1, C=[[0]\n",
      " [1]], p=[[0.95]\n",
      " [0.05]]\n"
     ]
    }
   ],
   "source": [
    "cpms = {}\n",
    "varbs = {}\n",
    "\n",
    "low = 0\n",
    "high = 1\n",
    "p_low = 0.95\n",
    "varbs['haz'] = variable.Variable(name='haz', B = [[1,0],[0,1]], values=['low', 'high'])\n",
    "C = np.array([[low, high]]).T\n",
    "p = np.array([p_low, 1-p_low])\n",
    "cpms['haz'] = cpm.Cpm( variables = [var_h], no_child = 1, C = C, p = p )\n",
    "print(var_h)\n",
    "print(cpm_h)"
   ]
  },
  {
   "cell_type": "markdown",
   "id": "4876d405",
   "metadata": {},
   "source": [
    "The script below is from *Trans/tests/test_Transport.py*."
   ]
  },
  {
   "cell_type": "code",
   "execution_count": 45,
   "id": "b98b460f",
   "metadata": {},
   "outputs": [],
   "source": [
    "node_coords = {'n1': (-2, 3),\n",
    "               'n2': (-2, -3),\n",
    "               'n3': (2, -2),\n",
    "               'n4': (1, 1),\n",
    "               'n5': (0, 0)}\n",
    "\n",
    "arcs = {'e1': ['n1', 'n2'],\n",
    "\t'e2': ['n1', 'n5'],\n",
    "\t'e3': ['n2', 'n5'],\n",
    "\t'e4': ['n3', 'n4'],\n",
    "\t'e5': ['n3', 'n5'],\n",
    "\t'e6': ['n4', 'n5']}\n",
    "\n",
    "# Fragility curves -- From HAZUS-EQ model (roads are regarded as disconnected when being extensively or completely damaged)\n",
    "\n",
    "frag = {'major': {'med': 60.0, 'std': 0.7},\n",
    "        'urban' : {'med': 24.0, 'std': 0.7},\n",
    "        'bridge': {'med': 1.1, 'std': 3.9},\n",
    "        }\n",
    "\n",
    "arcs_type = {'e1': 'major',\n",
    "             'e2': 'major',\n",
    "             'e3': 'major',\n",
    "             'e4': 'urban',\n",
    "             'e5': 'bridge',\n",
    "             'e6': 'bridge'}\n",
    "\n",
    "arcs_avg_kmh = {'e1': 40,\n",
    "                'e2': 40,\n",
    "                'e3': 40,\n",
    "                'e4': 30,\n",
    "                'e5': 30,\n",
    "                'e6': 20}\n",
    "\n",
    "var_ODs = {'od1': ('n5', 'n1'),\n",
    "           'od2': ('n5', 'n2'),\n",
    "           'od3': ('n5', 'n3'),\n",
    "           'od4': ('n5', 'n4')}\n",
    "\n",
    "nODs = len(var_ODs)\n",
    "\n",
    "# For the moment, we assume that ground motions are observed. Later, hazard nodes will be added.\n",
    "GM_obs = {'e1': 30.0,\n",
    "          'e2': 20.0,\n",
    "          'e3': 10.0,\n",
    "          'e4': 2.0,\n",
    "          'e5': 0.9,\n",
    "          'e6': 0.6}\n",
    "\n",
    "# Arcs' states index compatible with variable B index, and C\n",
    "arc_surv = 1 - 1\n",
    "arc_fail = 2 - 1\n",
    "arc_either = 3 - 1\n",
    "\n",
    "arc_lens_km = get_arcs_length(arcs, node_coords)\n",
    "\n",
    "#arcTimes_h = arcLens_km ./ arcs_Vavg_kmh\n",
    "arc_times_h = {k: v/arcs_avg_kmh[k] for k, v in arc_lens_km.items()}\n",
    "\n",
    "# create a graph\n",
    "G = nx.Graph()\n",
    "for k, x in arcs.items():\n",
    "    G.add_edge(x[0], x[1], time=arc_times_h[k], label=k)\n",
    "\n",
    "for k, v in node_coords.items():\n",
    "    G.add_node(k, pos=v)\n",
    "\n",
    "path_time = get_all_paths_and_times(var_ODs.values(), G, key='time')\n",
    "\n",
    "# plot graph\n",
    "pos = nx.get_node_attributes(G, 'pos')\n",
    "edge_labels = nx.get_edge_attributes(G, 'label')\n",
    "\n",
    "fig = plt.figure()\n",
    "ax = fig.add_subplot()\n",
    "nx.draw(G, pos, with_labels=True, ax=ax)\n",
    "nx.draw_networkx_edge_labels(G, pos, edge_labels=edge_labels, ax=ax)\n",
    "fig.savefig( os.path.join(HOME, 'graph.png'), dpi=200)\n",
    "\n",
    "# Arcs (components): P(X_i | GM = GM_ob ), i = 1 .. N (= nArc)\n",
    "\n",
    "B = np.array([[1, 0], [0, 1], [1, 1]])\n",
    "C = np.array([[arc_surv, low], [arc_fail, low],\n",
    "              [arc_surv, high], [arc_fail, high]])\n",
    "\n",
    "for k in arcs.keys():\n",
    "    varbs[k] = variable.Variable(name=str(k), B=B, values=['Surv', 'Fail'])\n",
    "\n",
    "    _type = arcs_type[k]\n",
    "    prob = [lognorm.cdf(GM_obs[k], frag[_type]['std'], scale=frag[_type]['med']),\n",
    "           lognorm.cdf(GM_obs[k]*1.5, frag[_type]['std'], scale=frag[_type]['med'])]\n",
    "    \n",
    "    p = np.array([1-prob[0], prob[0], 1-prob[1], prob[1]])\n",
    "    cpms[k] = cpm.Cpm(variables = [vars_arc[k], var_h],\n",
    "                          no_child = 1,\n",
    "                          C = C,\n",
    "                          p = p)\n",
    "\n",
    "# Travel times (systems): P(OD_j | X1, ... Xn) j = 1 ... nOD\n",
    "B_ = np.array([[1, 0, 0], [0, 1, 0], [0, 0, 1]])\n",
    "varbs['od1'] = variable.Variable(name='od1', B=B_,\n",
    "        values=[0.0901, 0.2401, np.inf])\n",
    "\n",
    "_variables = [vars_arc[k] for k in ['od1', 'e1', 'e2', 'e3', 'e4', 'e5', 'e6']]\n",
    "c7 = np.array([\n",
    "[1,3,1,3,3,3,3],\n",
    "[2,1,2,1,3,3,3],\n",
    "[3,1,2,2,3,3,3],\n",
    "[3,2,2,3,3,3,3]]) - 1\n",
    "cpms['od1'] = cpm.Cpm(variables= _variables,\n",
    "                       no_child = 1,\n",
    "                       C = c7,\n",
    "                       p = [1, 1, 1, 1],\n",
    "                       )"
   ]
  },
  {
   "cell_type": "code",
   "execution_count": 46,
   "id": "98c81695",
   "metadata": {},
   "outputs": [
    {
     "name": "stdout",
     "output_type": "stream",
     "text": [
      "{'haz': Cpm(variables=['haz'], no_child=1, C=[[0]\n",
      " [1]], p=[[0.95]\n",
      " [0.05]], 'e1': Cpm(variables=['e1', 'haz'], no_child=1, C=[[0 0]\n",
      " [1 0]\n",
      " [0 1]\n",
      " [1 1]], p=[[0.839]\n",
      " [0.161]\n",
      " [0.659]\n",
      " [0.341]], 'e2': Cpm(variables=['e2', 'haz'], no_child=1, C=[[0 0]\n",
      " [1 0]\n",
      " [0 1]\n",
      " [1 1]], p=[[0.942]\n",
      " [0.058]\n",
      " [0.839]\n",
      " [0.161]], 'e3': Cpm(variables=['e3', 'haz'], no_child=1, C=[[0 0]\n",
      " [1 0]\n",
      " [0 1]\n",
      " [1 1]], p=[[0.995]\n",
      " [0.005]\n",
      " [0.976]\n",
      " [0.024]], 'e4': Cpm(variables=['e4', 'haz'], no_child=1, C=[[0 0]\n",
      " [1 0]\n",
      " [0 1]\n",
      " [1 1]], p=[[9.998e-01]\n",
      " [1.927e-04]\n",
      " [9.985e-01]\n",
      " [1.486e-03]], 'e5': Cpm(variables=['e5', 'haz'], no_child=1, C=[[0 0]\n",
      " [1 0]\n",
      " [0 1]\n",
      " [1 1]], p=[[0.521]\n",
      " [0.479]\n",
      " [0.479]\n",
      " [0.521]], 'e6': Cpm(variables=['e6', 'haz'], no_child=1, C=[[0 0]\n",
      " [1 0]\n",
      " [0 1]\n",
      " [1 1]], p=[[0.562]\n",
      " [0.438]\n",
      " [0.521]\n",
      " [0.479]], 'od1': Cpm(variables=['od1', 'e1', 'e2', 'e3', 'e4', 'e5', 'e6'], no_child=1, C=[[0 2 0 2 2 2 2]\n",
      " [1 0 1 0 2 2 2]\n",
      " [2 0 1 1 2 2 2]\n",
      " [2 1 1 2 2 2 2]], p=[[1]\n",
      " [1]\n",
      " [1]\n",
      " [1]]}\n",
      "{'haz': \"Variable(name=haz, B=[[1 0]\\n [0 1]], values=['low', 'high'])\", 'e1': \"Variable(name=e1, B=[[1 0]\\n [0 1]\\n [1 1]], values=['Surv', 'Fail'])\", 'e2': \"Variable(name=e2, B=[[1 0]\\n [0 1]\\n [1 1]], values=['Surv', 'Fail'])\", 'e3': \"Variable(name=e3, B=[[1 0]\\n [0 1]\\n [1 1]], values=['Surv', 'Fail'])\", 'e4': \"Variable(name=e4, B=[[1 0]\\n [0 1]\\n [1 1]], values=['Surv', 'Fail'])\", 'e5': \"Variable(name=e5, B=[[1 0]\\n [0 1]\\n [1 1]], values=['Surv', 'Fail'])\", 'e6': \"Variable(name=e6, B=[[1 0]\\n [0 1]\\n [1 1]], values=['Surv', 'Fail'])\", 'od1': 'Variable(name=od1, B=[[1 0 0]\\n [0 1 0]\\n [0 0 1]], values=[0.0901, 0.2401, inf])'}\n"
     ]
    }
   ],
   "source": [
    "print(cpms)\n",
    "print(varbs)"
   ]
  },
  {
   "cell_type": "markdown",
   "id": "904be2d6",
   "metadata": {},
   "source": [
    "# Inference\n",
    "\n",
    "## Exact"
   ]
  },
  {
   "cell_type": "code",
   "execution_count": 72,
   "id": "67094892",
   "metadata": {},
   "outputs": [
    {
     "name": "stdout",
     "output_type": "stream",
     "text": [
      "Probability of disruption: 0.06341019501428664\n",
      "Probability of disconnection: 0.012026510475349292\n"
     ]
    }
   ],
   "source": [
    "#cpm_od1 = variable_elim( cpms, ['haz', 'e1', 'e2', 'e3', 'e4', 'e5', 'e6'] )\n",
    "# The function above does not work.\n",
    "\n",
    "cpms_cp = list(cpms.values())\n",
    "for i in ['haz'] + list(arcs.keys()):\n",
    "    is_inscope = cpm.isinscope([varbs[i]], cpms_cp)\n",
    "    cpm_sel = [y for x, y in zip( is_inscope, cpms_cp ) if x]\n",
    "    cpm_mult = cpm.prod_cpms(cpm_sel)\n",
    "    cpm_mult = cpm_mult.sum( [varbs[i]] )\n",
    "    \n",
    "    cpms_cp = [y for (x,y) in zip( is_inscope, cpms_cp ) if x == False]\n",
    "    cpms_cp.insert(0, cpm_mult)\n",
    "\n",
    "print('Probability of disruption: ' + str(cpms_cp[0].p[1][0] + cpms_cp[0].p[2][0] ) )\n",
    "print('Probability of disconnection: ' + str(cpms_cp[0].p[2][0]) )"
   ]
  },
  {
   "cell_type": "markdown",
   "id": "1e1310a1",
   "metadata": {},
   "source": [
    "## MCS product by conditioning"
   ]
  },
  {
   "cell_type": "code",
   "execution_count": 100,
   "id": "2842e640",
   "metadata": {},
   "outputs": [
    {
     "name": "stdout",
     "output_type": "stream",
     "text": [
      "[0 0]\n",
      "[1 0]\n",
      "[0 1]\n",
      "[1 1]\n"
     ]
    }
   ],
   "source": [
    "nSample = 10\n",
    "var_mcs = ['haz']\n",
    "elim_order = ['e1', 'e2', 'e3', 'e4', 'e5', 'e6'] # except 'haz' and 'od1'\n",
    "\n",
    "\n",
    "cpm_h_mcs = mcs_product([cpms['haz']], nSample)\n",
    "#print(cpm_h_mcs)\n",
    "\n",
    "for c, p in zip( cpm_h_mcs.C, cpm_h_mcs.q ):\n",
    "    cpms_c = condition( cpms, 'haz', c )\n",
    "    \n",
    "    for v in elim_order:\n",
    "        is_inscope = cpm.isinscope([varbs[i]], cpms_cp)\n",
    "        cpm_sel = [y for x, y in zip( is_inscope, cpms_cp ) if x]\n",
    "        cpm_mult = cpm.prod_cpms(cpm_sel)\n",
    "        cpm_mult = cpm_mult.sum( [varbs[i]] )\n",
    "\n",
    "        cpms_cp = [y for (x,y) in zip( is_inscope, cpms_cp ) if x == False]\n",
    "        cpms_cp.insert(0, cpm_mult)\n",
    "\n"
   ]
  },
  {
   "cell_type": "code",
   "execution_count": 90,
   "id": "b8418f4a",
   "metadata": {},
   "outputs": [
    {
     "name": "stdout",
     "output_type": "stream",
     "text": [
      "0\n"
     ]
    }
   ],
   "source": [
    "for i, (j, M) in enumerate(zip(sample_order, [cpms['haz']])):\n",
    "    print(i)"
   ]
  },
  {
   "cell_type": "code",
   "execution_count": 58,
   "id": "54f8db46",
   "metadata": {},
   "outputs": [
    {
     "name": "stdout",
     "output_type": "stream",
     "text": [
      "['haz', 'e1', 'e2', 'e3', 'e4', 'e5', 'e6']\n"
     ]
    }
   ],
   "source": [
    "print(['haz'] + list(arcs.keys()))"
   ]
  },
  {
   "cell_type": "code",
   "execution_count": 85,
   "id": "edadb235",
   "metadata": {},
   "outputs": [
    {
     "name": "stdout",
     "output_type": "stream",
     "text": [
      "[0 1 2 3 4 5 6 7 8 9]\n"
     ]
    }
   ],
   "source": []
  },
  {
   "cell_type": "code",
   "execution_count": null,
   "id": "42a22657",
   "metadata": {},
   "outputs": [],
   "source": []
  }
 ],
 "metadata": {
  "kernelspec": {
   "display_name": "Python 3 (ipykernel)",
   "language": "python",
   "name": "python3"
  },
  "language_info": {
   "codemirror_mode": {
    "name": "ipython",
    "version": 3
   },
   "file_extension": ".py",
   "mimetype": "text/x-python",
   "name": "python",
   "nbconvert_exporter": "python",
   "pygments_lexer": "ipython3",
   "version": "3.9.7"
  }
 },
 "nbformat": 4,
 "nbformat_minor": 5
}
