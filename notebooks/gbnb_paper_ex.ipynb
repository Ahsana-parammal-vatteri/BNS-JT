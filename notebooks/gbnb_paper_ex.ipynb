{
 "cells": [
  {
   "cell_type": "code",
   "execution_count": 1,
   "metadata": {},
   "outputs": [],
   "source": [
    "import sys\n",
    "sys.path.insert(0, '/home/hyeuk/Projects/BNS_JT')"
   ]
  },
  {
   "cell_type": "code",
   "execution_count": 2,
   "metadata": {},
   "outputs": [],
   "source": [
    "import networkx as nx\n",
    "import numpy as np\n",
    "from pathlib import Path\n",
    "import copy\n",
    "\n",
    "from BNS_JT import trans, branch, variable, cpm, gen_bnb\n",
    "\n",
    "HOME = Path.cwd()"
   ]
  },
  {
   "cell_type": "code",
   "execution_count": 3,
   "metadata": {},
   "outputs": [],
   "source": [
    "import pandas as pd"
   ]
  },
  {
   "cell_type": "markdown",
   "metadata": {},
   "source": [
    "# Illustrative example: Routine"
   ]
  },
  {
   "cell_type": "code",
   "execution_count": 4,
   "metadata": {},
   "outputs": [],
   "source": [
    "# Network\n",
    "node_coords = {'n1': (0, 0),\n",
    "               'n2': (1, 1),\n",
    "               'n3': (1, -1),\n",
    "               'n4': (2, 0)}\n",
    "\n",
    "arcs = {'e1': ['n1', 'n2'],\n",
    "\t'e2': ['n1', 'n3'],\n",
    "\t'e3': ['n2', 'n3'],\n",
    "\t'e4': ['n2', 'n4'],\n",
    "\t'e5': ['n3', 'n4']}\n",
    "n_arc = len(arcs)\n",
    "\n",
    "probs = {'e1': {0: 0.01, 1:0.99}, 'e2': {0:0.02, 1:0.98}, 'e3': {0:0.03, 1:0.97}, 'e4': {0:0.04, 1:0.96}, 'e5': {0:0.05, 1:0.95}}\n",
    "\n",
    "od_pair=('n1','n4')\n"
   ]
  },
  {
   "cell_type": "code",
   "execution_count": 5,
   "metadata": {},
   "outputs": [],
   "source": [
    "nodes = pd.DataFrame(node_coords, index=['pos_x', 'pos_y']).T"
   ]
  },
  {
   "cell_type": "code",
   "execution_count": 6,
   "metadata": {},
   "outputs": [],
   "source": [
    "from BNS_JT import config"
   ]
  },
  {
   "cell_type": "code",
   "execution_count": 7,
   "metadata": {},
   "outputs": [
    {
     "name": "stdout",
     "output_type": "stream",
     "text": [
      "scenario to be added later\n"
     ]
    }
   ],
   "source": [
    "cfg = config.Config('/home/hyeuk/Projects/BNS_JT/BNS_JT/demos/routine/config.json')"
   ]
  },
  {
   "cell_type": "code",
   "execution_count": 10,
   "metadata": {},
   "outputs": [
    {
     "data": {
      "text/plain": [
       "{'od1': ('n1', 'n4')}"
      ]
     },
     "execution_count": 10,
     "metadata": {},
     "output_type": "execute_result"
    }
   ],
   "source": [
    "cfg.infra['ODs']"
   ]
  },
  {
   "cell_type": "code",
   "execution_count": 23,
   "metadata": {},
   "outputs": [
    {
     "data": {
      "text/html": [
       "<div>\n",
       "<style scoped>\n",
       "    .dataframe tbody tr th:only-of-type {\n",
       "        vertical-align: middle;\n",
       "    }\n",
       "\n",
       "    .dataframe tbody tr th {\n",
       "        vertical-align: top;\n",
       "    }\n",
       "\n",
       "    .dataframe thead th {\n",
       "        text-align: right;\n",
       "    }\n",
       "</style>\n",
       "<table border=\"1\" class=\"dataframe\">\n",
       "  <thead>\n",
       "    <tr style=\"text-align: right;\">\n",
       "      <th></th>\n",
       "      <th>pos_x</th>\n",
       "      <th>pos_y</th>\n",
       "    </tr>\n",
       "  </thead>\n",
       "  <tbody>\n",
       "    <tr>\n",
       "      <th>n1</th>\n",
       "      <td>0</td>\n",
       "      <td>0</td>\n",
       "    </tr>\n",
       "    <tr>\n",
       "      <th>n2</th>\n",
       "      <td>1</td>\n",
       "      <td>1</td>\n",
       "    </tr>\n",
       "    <tr>\n",
       "      <th>n3</th>\n",
       "      <td>1</td>\n",
       "      <td>-1</td>\n",
       "    </tr>\n",
       "    <tr>\n",
       "      <th>n4</th>\n",
       "      <td>2</td>\n",
       "      <td>0</td>\n",
       "    </tr>\n",
       "  </tbody>\n",
       "</table>\n",
       "</div>"
      ],
      "text/plain": [
       "    pos_x  pos_y\n",
       "n1      0      0\n",
       "n2      1      1\n",
       "n3      1     -1\n",
       "n4      2      0"
      ]
     },
     "execution_count": 23,
     "metadata": {},
     "output_type": "execute_result"
    }
   ],
   "source": [
    "nodes"
   ]
  },
  {
   "cell_type": "code",
   "execution_count": 8,
   "metadata": {},
   "outputs": [],
   "source": [
    "def conn(comps_st, od_pair, arcs): # connectivity analysis\n",
    "    G = nx.Graph()\n",
    "    for k,x in comps_st.items():\n",
    "        if x > 0:\n",
    "            G.add_edge(arcs[k][0], arcs[k][1], capacity=1)\n",
    "\n",
    "\n",
    "    if od_pair[0] in G.nodes and od_pair[1] in G.nodes:\n",
    "        f_val, _ = nx.maximum_flow(G,od_pair[0],od_pair[1])\n",
    "    else:\n",
    "        f_val = 0\n",
    "\n",
    "    if f_val > 0:\n",
    "        sys_st = 's'\n",
    "\n",
    "        p = nx.shortest_path( G, od_pair[0], od_pair[1] )\n",
    "\n",
    "        min_comps_st = {}\n",
    "        for i in range(len(p)-1):\n",
    "            pair = [p[i], p[i+1]]\n",
    "            if pair in arcs.values():\n",
    "                a = list(arcs.keys())[list(arcs.values()).index(pair)]\n",
    "            else:\n",
    "                a = list(arcs.keys())[list(arcs.values()).index([pair[1], pair[0]])]\n",
    "            min_comps_st[a] = 1\n",
    "\n",
    "    else:\n",
    "        sys_st = 'f'\n",
    "        min_comps_st = None\n",
    "\n",
    "    return f_val, sys_st, min_comps_st\n",
    "\n",
    "sys_fun = lambda comps_st : conn(comps_st, od_pair, arcs)"
   ]
  },
  {
   "cell_type": "code",
   "execution_count": 9,
   "metadata": {},
   "outputs": [
    {
     "name": "stdout",
     "output_type": "stream",
     "text": [
      "2 s {'e1': 1, 'e4': 1}\n",
      "0 f None\n"
     ]
    }
   ],
   "source": [
    "comps_st1 = {'e'+str(i+1): 1 for i in range(n_arc)}\n",
    "f_val1, sys_st1, min_comps_st1 = conn(comps_st1, od_pair, arcs)\n",
    "print( f_val1, sys_st1, min_comps_st1 )\n",
    "\n",
    "comps_st2 = {'e1':1, 'e2': 0, 'e3':0, 'e4':0, 'e5':1}\n",
    "f_val2, sys_st2, min_comps_st2 = conn(comps_st2, od_pair, arcs)\n",
    "print( f_val2, sys_st2, min_comps_st2 )"
   ]
  },
  {
   "cell_type": "code",
   "execution_count": 10,
   "metadata": {},
   "outputs": [],
   "source": [
    "varis = {}\n",
    "for k, v in arcs.items():\n",
    "    varis[k] = variable.Variable( name=k, values = ['fail', 'surv'])"
   ]
  },
  {
   "cell_type": "code",
   "execution_count": 11,
   "metadata": {},
   "outputs": [
    {
     "name": "stdout",
     "output_type": "stream",
     "text": [
      "[System function runs 0]..\n",
      "The # of found non-dominated rules (f, s): 0 (0, 0)\n",
      "Probability of branchs (f, s, u): (0.00, 0.00, 1.00)\n",
      "# of unknown branches to go: 1, 1\n",
      "\n",
      "[System function runs 1]..\n",
      "The # of found non-dominated rules (f, s): 1 (0, 1)\n",
      "Probability of branchs (f, s, u): (0.00, 0.00, 1.00)\n",
      "# of unknown branches to go: 1, 1\n",
      "\n",
      "[System function runs 2]..\n",
      "The # of found non-dominated rules (f, s): 2 (1, 1)\n",
      "Probability of branchs (f, s, u): (0.00, 0.00, 1.00)\n",
      "# of unknown branches to go: 2, 2\n",
      "\n",
      "[System function runs 2]..\n",
      "The # of found non-dominated rules (f, s): 2 (1, 1)\n",
      "Probability of branchs (f, s, u): (0.00, 0.00, 1.00)\n",
      "# of unknown branches to go: 1, 2\n",
      "\n",
      "[System function runs 3]..\n",
      "The # of found non-dominated rules (f, s): 2 (1, 1)\n",
      "Probability of branchs (f, s, u): (0.00, 0.00, 1.00)\n",
      "# of unknown branches to go: 2, 2\n",
      "\n",
      "[System function runs 3]..\n",
      "The # of found non-dominated rules (f, s): 2 (1, 1)\n",
      "Probability of branchs (f, s, u): (0.00, 0.00, 1.00)\n",
      "# of unknown branches to go: 1, 2\n",
      "\n",
      "[System function runs 4]..\n",
      "The # of found non-dominated rules (f, s): 3 (2, 1)\n",
      "Probability of branchs (f, s, u): (0.00, 0.00, 1.00)\n",
      "# of unknown branches to go: 2, 2\n",
      "\n",
      "[System function runs 4]..\n",
      "The # of found non-dominated rules (f, s): 3 (2, 1)\n",
      "Probability of branchs (f, s, u): (0.00, 0.00, 1.00)\n",
      "# of unknown branches to go: 1, 2\n",
      "\n",
      "[System function runs 5]..\n",
      "The # of found non-dominated rules (f, s): 4 (2, 2)\n",
      "Probability of branchs (f, s, u): (0.00, 0.00, 1.00)\n",
      "# of unknown branches to go: 2, 2\n",
      "\n",
      "[System function runs 5]..\n",
      "The # of found non-dominated rules (f, s): 4 (2, 2)\n",
      "Probability of branchs (f, s, u): (0.00, 0.00, 1.00)\n",
      "# of unknown branches to go: 3, 3\n",
      "\n",
      "[System function runs 5]..\n",
      "The # of found non-dominated rules (f, s): 4 (2, 2)\n",
      "Probability of branchs (f, s, u): (0.00, 0.95, 0.05)\n",
      "# of unknown branches to go: 1, 3\n",
      "\n",
      "[System function runs 6]..\n",
      "The # of found non-dominated rules (f, s): 5 (3, 2)\n",
      "Probability of branchs (f, s, u): (0.00, 0.00, 1.00)\n",
      "# of unknown branches to go: 2, 3\n",
      "\n",
      "[System function runs 6]..\n",
      "The # of found non-dominated rules (f, s): 5 (3, 2)\n",
      "Probability of branchs (f, s, u): (0.00, 0.00, 1.00)\n",
      "# of unknown branches to go: 3, 3\n",
      "\n",
      "[System function runs 6]..\n",
      "The # of found non-dominated rules (f, s): 5 (3, 2)\n",
      "Probability of branchs (f, s, u): (0.00, 0.95, 0.05)\n",
      "# of unknown branches to go: 1, 3\n",
      "\n",
      "[System function runs 7]..\n",
      "The # of found non-dominated rules (f, s): 6 (4, 2)\n",
      "Probability of branchs (f, s, u): (0.00, 0.00, 1.00)\n",
      "# of unknown branches to go: 2, 3\n",
      "\n",
      "[System function runs 7]..\n",
      "The # of found non-dominated rules (f, s): 6 (4, 2)\n",
      "Probability of branchs (f, s, u): (0.00, 0.00, 1.00)\n",
      "# of unknown branches to go: 3, 3\n",
      "\n",
      "[System function runs 7]..\n",
      "The # of found non-dominated rules (f, s): 6 (4, 2)\n",
      "Probability of branchs (f, s, u): (0.00, 0.95, 0.05)\n",
      "# of unknown branches to go: 1, 3\n",
      "\n",
      "[System function runs 8]..\n",
      "The # of found non-dominated rules (f, s): 5 (3, 2)\n",
      "Probability of branchs (f, s, u): (0.00, 0.00, 1.00)\n",
      "# of unknown branches to go: 2, 3\n",
      "\n",
      "[System function runs 8]..\n",
      "The # of found non-dominated rules (f, s): 5 (3, 2)\n",
      "Probability of branchs (f, s, u): (0.00, 0.00, 1.00)\n",
      "# of unknown branches to go: 2, 3\n",
      "\n",
      "[System function runs 8]..\n",
      "The # of found non-dominated rules (f, s): 5 (3, 2)\n",
      "Probability of branchs (f, s, u): (0.00, 0.95, 0.05)\n",
      "# of unknown branches to go: 3, 3\n",
      "\n",
      "[System function runs 8]..\n",
      "The # of found non-dominated rules (f, s): 5 (3, 2)\n",
      "Probability of branchs (f, s, u): (0.00, 0.96, 0.04)\n",
      "# of unknown branches to go: 1, 3\n",
      "\n",
      "[System function runs 9]..\n",
      "The # of found non-dominated rules (f, s): 5 (3, 2)\n",
      "Probability of branchs (f, s, u): (0.00, 0.00, 1.00)\n",
      "# of unknown branches to go: 2, 3\n",
      "\n",
      "[System function runs 9]..\n",
      "The # of found non-dominated rules (f, s): 5 (3, 2)\n",
      "Probability of branchs (f, s, u): (0.00, 0.00, 1.00)\n",
      "# of unknown branches to go: 3, 3\n",
      "\n",
      "[System function runs 9]..\n",
      "The # of found non-dominated rules (f, s): 5 (3, 2)\n",
      "Probability of branchs (f, s, u): (0.00, 0.95, 0.05)\n",
      "# of unknown branches to go: 1, 3\n",
      "\n",
      "[System function runs 10]..\n",
      "The # of found non-dominated rules (f, s): 6 (3, 3)\n",
      "Probability of branchs (f, s, u): (0.00, 0.00, 1.00)\n",
      "# of unknown branches to go: 2, 3\n",
      "\n",
      "[System function runs 10]..\n",
      "The # of found non-dominated rules (f, s): 6 (3, 3)\n",
      "Probability of branchs (f, s, u): (0.00, 0.00, 1.00)\n",
      "# of unknown branches to go: 3, 3\n",
      "\n",
      "[System function runs 10]..\n",
      "The # of found non-dominated rules (f, s): 6 (3, 3)\n",
      "Probability of branchs (f, s, u): (0.00, 0.95, 0.05)\n",
      "# of unknown branches to go: 1, 3\n",
      "\n",
      "[System function runs 11]..\n",
      "The # of found non-dominated rules (f, s): 5 (2, 3)\n",
      "Probability of branchs (f, s, u): (0.00, 0.00, 1.00)\n",
      "# of unknown branches to go: 2, 3\n",
      "\n",
      "[System function runs 11]..\n",
      "The # of found non-dominated rules (f, s): 5 (2, 3)\n",
      "Probability of branchs (f, s, u): (0.00, 0.00, 1.00)\n",
      "# of unknown branches to go: 3, 3\n",
      "\n",
      "[System function runs 11]..\n",
      "The # of found non-dominated rules (f, s): 5 (2, 3)\n",
      "Probability of branchs (f, s, u): (0.00, 0.95, 0.05)\n",
      "# of unknown branches to go: 1, 3\n",
      "\n",
      "[System function runs 12]..\n",
      "The # of found non-dominated rules (f, s): 6 (2, 4)\n",
      "Probability of branchs (f, s, u): (0.00, 0.00, 1.00)\n",
      "# of unknown branches to go: 2, 3\n",
      "\n",
      "[System function runs 12]..\n",
      "The # of found non-dominated rules (f, s): 6 (2, 4)\n",
      "Probability of branchs (f, s, u): (0.00, 0.00, 1.00)\n",
      "# of unknown branches to go: 2, 3\n",
      "\n",
      "[System function runs 12]..\n",
      "The # of found non-dominated rules (f, s): 6 (2, 4)\n",
      "Probability of branchs (f, s, u): (0.00, 0.95, 0.05)\n",
      "# of unknown branches to go: 2, 3\n",
      "\n",
      "[System function runs 12]..\n",
      "The # of found non-dominated rules (f, s): 6 (2, 4)\n",
      "Probability of branchs (f, s, u): (0.00, 0.96, 0.04)\n",
      "# of unknown branches to go: 1, 3\n",
      "\n",
      "[System function runs 13]..\n",
      "The # of found non-dominated rules (f, s): 7 (3, 4)\n",
      "Probability of branchs (f, s, u): (0.00, 0.00, 1.00)\n",
      "# of unknown branches to go: 2, 3\n",
      "\n",
      "[System function runs 13]..\n",
      "The # of found non-dominated rules (f, s): 7 (3, 4)\n",
      "Probability of branchs (f, s, u): (0.00, 0.00, 1.00)\n",
      "# of unknown branches to go: 3, 3\n",
      "\n",
      "[System function runs 13]..\n",
      "The # of found non-dominated rules (f, s): 7 (3, 4)\n",
      "Probability of branchs (f, s, u): (0.00, 0.95, 0.05)\n",
      "# of unknown branches to go: 2, 3\n",
      "\n",
      "[System function runs 13]..\n",
      "The # of found non-dominated rules (f, s): 7 (3, 4)\n",
      "Probability of branchs (f, s, u): (0.00, 0.99, 0.01)\n",
      "# of unknown branches to go: 1, 3\n",
      "\n",
      "[System function runs 14]..\n",
      "The # of found non-dominated rules (f, s): 8 (4, 4)\n",
      "Probability of branchs (f, s, u): (0.00, 0.00, 1.00)\n",
      "# of unknown branches to go: 2, 3\n",
      "\n",
      "[System function runs 14]..\n",
      "The # of found non-dominated rules (f, s): 8 (4, 4)\n",
      "Probability of branchs (f, s, u): (0.00, 0.00, 1.00)\n",
      "# of unknown branches to go: 2, 3\n",
      "\n",
      "[System function runs 14]..\n",
      "The # of found non-dominated rules (f, s): 8 (4, 4)\n",
      "Probability of branchs (f, s, u): (0.00, 0.95, 0.05)\n",
      "# of unknown branches to go: 2, 3\n",
      "\n",
      "[System function runs 14]..\n",
      "The # of found non-dominated rules (f, s): 8 (4, 4)\n",
      "Probability of branchs (f, s, u): (0.00, 0.96, 0.04)\n",
      "# of unknown branches to go: 2, 3\n",
      "\n",
      "[System function runs 14]..\n",
      "The # of found non-dominated rules (f, s): 8 (4, 4)\n",
      "Probability of branchs (f, s, u): (0.00, 1.00, 0.00)\n",
      "# of unknown branches to go: 0, 3\n",
      "\n",
      "**Algorithm Terminated**\n"
     ]
    }
   ],
   "source": [
    "brs, rules, sys_res, monitor = gen_bnb.proposed_branch_and_bound_using_probs(sys_fun, varis, probs, max_br=1000,\n",
    "                                                        output_path=HOME, key='conn')\n"
   ]
  },
  {
   "cell_type": "markdown",
   "metadata": {},
   "source": [
    "# 1. Plotting of Branch and Bound results"
   ]
  },
  {
   "cell_type": "code",
   "execution_count": 15,
   "metadata": {},
   "outputs": [],
   "source": [
    "import matplotlib.pyplot as plt"
   ]
  },
  {
   "cell_type": "code",
   "execution_count": 22,
   "metadata": {},
   "outputs": [
    {
     "data": {
      "image/png": "[encoded data removed]",
      "text/plain": [
       "<Figure size 640x480 with 1 Axes>"
      ]
     },
     "metadata": {},
     "output_type": "display_data"
    }
   ],
   "source": [
    "plt.plot(br_ns, pf_low, color='blue')\n",
    "plt.plot(br_ns, pf_up, color='blue')\n",
    "plt.xlabel('Number of branches')\n",
    "plt.ylabel('System failure probability bounds')\n",
    "\n",
    "%matplotlib inline\n",
    "plt.show()"
   ]
  },
  {
   "cell_type": "code",
   "execution_count": 23,
   "metadata": {},
   "outputs": [
    {
     "data": {
      "image/png": "[encoded data removed]",
      "text/plain": [
       "<Figure size 640x480 with 1 Axes>"
      ]
     },
     "metadata": {},
     "output_type": "display_data"
    }
   ],
   "source": [
    "plt.plot(sf_ns, pf_low, color='blue')\n",
    "plt.plot(sf_ns, pf_up, color='blue')\n",
    "plt.xlabel('Number of system function runs')\n",
    "plt.ylabel('System failure probability bounds')\n",
    "\n",
    "%matplotlib inline\n",
    "plt.show()"
   ]
  },
  {
   "cell_type": "code",
   "execution_count": 24,
   "metadata": {},
   "outputs": [
    {
     "data": {
      "image/png": "[encoded data removed]",
      "text/plain": [
       "<Figure size 640x480 with 1 Axes>"
      ]
     },
     "metadata": {},
     "output_type": "display_data"
    }
   ],
   "source": [
    "plt.plot(r_ns, pf_low, color='blue')\n",
    "plt.plot(r_ns, pf_up, color='blue')\n",
    "plt.xlabel('Number of rules')\n",
    "plt.ylabel('System failure probability bounds')\n",
    "\n",
    "%matplotlib inline\n",
    "plt.show()"
   ]
  },
  {
   "cell_type": "markdown",
   "metadata": {},
   "source": [
    "# 2. Inference -- New product function to not split composite states in a system event's C matrix"
   ]
  },
  {
   "cell_type": "code",
   "execution_count": 12,
   "metadata": {},
   "outputs": [],
   "source": [
    "st_br_to_cs = {'f': 0, 's': 1, 'u': 2}\n",
    "result = gen_bnb.get_csys_from_brs(brs, varis, st_br_to_cs)"
   ]
  },
  {
   "cell_type": "code",
   "execution_count": 13,
   "metadata": {},
   "outputs": [],
   "source": [
    "cpms = {}\n",
    "for e,v in arcs.items():\n",
    "    cpms[e] = cpm.Cpm( variables=[varis[e]], no_child = 1, C=np.array([0,1]), p=[probs[e][0], probs[e][1]] )\n"
   ]
  },
  {
   "cell_type": "code",
   "execution_count": 14,
   "metadata": {},
   "outputs": [],
   "source": [
    "varis['sys'] = variable.Variable( name='sys', values=['f', 's', 'u'] ) #FIXME When trying to define B here, an error occurs. Can we revise this to give users liberty to define this?\n",
    "cpms['sys'] = cpm.Cpm( variables=[varis['sys']] + [varis[e] for e in arcs.keys()], no_child = 1, C=result[0], p=np.ones((len(result[0]),1)) )\n"
   ]
  },
  {
   "cell_type": "code",
   "execution_count": 15,
   "metadata": {},
   "outputs": [],
   "source": [
    "# New product function\n",
    "def prod_Msys_Mcomps(Msys, Mcomps_dict, varis):\n",
    "    Cs = Msys.C\n",
    "    ps = Msys.p\n",
    "    v_sys = Msys.variables\n",
    "\n",
    "    p_new = copy.deepcopy(ps)\n",
    "    for i in range(len(v_sys)-Msys.no_child):\n",
    "        c_name = v_sys[Msys.no_child+i].name\n",
    "        M1 = Mcomps_dict[c_name]\n",
    "        C1_list = [c[0] for c in M1.C] # TODO: For now this only works for marginal distributions of component evets\n",
    "        for j in range(len(p_new)):\n",
    "            st = Cs[j][Msys.no_child+i]\n",
    "            st_set = varis[c_name].B[st]\n",
    "            p_st = 0.0\n",
    "            for k in st_set:\n",
    "                p_st += M1.p[C1_list.index(k)][0]\n",
    "\n",
    "            p_new[j] *= p_st\n",
    "\n",
    "    Mnew = cpm.Cpm( variables=v_sys, no_child=len(v_sys), C = Cs, p = p_new )\n",
    "\n",
    "    return Mnew"
   ]
  },
  {
   "cell_type": "code",
   "execution_count": 16,
   "metadata": {},
   "outputs": [
    {
     "name": "stdout",
     "output_type": "stream",
     "text": [
      "Cpm(variables=['sys', 'e1', 'e2', 'e3', 'e4', 'e5'], no_child=6, C=[[1 1 2 2 1 2]\n",
      " [1 1 1 2 0 1]\n",
      " [1 0 1 2 2 1]\n",
      " [0 1 2 2 0 0]\n",
      " [0 1 0 0 0 1]\n",
      " [1 1 0 1 0 1]\n",
      " [0 0 1 1 0 0]\n",
      " [1 0 1 1 1 0]\n",
      " [0 0 0 2 2 2]\n",
      " [0 0 1 0 2 0]], p=[[9.50400e-01]\n",
      " [3.68676e-02]\n",
      " [9.31000e-03]\n",
      " [1.98000e-03]\n",
      " [2.25720e-05]\n",
      " [7.29828e-04]\n",
      " [1.90120e-05]\n",
      " [4.56288e-04]\n",
      " [2.00000e-04]\n",
      " [1.47000e-05]]\n"
     ]
    }
   ],
   "source": [
    "Msys = copy.deepcopy( cpms['sys'] )\n",
    "Mcomps = copy.deepcopy( {x:cpms[x] for x in arcs.keys()} )\n",
    "\n",
    "Mnew = prod_Msys_Mcomps(Msys, Mcomps, varis)\n",
    "print(Mnew)"
   ]
  },
  {
   "cell_type": "code",
   "execution_count": 17,
   "metadata": {},
   "outputs": [],
   "source": [
    "Mnew1 = cpm.prod_cpm_sys_and_comps(Msys, Mcomps, varis)"
   ]
  },
  {
   "cell_type": "code",
   "execution_count": 19,
   "metadata": {},
   "outputs": [
    {
     "data": {
      "text/plain": [
       "Cpm(variables=['sys', 'e1', 'e2', 'e3', 'e4', 'e5'], no_child=1, C=[[1 1 2 2 1 2]\n",
       " [1 1 1 2 0 1]\n",
       " [1 0 1 2 2 1]\n",
       " [0 1 2 2 0 0]\n",
       " [0 1 0 0 0 1]\n",
       " [1 1 0 1 0 1]\n",
       " [0 0 1 1 0 0]\n",
       " [1 0 1 1 1 0]\n",
       " [0 0 0 2 2 2]\n",
       " [0 0 1 0 2 0]], p=[[1.]\n",
       " [1.]\n",
       " [1.]\n",
       " [1.]\n",
       " [1.]\n",
       " [1.]\n",
       " [1.]\n",
       " [1.]\n",
       " [1.]\n",
       " [1.]]"
      ]
     },
     "execution_count": 19,
     "metadata": {},
     "output_type": "execute_result"
    }
   ],
   "source": [
    "Msys"
   ]
  },
  {
   "cell_type": "code",
   "execution_count": 18,
   "metadata": {},
   "outputs": [
    {
     "data": {
      "text/plain": [
       "Cpm(variables=['sys', 'e1', 'e2', 'e3', 'e4', 'e5'], no_child=6, C=[[1 1 2 2 1 2]\n",
       " [1 1 1 2 0 1]\n",
       " [1 0 1 2 2 1]\n",
       " [0 1 2 2 0 0]\n",
       " [0 1 0 0 0 1]\n",
       " [1 1 0 1 0 1]\n",
       " [0 0 1 1 0 0]\n",
       " [1 0 1 1 1 0]\n",
       " [0 0 0 2 2 2]\n",
       " [0 0 1 0 2 0]], p=[[9.50400e-01]\n",
       " [3.68676e-02]\n",
       " [9.31000e-03]\n",
       " [1.98000e-03]\n",
       " [2.25720e-05]\n",
       " [7.29828e-04]\n",
       " [1.90120e-05]\n",
       " [4.56288e-04]\n",
       " [2.00000e-04]\n",
       " [1.47000e-05]]"
      ]
     },
     "execution_count": 18,
     "metadata": {},
     "output_type": "execute_result"
    }
   ],
   "source": [
    "Mnew1"
   ]
  },
  {
   "cell_type": "code",
   "execution_count": 78,
   "metadata": {},
   "outputs": [],
   "source": [
    "def get_prob( M, v_name, v_st ):\n",
    "\n",
    "    v_names = [v.name for v in M.variables]\n",
    "    v_loc = v_names.index(v_name)\n",
    "\n",
    "    C_list = [c[v_loc] for c in M.C]\n",
    "    prob = 0.0\n",
    "    for i,c in enumerate(C_list):\n",
    "        if c == v_st:\n",
    "            prob += M.p[i]\n",
    "\n",
    "    return prob\n",
    "    \n"
   ]
  },
  {
   "cell_type": "code",
   "execution_count": 80,
   "metadata": {},
   "outputs": [
    {
     "name": "stdout",
     "output_type": "stream",
     "text": [
      "failure prob:  [0.00223628]\n",
      "survival prob:  [0.99776372]\n"
     ]
    }
   ],
   "source": [
    "pf = get_prob( Mnew, 'sys', 0 )\n",
    "print(\"failure prob: \", pf)\n",
    "\n",
    "ps = get_prob( Mnew, 'sys', 1 )\n",
    "print(\"survival prob: \", ps)\n",
    "\n"
   ]
  },
  {
   "cell_type": "markdown",
   "metadata": {},
   "source": [
    "# 3. B&B + MCS"
   ]
  },
  {
   "cell_type": "code",
   "execution_count": null,
   "metadata": {},
   "outputs": [],
   "source": [
    "varis_c = {e:varis[e] for e in arcs.keys()}\n",
    "\n",
    "# Incomplete B&B (by setting max_br=10)\n",
    "brs2, rules2, sys_res2, _, _, _, _, _ = gen_bnb.proposed_branch_and_bound_using_probs(sys_fun, varis_c, probs, max_br=8,\n",
    "                                                                                      output_path=HOME, key='conn')\n",
    "\n",
    "st_br_to_cs = {'f': 0, 's': 1, 'u': 2}\n",
    "result2 = gen_bnb.get_csys_from_brs(brs2, varis_c, st_br_to_cs)\n",
    "\n",
    "varis['sys2'] = variable.Variable( name='sys2', values=['f', 's', 'u'] ) #FIXME When trying to define B here, an error occurs. Can we revise this to give users liberty to define this?\n",
    "cpms['sys2'] = cpm.Cpm( variables=[varis['sys2']] + [varis[e] for e in arcs.keys()], no_child = 1, C=result2[0], p=np.ones((len(result2[0]),1)) )"
   ]
  },
  {
   "cell_type": "code",
   "execution_count": 89,
   "metadata": {},
   "outputs": [
    {
     "name": "stdout",
     "output_type": "stream",
     "text": [
      "Cpm(variables=['sys2', 'e1', 'e2', 'e3', 'e4', 'e5'], no_child=1, C=[[1 1 2 2 1 2]\n",
      " [2 1 0 2 0 1]\n",
      " [1 1 1 2 0 1]\n",
      " [1 0 1 2 2 1]\n",
      " [0 1 2 2 0 0]\n",
      " [0 0 1 0 2 0]\n",
      " [2 0 1 1 2 0]\n",
      " [0 0 0 2 2 2]], p=[[1.]\n",
      " [1.]\n",
      " [1.]\n",
      " [1.]\n",
      " [1.]\n",
      " [1.]\n",
      " [1.]\n",
      " [1.]]\n"
     ]
    }
   ],
   "source": [
    "print(cpms['sys2'])"
   ]
  },
  {
   "cell_type": "code",
   "execution_count": 97,
   "metadata": {},
   "outputs": [],
   "source": [
    "def get_Msub( M, v_name, v_st ):\n",
    "\n",
    "    v_names = [v.name for v in M.variables]\n",
    "    v_loc = v_names.index(v_name)\n",
    "\n",
    "    Csub = np.empty((0,len(v_names)), dtype=int)\n",
    "    psub = np.empty((0,1), dtype=float)\n",
    "\n",
    "    C_list = [c[v_loc] for c in M.C]\n",
    "    for i,c in enumerate(C_list):\n",
    "        if c == v_st:\n",
    "            Csub=np.vstack([Csub, M.C[i]])\n",
    "            psub =np.vstack([psub, M.p[i]])\n",
    "\n",
    "    Msub = cpm.Cpm( variables=M.variables, no_child=M.no_child, C=Csub, p=psub )\n",
    "\n",
    "    return Msub"
   ]
  },
  {
   "cell_type": "code",
   "execution_count": 98,
   "metadata": {},
   "outputs": [
    {
     "name": "stdout",
     "output_type": "stream",
     "text": [
      "Cpm(variables=['sys2', 'e1', 'e2', 'e3', 'e4', 'e5'], no_child=6, C=[[1 1 2 2 1 2]\n",
      " [2 1 0 2 0 1]\n",
      " [1 1 1 2 0 1]\n",
      " [1 0 1 2 2 1]\n",
      " [0 1 2 2 0 0]\n",
      " [0 0 1 0 2 0]\n",
      " [2 0 1 1 2 0]\n",
      " [0 0 0 2 2 2]], p=[[9.50400e-01]\n",
      " [7.52400e-04]\n",
      " [3.68676e-02]\n",
      " [9.31000e-03]\n",
      " [1.98000e-03]\n",
      " [1.47000e-05]\n",
      " [4.75300e-04]\n",
      " [2.00000e-04]]\n",
      "[0.0021947]\n",
      "[0.0012277]\n",
      "Cpm(variables=['sys2', 'e1', 'e2', 'e3', 'e4', 'e5'], no_child=6, C=[[2 1 0 2 0 1]\n",
      " [2 0 1 1 2 0]], p=[[0.0007524]\n",
      " [0.0004753]]\n"
     ]
    }
   ],
   "source": [
    "Msys2 = copy.deepcopy( cpms['sys2'] )\n",
    "Mnew2 = prod_Msys_Mcomps(Msys2, Mcomps, varis)\n",
    "\n",
    "pf2_bnb = get_prob( Mnew2, 'sys2', 0 )\n",
    "print(pf2_bnb)\n",
    "\n",
    "unk_pr = get_prob( Mnew2, 'sys2', 2 )\n",
    "print(unk_pr)\n",
    "\n",
    "Munk = get_Msub( Mnew2, 'sys2', 2 )\n",
    "print(Munk)"
   ]
  },
  {
   "cell_type": "code",
   "execution_count": null,
   "metadata": {},
   "outputs": [],
   "source": [
    "cov = 1.0\n",
    "cov_t = 0.05\n",
    "no_pf_mcs = 0\n",
    "no_mcs = 0\n",
    "while (cov > cov_t) or (no_pf_mcs < 1):\n",
    "\n",
    "    no_mcs += 1\n",
    "    "
   ]
  },
  {
   "cell_type": "code",
   "execution_count": 113,
   "metadata": {},
   "outputs": [],
   "source": [
    "import random\n",
    "Mmcs = Munk\n",
    "c_names = list(arcs.keys())"
   ]
  },
  {
   "cell_type": "code",
   "execution_count": 112,
   "metadata": {},
   "outputs": [
    {
     "name": "stdout",
     "output_type": "stream",
     "text": [
      "[1]\n"
     ]
    }
   ],
   "source": [
    "samp_ind = random.choices( list(range(len(Mmcs.p))), weights=(k[0] for k in Mmcs.p) )\n",
    "print(samp_ind)\n",
    "\n",
    "\n",
    "v_names = [v.name for v in Mmcs.variables]\n",
    "c_locs = {c:v_names.index(c) for c in c_names}\n",
    "\n",
    "samp_e = Mmcs.C[samp_ind]\n",
    "samp = np.empty((0,len(1+c_names)), dtype=int)\n",
    "for c in c_names:\n",
    "    c_st = samp_e[c_locs[c]]\n",
    "    c_B = varis[c].B\n",
    "\n",
    "    if len(c_B) < 2:\n",
    "        samp[c_locs[c]] = c_B[0]\n",
    "    else:\n",
    "        ##############290224"
   ]
  }
 ],
 "metadata": {
  "kernelspec": {
   "display_name": "bns",
   "language": "python",
   "name": "bns"
  },
  "language_info": {
   "codemirror_mode": {
    "name": "ipython",
    "version": 3
   },
   "file_extension": ".py",
   "mimetype": "text/x-python",
   "name": "python",
   "nbconvert_exporter": "python",
   "pygments_lexer": "ipython3",
   "version": "3.9.5"
  }
 },
 "nbformat": 4,
 "nbformat_minor": 4
}
