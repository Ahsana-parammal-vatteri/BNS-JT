{
 "cells": [
  {
   "cell_type": "code",
   "execution_count": 3,
   "metadata": {},
   "outputs": [],
   "source": [
    "import networkx as nx"
   ]
  },
  {
   "cell_type": "code",
   "execution_count": 2,
   "metadata": {},
   "outputs": [
    {
     "name": "stdout",
     "output_type": "stream",
     "text": [
      "[1]\n"
     ]
    }
   ],
   "source": [
    "# Network\n",
    "node_coords = {'n1': (0, 0),\n",
    "               'n2': (1, 1),\n",
    "               'n3': (1, -1),\n",
    "               'n4': (2, 0)}\n",
    "\n",
    "arcs = {'e1': ['n1', 'n2'],\n",
    "\t'e2': ['n1', 'n3'],\n",
    "\t'e3': ['n2', 'n3'],\n",
    "\t'e4': ['n2', 'n4'],\n",
    "\t'e5': ['n3', 'n4']}\n",
    "\n",
    "probs = {'e1': 0.01, 'e2': 0.02, 'e3': 0.03, 'e4': 0.04, 'e5': 0.05}\n",
    "\n",
    "od_pair=('n1','n4')\n"
   ]
  },
  {
   "cell_type": "code",
   "execution_count": null,
   "metadata": {},
   "outputs": [],
   "source": [
    "def conn(comps_st, od_pair, arcs): # connectivity analysis\n",
    "    G = nx.Graph()\n",
    "    for k,x in comps_st.items():\n",
    "        if x > 0:\n",
    "            G.add_edge(arcs[k][0], arcs[k][1])\n",
    "### 240228\n",
    "    \n",
    "    \n"
   ]
  }
 ],
 "metadata": {
  "kernelspec": {
   "display_name": "Python 3",
   "language": "python",
   "name": "python3"
  },
  "language_info": {
   "codemirror_mode": {
    "name": "ipython",
    "version": 3
   },
   "file_extension": ".py",
   "mimetype": "text/x-python",
   "name": "python",
   "nbconvert_exporter": "python",
   "pygments_lexer": "ipython3",
   "version": "3.10.10"
  }
 },
 "nbformat": 4,
 "nbformat_minor": 2
}
