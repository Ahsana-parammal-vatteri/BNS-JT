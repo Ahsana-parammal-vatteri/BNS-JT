{
 "cells": [
  {
   "cell_type": "code",
   "execution_count": 1,
   "metadata": {},
   "outputs": [],
   "source": [
    "import networkx as nx\n",
    "import matplotlib.pyplot as plt\n",
    "import os\n",
    "from BNS_JT import trans\n",
    "from BNS_JT import variable, cpm\n",
    "import numpy as np\n",
    "\n",
    "import BNS_JT\n",
    "from BNS_JT import gen_bnb\n",
    "import copy\n",
    "\n",
    "HOME = os.getcwd()\n"
   ]
  },
  {
   "cell_type": "code",
   "execution_count": 2,
   "metadata": {},
   "outputs": [
    {
     "data": {
      "text/plain": [
       "<module 'BNS_JT.gen_bnb' from 'c:\\\\Users\\\\jb622s\\\\git\\\\BNS-JT\\\\BNS_JT\\\\gen_bnb.py'>"
      ]
     },
     "execution_count": 2,
     "metadata": {},
     "output_type": "execute_result"
    }
   ],
   "source": [
    "import importlib\n",
    "importlib.reload(gen_bnb)"
   ]
  },
  {
   "cell_type": "markdown",
   "metadata": {},
   "source": [
    "# Results of general B&B algorithm to reliability analysis\n",
    "\n",
    "Complete branch and bound, deterministic inference, and indepdent components"
   ]
  },
  {
   "cell_type": "markdown",
   "metadata": {},
   "source": [
    "# Problem"
   ]
  },
  {
   "cell_type": "markdown",
   "metadata": {},
   "source": [
    "## Network"
   ]
  },
  {
   "cell_type": "code",
   "execution_count": 3,
   "metadata": {},
   "outputs": [],
   "source": [
    "# Network\n",
    "node_coords = {'n1': (-2, 3),\n",
    "               'n2': (-2, -3),\n",
    "               'n3': (2, -2),\n",
    "               'n4': (1, 1),\n",
    "               'n5': (0, 0)}\n",
    "\n",
    "arcs = {'e1': ['n1', 'n2'],\n",
    "\t'e2': ['n1', 'n5'],\n",
    "\t'e3': ['n2', 'n5'],\n",
    "\t'e4': ['n3', 'n4'],\n",
    "\t'e5': ['n3', 'n5'],\n",
    "\t'e6': ['n4', 'n5']}\n",
    "\n",
    "arcs_avg_kmh = {'e1': 40,\n",
    "                'e2': 40,\n",
    "                'e3': 40,\n",
    "                'e4': 30,\n",
    "                'e5': 30,\n",
    "                'e6': 20}\n",
    "\n",
    "arc_lens_km = trans.get_arcs_length(arcs, node_coords)\n",
    "arc_times_h = {k: v/arcs_avg_kmh[k] for k, v in arc_lens_km.items()}\n",
    "\n",
    "comps_name = [k for k in arcs] # *TODO* this is not necessary if branch's down and up are defined by dictionary (instead of list)\n",
    "\n",
    "\n",
    "od_pair = ('n1', 'n3')\n",
    "\n",
    "\n",
    "# Component events\n",
    "no_arc_st = 3 # number of component states \n",
    "delay_rat = [10, 2, 1] # delay in travel time given each component state (ratio)\n",
    "varis = {}\n",
    "for k, v in arcs.items():\n",
    "    varis[k] = variable.Variable( name=k, B = np.eye( no_arc_st ), values = [arc_times_h[k]*np.float64(x) for x in delay_rat])\n",
    "\n",
    "\n",
    "# plot graph\n",
    "G = nx.Graph()\n",
    "for k, x in arcs.items():\n",
    "    G.add_edge(x[0], x[1], time=arc_times_h[k], label=k)\n",
    "\n",
    "for k, v in node_coords.items():\n",
    "    G.add_node(k, pos=v)\n",
    "\n",
    "pos = nx.get_node_attributes(G, 'pos')\n",
    "edge_labels = nx.get_edge_attributes(G, 'label')\n",
    "\n",
    "fig = plt.figure()\n",
    "ax = fig.add_subplot()\n",
    "nx.draw(G, pos, with_labels=True, ax=ax)\n",
    "nx.draw_networkx_edge_labels(G, pos, edge_labels=edge_labels, ax=ax)\n",
    "fig.savefig(os.path.join(HOME, 'graph.png'), dpi=200)"
   ]
  },
  {
   "cell_type": "markdown",
   "metadata": {},
   "source": [
    "## Events: Independent component events"
   ]
  },
  {
   "cell_type": "code",
   "execution_count": 4,
   "metadata": {},
   "outputs": [
    {
     "name": "stdout",
     "output_type": "stream",
     "text": [
      "Cpm(variables=['e1'], no_child=1, C=[[0]\n",
      " [1]\n",
      " [2]], p=[[0.1]\n",
      " [0.2]\n",
      " [0.7]]\n",
      "Cpm(variables=['o1', 'e1'], no_child=1, C=[[0 0]\n",
      " [1 0]\n",
      " [2 0]\n",
      " [0 1]\n",
      " [1 1]\n",
      " [2 1]\n",
      " [0 2]\n",
      " [1 2]\n",
      " [2 2]], p=[[0.95]\n",
      " [0.04]\n",
      " [0.01]\n",
      " [0.3 ]\n",
      " [0.5 ]\n",
      " [0.2 ]\n",
      " [0.01]\n",
      " [0.19]\n",
      " [0.8 ]]\n"
     ]
    }
   ],
   "source": [
    "cpms = {}\n",
    "\n",
    "# Component events\n",
    "for k in arcs:\n",
    "    cpms[k] = cpm.Cpm( variables=[ varis[k] ], no_child = 1, C = np.array([1,2,3])-1, p = [0.1, 0.2, 0.7] ) \n",
    "\n",
    "# Damage observation\n",
    "C_o = np.array([[1,1], [2,1], [3,1], [1,2], [2,2], [3,2], [1,3], [2,3], [3,3]])-1\n",
    "p_o = np.array([0.95, 0.04, 0.01, 0.3, 0.5, 0.2, 0.01, 0.19, 0.8]).T\n",
    "for (i,k) in enumerate(arcs):\n",
    "    name = 'o' + str(i+1)\n",
    "\n",
    "    varis[name] = variable.Variable( name=name, B = np.eye( no_arc_st ), values = [0,1,2] ) # observation that e_i = 0, 1, or 2 ** TO DISCUSS: probably values in dictionary..?\n",
    "    cpms[name] = cpm.Cpm( variables=[ varis[name], varis[k] ], no_child = 1, C = C_o, p = p_o )\n",
    "\n",
    "print(cpms['e1'])\n",
    "print(cpms['o1'])"
   ]
  },
  {
   "cell_type": "markdown",
   "metadata": {},
   "source": [
    "# System event quantification by general B&B algorithm"
   ]
  },
  {
   "cell_type": "markdown",
   "metadata": {},
   "source": [
    "## System function"
   ]
  },
  {
   "cell_type": "code",
   "execution_count": 5,
   "metadata": {},
   "outputs": [],
   "source": [
    "def get_time_and_path( comps_st, od_pair, arcs, vari ):\n",
    "    G = nx.Graph()\n",
    "    for k, x in arcs.items():\n",
    "        c_st = comps_st[k]\n",
    "        G.add_edge(x[0], x[1], time=vari[k].values[c_st])\n",
    "\n",
    "    path = nx.shortest_path( G, source = od_pair[0], target = od_pair[1], weight = 'time' )\n",
    "    time = nx.shortest_path_length( G, source = od_pair[0], target = od_pair[1], weight = 'time' )\n",
    "\n",
    "    return time, path\n",
    "\n",
    "\n",
    "def sf_min_path( comps_st, od_pair, arcs, vari, thres, sys_val_itc ):\n",
    "\n",
    "    sys_val, path = get_time_and_path( comps_st, od_pair, arcs, vari )\n",
    "\n",
    "    if sys_val > thres*sys_val_itc:\n",
    "        sys_st = 'fail'\n",
    "    else:\n",
    "        sys_st = 'surv'\n",
    "\n",
    "    if sys_st == 'surv': # in this case we know how to find out minimally required component state\n",
    "        min_comps_st = {}\n",
    "        for i in range(len(path)-1):\n",
    "            nodes_i = [path[i], path[i+1]]\n",
    "            nodes_i_rev = [path[i+1], path[i]] # reversed pair (arcs are bi-directional)\n",
    "            arc_i = next((k for k, v in arcs.items() if v == nodes_i or v == nodes_i_rev), None)\n",
    "            min_comps_st[arc_i] = comps_st[arc_i]\n",
    "    \n",
    "    else: # sys_st == 'fail'\n",
    "        min_comps_st = None\n",
    "\n",
    "    return sys_val, sys_st, min_comps_st"
   ]
  },
  {
   "cell_type": "code",
   "execution_count": 6,
   "metadata": {},
   "outputs": [],
   "source": [
    "# Intact state of component vector\n",
    "comps_st_itc = {k: len(varis[k].B[0])-1 for k in arcs} # intact state (i.e. the highest state)\n",
    "sys_val_itc, path_itc = get_time_and_path( comps_st_itc, od_pair, arcs, varis )\n",
    "\n",
    "# defines the system failure event\n",
    "thres = 2 \n",
    "\n",
    "# Given a system function, i.e. sf_min_path, it should be represented by a function that only has \"comps_st\" as input.\n",
    "sys_fun = lambda comps_st : sf_min_path( comps_st, od_pair, arcs, varis, thres, sys_val_itc ) # TODO: branch needs to have states defined in dictionary instead of list."
   ]
  },
  {
   "cell_type": "markdown",
   "metadata": {},
   "source": [
    "## Branch and Bound: complete results, i.e. no unknown branches"
   ]
  },
  {
   "cell_type": "code",
   "execution_count": 7,
   "metadata": {},
   "outputs": [
    {
     "data": {
      "text/plain": [
       "<module 'BNS_JT.gen_bnb' from 'c:\\\\Users\\\\jb622s\\\\git\\\\BNS-JT\\\\BNS_JT\\\\gen_bnb.py'>"
      ]
     },
     "execution_count": 7,
     "metadata": {},
     "output_type": "execute_result"
    }
   ],
   "source": [
    "import importlib\n",
    "importlib.reload(gen_bnb)"
   ]
  },
  {
   "cell_type": "code",
   "execution_count": 8,
   "metadata": {},
   "outputs": [
    {
     "name": "stdout",
     "output_type": "stream",
     "text": [
      "[Iteration 1]..\n",
      "The # of found non-dominated rules: 0\n",
      "The # of branches: 0\n",
      "---\n",
      "[Iteration 2]..\n",
      "The # of found non-dominated rules: 1\n",
      "The # of branches: 1\n",
      "---\n",
      "[Iteration 3]..\n",
      "The # of found non-dominated rules: 2\n",
      "The # of branches: 1\n",
      "---\n",
      "[Iteration 4]..\n",
      "The # of found non-dominated rules: 3\n",
      "The # of branches: 1\n",
      "---\n",
      "[Iteration 5]..\n",
      "The # of found non-dominated rules: 3\n",
      "The # of branches: 1\n",
      "---\n",
      "[Iteration 6]..\n",
      "The # of found non-dominated rules: 4\n",
      "The # of branches: 1\n",
      "---\n",
      "[Iteration 7]..\n",
      "The # of found non-dominated rules: 4\n",
      "The # of branches: 1\n",
      "---\n",
      "[Iteration 8]..\n",
      "The # of found non-dominated rules: 5\n",
      "The # of branches: 1\n",
      "---\n",
      "[Iteration 9]..\n",
      "The # of found non-dominated rules: 5\n",
      "The # of branches: 2\n",
      "---\n",
      "[Iteration 10]..\n",
      "The # of found non-dominated rules: 6\n",
      "The # of branches: 2\n",
      "---\n",
      "[Iteration 11]..\n",
      "The # of found non-dominated rules: 6\n",
      "The # of branches: 4\n",
      "---\n",
      "[Iteration 12]..\n",
      "The # of found non-dominated rules: 7\n",
      "The # of branches: 4\n",
      "---\n",
      "[Iteration 13]..\n",
      "The # of found non-dominated rules: 8\n",
      "The # of branches: 4\n",
      "---\n",
      "[Iteration 14]..\n",
      "The # of found non-dominated rules: 8\n",
      "The # of branches: 4\n",
      "---\n",
      "[Iteration 15]..\n",
      "The # of found non-dominated rules: 8\n",
      "The # of branches: 4\n",
      "---\n",
      "[Iteration 16]..\n",
      "The # of found non-dominated rules: 7\n",
      "The # of branches: 4\n",
      "---\n",
      "[Iteration 17]..\n",
      "The # of found non-dominated rules: 7\n",
      "The # of branches: 4\n",
      "---\n",
      "[Iteration 18]..\n",
      "The # of found non-dominated rules: 8\n",
      "The # of branches: 4\n",
      "---\n",
      "[Iteration 19]..\n",
      "The # of found non-dominated rules: 8\n",
      "The # of branches: 6\n",
      "---\n",
      "[Iteration 20]..\n",
      "The # of found non-dominated rules: 9\n",
      "The # of branches: 6\n",
      "---\n",
      "[Iteration 21]..\n",
      "The # of found non-dominated rules: 9\n",
      "The # of branches: 6\n",
      "---\n",
      "[Iteration 22]..\n",
      "The # of found non-dominated rules: 10\n",
      "The # of branches: 6\n",
      "---\n",
      "[Iteration 23]..\n",
      "The # of found non-dominated rules: 10\n",
      "The # of branches: 9\n",
      "---\n",
      "[Algorithm completed.]\n",
      "The # of found non-dominated rules:  10\n",
      "System function runs:  23\n",
      "The total # of branches:  10\n",
      "The # of incomplete branches:  0\n"
     ]
    }
   ],
   "source": [
    "varis_comp = {}\n",
    "for k in arcs:\n",
    "    varis_comp[k] = copy.deepcopy( varis[k] )\n",
    "    \n",
    "\n",
    "no_sf, rules, rules_st, brs, sys_res = gen_bnb.do_gen_bnb( sys_fun, varis_comp, max_br=100 ) # Complete "
   ]
  },
  {
   "cell_type": "code",
   "execution_count": 9,
   "metadata": {},
   "outputs": [
    {
     "name": "stdout",
     "output_type": "stream",
     "text": [
      "Branch(down=[0, 0, 0, 0, 0, 0], up=[2, 0, 1, 2, 2, 2], is_complete=True, down_state=fail, up_state=fail, down_val=None, up_val=None)\n",
      "Branch(down=[0, 0, 2, 0, 0, 0], up=[2, 0, 2, 2, 1, 2], is_complete=True, down_state=fail, up_state=fail, down_val=None, up_val=None)\n",
      "Branch(down=[0, 0, 2, 0, 2, 0], up=[1, 0, 2, 2, 2, 2], is_complete=True, down_state=fail, up_state=fail, down_val=None, up_val=None)\n",
      "Branch(down=[2, 0, 2, 0, 2, 0], up=[2, 0, 2, 2, 2, 2], is_complete=True, down_state=surv, up_state=surv, down_val=None, up_val=None)\n",
      "Branch(down=[0, 1, 0, 0, 0, 0], up=[2, 2, 2, 1, 0, 2], is_complete=True, down_state=fail, up_state=fail, down_val=None, up_val=None)\n",
      "Branch(down=[0, 1, 0, 2, 0, 0], up=[2, 2, 2, 2, 0, 0], is_complete=True, down_state=fail, up_state=fail, down_val=None, up_val=None)\n",
      "Branch(down=[0, 1, 0, 2, 0, 1], up=[2, 1, 2, 2, 0, 1], is_complete=True, down_state=fail, up_state=fail, down_val=None, up_val=None)\n",
      "Branch(down=[0, 2, 0, 2, 0, 1], up=[2, 2, 2, 2, 0, 1], is_complete=True, down_state=surv, up_state=surv, down_val=None, up_val=None)\n",
      "Branch(down=[0, 1, 0, 2, 0, 2], up=[2, 2, 2, 2, 0, 2], is_complete=True, down_state=surv, up_state=surv, down_val=None, up_val=None)\n",
      "Branch(down=[0, 1, 0, 0, 1, 0], up=[2, 2, 2, 2, 2, 2], is_complete=True, down_state=surv, up_state=surv, down_val=None, up_val=None)\n"
     ]
    }
   ],
   "source": [
    "for b in brs:\n",
    "    print(b)"
   ]
  },
  {
   "cell_type": "markdown",
   "metadata": {},
   "source": [
    "# System Reliability Analysis\n",
    "\n",
    "## Quantification of system events"
   ]
  },
  {
   "cell_type": "markdown",
   "metadata": {},
   "source": [
    "### Function: Finding a composite state corresponding to a given list of states\n",
    "\n",
    "If there is no corresponding compatible state, it creates a new composite state.\n",
    "\n",
    "This function needs to be in 'Variable.py'."
   ]
  },
  {
   "cell_type": "code",
   "execution_count": 10,
   "metadata": {},
   "outputs": [],
   "source": [
    "def get_compsite_state( var1, st_list ):\n",
    "    # Input: var1-one Variable object, st_list: list of states (starting from zero) \n",
    "    # TODO: states start from 0 in Cpm and from 1 in B&B -- will be fixed later so that all start from 0\n",
    "\n",
    "    n_st = len( var1.B[0] )\n",
    "    b1 = np.zeros( (n_st,), dtype = int )\n",
    "    for s in st_list:\n",
    "        b1[s] = 1\n",
    "\n",
    "    comp_st_list = np.where((var1.B == b1).all(axis=1))[0]\n",
    "    if len(comp_st_list) > 0:\n",
    "        comp_st = comp_st_list[0]\n",
    "    else:\n",
    "        B_old = var1.B\n",
    "        B_new = np.vstack( (B_old, b1) )\n",
    "        var1.B = B_new \n",
    "        comp_st = len(var1.B)-1 # zero-based index\n",
    "    \n",
    "    return var1, comp_st   \n"
   ]
  },
  {
   "cell_type": "code",
   "execution_count": 11,
   "metadata": {},
   "outputs": [
    {
     "name": "stdout",
     "output_type": "stream",
     "text": [
      "'Variable(name=e1, B=[[1 0 0]\\n [0 1 0]\\n [0 0 1]], values=[1.5, 0.3, 0.15])'\n",
      "3\n",
      "'Variable(name=e1, B=[[1 0 0]\\n [0 1 0]\\n [0 0 1]\\n [0 1 1]], values=[1.5, 0.3, 0.15])'\n",
      "\n",
      "3 'Variable(name=e1, B=[[1 0 0]\\n [0 1 0]\\n [0 0 1]\\n [0 1 1]], values=[1.5, 0.3, 0.15])'\n"
     ]
    }
   ],
   "source": [
    "# ex 1: there is no corresponding composite state for state 1 and 2. So it creates one.\n",
    "var1 = copy.deepcopy( varis['e1'] )\n",
    "print(var1)\n",
    "var1_new, comp_st = get_compsite_state( var1, [1,2] )\n",
    "print(comp_st)\n",
    "print(var1_new)\n",
    "print(\"\")\n",
    "\n",
    "# ex 2: now there is such composite state, and returns the corresponding one.\n",
    "var1_new2, comp_st = get_compsite_state( var1_new, [1,2] )\n",
    "print(comp_st, var1_new2)"
   ]
  },
  {
   "cell_type": "markdown",
   "metadata": {},
   "source": [
    "### Function: From branch to C matrix of system event"
   ]
  },
  {
   "cell_type": "code",
   "execution_count": 12,
   "metadata": {},
   "outputs": [],
   "source": [
    "def get_c1_from_br1( br1, varis, st_br_to_cs ):\n",
    "    # br1: a single branch\n",
    "    # varis: a dictionary of variables\n",
    "    # st_br_to_cs: a dictionary that maps state in br to state in C matrix of a system event\n",
    "\n",
    "    comps_name = br1.names\n",
    "\n",
    "    cs_nvar = 1 + len(comps_name) # (system, compponents)\n",
    "    c1 = np.zeros( cs_nvar, int )\n",
    "\n",
    "    if br1.is_complete == True:\n",
    "        c1[0] = st_br_to_cs[ br1.down_state ]\n",
    "    else:\n",
    "        c1[0] = st_br_to_cs[ 'unk' ]\n",
    "\n",
    "    for (i,x) in enumerate( comps_name ):\n",
    "        x_d = br1.down[i]\n",
    "        x_u = br1.up[i]\n",
    "\n",
    "        if x_u > x_d:\n",
    "            varis[x], x_st = get_compsite_state( varis[x], list((range(x_d,x_u+1))  ))\n",
    "        else:\n",
    "            x_st = x_u\n",
    "\n",
    "        c1[i+1] = x_st\n",
    "\n",
    "    return varis, c1"
   ]
  },
  {
   "cell_type": "code",
   "execution_count": 13,
   "metadata": {},
   "outputs": [
    {
     "name": "stdout",
     "output_type": "stream",
     "text": [
      "Branch(down=[0, 0, 0, 0, 0, 0], up=[2, 0, 1, 2, 2, 2], is_complete=True, down_state=fail, up_state=fail, down_val=None, up_val=None)\n",
      "[0 3 0 3 3 3 3]\n",
      "'Variable(name=e1, B=[[1 0 0]\\n [0 1 0]\\n [0 0 1]\\n [1 1 1]], values=[1.5, 0.3, 0.15])'\n",
      "'Variable(name=e2, B=[[1 0 0]\\n [0 1 0]\\n [0 0 1]], values=[0.9013878188659973, 0.18027756377319945, 0.09013878188659973])'\n",
      "'Variable(name=e5, B=[[1 0 0]\\n [0 1 0]\\n [0 0 1]\\n [1 1 1]], values=[0.9428090415820635, 0.1885618083164127, 0.09428090415820635])'\n",
      "\n",
      "Branch(down=[0, 0, 2, 0, 0, 0], up=[2, 0, 2, 2, 1, 2], is_complete=True, down_state=fail, up_state=fail, down_val=None, up_val=None)\n",
      "[0 3 0 2 3 4 3]\n",
      "'Variable(name=e5, B=[[1 0 0]\\n [0 1 0]\\n [0 0 1]\\n [1 1 1]\\n [1 1 0]], values=[0.9428090415820635, 0.1885618083164127, 0.09428090415820635])'\n",
      "'Variable(name=e2, B=[[1 0 0]\\n [0 1 0]\\n [0 0 1]], values=[0.9013878188659973, 0.18027756377319945, 0.09013878188659973])'\n"
     ]
    }
   ],
   "source": [
    "st_br_to_cs = {'fail': 0, 'surv': 1, 'unk': 2}\n",
    "\n",
    "# ex1\n",
    "br1 = copy.deepcopy( brs[0] )\n",
    "varis, c1 = get_c1_from_br1( br1, varis, st_br_to_cs )\n",
    "print(br1)\n",
    "print(c1)\n",
    "print(varis['e1'])\n",
    "print(varis['e2'])\n",
    "print(varis['e5'])\n",
    "print(\"\")\n",
    "\n",
    "# ex2\n",
    "br1 = copy.deepcopy( brs[1] )\n",
    "varis, c1 = get_c1_from_br1( br1, varis, st_br_to_cs )\n",
    "print(br1)\n",
    "print(c1)\n",
    "print(varis['e5'])\n",
    "print(varis['e2'])\n"
   ]
  },
  {
   "cell_type": "code",
   "execution_count": 14,
   "metadata": {},
   "outputs": [],
   "source": [
    "def get_Csys_from_brs( brs, varis, st_br_to_cs ):\n",
    "\n",
    "    comps_name = brs[0].names\n",
    "\n",
    "    cs_nvar = 1 + len(comps_name) # (system, compponents)\n",
    "\n",
    "    Csys = np.empty( (0,cs_nvar), int )\n",
    "    \n",
    "    for br1 in brs:\n",
    "        varis, c1 = get_c1_from_br1( br1, varis, st_br_to_cs )\n",
    "        Csys = np.vstack( (Csys, c1) )\n",
    "\n",
    "    return Csys, varis\n"
   ]
  },
  {
   "cell_type": "code",
   "execution_count": 15,
   "metadata": {},
   "outputs": [
    {
     "name": "stdout",
     "output_type": "stream",
     "text": [
      "[[0 3 0 3 3 3 3]\n",
      " [0 3 0 2 3 4 3]\n",
      " [0 4 0 2 3 2 3]\n",
      " [1 2 0 2 3 2 3]\n",
      " [0 3 3 4 4 0 3]\n",
      " [0 3 3 4 2 0 0]\n",
      " [0 3 1 4 2 0 1]\n",
      " [1 3 2 4 2 0 1]\n",
      " [1 3 3 4 2 0 2]\n",
      " [1 3 3 4 3 5 3]]\n",
      "'Variable(name=e1, B=[[1 0 0]\\n [0 1 0]\\n [0 0 1]\\n [1 1 1]\\n [1 1 0]], values=[1.5, 0.3, 0.15])'\n",
      "'Variable(name=e2, B=[[1 0 0]\\n [0 1 0]\\n [0 0 1]\\n [0 1 1]], values=[0.9013878188659973, 0.18027756377319945, 0.09013878188659973])'\n",
      "'Variable(name=e3, B=[[1 0 0]\\n [0 1 0]\\n [0 0 1]\\n [1 1 0]\\n [1 1 1]], values=[0.9013878188659973, 0.18027756377319945, 0.09013878188659973])'\n",
      "'Variable(name=e4, B=[[1 0 0]\\n [0 1 0]\\n [0 0 1]\\n [1 1 1]\\n [1 1 0]], values=[1.0540925533894598, 0.21081851067789198, 0.10540925533894599])'\n",
      "'Variable(name=e5, B=[[1 0 0]\\n [0 1 0]\\n [0 0 1]\\n [1 1 1]\\n [1 1 0]\\n [0 1 1]], values=[0.9428090415820635, 0.1885618083164127, 0.09428090415820635])'\n",
      "'Variable(name=e6, B=[[1 0 0]\\n [0 1 0]\\n [0 0 1]\\n [1 1 1]], values=[0.7071067811865475, 0.1414213562373095, 0.07071067811865475])'\n",
      "'Variable(name=o1, B=[[1 0 0]\\n [0 1 0]\\n [0 0 1]], values=[0, 1, 2])'\n",
      "'Variable(name=o2, B=[[1 0 0]\\n [0 1 0]\\n [0 0 1]], values=[0, 1, 2])'\n",
      "'Variable(name=o3, B=[[1 0 0]\\n [0 1 0]\\n [0 0 1]], values=[0, 1, 2])'\n",
      "'Variable(name=o4, B=[[1 0 0]\\n [0 1 0]\\n [0 0 1]], values=[0, 1, 2])'\n",
      "'Variable(name=o5, B=[[1 0 0]\\n [0 1 0]\\n [0 0 1]], values=[0, 1, 2])'\n",
      "'Variable(name=o6, B=[[1 0 0]\\n [0 1 0]\\n [0 0 1]], values=[0, 1, 2])'\n"
     ]
    }
   ],
   "source": [
    "Csys, varis = get_Csys_from_brs( brs, varis, st_br_to_cs )\n",
    "\n",
    "print(Csys)\n",
    "for v in varis:\n",
    "    print( varis[v] )"
   ]
  },
  {
   "cell_type": "code",
   "execution_count": 16,
   "metadata": {},
   "outputs": [],
   "source": [
    "varis['sys'] = variable.Variable( 'sys', np.eye( 3 ), ['fail', 'surv', 'unk'] )\n",
    "\n",
    "cpm_sys_vname = copy.deepcopy( brs[0].names )\n",
    "cpm_sys_vname.insert( 0, 'sys' )\n",
    "\n",
    "\n",
    "cpms['sys'] = cpm.Cpm( variables=[varis[k] for k in cpm_sys_vname], no_child = 1, C = Csys, p = np.ones((len(Csys), 1), int) ) "
   ]
  },
  {
   "cell_type": "markdown",
   "metadata": {},
   "source": [
    "## Inference\n",
    "\n",
    "### Case 1: No observation"
   ]
  },
  {
   "cell_type": "code",
   "execution_count": 17,
   "metadata": {},
   "outputs": [
    {
     "name": "stdout",
     "output_type": "stream",
     "text": [
      "['o1', 'o2', 'o3', 'o4', 'o5', 'o6', 'e1', 'e2', 'e3', 'e4', 'e5', 'e6']\n",
      "Cpm(variables=['sys'], no_child=1, C=[[0]\n",
      " [1]], p=[[0.1018]\n",
      " [0.8982]]\n",
      "Pf_sys:  [0.1018]\n"
     ]
    }
   ],
   "source": [
    "var_elim_order_name = ['o'+str(i+1) for i in range(len(arcs))]+['e'+str(i+1) for i in range(len(arcs))] # observations first, components later\n",
    "print(var_elim_order_name)\n",
    "var_elim_order = [varis[k] for k in var_elim_order_name]\n",
    "\n",
    "Msys = cpm.variable_elim( [cpms[v] for v in varis.keys()], var_elim_order )\n",
    "print(Msys)\n",
    "print( 'Pf_sys: ', str( Msys.p[ st_br_to_cs['fail'] ] ) )"
   ]
  },
  {
   "cell_type": "markdown",
   "metadata": {},
   "source": [
    "### Case 2: Observation"
   ]
  },
  {
   "cell_type": "code",
   "execution_count": 18,
   "metadata": {},
   "outputs": [
    {
     "name": "stdout",
     "output_type": "stream",
     "text": [
      "Cpm(variables=['sys'], no_child=1, C=[[0]\n",
      " [1]], p=[[2.76463167e-05]\n",
      " [5.51523633e-05]]\n",
      "Pf_sys:  [0.33389804]\n"
     ]
    }
   ],
   "source": [
    "cnd_vars = ['o'+str(i+1) for i in range(len(arcs))]\n",
    "cnd_states = [1, 1, 0, 1, 0, 1]\n",
    "\n",
    "Mobs = cpm.condition( [cpms[v] for v in varis.keys()], cnd_vars, cnd_states )\n",
    "Msys_obs = cpm.variable_elim( Mobs, var_elim_order )\n",
    "\n",
    "print(Msys_obs)\n",
    "print( 'Pf_sys: ', str( Msys_obs.p[ st_br_to_cs['fail'] ] / np.sum(Msys_obs.p) ) )"
   ]
  }
 ],
 "metadata": {
  "kernelspec": {
   "display_name": "Python 3",
   "language": "python",
   "name": "python3"
  },
  "language_info": {
   "codemirror_mode": {
    "name": "ipython",
    "version": 3
   },
   "file_extension": ".py",
   "mimetype": "text/x-python",
   "name": "python",
   "nbconvert_exporter": "python",
   "pygments_lexer": "ipython3",
   "version": "3.10.10"
  }
 },
 "nbformat": 4,
 "nbformat_minor": 2
}
