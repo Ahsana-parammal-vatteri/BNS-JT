{
 "cells": [
  {
   "cell_type": "markdown",
   "metadata": {},
   "source": [
    "# Branch and Bound algorithm for general system function\n",
    "\n",
    "A system function needs to be coherent, i.e. (1) a high state of component events mean their better performance, and (2) a better (worse) component vector state does not lead to a worse (better) system state."
   ]
  },
  {
   "cell_type": "markdown",
   "metadata": {},
   "source": [
    "## System function\n",
    "\n",
    "A system function takes a component vector state and information of component events as input.\n",
    "It returns a system state, associated system value, and, if available, a minimum required state of component vector.\n",
    "\n",
    "For example, consider a transport system "
   ]
  },
  {
   "cell_type": "code",
   "execution_count": 1,
   "metadata": {},
   "outputs": [],
   "source": [
    "import networkx as nx\n",
    "import matplotlib.pyplot as plt\n",
    "import os\n",
    "import numpy as np\n",
    "import pandas as pd\n",
    "import copy\n",
    "\n",
    "from BNS_JT import trans, variable, branch\n",
    "\n",
    "HOME = os.getcwd()\n",
    "\n",
    "# Network\n",
    "node_coords = {'n1': (-2, 3),\n",
    "               'n2': (-2, -3),\n",
    "               'n3': (2, -2),\n",
    "               'n4': (1, 1),\n",
    "               'n5': (0, 0)}\n",
    "\n",
    "arcs = {'e1': ['n1', 'n2'],\n",
    "\t'e2': ['n1', 'n5'],\n",
    "\t'e3': ['n2', 'n5'],\n",
    "\t'e4': ['n3', 'n4'],\n",
    "\t'e5': ['n3', 'n5'],\n",
    "\t'e6': ['n4', 'n5']}\n",
    "\n",
    "arcs_avg_kmh = {'e1': 40,\n",
    "                'e2': 40,\n",
    "                'e3': 40,\n",
    "                'e4': 30,\n",
    "                'e5': 30,\n",
    "                'e6': 20}\n",
    "\n",
    "arc_lens_km = trans.get_arcs_length(arcs, node_coords)\n",
    "arc_times_h = {k: v/arcs_avg_kmh[k] for k, v in arc_lens_km.items()}\n",
    "\n",
    "\n",
    "od_pair = ('n1', 'n3')\n",
    "\n",
    "\n",
    "# Component events\n",
    "no_arc_st = 3 # number of component states \n",
    "delay_rat = [10, 2, 1] # delay in travel time given each component state (ratio)\n",
    "vari = {}\n",
    "for k, v in arcs.items():\n",
    "    vari[k] = variable.Variable( name=k, B = np.eye( no_arc_st ), values = [arc_times_h[k]*np.float64(x) for x in delay_rat])\n",
    "\n",
    "\n",
    "# plot graph\n",
    "G = nx.Graph()\n",
    "for k, x in arcs.items():\n",
    "    G.add_edge(x[0], x[1], time=arc_times_h[k], label=k)\n",
    "\n",
    "for k, v in node_coords.items():\n",
    "    G.add_node(k, pos=v)\n",
    "\n",
    "pos = nx.get_node_attributes(G, 'pos')\n",
    "edge_labels = nx.get_edge_attributes(G, 'label')\n",
    "\n",
    "fig = plt.figure()\n",
    "ax = fig.add_subplot()\n",
    "nx.draw(G, pos, with_labels=True, ax=ax)\n",
    "nx.draw_networkx_edge_labels(G, pos, edge_labels=edge_labels, ax=ax)\n",
    "fig.savefig(os.path.join(HOME, 'graph.png'), dpi=200)"
   ]
  },
  {
   "cell_type": "markdown",
   "metadata": {},
   "source": [
    "An example system function is as follows. <br>\n",
    "Here, We define the system failure event as a travel time longer than thres*(normal time).\n",
    "\n",
    "Two things to note about a system function: <br>\n",
    "(1) It is preferred if a system function returns a possible scenario of components performance that has the highest probability of occurrence. <br>\n",
    "(2) It is preferred if one can obtain a minimum required state of component vector from a result of system analysis. In case that this is not possible, the reference component vector for decomposition becomes the input state of component vector (which work okay by the proposed branch and bound algorithm)."
   ]
  },
  {
   "cell_type": "code",
   "execution_count": 2,
   "metadata": {},
   "outputs": [],
   "source": [
    "def sys_fun( comps_st, od_pair, arcs, vari ):\n",
    "    G = nx.Graph()\n",
    "    for k, x in arcs.items():\n",
    "        c_st = comps_st[k]\n",
    "        G.add_edge(x[0], x[1], time=vari[k].values[c_st-1])\n",
    "\n",
    "    path = nx.shortest_path( G, source = od_pair[0], target = od_pair[1], weight = 'time' )\n",
    "    sys_val = nx.shortest_path_length( G, source = od_pair[0], target = od_pair[1], weight = 'time' )\n",
    "\n",
    "    return sys_val, path\n",
    "\n",
    "def state_from_sys_fun( sys_val, path, comps_st, thres, sys_val_itc, arcs ):\n",
    "    if sys_val > thres*sys_val_itc:\n",
    "        sys_st = 'fail'\n",
    "    else:\n",
    "        sys_st = 'surv'\n",
    "\n",
    "    min_comps_st = {}\n",
    "    for i in range(len(path)-1):\n",
    "        nodes_i = [path[i], path[i+1]]\n",
    "        nodes_i_rev = [path[i+1], path[i]] # reversed pair (arcs are bi-directional)\n",
    "        arc_i = next((k for k, v in arcs.items() if v == nodes_i or v == nodes_i_rev), None)\n",
    "        if arc_i is None:\n",
    "            print(i)\n",
    "        min_comps_st[arc_i] = comps_st[arc_i]\n",
    "\n",
    "    return sys_st, min_comps_st\n"
   ]
  },
  {
   "cell_type": "markdown",
   "metadata": {},
   "source": [
    "Given an intact state of component vector, we have a travel time as follows."
   ]
  },
  {
   "cell_type": "code",
   "execution_count": 3,
   "metadata": {},
   "outputs": [
    {
     "name": "stdout",
     "output_type": "stream",
     "text": [
      "0.18441968604480607\n",
      "{'e2': 3, 'e5': 3}\n"
     ]
    }
   ],
   "source": [
    "thres = 2 # defines the system failure event\n",
    "\n",
    "# Intact state of component vector\n",
    "comps_st_itc = {'e1': 3, 'e2': 3, 'e3': 3, 'e4': 3, 'e5': 3, 'e6': 3} # intact state\n",
    "\n",
    "sys_val_itc, path_itc = sys_fun( comps_st_itc, od_pair, arcs, vari )\n",
    "_, min_comps_itc = state_from_sys_fun( sys_val_itc, path_itc, comps_st_itc, thres, sys_val_itc, arcs )\n",
    "print(sys_val_itc)\n",
    "print(min_comps_itc)"
   ]
  },
  {
   "cell_type": "markdown",
   "metadata": {},
   "source": [
    "Below are two example states of component vector."
   ]
  },
  {
   "cell_type": "code",
   "execution_count": 4,
   "metadata": {},
   "outputs": [
    {
     "name": "stdout",
     "output_type": "stream",
     "text": [
      "1.1230866053552628\n",
      "['n1', 'n5', 'n3']\n",
      "fail\n",
      "{'e2': 2, 'e5': 1}\n",
      "0.2787005902030124\n",
      "['n1', 'n5', 'n3']\n",
      "surv\n",
      "{'e2': 3, 'e5': 2}\n"
     ]
    }
   ],
   "source": [
    "# Example 1\n",
    "comps_st1 = {'e1': 1, 'e2': 2, 'e3': 1, 'e4': 1, 'e5': 1, 'e6': 3}\n",
    "\n",
    "sys_val1, path1 = sys_fun( comps_st1, od_pair, arcs, vari )\n",
    "sys_st1, min_comps_st1 = state_from_sys_fun( sys_val1, path1, comps_st1, thres, sys_val_itc, arcs )\n",
    "\n",
    "print(sys_val1)\n",
    "print(path1)\n",
    "print(sys_st1)\n",
    "print(min_comps_st1)\n",
    "\n",
    "# Example 2\n",
    "comps_st2 = {'e1': 3, 'e2': 3, 'e3': 1, 'e4': 2, 'e5': 2, 'e6': 3}\n",
    "\n",
    "sys_val2, path2 = sys_fun( comps_st2, od_pair, arcs, vari )\n",
    "sys_st2, min_comps_st2 = state_from_sys_fun( sys_val2, path2, comps_st2, thres, sys_val_itc, arcs )\n",
    "\n",
    "print(sys_val2)\n",
    "print(path2)\n",
    "print(sys_st2)\n",
    "print(min_comps_st2)\n"
   ]
  },
  {
   "cell_type": "markdown",
   "metadata": {},
   "source": [
    "## Branch and Bound algorithm"
   ]
  },
  {
   "cell_type": "markdown",
   "metadata": {},
   "source": [
    "### Description"
   ]
  },
  {
   "cell_type": "markdown",
   "metadata": {},
   "source": [
    "While we can start with any intial state, here we start with the intact state."
   ]
  },
  {
   "cell_type": "code",
   "execution_count": 5,
   "metadata": {},
   "outputs": [
    {
     "name": "stdout",
     "output_type": "stream",
     "text": [
      "surv\n",
      "{'e2': 2, 'e5': 3}\n"
     ]
    }
   ],
   "source": [
    "# Iteration 1\n",
    "comps_st1 = {'e1': 3, 'e2': 2, 'e3': 3, 'e4': 3, 'e5': 3, 'e6': 3}\n",
    "\n",
    "sys_val1, path1 = sys_fun( comps_st1, od_pair, arcs, vari )\n",
    "sys_st1, min_comps_st1 = state_from_sys_fun( sys_val1, path1, comps_st1, thres, sys_val_itc, arcs )\n",
    "\n",
    "print(sys_st1)\n",
    "print(min_comps_st1)"
   ]
  },
  {
   "cell_type": "code",
   "execution_count": 6,
   "metadata": {},
   "outputs": [
    {
     "name": "stdout",
     "output_type": "stream",
     "text": [
      "surv\n",
      "{'e1': 3, 'e3': 3, 'e5': 3}\n"
     ]
    }
   ],
   "source": [
    "# Iteration 2\n",
    "comps_st2 = {'e1': 3, 'e2': 1, 'e3': 3, 'e4': 3, 'e5': 3, 'e6': 3}\n",
    "\n",
    "sys_val2, path2 = sys_fun( comps_st2, od_pair, arcs, vari )\n",
    "sys_st2, min_comps_st2 = state_from_sys_fun( sys_val2, path2, comps_st2, thres, sys_val_itc, arcs )\n",
    "\n",
    "print(sys_st2)\n",
    "print(min_comps_st2)"
   ]
  },
  {
   "cell_type": "code",
   "execution_count": 7,
   "metadata": {},
   "outputs": [
    {
     "name": "stdout",
     "output_type": "stream",
     "text": [
      "surv\n",
      "{'e2': 3, 'e6': 3, 'e4': 3}\n"
     ]
    }
   ],
   "source": [
    "# Iteration 3\n",
    "comps_st3 = {'e1': 3, 'e2': 3, 'e3': 3, 'e4': 3, 'e5': 2, 'e6': 3}\n",
    "\n",
    "sys_val3, path3 = sys_fun( comps_st3, od_pair, arcs, vari )\n",
    "sys_st3, min_comps_st3 = state_from_sys_fun( sys_val3, path3, comps_st3, thres, sys_val_itc, arcs )\n",
    "\n",
    "print(sys_st3)\n",
    "print(min_comps_st3)"
   ]
  },
  {
   "cell_type": "code",
   "execution_count": 8,
   "metadata": {},
   "outputs": [
    {
     "name": "stdout",
     "output_type": "stream",
     "text": [
      "fail\n",
      "{'e1': 2, 'e3': 3, 'e5': 3}\n"
     ]
    }
   ],
   "source": [
    "# Iteration 4\n",
    "comps_st4 = {'e1': 2, 'e2': 1, 'e3': 3, 'e4': 3, 'e5': 3, 'e6': 3}\n",
    "\n",
    "sys_val4, path4 = sys_fun( comps_st4, od_pair, arcs, vari )\n",
    "sys_st4, min_comps_st4 = state_from_sys_fun( sys_val4, path4, comps_st4, thres, sys_val_itc, arcs )\n",
    "\n",
    "print(sys_st4)\n",
    "print(min_comps_st4)"
   ]
  },
  {
   "cell_type": "code",
   "execution_count": 8,
   "metadata": {},
   "outputs": [
    {
     "name": "stdout",
     "output_type": "stream",
     "text": [
      "fail\n",
      "{'e1': 3, 'e3': 2, 'e5': 3}\n"
     ]
    }
   ],
   "source": [
    "# Iteration 5\n",
    "comps_st5 = {'e1': 3, 'e2': 1, 'e3': 2, 'e4': 3, 'e5': 3, 'e6': 3}\n",
    "\n",
    "sys_val5, path5 = sys_fun( comps_st5, od_pair, arcs, vari )\n",
    "sys_st5, min_comps_st5 = state_from_sys_fun( sys_val5, path5, comps_st5, thres, sys_val_itc, arcs )\n",
    "\n",
    "print(sys_st5)\n",
    "print(min_comps_st5)"
   ]
  },
  {
   "cell_type": "markdown",
   "metadata": {},
   "source": [
    "### Now as an algorithm."
   ]
  },
  {
   "cell_type": "markdown",
   "metadata": {},
   "source": [
    "Function that selects the component and its state for next branch and bound. <br>\n",
    "It selects (component, state) that is in a rule with the shortest length, and in case there are multiple rules with shortest length, the component that occurs the most across rules."
   ]
  },
  {
   "cell_type": "code",
   "execution_count": 9,
   "metadata": {},
   "outputs": [],
   "source": [
    "def get_comp_st_for_next_bnb( rule_s, rule_f ):\n",
    "    \n",
    "    rules = rule_s + rule_f\n",
    "    r_len = [len(x) for x in rules]\n",
    "\n",
    "    rl_min = min(r_len)\n",
    "    cand_comps = [] # candidate components for next B&B -- These are the ones in rules with the shortest length\n",
    "    for r in rules:\n",
    "        if len(r) == rl_min:\n",
    "            ks = [k for k in r.keys()]\n",
    "            for k in ks:\n",
    "                if k not in cand_comps:\n",
    "                    cand_comps.append(k)\n",
    "\n",
    "\n",
    "    cand_comps_cnt = {} # Count how many times the candidate components occur across all rules\n",
    "    for x in cand_comps:\n",
    "        in_r = [1 if x in r.keys() else 0 for r in rules]\n",
    "        count_x = sum( np.array( in_r ) )\n",
    "        cand_comps_cnt[x] = count_x\n",
    "\n",
    "\n",
    "    comp_bnb = max(cand_comps_cnt, key=cand_comps_cnt.get)\n",
    "    st_bnb = None\n",
    "    for r in rule_s:\n",
    "        if len(r) == rl_min:\n",
    "            if comp_bnb in r.keys():\n",
    "                st_bnb = r[comp_bnb]\n",
    "                sys_bnb = 'surv'\n",
    "\n",
    "                if rl_min == 1: # If there is only one condition left to satisfy\n",
    "                    bnb_state = 'surv' # we know that the upper branch is always survive \n",
    "                else:\n",
    "                    bnb_state = 'incomplete'\n",
    "\n",
    "                break # Just get the first one occurring\n",
    "\n",
    "    if st_bnb is None:\n",
    "        for r in rule_f:\n",
    "            if len(r) == rl_min:\n",
    "                if comp_bnb in r.keys():\n",
    "                    st_bnb = r[comp_bnb]\n",
    "                    sys_bnb = 'fail'\n",
    "\n",
    "                    if rl_min == 1: # If there is only one condition left to satisfy\n",
    "                        bnb_state = 'fail' # we know that the lower branch is always survive \n",
    "                    else:\n",
    "                        bnb_state = 'incomplete'\n",
    "\n",
    "                    break # Just get the first one occurring\n",
    "\n",
    "    return comp_bnb, st_bnb, sys_bnb, bnb_state"
   ]
  },
  {
   "cell_type": "code",
   "execution_count": 10,
   "metadata": {},
   "outputs": [
    {
     "name": "stdout",
     "output_type": "stream",
     "text": [
      "e2\n",
      "2\n",
      "surv incomplete\n"
     ]
    }
   ],
   "source": [
    "rule_s = [{'e2': 2, 'e5': 3}, {'e1': 3, 'e3': 3, 'e5': 3}, {'e2': 3, 'e4': 3, 'e6': 3}]\n",
    "rule_f = [{'e1': 2, 'e2': 1}, {'e2': 1, 'e3': 2}]\n",
    "\n",
    "comp_bnb, st_bnb, sys_bnb, bnb_state = get_comp_st_for_next_bnb( rule_s, rule_f )\n",
    "print(comp_bnb)\n",
    "print(st_bnb)\n",
    "print(sys_bnb, bnb_state)"
   ]
  },
  {
   "cell_type": "code",
   "execution_count": 11,
   "metadata": {},
   "outputs": [],
   "source": [
    "# function that converts a rule defined as a dictionary into a list\n",
    "def rule_s_dict_to_list( r_dict, no_comp, comps_name_list, worst_st = 1 ):\n",
    "    \n",
    "    r_list = [worst_st] * no_comp\n",
    "\n",
    "    for i in range( no_comp ):\n",
    "        name_i = comps_name_list[i]\n",
    "\n",
    "        if name_i in r_dict:\n",
    "            r_list[i] = r_dict[name_i]\n",
    "\n",
    "    return r_list\n",
    "\n",
    "\n",
    "def rule_f_dict_to_list( r_dict, no_comp, comps_name_list, best_st ):\n",
    "    \n",
    "    r_list = [best_st] * no_comp\n",
    "\n",
    "    for i in range( no_comp ):\n",
    "        name_i = comps_name_list[i]\n",
    "\n",
    "        if name_i in r_dict:\n",
    "            r_list[i] = r_dict[name_i]\n",
    "\n",
    "    return r_list\n"
   ]
  },
  {
   "cell_type": "code",
   "execution_count": 12,
   "metadata": {},
   "outputs": [
    {
     "name": "stdout",
     "output_type": "stream",
     "text": [
      "[1, 2, 1, 1, 3, 1]\n",
      "[2, 1, 3, 3, 3, 3]\n"
     ]
    }
   ],
   "source": [
    "# Demonstration of functions above\n",
    "\n",
    "no_comp = len(arcs)\n",
    "comps_name = [k for k in arcs.keys()]\n",
    "\n",
    "rule_s_dict = {'e2': 2, 'e5': 3}\n",
    "rule_s_list = rule_s_dict_to_list( rule_s_dict, no_comp, comps_name, worst_st = 1 )\n",
    "print(rule_s_list)\n",
    "\n",
    "rule_f_dict = {'e1': 2, 'e2': 1}\n",
    "rule_f_list = rule_f_dict_to_list( rule_f_dict, no_comp, comps_name, best_st= no_arc_st )\n",
    "print( rule_f_list )"
   ]
  },
  {
   "cell_type": "code",
   "execution_count": 13,
   "metadata": {},
   "outputs": [],
   "source": [
    "# function that converts list representation of a component vector state to dictionary\n",
    "def comps_st_list_to_dict( st_list, comps_name_list ):\n",
    "    \n",
    "    st_dict = {comps_name_list[i]: st_list[i] for i in range( len(st_list) )}\n",
    "\n",
    "    return st_dict\n",
    "\n",
    "def comps_st_dict_to_list( st_dict, comps_name_list ):\n",
    "\n",
    "    no_comp = len( comps_name_list )\n",
    "    st_list = [None] * no_comp\n",
    "    for i in range(no_comp):\n",
    "        name_i = comps_name_list[i]\n",
    "        st_list[ i ] = st_dict[name_i]\n",
    "\n",
    "    return st_list\n"
   ]
  },
  {
   "cell_type": "code",
   "execution_count": 14,
   "metadata": {},
   "outputs": [],
   "source": [
    "def get_rem_cond_for_compat_rule_s( down_dict, up_dict, rules_s_dict ):\n",
    "    rs_cond = [] # remaining conditions to satisfy for compatible survival rules\n",
    "    for r in rules_s_dict:\n",
    "        if all( [ up_dict[k] >= r[k] for k in r] ): # the survival rule is compatible\n",
    "\n",
    "            r_cond = {k:v for k,v in r.items() if down_dict[k] < r[k]}\n",
    "\n",
    "            if len(r_cond) > 0:\n",
    "                rs_cond.append( r_cond )\n",
    "            \n",
    "    return rs_cond\n",
    "\n",
    "\n",
    "def get_rem_cond_for_compat_rule_f( down_dict, up_dict, rules_f_dict ):\n",
    "    rf_cond = [] # remaining conditions to satisfy for compatible failure rules\n",
    "    for r in rules_f_dict:\n",
    "        if all( [ down_dict[k] <= r[k] for k in r] ): # the failure rule is compatible\n",
    "\n",
    "            r_cond = {k:v for k,v in r.items() if up_dict[k] > r[k]}\n",
    "\n",
    "            if len(r_cond) > 0:\n",
    "                rf_cond.append( r_cond )\n",
    "            \n",
    "    return rf_cond\n"
   ]
  },
  {
   "cell_type": "code",
   "execution_count": 15,
   "metadata": {},
   "outputs": [
    {
     "name": "stdout",
     "output_type": "stream",
     "text": [
      "[{'e5': 3}, {'e1': 3, 'e3': 3, 'e5': 3}, {'e2': 3, 'e4': 3, 'e6': 3}]\n",
      "[{'e1': 2}, {'e3': 2}]\n"
     ]
    }
   ],
   "source": [
    "br1 = branch.Branch( [1,2,1,1,1,1], [3,3,3,3,3,3], is_complete=False )\n",
    "rules_s = [{'e2': 2, 'e5': 3}, {'e1': 3, 'e3': 3, 'e5': 3}, {'e2': 3, 'e4': 3, 'e6': 3}]\n",
    "\n",
    "down_dict = comps_st_list_to_dict( br1.down, comps_name )\n",
    "up_dict = comps_st_list_to_dict( br1.up, comps_name )\n",
    "\n",
    "rs_cond = get_rem_cond_for_compat_rule_s( down_dict, up_dict, rules_s )\n",
    "print(rs_cond)\n",
    "\n",
    "\n",
    "br1 = branch.Branch( [1,1,1,1,1,1], [3,1,3,3,3,3], is_complete=False )\n",
    "rules_f = [{'e1': 2, 'e2': 1}, {'e2': 1, 'e3': 2}]\n",
    "\n",
    "down_dict = comps_st_list_to_dict( br1.down, comps_name )\n",
    "up_dict = comps_st_list_to_dict( br1.up, comps_name )\n",
    "\n",
    "rf_cond = get_rem_cond_for_compat_rule_f( down_dict, up_dict, rules_f )\n",
    "print(rf_cond)"
   ]
  },
  {
   "cell_type": "code",
   "execution_count": 16,
   "metadata": {},
   "outputs": [],
   "source": [
    "rules_s = [min_comps_itc]\n",
    "rule_s_ind_cpt = []\n",
    "for i in range( len(rules_s) ):\n",
    "    r_i = rules_s[i]\n",
    "\n",
    "    r_i_list = []"
   ]
  },
  {
   "cell_type": "code",
   "execution_count": 17,
   "metadata": {},
   "outputs": [
    {
     "name": "stdout",
     "output_type": "stream",
     "text": [
      "[Branch(down=[1, 1, 1, 1, 1, 1], up=[3, 2, 3, 3, 3, 3], is_complete=False, down_state=1, up_state=1, down_val=None, up_val=None, Branch(down=[1, 3, 1, 1, 1, 1], up=[3, 3, 3, 3, 3, 3], is_complete=False, down_state=1, up_state=1, down_val=None, up_val=None]\n",
      "[Branch(down=[1, 1, 1, 1, 1, 1], up=[3, 1, 3, 3, 3, 3], is_complete=False, down_state=1, up_state=1, down_val=None, up_val=None, Branch(down=[1, 2, 1, 1, 1, 1], up=[3, 3, 3, 3, 3, 3], is_complete=False, down_state=1, up_state=1, down_val=None, up_val=None]\n"
     ]
    }
   ],
   "source": [
    "comps_name_list = [k for k in arcs.keys()]\n",
    "\n",
    "def decomp_to_two_branches( br1, comp_bnb, st_bnb, sys_st_bnb, comps_name_list ):\n",
    "\n",
    "    down_dict = comps_st_list_to_dict( br1.down, comps_name )\n",
    "    up_dict = comps_st_list_to_dict( br1.up, comps_name )\n",
    "\n",
    "    if sys_st_bnb == 'surv':\n",
    "        up_dict_bl = copy.deepcopy(up_dict) # the branch on the lower side\n",
    "        up_dict_bl[comp_bnb] = st_bnb - 1\n",
    "\n",
    "        down_dict_bu = copy.deepcopy(down_dict) # the branch on the upper side\n",
    "        down_dict_bu[comp_bnb] = st_bnb\n",
    "\n",
    "    else: # i.e. sys_st_bnb == 'fail'\n",
    "        up_dict_bl = copy.deepcopy(up_dict)\n",
    "        up_dict_bl[comp_bnb] = st_bnb\n",
    "\n",
    "        down_dict_bu = copy.deepcopy(down_dict)\n",
    "        down_dict_bu[comp_bnb] = st_bnb + 1\n",
    "        \n",
    "\n",
    "    up_list_bl = comps_st_dict_to_list( up_dict_bl, comps_name_list )\n",
    "    down_list_bu = comps_st_dict_to_list(down_dict_bu, comps_name_list)\n",
    "    new_brs_list = [branch.Branch( br1.down, up_list_bl, is_complete=False ),\n",
    "                    branch.Branch( down_list_bu, br1.up, is_complete=False )]\n",
    "    \n",
    "    return new_brs_list\n",
    "\n",
    "\n",
    "# Example 1\n",
    "comp_bnb = 'e2'\n",
    "st_bnb = 3\n",
    "sys_st_bnb = 'surv'\n",
    "\n",
    "br1 = branch.Branch( [1] * len(arcs), [no_arc_st] * len(arcs), is_complete=False )\n",
    "new_brs = decomp_to_two_branches( br1, comp_bnb, st_bnb, sys_st_bnb, comps_name_list )\n",
    "print(new_brs)\n",
    "\n",
    "\n",
    "# Exmple 2\n",
    "comp_bnb = 'e2'\n",
    "st_bnb = 1\n",
    "sys_st_bnb = 'fail'\n",
    "\n",
    "br1 = branch.Branch( [1] * len(arcs), [no_arc_st] * len(arcs), is_complete=False )\n",
    "new_brs = decomp_to_two_branches( br1, comp_bnb, st_bnb, sys_st_bnb, comps_name_list )\n",
    "print(new_brs)"
   ]
  },
  {
   "cell_type": "markdown",
   "metadata": {},
   "source": [
    "#### Func: Update a rules list by removing dominated rules and adding a new rule"
   ]
  },
  {
   "cell_type": "code",
   "execution_count": 18,
   "metadata": {},
   "outputs": [
    {
     "name": "stdout",
     "output_type": "stream",
     "text": [
      "[{'e2': 2, 'e5': 3}]\n",
      "[{'e2': 2, 'e5': 1}]\n"
     ]
    }
   ],
   "source": [
    "def add_a_new_rule( rules_list, rule1, fail_or_surv ):\n",
    "\n",
    "    r_rmv_inds = []\n",
    "    for i in range(len(rules_list)):\n",
    "        r_i = rules_list[i]\n",
    "\n",
    "        if all( [True if k in r_i else False for k in rule1.keys()] ): # does all keys in rule 1 exist for rule_i?\n",
    "\n",
    "            if fail_or_surv == 'surv':            \n",
    "                if all( [True if r_i[k] >= v else False for k,v in rule1.items()] ): # this rule is dominated by the new rule\n",
    "                    r_rmv_inds += [i]           \n",
    "                \n",
    "            else: # fail_or_surv == 'fail'            \n",
    "                if all( [True if r_i[k] <= v else False for k,v in rule1.items()] ): # this rule is dominated by the new rule\n",
    "                    r_rmv_inds += [i]\n",
    "\n",
    "    rules_list_new = copy.deepcopy( rules_list )\n",
    "    for i in r_rmv_inds:\n",
    "        del rules_list_new[i]\n",
    "\n",
    "    rules_list_new += [rule1]\n",
    "\n",
    "    return rules_list_new\n",
    "\n",
    "\n",
    "# Example 1: survival case\n",
    "rules_s = [{'e2': 3, 'e5': 3}] # a list of rules\n",
    "rs_new = {'e2': 2, 'e5': 3} # a new rule\n",
    "\n",
    "rules_s_new = add_a_new_rule( rules_s, rs_new, 'surv' )\n",
    "print(rules_s_new)\n",
    "\n",
    "# Exmaple 2: failure case\n",
    "rules_f = [{'e2': 2, 'e5': 2}] # a list of rules\n",
    "rf_new = {'e2': 2, 'e5': 1} # a new rule\n",
    "\n",
    "rules_f_new = add_a_new_rule( rules_f, rf_new, 'surv' )\n",
    "print(rules_f_new)\n",
    "\n"
   ]
  },
  {
   "cell_type": "markdown",
   "metadata": {},
   "source": [
    "## Branch and bound by algorithm"
   ]
  },
  {
   "cell_type": "markdown",
   "metadata": {},
   "source": [
    "### System function\n",
    "\n",
    "A system function needs to return (1) system function value, (2) system state, and (3) minimally required component state to fulfill the obtained system function value. If (3) is unavailable, it can be returned as None. <br>\n",
    "It requires input being a component state in regard to which a system analysis needs to be done."
   ]
  },
  {
   "cell_type": "code",
   "execution_count": 26,
   "metadata": {},
   "outputs": [
    {
     "name": "stdout",
     "output_type": "stream",
     "text": [
      "0.4245584679314058 fail None\n"
     ]
    }
   ],
   "source": [
    "# Example 1: when minimally required component state is available.\n",
    "def sf_min_path( comps_st, od_pair, arcs, vari, thres, sys_val_itc ):\n",
    "\n",
    "    G = nx.Graph()\n",
    "    for k, x in arcs.items():\n",
    "        c_st = comps_st[k]\n",
    "        G.add_edge(x[0], x[1], time=vari[k].values[c_st-1])\n",
    "\n",
    "    path = nx.shortest_path( G, source = od_pair[0], target = od_pair[1], weight = 'time' )\n",
    "    sys_val = nx.shortest_path_length( G, source = od_pair[0], target = od_pair[1], weight = 'time' )\n",
    "\n",
    "    if sys_val > thres*sys_val_itc:\n",
    "        sys_st = 'fail'\n",
    "    else:\n",
    "        sys_st = 'surv'\n",
    "\n",
    "    if sys_st == 'surv': # in this case we know how to find out minimally required component state\n",
    "        min_comps_st = {}\n",
    "        for i in range(len(path)-1):\n",
    "            nodes_i = [path[i], path[i+1]]\n",
    "            nodes_i_rev = [path[i+1], path[i]] # reversed pair (arcs are bi-directional)\n",
    "            arc_i = next((k for k, v in arcs.items() if v == nodes_i or v == nodes_i_rev), None)\n",
    "            min_comps_st[arc_i] = comps_st[arc_i]\n",
    "    \n",
    "    else: # sys_st == 'fail'\n",
    "        min_comps_st = None\n",
    "\n",
    "    return sys_val, sys_st, min_comps_st\n",
    "\n",
    "\n",
    "# Given a system function, i.e. sf_min_path, it should be represented by a function that only has \"comps_st\" as input.\n",
    "sys_fun = lambda comps_st : sf_min_path( comps_st, od_pair, arcs, vari, thres, sys_val_itc ) # TODO: branch needs to have states defined in dictionary instead of list.\n",
    "\n",
    "sys_val, sys_st, min_comps_st = sys_fun( {'e1': 3, 'e2': 1, 'e3': 2, 'e4': 3, 'e5': 3, 'e6': 3} )\n",
    "print(sys_val, sys_st, min_comps_st)"
   ]
  },
  {
   "cell_type": "markdown",
   "metadata": {},
   "source": [
    "### Initialisation"
   ]
  },
  {
   "cell_type": "code",
   "execution_count": 37,
   "metadata": {},
   "outputs": [],
   "source": [
    "#initialisation\n",
    "max_br = 1000 # user input: maximum no. of branches \n",
    "no_sf = 0 # number of system function runs so far\n",
    "sys_res = pd.DataFrame(data={'sys_val': [], 'comps_st': [], 'comps_st_min': []}) # system function results \n",
    "\n",
    "rules_s = [] # a list of known survival rules\n",
    "rules_f = [] # a list of known failure rules\n",
    "\n"
   ]
  },
  {
   "cell_type": "code",
   "execution_count": 38,
   "metadata": {},
   "outputs": [
    {
     "name": "stdout",
     "output_type": "stream",
     "text": [
      "Iteration:  1\n",
      "Known rule--surv: \n",
      "Known rule--fail: \n",
      "Branching stage:  1\n",
      "Branch #:  1\n",
      "Branch:  Branch(down=[1, 1, 1, 1, 1, 1], up=[3, 3, 3, 3, 3, 3], is_complete=False, down_state=1, up_state=1, down_val=None, up_val=None\n",
      "Compatible rules--surv:\n",
      "Compatible rules--fail: \n",
      "Branching stage:  2\n"
     ]
    },
    {
     "ename": "IndexError",
     "evalue": "list index out of range",
     "output_type": "error",
     "traceback": [
      "\u001b[1;31m---------------------------------------------------------------------------\u001b[0m",
      "\u001b[1;31mIndexError\u001b[0m                                Traceback (most recent call last)",
      "\u001b[1;32mc:\\Users\\jb622s\\git\\BNS-JT\\general_bnb.ipynb Cell 36\u001b[0m line \u001b[0;36m3\n\u001b[0;32m     <a href='vscode-notebook-cell:/c%3A/Users/jb622s/git/BNS-JT/general_bnb.ipynb#X50sZmlsZQ%3D%3D?line=34'>35</a>\u001b[0m \u001b[39mfor\u001b[39;00m i \u001b[39min\u001b[39;00m \u001b[39mrange\u001b[39m(\u001b[39mlen\u001b[39m( brs )):\n\u001b[0;32m     <a href='vscode-notebook-cell:/c%3A/Users/jb622s/git/BNS-JT/general_bnb.ipynb#X50sZmlsZQ%3D%3D?line=36'>37</a>\u001b[0m     br_i \u001b[39m=\u001b[39m brs[i]\n\u001b[1;32m---> <a href='vscode-notebook-cell:/c%3A/Users/jb622s/git/BNS-JT/general_bnb.ipynb#X50sZmlsZQ%3D%3D?line=37'>38</a>\u001b[0m     rs_cond_i \u001b[39m=\u001b[39m brs_rs_cond[i]\n\u001b[0;32m     <a href='vscode-notebook-cell:/c%3A/Users/jb622s/git/BNS-JT/general_bnb.ipynb#X50sZmlsZQ%3D%3D?line=38'>39</a>\u001b[0m     rf_cond_i \u001b[39m=\u001b[39m brs_rf_cond[i]\n\u001b[0;32m     <a href='vscode-notebook-cell:/c%3A/Users/jb622s/git/BNS-JT/general_bnb.ipynb#X50sZmlsZQ%3D%3D?line=40'>41</a>\u001b[0m     \u001b[39m### for debugging ###\u001b[39;00m\n",
      "\u001b[1;31mIndexError\u001b[0m: list index out of range"
     ]
    }
   ],
   "source": [
    "no_iter =  0\n",
    "while no_iter < 20: # for debugging \n",
    "\n",
    "    ### for debugging ###\n",
    "    no_iter += 1 \n",
    "    print( 'Iteration: ', no_iter ) \n",
    "\n",
    "    print( 'Known rule--surv: ' )\n",
    "    for d in rules_s:\n",
    "        print( d )\n",
    "    print( 'Known rule--fail: ' )\n",
    "    for d in rules_f:\n",
    "        print( d )\n",
    "    #####################\n",
    "\n",
    "    ## Start from the total event\n",
    "    down_list = [1] * len(arcs) # all components in the worst state\n",
    "    up_list = [len( vari[e].B[0] ) for e in comps_name] # all components in the best state\n",
    "\n",
    "    brs = [branch.Branch( down_list, up_list, is_complete=False )]\n",
    "    brs_rs_cond = [rules_s] # compatible survival rules with only yet satisfied conditions stored (have the same length as brs)\n",
    "    brs_rf_cond = [rules_f] # compatible failure rules with only yet satisfied conditions stored (have the same length as brs)\n",
    "\n",
    "    no_br_stage = 0 # for debugging\n",
    "    while sum( [1 if b.is_complete == False else 0 for b in brs ] ) > 0:\n",
    "\n",
    "        ### for debugging ###\n",
    "        no_br_stage += 1 \n",
    "        print( 'Branching stage: ', no_br_stage ) \n",
    "        #####################\n",
    "        \n",
    "        brs_new = []\n",
    "        brs_rs_cond_new = []\n",
    "        brs_rf_cond_new = []\n",
    "        for i in range(len( brs )):\n",
    "\n",
    "            br_i = brs[i]\n",
    "            rs_cond_i = brs_rs_cond[i]\n",
    "            rf_cond_i = brs_rf_cond[i]\n",
    "\n",
    "            ### for debugging ###\n",
    "            print( 'Branch #: ', i+1 ) \n",
    "            print( 'Branch: ', br_i )\n",
    "\n",
    "            print( 'Compatible rules--surv:' )\n",
    "            for d in rs_cond_i:\n",
    "                print( d )\n",
    "            print( 'Compatible rules--fail: ' )\n",
    "            for d in rf_cond_i:\n",
    "                print( d )\n",
    "            #####################\n",
    "\n",
    "            if len(rs_cond_i) == 0 and len(rf_cond_i) == 0 and br_i.is_complete == False:\n",
    "\n",
    "                brs_new += [br_i]\n",
    "                brs_rs_cond += [[]]\n",
    "                brs_rf_cond += [[]]\n",
    "                break # exit and run system function on this branch's upper bound\n",
    "\n",
    "            elif br_i.is_complete ==  True: # no need to do branch if the branch's state is known\n",
    "                brs_new += [br_i] \n",
    "                brs_rs_cond += [[]]\n",
    "                brs_rf_cond += [[]]\n",
    "            \n",
    "            elif br_i.is_complete == False: # branch this branch \n",
    "                comp_bnb_i, st_bnb_i, sys_bnb_i, bnb_st_i = get_comp_st_for_next_bnb( rs_cond_i, rf_cond_i )\n",
    "                brs_new_i = decomp_to_two_branches( br_i, comp_bnb_i, st_bnb_i, sys_bnb_i, comps_name_list ) # comps_name_list is not necessary if branch's down and up are defined in dictionary\n",
    "                \n",
    "                if bnb_st_i == 'surv': # we know that the upper branch is a survival one\n",
    "                    brs_new_i[1].down_state = 'surv'\n",
    "                    brs_new_i[1].up_state = 'surv'\n",
    "                    brs_new_i[1].is_complete = True\n",
    "\n",
    "                elif bnb_st_i == 'fail': # we know that the lower branch is a failure one\n",
    "                    brs_new_i[0].down_state = 'fail'\n",
    "                    brs_new_i[0].up_state = 'fail'\n",
    "                    brs_new_i[0].is_complete = True\n",
    "                \n",
    "                brs_new += brs_new_i\n",
    "\n",
    "                for b in brs_new_i: # update compatible rules and their remaining conditions to satisfy\n",
    "                    \n",
    "                    down_dict_b = comps_st_list_to_dict( b.down, comps_name_list )\n",
    "                    up_dict_b = comps_st_list_to_dict( b.up, comps_name_list )\n",
    "\n",
    "                    rs_cond_b = get_rem_cond_for_compat_rule_s( down_dict_b, up_dict_b, rs_cond_i )\n",
    "                    rf_cond_b = get_rem_cond_for_compat_rule_f( down_dict_b, up_dict_b, rf_cond_i )\n",
    "\n",
    "                    brs_rs_cond_new += [rs_cond_b]\n",
    "                    brs_rf_cond_new += [rf_cond_b]\n",
    "\n",
    "\n",
    "                ### for debugging ###\n",
    "                print( 'New branch--low: ', brs_new_i[0] ) \n",
    "                print( '   compat. rules--surv: ', brs_rs_cond_new[-2] )\n",
    "                print( '   compat. rules--fail: ', brs_rf_cond_new[-2] )\n",
    "\n",
    "                print( 'New branch--up: ', brs_new_i[1] )\n",
    "                print( '   compat. rules--surv: ', brs_rs_cond_new[-1] )\n",
    "                print( '   compat. rules--fail: ', brs_rf_cond_new[-1] )\n",
    "                #####################\n",
    "\n",
    "\n",
    "                if len(brs_new) > max_br:\n",
    "                    break # stop the process if there are too many branches\n",
    "\n",
    "        brs = copy.deepcopy( brs_new )\n",
    "        brs_rs_cond = copy.deepcopy( brs_rs_cond_new )\n",
    "        brs_rf_cond = copy.deepcopy( brs_rf_cond_new )\n",
    "\n",
    "        if len(brs_new) > max_br:\n",
    "            break \n",
    "\n",
    "    # run system function\n",
    "    up_dict_i = comps_st_list_to_dict( br_i.up, comps_name )\n",
    "\n",
    "\n",
    "    no_sf += 1\n",
    "    sys_val_i, sys_st_i, min_comps_st_i = sys_fun( up_dict_i )\n",
    "\n",
    "    sys_res = pd.concat( [sys_res,\n",
    "                        pd.DataFrame( {'sys_val': [sys_val_i], 'comps_st': [up_dict_i], 'comps_st_min': [min_comps_st_i]} )],\n",
    "                        ignore_index = True )\n",
    "\n",
    "\n",
    "    if sys_st_i == 'surv':\n",
    "        if min_comps_st_i is not None:\n",
    "            rs_new = min_comps_st_i\n",
    "        else:\n",
    "            rs_new = { k:v for k,v in up_dict_i.items() if v > 1 } # the rule is the same as up_dict_i but includes only components whose state is greater than the worst one (i.e. 1)\n",
    "        \n",
    "        rules_s = add_a_new_rule( rules_s, rs_new, 'surv' )\n",
    "\n",
    "\n",
    "    else: # sys_st_i == 'fail'\n",
    "        if min_comps_st_i is not None:\n",
    "            rf_new = min_comps_st_i\n",
    "        else:\n",
    "            rf_new = { k:v for k,v in up_dict_i.items() if v < len(vari[k].B[0]) } # the rule is the same as up_dict_i but includes only components whose state is less than the best one\n",
    "\n",
    "        rules_f = add_a_new_rule( rules_f, rf_new, 'fail' )\n",
    "\n",
    "\n",
    "    ### for debugging ###\n",
    "    print( 'Survival rules: ', rules_s ) \n",
    "    print( 'Failure rules: ', rules_f ) \n",
    "    #####################\n",
    "\n",
    "\n",
    "#### 151023: seems to work but something is wrong"
   ]
  },
  {
   "cell_type": "code",
   "execution_count": 32,
   "metadata": {},
   "outputs": [
    {
     "name": "stdout",
     "output_type": "stream",
     "text": [
      "[]\n"
     ]
    }
   ],
   "source": [
    "print( brs_new )"
   ]
  },
  {
   "cell_type": "code",
   "execution_count": 177,
   "metadata": {},
   "outputs": [],
   "source": [
    "down_list = [1] * len(arcs) # all components in the worst state\n",
    "up_list = [len( vari[e].B[0] ) for e in comps_name] # all components in the best state\n",
    "\n",
    "brs = [branch.Branch( down_list, up_list, is_complete=False )]\n",
    "brs_rs_cond = [rules_s] # compatible survival rules with only yet satisfied conditions stored (have the same length as brs)\n",
    "brs_rf_cond = [rules_f] # compatible failure rules with only yet satisfied conditions stored (have the same length as brs)"
   ]
  },
  {
   "cell_type": "code",
   "execution_count": 179,
   "metadata": {},
   "outputs": [
    {
     "name": "stdout",
     "output_type": "stream",
     "text": [
      "[Branch(down=[1, 1, 1, 1, 1, 1], up=[3, 1, 3, 3, 3, 3], is_complete=False, down_state=1, up_state=1, down_val=None, up_val=None, Branch(down=[1, 2, 1, 1, 1, 1], up=[3, 3, 3, 3, 3, 3], is_complete=False, down_state=1, up_state=1, down_val=None, up_val=None]\n"
     ]
    }
   ],
   "source": [
    "   \n",
    "brs_new = []\n",
    "brs_rs_cond_new = []\n",
    "brs_rf_cond_new = []\n",
    "for i in range(len( brs )):\n",
    "\n",
    "    br_i = brs[i]\n",
    "    rs_cond_i = brs_rs_cond[i]\n",
    "    rf_cond_i = brs_rf_cond[i]\n",
    "\n",
    "    if len(rs_cond_i) == 0 and len(rf_cond_i) == 0 and br_i.is_complete == False:\n",
    "        break # exit and run system function on this branch's upper bound\n",
    "    \n",
    "    elif br_i.is_complete == False: # branch this branch (no need to do branch if the branch's state is known)\n",
    "        comp_bnb_i, st_bnb_i, sys_bnb_i, bnb_st_i = get_comp_st_for_next_bnb( rs_cond_i, rf_cond_i )\n",
    "        brs_new_i = decomp_to_two_branches( br_i, comp_bnb_i, st_bnb_i, sys_bnb_i, comps_name_list ) # comps_name_list is not necessary if branch's down and up are defined in dictionary\n",
    "        \n",
    "        if bnb_st_i == 'surv': # we know that the upper branch is a survival one\n",
    "            brs_new_i[1].down_state = 'surv'\n",
    "            brs_new_i[1].up_state = 'surv'\n",
    "            brs_new_i[1].is_complete = True\n",
    "\n",
    "        elif bnb_st_i == 'fail': # we know that the lower branch is a failure one\n",
    "            brs_new_i[0].down_state = 'fail'\n",
    "            brs_new_i[0].up_state = 'fail'\n",
    "            brs_new_i[0].is_complete = True\n",
    "        \n",
    "        brs_new += brs_new_i\n",
    "\n",
    "        for b in brs_new_i: # update compatible rules and their remaining conditions to satisfy\n",
    "            \n",
    "            down_dict_b = comps_st_list_to_dict( b.down, comps_name_list )\n",
    "            up_dict_b = comps_st_list_to_dict( b.up, comps_name_list )\n",
    "\n",
    "            rs_cond_b = get_rem_cond_for_compat_rule_s( down_dict_b, up_dict_b, rs_cond_i )\n",
    "            rf_cond_b = get_rem_cond_for_compat_rule_f( down_dict_b, up_dict_b, rf_cond_i )\n",
    "\n",
    "            brs_rs_cond_new += [rs_cond_b]\n",
    "            brs_rf_cond_new += [rf_cond_b]\n",
    "\n",
    "brs\n",
    "\n",
    "print(brs_new)"
   ]
  },
  {
   "cell_type": "code",
   "execution_count": null,
   "metadata": {},
   "outputs": [],
   "source": [
    "rs_cond_i = brs_rs_cond[i]\n",
    "rf_cond_i = brs_rf_cond[i]\n",
    "\n",
    "comp_b_i, st_b_i, sys_b_i = get_comp_st_for_next_bnb(rs_cond_i, rf_cond_i) \n",
    "\n",
    "brs_new_i = decomp_to_two_branches( br_i, comp_b_i, st_b_i, sys_b_i, comps_name_list )\n",
    "brs_new += brs_new_i\n",
    "\n",
    "\n",
    "#### 131023: Continue from getting rule conditions for the new branches ####\n",
    "rs_cond_i = get_rem_cond_for_compat_rule_s( down_dict, up_dict, rules_s )\n",
    "rf_cond_i = get_rem_cond_for_compat_rule_s( down_dict, up_dict, rules_f )\n",
    "\n",
    "\"\"\"\n",
    "if len(rs_cond_i) < 1 and len(rf_cond_i) < 1: # no compatible rules left--stop and use this branch for next system analysis\n",
    "    break\n",
    "else:\n",
    "\"\"\""
   ]
  },
  {
   "cell_type": "code",
   "execution_count": null,
   "metadata": {},
   "outputs": [],
   "source": [
    "\n",
    "\n",
    "\n",
    "\n",
    "\n",
    "\n",
    "worst_st = [1] * len(arcs)\n",
    "\n",
    "\n",
    "\n",
    "rules_s = [min_comps_itc]\n",
    "rules_f = []\n",
    "print(rules_s)\n",
    "\n",
    "\n",
    "brs = [branch.Branch( worst_st, best_st, is_complete=False )]\n",
    "\n",
    "down_dict = comps_st_list_to_dict( brs[0].down, comps_name )\n",
    "up_dict = comps_st_list_to_dict( brs[0].up, comps_name )\n",
    "\n",
    "\n",
    "brs_rs_cond = [ get_rem_cond_for_compat_rule_s( down_dict, up_dict, rules_s ) ]\n",
    "brs_rf_cond = [[]]\n"
   ]
  },
  {
   "cell_type": "code",
   "execution_count": 22,
   "metadata": {},
   "outputs": [
    {
     "name": "stdout",
     "output_type": "stream",
     "text": [
      "[{'e2': 3, 'e5': 3}]\n",
      "e2 3 surv\n",
      "[[{'e2': 3, 'e5': 3}]]\n",
      "[[]]\n"
     ]
    }
   ],
   "source": [
    "\n",
    "\n",
    "\n",
    "\n",
    "\n",
    "\n",
    "## Start with the total event ##\n",
    "brs = [branch.Branch( worst_st, best_st, is_complete=False )]\n",
    "\n",
    "down_dict = comps_st_list_to_dict( brs[0].down, comps_name )\n",
    "up_dict = comps_st_list_to_dict( brs[0].up, comps_name )\n",
    "\n",
    "brs_rs_cond = [ get_rem_cond_for_compat_rule_s( down_dict, up_dict, rules_s ) ]\n",
    "brs_rf_cond = [[]]\n",
    "#################################\n",
    "\n",
    "\n",
    "# while (there are any incomplete branches) or (the number of branches exceed what user defined <-- actually this should be inside the while loop)\n",
    "brs_new = [] # the length becomes twice as the original brs if branches are completed\n",
    "for i in range( len(brs) ):\n",
    "\n",
    "    br_i = brs[i]\n",
    "    \n",
    "    down_dict = comps_st_list_to_dict( br_i.down, comps_name )\n",
    "    up_dict = comps_st_list_to_dict( br_i.up, comps_name )\n",
    "\n",
    "    rs_cond_i = brs_rs_cond[i]\n",
    "    rf_cond_i = brs_rf_cond[i]\n",
    "\n",
    "    comp_b_i, st_b_i, sys_b_i = get_comp_st_for_next_bnb(rs_cond_i, rf_cond_i) \n",
    "    \n",
    "    brs_new_i = decomp_to_two_branches( br_i, comp_b_i, st_b_i, sys_b_i, comps_name_list )\n",
    "    brs_new += brs_new_i\n",
    "\n",
    "\n",
    "    #### 131023: Continue from getting rule conditions for the new branches ####\n",
    "    rs_cond_i = get_rem_cond_for_compat_rule_s( down_dict, up_dict, rules_s )\n",
    "    rf_cond_i = get_rem_cond_for_compat_rule_s( down_dict, up_dict, rules_f )\n",
    "\n",
    "    \"\"\"\n",
    "    if len(rs_cond_i) < 1 and len(rf_cond_i) < 1: # no compatible rules left--stop and use this branch for next system analysis\n",
    "        break\n",
    "    else:\n",
    "    \"\"\"\n",
    "    \n",
    "        \n",
    "\n",
    "    brs_rs_cond[i] = rs_cond_i\n",
    "    brs_rf_cond[i] = rf_cond_i\n",
    "\n",
    "\n",
    "print(brs_rs_cond)\n",
    "print(brs_rf_cond)\n",
    "\n",
    "# pick up a branch as soon as "
   ]
  },
  {
   "cell_type": "code",
   "execution_count": 60,
   "metadata": {},
   "outputs": [
    {
     "name": "stdout",
     "output_type": "stream",
     "text": [
      "[{'e2': 3, 'e5': 3}]\n",
      "e2\n",
      "3\n",
      "Branch(down=[1, 1, 1, 1, 1, 1], up=[3, 3, 3, 3, 3, 3], is_complete=False, down_state=1, up_state=1, down_val=None, up_val=None\n",
      "[{'e2': 3, 'e5': 3}]\n",
      "[]\n",
      "e2\n",
      "2\n",
      "surv\n"
     ]
    }
   ],
   "source": [
    "\n",
    "\n",
    "\n",
    "\n",
    "no_incomp_br = sum( 1 for x in brs if x.is_complete == False ) # number of incomplete branches\n",
    "#while len(brs) < max_br and no_incomp_br > 0:\n",
    "\n",
    "comp_bnb, st_bnb, sys_bnb = get_comp_st_for_next_bnb( rules_s, rules_f )\n",
    "print(comp_bnb)\n",
    "print(st_bnb)\n",
    "\n",
    "brs = [branch.Branch( worst_st, best_st, is_complete=False )] # total event\n",
    "#for b in brs:\n",
    "b = brs[0]\n",
    "print(b)\n",
    "\n",
    "#if b.is_complete == False:\n",
    "down_dict = comps_st_list_to_dict( b.down, comps_name )\n",
    "up_dict = comps_st_list_to_dict( b.up, comps_name )\n",
    "\n",
    "rs_cond = get_rem_cond_for_compat_rule_s( down_dict, up_dict, rules_s )\n",
    "rf_cond = get_rem_cond_for_compat_rule_s( down_dict, up_dict, rules_f )\n",
    "print(rs_cond)\n",
    "print(rf_cond)\n",
    "\n",
    "comp_bnb, st_bnb, sys_bnb = get_comp_st_for_next_bnb( rule_s, rule_f )\n",
    "print(comp_bnb)\n",
    "print(st_bnb)\n",
    "print(sys_bnb)\n",
    "\n",
    "\n",
    "\n"
   ]
  },
  {
   "cell_type": "code",
   "execution_count": 111,
   "metadata": {},
   "outputs": [
    {
     "name": "stdout",
     "output_type": "stream",
     "text": [
      "1\n"
     ]
    }
   ],
   "source": [
    "print(no_incomp_br)"
   ]
  },
  {
   "cell_type": "code",
   "execution_count": null,
   "metadata": {},
   "outputs": [],
   "source": [
    "brs = []\n",
    "print(isemtpy)"
   ]
  }
 ],
 "metadata": {
  "kernelspec": {
   "display_name": "Python 3",
   "language": "python",
   "name": "python3"
  },
  "language_info": {
   "codemirror_mode": {
    "name": "ipython",
    "version": 3
   },
   "file_extension": ".py",
   "mimetype": "text/x-python",
   "name": "python",
   "nbconvert_exporter": "python",
   "pygments_lexer": "ipython3",
   "version": "3.10.10"
  }
 },
 "nbformat": 4,
 "nbformat_minor": 2
}
