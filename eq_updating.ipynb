{
 "cells": [
  {
   "cell_type": "code",
   "execution_count": 1,
   "id": "edbdd82b",
   "metadata": {
    "scrolled": true
   },
   "outputs": [
    {
     "name": "stdout",
     "output_type": "stream",
     "text": [
      "\n",
      "Note: you may need to restart the kernel to use updated packages.\n"
     ]
    }
   ],
   "source": [
    "conda activate bns"
   ]
  },
  {
   "cell_type": "code",
   "execution_count": 54,
   "id": "16c9347f",
   "metadata": {},
   "outputs": [],
   "source": [
    "import networkx as nx\n",
    "import matplotlib.pyplot as plt\n",
    "from pathlib import Path\n",
    "import numpy as np\n",
    "from scipy.stats import lognorm, norm\n",
    "import os\n",
    "import copy\n",
    "\n",
    "from BNS_JT import cpm, variable\n",
    "from BNS_JT.trans import get_arcs_length, get_all_paths_and_times\n",
    "from BNS_JT.cpm import variable_elim, mcs_product, single_sample, get_sample_order\n",
    "from BNS_JT.branch import get_cmat_from_branches, branch_and_bound\n"
   ]
  },
  {
   "cell_type": "code",
   "execution_count": 55,
   "id": "b58ac5fa",
   "metadata": {},
   "outputs": [],
   "source": [
    "np.set_printoptions(precision=3)\n",
    "HOME = os.getcwd()"
   ]
  },
  {
   "cell_type": "markdown",
   "id": "3e4dde8c",
   "metadata": {},
   "source": [
    "# Network\n",
    "\n",
    "This is a hypothetical network with arbitrary scales, epicentre location and road types."
   ]
  },
  {
   "cell_type": "code",
   "execution_count": 56,
   "id": "42fece4f",
   "metadata": {},
   "outputs": [
    {
     "name": "stdout",
     "output_type": "stream",
     "text": [
      "{'e1': 20.09975124224178, 'e2': 18.741664813991314, 'e3': 20.0, 'e4': 18.527007313648905, 'e5': 18.527007313648905, 'e6': 17.11724276862369, 'e7': 17.0}\n",
      "{('n1', 'n4'): [(['e1', 'e3', 'e5', 'e7', 'e6'], 0.2733333333333333), (['e1', 'e4', 'e6'], 0.16666666666666669), (['e2'], 0.06)], ('n1', 'n5'): [(['e1', 'e3', 'e5', 'e7'], 0.20666666666666667), (['e1', 'e4'], 0.1), (['e2', 'e6'], 0.12666666666666665)], ('n1', 'n6'): [(['e1', 'e3', 'e5'], 0.16666666666666666), (['e1', 'e4', 'e7'], 0.14), (['e2', 'e6', 'e4', 'e3', 'e5'], 0.3133333333333333), (['e2', 'e6', 'e7'], 0.16666666666666666)]}\n"
     ]
    },
    {
     "data": {
      "image/png": "[encoded data removed]",
      "text/plain": [
       "<Figure size 640x480 with 1 Axes>"
      ]
     },
     "metadata": {},
     "output_type": "display_data"
    }
   ],
   "source": [
    "node_coords = {'n1': (0, 0),\n",
    "               'n2': (0, -2),\n",
    "               'n3': (0, -4),\n",
    "               'n4': (3, 0),\n",
    "               'n5': (3, -2),\n",
    "               'n6': (3, -4)} # km\n",
    "\n",
    "arcs = {'e1': ['n1', 'n2'],\n",
    "        'e2': ['n1', 'n4'],\n",
    "        'e3': ['n2', 'n3'],\n",
    "        'e4': ['n2', 'n5'],\n",
    "        'e5': ['n3', 'n6'],\n",
    "        'e6': ['n4', 'n5'],\n",
    "        'e7': ['n5', 'n6']}\n",
    "\n",
    "# Fragility curves -- From HAZUS-EQ model (roads are regarded as disconnected when being extensively or completely damaged)\n",
    "\n",
    "frag = {'major': {'med': 60.0, 'std': 0.7},\n",
    "        'urban' : {'med': 24.0, 'std': 0.7},\n",
    "        'bridge': {'med': 1.1, 'std': 3.9}}\n",
    "\n",
    "arcs_type = {'e1': 'major',\n",
    "             'e2': 'bridge',\n",
    "             'e3': 'urban',\n",
    "             'e4': 'bridge',\n",
    "             'e5': 'major',\n",
    "             'e6': 'urban',\n",
    "             'e7': 'major'}\n",
    "\n",
    "arcs_avg_kmh = {'e1': 50,\n",
    "                'e2': 50,\n",
    "                'e3': 30,\n",
    "                'e4': 50,\n",
    "                'e5': 50,\n",
    "                'e6': 30,\n",
    "                'e7': 50}\n",
    "\n",
    "var_ODs = {'od1': ('n1', 'n4'),\n",
    "           'od2': ('n1', 'n5'),\n",
    "           'od3': ('n1', 'n6')}\n",
    "\n",
    "nODs = len(var_ODs)\n",
    "\n",
    "# Arcs' states index compatible with variable B index, and C\n",
    "arc_surv = 1 - 1\n",
    "arc_fail = 2 - 1\n",
    "arc_either = 3 - 1\n",
    "\n",
    "arc_lens_km = get_arcs_length(arcs, node_coords)\n",
    "\n",
    "# Distance to epicentre (epicentre is assumed to have been observed.)\n",
    "arcs_cloc_km = {}\n",
    "for k, v in arcs.items():\n",
    "    cloc = 0.5 * (np.array( node_coords[v[0]] ) + np.array( node_coords[v[1]] ))\n",
    "    arcs_cloc_km[k] = cloc\n",
    "\n",
    "epi_loc_km = (20, -3)\n",
    "arcs_epi_dist_km = {}\n",
    "for k, v in arcs_cloc_km.items():\n",
    "    diff = np.array(v) - np.array(epi_loc_km)\n",
    "    arcs_epi_dist_km[k] = np.sqrt(np.sum(diff**2))\n",
    "print(arcs_epi_dist_km)\n",
    "\n",
    "#arcTimes_h = arcLens_km ./ arcs_Vavg_kmh\n",
    "arc_times_h = {k: v/arcs_avg_kmh[k] for k, v in arc_lens_km.items()}\n",
    "\n",
    "# create a graph\n",
    "G = nx.Graph()\n",
    "for k, x in arcs.items():\n",
    "    G.add_edge(x[0], x[1], time=arc_times_h[k], label=k)\n",
    "\n",
    "for k, v in node_coords.items():\n",
    "    G.add_node(k, pos=v)\n",
    "\n",
    "path_time = get_all_paths_and_times(var_ODs.values(), G, key='time')\n",
    "print( path_time )\n",
    "\n",
    "# plot graph\n",
    "pos = nx.get_node_attributes(G, 'pos')\n",
    "edge_labels = nx.get_edge_attributes(G, 'label')\n",
    "\n",
    "fig = plt.figure()\n",
    "ax = fig.add_subplot()\n",
    "nx.draw(G, pos, with_labels=True, ax=ax)\n",
    "nx.draw_networkx_edge_labels(G, pos, edge_labels=edge_labels, ax=ax)\n",
    "fig.savefig( os.path.join(HOME, 'graph_toy.png'), dpi=200)"
   ]
  },
  {
   "cell_type": "markdown",
   "id": "5bad1533",
   "metadata": {},
   "source": [
    "# Add and sample hazard nodes.\n",
    "\n",
    "We assume magnitude and epicentre are observed, and sample intensity measures (IMs) experienced by each component event. Note that such samples can be obtained by any approaches (e.g. ground motion prediction equations (GMPEs) or detailed simulation tools like Global Earthquake Model (GEM)). <br>\n",
    "Here, we employ a GMPE proposed by Campbell (1997) for peak ground acceleration (PGA) and HAZUS EQ model for permanent ground displacement (PGD)."
   ]
  },
  {
   "cell_type": "code",
   "execution_count": 57,
   "id": "963ca6db",
   "metadata": {},
   "outputs": [
    {
     "name": "stdout",
     "output_type": "stream",
     "text": [
      "E[ log(A_H) ] for each arc (component):\n",
      "{'e1': 0.2529664900800276, 'e2': 0.26886113914642845, 'e3': 0.2540890253419107, 'e4': 0.2714972127053331, 'e5': 0.2714972127053331, 'e6': 0.28968581274095156, 'e7': 0.2912683553162252}\n"
     ]
    }
   ],
   "source": [
    "eq_m = 7 # observed\n",
    "\n",
    "arcs_lpga_mean = {}\n",
    "for k, v in arcs_epi_dist_km.items():\n",
    "    lpga_mean = -3.512 + 0.904 * eq_m - 1.312 * np.log( np.sqrt( v**2 + (0.149 * np.exp(0.647*eq_m))**2 ) ) # Campbell (1997)\n",
    "    arcs_lpga_mean[k] = lpga_mean\n",
    "print( 'E[ log(A_H) ] for each arc (component):' )\n",
    "print( {k: np.exp(v) for k,v in arcs_lpga_mean.items()} )"
   ]
  },
  {
   "cell_type": "markdown",
   "id": "4fbe16de",
   "metadata": {},
   "source": [
    "We get the samples of PGA. Note that this is not an entirely correct application of Campbell (1997). Procedure is simplified to just to quickly get samples of IM."
   ]
  },
  {
   "cell_type": "code",
   "execution_count": 58,
   "id": "dc645685",
   "metadata": {},
   "outputs": [
    {
     "name": "stdout",
     "output_type": "stream",
     "text": [
      "[[0.294 0.156 0.288 0.198 0.157 0.321 0.09 ]\n",
      " [0.161 0.273 0.178 0.311 1.717 0.671 0.215]\n",
      " [0.398 0.3   0.396 0.406 0.213 0.684 0.149]\n",
      " [0.305 0.299 0.188 0.62  0.108 0.464 0.11 ]\n",
      " [0.239 0.288 0.243 0.224 0.354 0.16  0.13 ]\n",
      " [0.122 0.394 0.079 0.226 0.439 0.312 0.143]\n",
      " [0.146 0.23  0.594 0.169 0.259 0.636 0.211]\n",
      " [0.119 0.171 0.227 0.302 0.145 0.591 0.241]\n",
      " [0.478 0.359 0.549 0.373 0.14  0.19  0.263]\n",
      " [0.245 0.33  0.23  0.378 0.623 0.289 0.204]]\n"
     ]
    }
   ],
   "source": [
    "no_samp = 10\n",
    "no_arc = len(arcs)\n",
    "\n",
    "cpms = {}\n",
    "varbs = {}\n",
    "\n",
    "C_pga = np.empty(shape=(no_samp, no_arc))\n",
    "for i in range(no_arc):\n",
    "    lpga_mean = arcs_lpga_mean['e'+str(i+1)]\n",
    "    lpga_samps = np.random.normal( loc = lpga_mean, scale = 0.55, size = (no_samp,) )\n",
    "    pga_samps = np.exp( lpga_samps )\n",
    "    C_pga[:,i] = pga_samps\n",
    "print(C_pga)\n",
    "\n",
    "\n",
    "# TODO: Below does not work. CPM needs to be able to be defined over continuous or sampled variables.\n",
    "#varbs['pga'] = variable.Variable(name='pga', B = [], values = [])\n",
    "#p = np.empty(shape = (no_samp, 1))\n",
    "#q = np.empty(shape = (no_samp, 1))\n",
    "#cpms['pga'] = cpm.Cpm( variables = [varbs['pga']], no_child = no_arc, C = C_pga, p = p, q = q )\n",
    "#print(varbs['pga'])\n",
    "#print(cpms['pga'])\n"
   ]
  },
  {
   "cell_type": "markdown",
   "id": "4edd4074",
   "metadata": {},
   "source": [
    "Sample PGD. \n",
    "\n",
    "For PGD, which is the IM for paved roads, the causal mechanism is assumed as lateral spreading due to liquefaction (ref: HAZUS EQ model). <br>\n",
    "Uncerty in PGD arises from PGA. For the moment, uncertainty in susceptibility category, and susceptibility category is assumed to be a single category (ref: Table 4-12 in HAZUS EQ model is ignored)."
   ]
  },
  {
   "cell_type": "code",
   "execution_count": 59,
   "id": "9a12e520",
   "metadata": {},
   "outputs": [
    {
     "name": "stdout",
     "output_type": "stream",
     "text": [
      "[[3.740e+00 0.000e+00 3.461e+00 0.000e+00 0.000e+00 4.916e+00 0.000e+00]\n",
      " [0.000e+00 2.816e+00 0.000e+00 4.496e+00 3.046e+02 3.391e+01 2.140e-01]\n",
      " [8.350e+00 3.973e+00 8.273e+00 8.696e+00 1.348e-01 3.722e+01 0.000e+00]\n",
      " [4.203e+00 3.967e+00 0.000e+00 2.260e+01 0.000e+00 1.224e+01 0.000e+00]\n",
      " [1.286e+00 3.470e+00 1.446e+00 6.204e-01 6.372e+00 0.000e+00 0.000e+00]\n",
      " [0.000e+00 8.184e+00 0.000e+00 6.943e-01 1.057e+01 4.518e+00 0.000e+00]\n",
      " [0.000e+00 8.679e-01 2.088e+01 0.000e+00 2.188e+00 2.485e+01 5.943e-02]\n",
      " [0.000e+00 0.000e+00 7.744e-01 4.102e+00 0.000e+00 2.071e+01 1.358e+00]\n",
      " [1.317e+01 6.626e+00 1.787e+01 7.216e+00 0.000e+00 0.000e+00 2.340e+00]\n",
      " [1.557e+00 5.334e+00 8.680e-01 7.452e+00 2.282e+01 3.503e+00 0.000e+00]]\n"
     ]
    }
   ],
   "source": [
    "pga_c = 0.21 # (g) for Low\n",
    "\n",
    "k_del = 0.0086 * eq_m**3 - 0.0914*eq_m**2 + 0.4698*eq_m - 0.9835\n",
    "\n",
    "C_pgd = np.empty(shape=(no_samp, no_arc))\n",
    "for i in range(no_arc):\n",
    "    for j in range(no_samp):\n",
    "        pga = C_pga[j,i]\n",
    "\n",
    "        pga_rat = pga / pga_c\n",
    "        if pga_rat < 1:\n",
    "            pgd = 0\n",
    "        elif pga_rat < 2:\n",
    "            pgd = 12*pga_rat - 12 # inch\n",
    "        elif pga_rat < 3:\n",
    "            pgd = 18*pga_rat - 24\n",
    "        else:\n",
    "            pgd = 70*pga_rat - 180\n",
    "        \n",
    "        C_pgd[j,i] = k_del * pgd\n",
    "        \n",
    "print(C_pgd)\n"
   ]
  },
  {
   "cell_type": "markdown",
   "id": "119ff0ba",
   "metadata": {},
   "source": [
    "Now we assume that we observed PGA at e2 and e5 by 0.2g and 0.3g respectively. We also assume that there is 10% of observation error. <br>\n",
    "This updates sample weights by $f(oa_2 | a_2) \\cdot f(oa_5 | a_5)$."
   ]
  },
  {
   "cell_type": "code",
   "execution_count": 60,
   "id": "a1ba58cc",
   "metadata": {},
   "outputs": [
    {
     "name": "stdout",
     "output_type": "stream",
     "text": [
      "[[1.294e-002]\n",
      " [8.849e-032]\n",
      " [8.302e-055]\n",
      " [7.266e-005]\n",
      " [4.963e-004]\n",
      " [2.630e-006]\n",
      " [9.812e-110]\n",
      " [3.517e-019]\n",
      " [3.602e-067]\n",
      " [8.314e+001]]\n"
     ]
    }
   ],
   "source": [
    "q = np.ones(shape=(no_samp,1)) # sample weight vector\n",
    "\n",
    "for j in range(no_samp):\n",
    "    q_j = norm.pdf( 0.2, C_pga[j, 2], scale = 0.2*0.1 ) * norm.pdf( 0.3, C_pga[j, 5], scale = 0.3*0.1 )\n",
    "    q[j] = q_j\n",
    "    \n",
    "print(q)"
   ]
  },
  {
   "cell_type": "markdown",
   "id": "d713cc67",
   "metadata": {},
   "source": [
    "# Now component and system events.\n",
    "\n",
    "First, we compute P(X_n=fail | sample_j)."
   ]
  },
  {
   "cell_type": "code",
   "execution_count": 61,
   "id": "9e35ec3f",
   "metadata": {},
   "outputs": [
    {
     "name": "stdout",
     "output_type": "stream",
     "text": [
      "[[0.308]\n",
      " [0.361]\n",
      " [0.369]\n",
      " [0.369]\n",
      " [0.366]\n",
      " [0.396]\n",
      " [0.344]\n",
      " [0.316]\n",
      " [0.387]\n",
      " [0.379]]\n"
     ]
    }
   ],
   "source": [
    "arcs_pf = {}\n",
    "\n",
    "for i in range(no_arc):\n",
    "    k = 'e' + str(i+1)\n",
    "    pf = np.zeros(shape=(no_samp,1))\n",
    "    \n",
    "    for j in range(no_samp):\n",
    "        _type = arcs_type[k]\n",
    "        if _type == 'bridge':\n",
    "            prob = lognorm.cdf(C_pga[j,i], frag[_type]['std'], scale=frag[_type]['med'])\n",
    "        else:\n",
    "            prob = lognorm.cdf(C_pgd[j,i], frag[_type]['std'], scale=frag[_type]['med'])\n",
    "        pf[j] = prob\n",
    "        \n",
    "    arcs_pf[k] = pf\n",
    "\n",
    "    \n",
    "print(arcs_pf['e2'])\n"
   ]
  },
  {
   "cell_type": "markdown",
   "id": "1d0c711c",
   "metadata": {},
   "source": [
    "Quantify system (functionality) events."
   ]
  },
  {
   "cell_type": "code",
   "execution_count": 62,
   "id": "9e97d367",
   "metadata": {},
   "outputs": [
    {
     "name": "stdout",
     "output_type": "stream",
     "text": [
      "b*: 1, sb: 1\n",
      "b*: 5, sb: 6\n",
      "b*: 4, sb: 6\n",
      "b*: 5, sb: 6\n",
      "b*: 4, sb: 6\n",
      "b*: 3, sb: 5\n",
      "b*: 4, sb: 5\n",
      "b*: 3, sb: 5\n",
      "b*: 2, sb: 4\n",
      "b*: 3, sb: 4\n",
      "b*: 2, sb: 4\n",
      "b*: 1, sb: 3\n",
      "[[1 1 2 1 2 1 1 1]\n",
      " [0 1 0 1 2 1 0 1]\n",
      " [3 1 1 1 2 1 0 1]\n",
      " [2 1 2 1 1 1 1 0]\n",
      " [0 1 0 1 1 1 0 0]\n",
      " [3 1 1 1 1 1 0 0]\n",
      " [0 1 0 1 0 1 2 0]\n",
      " [3 1 1 1 0 1 2 0]\n",
      " [2 1 2 1 1 0 1 2]\n",
      " [0 1 0 1 1 0 0 2]\n",
      " [3 1 1 1 1 0 0 2]\n",
      " [0 1 0 1 0 0 2 2]\n",
      " [3 1 1 1 0 0 2 2]\n",
      " [2 1 2 0 1 2 1 2]\n",
      " [0 1 0 0 1 2 0 2]\n",
      " [3 1 1 0 1 2 0 2]\n",
      " [0 1 0 0 0 2 2 2]\n",
      " [3 1 1 0 0 2 2 2]\n",
      " [0 0 0 2 2 2 2 2]\n",
      " [3 0 1 2 2 2 2 2]]\n"
     ]
    }
   ],
   "source": [
    "lower = {x: 0 for x in arcs}  # Fail\n",
    "upper = {x: 1 for x in arcs}  # surv\n",
    "arc_condn = 1\n",
    "\n",
    "i = 0 # System event index\n",
    "k = 'od' + str(i+1)\n",
    "state = 0\n",
    "path_time_idx = [([], np.inf, state)]\n",
    "for p in path_time[var_ODs[k]]:\n",
    "    state += 1\n",
    "    path_time_idx.append( p + tuple([state]) )\n",
    "\n",
    "sb = branch_and_bound(path_time_idx, lower, upper, arc_condn)\n",
    "\n",
    "variables = {}\n",
    "B = np.array([[1, 0], [0, 1], [1, 1]])\n",
    "for i in range(1, 8):\n",
    "    variables[f'e{i}'] = variable.Variable(name=f'e{i}', B=B, values=['Fail', 'Surv'])\n",
    "Cmat = get_cmat_from_branches(sb, variables)\n",
    "print(Cmat)"
   ]
  },
  {
   "cell_type": "markdown",
   "id": "6112d56c",
   "metadata": {},
   "source": [
    "Calculate a probability vector correponding to Cmat."
   ]
  },
  {
   "cell_type": "code",
   "execution_count": 63,
   "id": "87798d18",
   "metadata": {},
   "outputs": [
    {
     "name": "stdout",
     "output_type": "stream",
     "text": [
      "[[9.854e-01 3.153e-03 2.478e-01 8.318e-01 9.993e-01 9.850e-01 2.779e-01\n",
      "  5.834e-01 6.532e-01 9.136e-01]\n",
      " [3.612e-03 2.521e-03 2.533e-01 6.210e-02 0.000e+00 3.355e-03 1.035e-01\n",
      "  1.318e-01 0.000e+00 1.038e-03]\n",
      " [8.113e-03 4.471e-03 4.325e-01 1.060e-01 0.000e+00 5.112e-03 1.974e-01\n",
      "  2.848e-01 0.000e+00 1.701e-03]\n",
      " [0.000e+00 8.084e-19 0.000e+00 0.000e+00 0.000e+00 0.000e+00 4.746e-24\n",
      "  1.147e-08 7.124e-07 0.000e+00]\n",
      " [0.000e+00 6.465e-19 0.000e+00 0.000e+00 0.000e+00 0.000e+00 1.767e-24\n",
      "  2.592e-09 0.000e+00 0.000e+00]\n",
      " [0.000e+00 1.146e-18 0.000e+00 0.000e+00 0.000e+00 0.000e+00 3.371e-24\n",
      "  5.602e-09 0.000e+00 0.000e+00]\n",
      " [0.000e+00 5.583e-19 0.000e+00 0.000e+00 0.000e+00 0.000e+00 1.567e-24\n",
      "  3.659e-09 1.768e-07 0.000e+00]\n",
      " [0.000e+00 9.900e-19 0.000e+00 0.000e+00 0.000e+00 0.000e+00 2.989e-24\n",
      "  7.907e-09 2.800e-07 0.000e+00]\n",
      " [0.000e+00 1.928e-01 2.231e-19 0.000e+00 4.471e-04 4.276e-03 2.132e-07\n",
      "  0.000e+00 0.000e+00 5.072e-02]\n",
      " [0.000e+00 1.542e-01 2.280e-19 0.000e+00 0.000e+00 1.457e-05 7.938e-08\n",
      "  0.000e+00 0.000e+00 5.760e-05]\n",
      " [0.000e+00 2.735e-01 3.893e-19 0.000e+00 0.000e+00 2.219e-05 1.514e-07\n",
      "  0.000e+00 0.000e+00 9.444e-05]\n",
      " [0.000e+00 1.332e-01 2.062e-19 0.000e+00 8.483e-05 8.894e-04 7.037e-08\n",
      "  0.000e+00 0.000e+00 1.243e-02]\n",
      " [0.000e+00 2.361e-01 3.521e-19 0.000e+00 1.472e-04 1.355e-03 1.342e-07\n",
      "  0.000e+00 0.000e+00 2.038e-02]\n",
      " [1.877e-03 0.000e+00 1.019e-02 0.000e+00 1.971e-05 0.000e+00 1.384e-01\n",
      "  1.713e-07 2.021e-01 6.402e-07]\n",
      " [6.880e-06 0.000e+00 1.042e-02 0.000e+00 0.000e+00 0.000e+00 5.155e-02\n",
      "  3.870e-08 0.000e+00 7.271e-10]\n",
      " [1.545e-05 0.000e+00 1.779e-02 0.000e+00 0.000e+00 0.000e+00 9.833e-02\n",
      "  8.365e-08 0.000e+00 1.192e-09]\n",
      " [2.883e-04 0.000e+00 9.423e-03 0.000e+00 3.740e-06 0.000e+00 4.570e-02\n",
      "  5.463e-08 5.016e-02 1.569e-07]\n",
      " [6.476e-04 0.000e+00 1.609e-02 0.000e+00 6.488e-06 0.000e+00 8.717e-02\n",
      "  1.181e-07 7.942e-02 2.572e-07]\n",
      " [1.132e-05 0.000e+00 8.943e-04 2.694e-05 7.357e-09 0.000e+00 0.000e+00\n",
      "  0.000e+00 5.869e-03 3.449e-08]\n",
      " [2.542e-05 0.000e+00 1.527e-03 4.601e-05 1.276e-08 0.000e+00 0.000e+00\n",
      "  0.000e+00 9.292e-03 5.656e-08]]\n"
     ]
    }
   ],
   "source": [
    "no_c = len(Cmat)\n",
    "p = np.ones(shape = (no_c, no_samp))\n",
    "\n",
    "for i in range(no_arc):\n",
    "    k = f'e{i+1}'\n",
    "    pf_i = arcs_pf[k]\n",
    "    \n",
    "    for j in range(no_samp):\n",
    "\n",
    "        for k in range(no_c):\n",
    "            C_ik = Cmat[k,i+1]\n",
    "            if C_ik == 0:\n",
    "                prob_ijk = pf_i[j]\n",
    "            elif C_ik == 1:\n",
    "                prob_ijk = 1 - pf_i[j]\n",
    "            else:\n",
    "                prob_ijk = 1\n",
    "\n",
    "            p[k,j] *= prob_ijk\n",
    "    \n",
    "print(p)"
   ]
  },
  {
   "cell_type": "markdown",
   "id": "b6648354",
   "metadata": {},
   "source": [
    "System probability of OD1."
   ]
  },
  {
   "cell_type": "code",
   "execution_count": 64,
   "id": "f84a09ee",
   "metadata": {},
   "outputs": [],
   "source": [
    "def cal_sys_probs( Cmat, p ):\n",
    "\n",
    "    denom = np.sum( p ) # denominator of importance sampling\n",
    "    numers = np.sum(p, axis=1)\n",
    "\n",
    "    no_sys_st = max([x[0] for x in Cmat])\n",
    "    sys_probs = np.empty(shape=(no_sys_st+1,))\n",
    "    for i in range(no_sys_st+1):\n",
    "        pos = np.argwhere(Cmat[:,0]==i)\n",
    "        prob = np.sum(numers[pos]) / denom\n",
    "        sys_probs[i] = prob\n",
    "        \n",
    "    return sys_probs\n"
   ]
  },
  {
   "cell_type": "code",
   "execution_count": 65,
   "id": "d682f245",
   "metadata": {},
   "outputs": [
    {
     "name": "stdout",
     "output_type": "stream",
     "text": [
      "[0.104 0.648 0.06  0.188]\n"
     ]
    }
   ],
   "source": [
    "sys_probs = cal_sys_probs( Cmat, p )\n",
    "print(sys_probs)"
   ]
  },
  {
   "cell_type": "markdown",
   "id": "e49ce72f",
   "metadata": {},
   "source": [
    "# Updating system events by observations on component events.\n",
    "\n",
    "Suppose e1 and e3 are observed to be failed. There is 90% of probability that an observation is correct (i.e. observation error of 10%)."
   ]
  },
  {
   "cell_type": "code",
   "execution_count": 69,
   "id": "c23f3846",
   "metadata": {},
   "outputs": [
    {
     "name": "stdout",
     "output_type": "stream",
     "text": [
      "[0.286 0.183 0.017 0.515]\n"
     ]
    }
   ],
   "source": [
    "ox = {'e1': 0, 'e6': 0}\n",
    "ox_corr = 0.9\n",
    "c_st = 2 # composite state (representing either of both states)\n",
    "\n",
    "p_ox = copy.deepcopy(p)\n",
    "for k, v in ox.items():\n",
    "    arc_ind = int(k[1])\n",
    "    \n",
    "    for i in range(no_c):\n",
    "        if Cmat[i,arc_ind] == v:\n",
    "            p_ox[i] *= ox_corr\n",
    "        elif Cmat[i,arc_ind] != c_st:\n",
    "            p_ox[i] *= (1-ox_corr)\n",
    "\n",
    "            \n",
    "sys_probs_ox = cal_sys_probs( Cmat, p_ox )\n",
    "print(sys_probs_ox)     "
   ]
  },
  {
   "cell_type": "markdown",
   "id": "977514ae",
   "metadata": {},
   "source": [
    "# Updating component events by observations on system events.\n",
    "\n",
    "Suppose od1 is observed to be delayed. We have probabilities of [0.2, 0.4, 0.4, 0]."
   ]
  },
  {
   "cell_type": "code",
   "execution_count": 90,
   "id": "1204e6d5",
   "metadata": {},
   "outputs": [],
   "source": [
    "of = {'od1': [0.2, 0.4, 0.4, 0]}\n",
    "\n",
    "p_of = copy.deepcopy(p)\n",
    "for k, v in of.items():\n",
    "    arc_ind = int( k[2] )\n",
    "    \n",
    "    for i in range( no_c ):\n",
    "        p_of[i] *= v[Cmat[i,0]]\n"
   ]
  },
  {
   "cell_type": "code",
   "execution_count": 91,
   "id": "aa8901bf",
   "metadata": {},
   "outputs": [],
   "source": [
    "def cal_comp_probs( Cmat, p, comp_ind ):\n",
    "\n",
    "    numers = np.sum(p, axis=1)\n",
    "\n",
    "    no_st = 2 # fail or survival (multi-state is not considered at the moment)\n",
    "    probs = np.empty(shape=(no_st,))\n",
    "    for i in range(no_st):\n",
    "        pos = np.argwhere(Cmat[:,comp_ind+1]==i)\n",
    "        prob = np.sum(numers[pos]) \n",
    "        probs[i] = prob\n",
    "    \n",
    "    probs = probs / np.sum(probs)\n",
    "    return probs"
   ]
  },
  {
   "cell_type": "code",
   "execution_count": 92,
   "id": "eb5b7bf5",
   "metadata": {},
   "outputs": [
    {
     "name": "stdout",
     "output_type": "stream",
     "text": [
      "[1. 0.]\n",
      "[0.057 0.943]\n",
      "[0.151 0.849]\n",
      "[0.056 0.944]\n"
     ]
    }
   ],
   "source": [
    "probs_of_x1 = cal_comp_probs( Cmat, p_of, 1 )\n",
    "print(probs_of_x1)\n",
    "\n",
    "probs_of_x2 = cal_comp_probs( Cmat, p_of, 2 )\n",
    "print(probs_of_x2)\n",
    "\n",
    "probs_of_x3 = cal_comp_probs( Cmat, p_of, 3 )\n",
    "print(probs_of_x3)\n",
    "\n",
    "probs_of_x4 = cal_comp_probs( Cmat, p_of, 4 )\n",
    "print(probs_of_x4)"
   ]
  },
  {
   "cell_type": "code",
   "execution_count": null,
   "id": "646f4e84",
   "metadata": {},
   "outputs": [],
   "source": []
  },
  {
   "cell_type": "code",
   "execution_count": null,
   "id": "70b4cd53",
   "metadata": {},
   "outputs": [],
   "source": []
  }
 ],
 "metadata": {
  "kernelspec": {
   "display_name": "Python 3 (ipykernel)",
   "language": "python",
   "name": "python3"
  },
  "language_info": {
   "codemirror_mode": {
    "name": "ipython",
    "version": 3
   },
   "file_extension": ".py",
   "mimetype": "text/x-python",
   "name": "python",
   "nbconvert_exporter": "python",
   "pygments_lexer": "ipython3",
   "version": "3.9.13"
  }
 },
 "nbformat": 4,
 "nbformat_minor": 5
}
