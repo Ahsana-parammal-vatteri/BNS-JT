{
 "cells": [
  {
   "cell_type": "code",
   "execution_count": 3,
   "id": "edbdd82b",
   "metadata": {},
   "outputs": [
    {
     "name": "stdout",
     "output_type": "stream",
     "text": [
      "\n",
      "Note: you may need to restart the kernel to use updated packages.\n"
     ]
    }
   ],
   "source": [
    "conda activate bns"
   ]
  },
  {
   "cell_type": "code",
   "execution_count": 2,
   "id": "68fef7e3-bf24-40da-b7a9-96af8b8875ba",
   "metadata": {},
   "outputs": [],
   "source": [
    "import sys"
   ]
  },
  {
   "cell_type": "code",
   "execution_count": 3,
   "id": "7ef3c94e-e245-42a6-b8cc-5070264d3277",
   "metadata": {},
   "outputs": [],
   "source": [
    "sys.path.insert(0, '/home/hyeuk/Projects/BNS_JT')"
   ]
  },
  {
   "cell_type": "code",
   "execution_count": 6,
   "id": "16c9347f",
   "metadata": {},
   "outputs": [],
   "source": [
    "import networkx as nx\n",
    "import matplotlib.pyplot as plt\n",
    "from pathlib import Path\n",
    "import numpy as np\n",
    "from scipy.stats import lognorm\n",
    "import os\n",
    "\n",
    "from BNS_JT import cpm, variable\n",
    "from BNS_JT.trans import get_arcs_length, get_all_paths_and_times\n",
    "from BNS_JT.cpm import variable_elim, mcs_product, single_sample, get_sample_order\n"
   ]
  },
  {
   "cell_type": "code",
   "execution_count": 7,
   "id": "b58ac5fa",
   "metadata": {},
   "outputs": [],
   "source": [
    "np.set_printoptions(precision=3)\n",
    "HOME = os.getcwd()"
   ]
  },
  {
   "cell_type": "markdown",
   "id": "5bad1533",
   "metadata": {},
   "source": [
    "# Toy example\n",
    "\n",
    "First, add hazard nodes."
   ]
  },
  {
   "cell_type": "code",
   "execution_count": 29,
   "id": "c327b42b",
   "metadata": {},
   "outputs": [
    {
     "name": "stdout",
     "output_type": "stream",
     "text": [
      "\"Variable(name=haz, B=[{0}, {1}], values=['low', 'high'])\"\n",
      "{'haz': Cpm(variables=['haz'], no_child=1, C=[[0]\n",
      " [1]], p=[[0.95]\n",
      " [0.05]]}\n"
     ]
    }
   ],
   "source": [
    "cpms = {}\n",
    "varis = {}\n",
    "\n",
    "low = 0\n",
    "high = 1\n",
    "p_low = 0.95\n",
    "varis['haz'] = variable.Variable(name='haz', B = [{0}, {1}], values=['low', 'high'])\n",
    "C = np.array([[low, high]]).T\n",
    "p = np.array([p_low, 1-p_low])\n",
    "cpms['haz'] = cpm.Cpm( variables = [varis['haz']], no_child = 1, C = C, p = p )\n",
    "print(var_h)\n",
    "print(cpms)"
   ]
  },
  {
   "cell_type": "markdown",
   "id": "4876d405",
   "metadata": {},
   "source": [
    "The script below is from *Trans/tests/test_Transport.py*."
   ]
  },
  {
   "cell_type": "code",
   "execution_count": 37,
   "id": "b98b460f",
   "metadata": {},
   "outputs": [],
   "source": [
    "node_coords = {'n1': (-2, 3),\n",
    "               'n2': (-2, -3),\n",
    "               'n3': (2, -2),\n",
    "               'n4': (1, 1),\n",
    "               'n5': (0, 0)}\n",
    "\n",
    "arcs = {'e1': ['n1', 'n2'],\n",
    "\t'e2': ['n1', 'n5'],\n",
    "\t'e3': ['n2', 'n5'],\n",
    "\t'e4': ['n3', 'n4'],\n",
    "\t'e5': ['n3', 'n5'],\n",
    "\t'e6': ['n4', 'n5']}\n",
    "\n",
    "# Fragility curves -- From HAZUS-EQ model (roads are regarded as disconnected when being extensively or completely damaged)\n",
    "\n",
    "frag = {'major': {'med': 60.0, 'std': 0.7},\n",
    "        'urban' : {'med': 24.0, 'std': 0.7},\n",
    "        'bridge': {'med': 1.1, 'std': 3.9},\n",
    "        }\n",
    "\n",
    "arcs_type = {'e1': 'major',\n",
    "             'e2': 'major',\n",
    "             'e3': 'major',\n",
    "             'e4': 'urban',\n",
    "             'e5': 'bridge',\n",
    "             'e6': 'bridge'}\n",
    "\n",
    "arcs_avg_kmh = {'e1': 40,\n",
    "                'e2': 40,\n",
    "                'e3': 40,\n",
    "                'e4': 30,\n",
    "                'e5': 30,\n",
    "                'e6': 20}\n",
    "\n",
    "var_ODs = {'od1': ('n5', 'n1'),\n",
    "           'od2': ('n5', 'n2'),\n",
    "           'od3': ('n5', 'n3'),\n",
    "           'od4': ('n5', 'n4')}\n",
    "\n",
    "nODs = len(var_ODs)\n",
    "\n",
    "# For the moment, we assume that ground motions are observed. Later, hazard nodes will be added.\n",
    "GM_obs = {'e1': 30.0,\n",
    "          'e2': 20.0,\n",
    "          'e3': 10.0,\n",
    "          'e4': 2.0,\n",
    "          'e5': 0.9,\n",
    "          'e6': 0.6}\n",
    "\n",
    "# Arcs' states index compatible with variable B index, and C\n",
    "arc_surv = 1 - 1\n",
    "arc_fail = 2 - 1\n",
    "arc_either = 3 - 1\n",
    "\n",
    "arc_lens_km = get_arcs_length(arcs, node_coords)\n",
    "\n",
    "#arcTimes_h = arcLens_km ./ arcs_Vavg_kmh\n",
    "arc_times_h = {k: v/arcs_avg_kmh[k] for k, v in arc_lens_km.items()}\n",
    "\n",
    "# create a graph\n",
    "G = nx.Graph()\n",
    "for k, x in arcs.items():\n",
    "    G.add_edge(x[0], x[1], time=arc_times_h[k], label=k)\n",
    "\n",
    "for k, v in node_coords.items():\n",
    "    G.add_node(k, pos=v)\n",
    "\n",
    "path_time = get_all_paths_and_times(var_ODs.values(), G, key='time')\n",
    "\n",
    "# plot graph\n",
    "pos = nx.get_node_attributes(G, 'pos')\n",
    "edge_labels = nx.get_edge_attributes(G, 'label')\n",
    "\n",
    "fig = plt.figure()\n",
    "ax = fig.add_subplot()\n",
    "nx.draw(G, pos, with_labels=True, ax=ax)\n",
    "nx.draw_networkx_edge_labels(G, pos, edge_labels=edge_labels, ax=ax)\n",
    "fig.savefig( os.path.join(HOME, 'graph.png'), dpi=200)\n",
    "\n",
    "# Arcs (components): P(X_i | GM = GM_ob ), i = 1 .. N (= nArc)\n",
    "\n",
    "#B = np.array([[1, 0], [0, 1], [1, 1]])\n",
    "C = np.array([[arc_surv, low], [arc_fail, low],\n",
    "              [arc_surv, high], [arc_fail, high]])\n",
    "\n",
    "#vars_arc = {}\n",
    "#cpms = {}\n",
    "for k in arcs.keys():\n",
    "    varis[k] = variable.Variable(name=str(k), B=[{0}, {1}, {0, 1}], values=['Surv', 'Fail'])\n",
    "\n",
    "    _type = arcs_type[k]\n",
    "    prob = [lognorm.cdf(GM_obs[k], frag[_type]['std'], scale=frag[_type]['med']),\n",
    "           lognorm.cdf(GM_obs[k]*1.5, frag[_type]['std'], scale=frag[_type]['med'])]\n",
    "    \n",
    "    p = np.array([1-prob[0], prob[0], 1-prob[1], prob[1]])\n",
    "    cpms[k] = cpm.Cpm(variables = [vars_arc[k], var_h],\n",
    "                          no_child = 1,\n",
    "                          C = C,\n",
    "                          p = p)\n",
    "\n",
    "# Travel times (systems): P(OD_j | X1, ... Xn) j = 1 ... nOD\n",
    "#B_ = np.array([[1, 0, 0], [0, 1, 0], [0, 0, 1]])\n",
    "varis['od1'] = variable.Variable(name='od1', B=[{0}, {1}, {2}],\n",
    "        values=[0.0901, 0.2401, np.inf])\n",
    "\n",
    "_variables = [vars_arc[k] for k in ['od1', 'e1', 'e2', 'e3', 'e4', 'e5', 'e6']]\n",
    "c7 = np.array([\n",
    "[1,3,1,3,3,3,3],\n",
    "[2,1,2,1,3,3,3],\n",
    "[3,1,2,2,3,3,3],\n",
    "[3,2,2,3,3,3,3]]) - 1\n",
    "cpms['od1'] = cpm.Cpm(variables= _variables,\n",
    "                       no_child = 1,\n",
    "                       C = c7,\n",
    "                       p = [1, 1, 1, 1],\n",
    "                       )"
   ]
  },
  {
   "cell_type": "code",
   "execution_count": 38,
   "id": "98c81695",
   "metadata": {},
   "outputs": [
    {
     "name": "stdout",
     "output_type": "stream",
     "text": [
      "dict_keys(['haz', 'e1', 'e2', 'e3', 'e4', 'e5', 'e6', 'od1'])\n"
     ]
    }
   ],
   "source": [
    "print(cpms.keys())\n"
   ]
  },
  {
   "cell_type": "code",
   "execution_count": 39,
   "id": "03ca4f0b-f43b-44e3-87ca-9a500c4b94b7",
   "metadata": {},
   "outputs": [
    {
     "name": "stdout",
     "output_type": "stream",
     "text": [
      "dict_keys(['haz', 'e1', 'e2', 'e3', 'e4', 'e5', 'e6', 'od1'])\n"
     ]
    }
   ],
   "source": [
    "print(varis.keys())"
   ]
  },
  {
   "cell_type": "markdown",
   "id": "904be2d6",
   "metadata": {},
   "source": [
    "# Inference\n",
    "\n",
    "## Exact"
   ]
  },
  {
   "cell_type": "code",
   "execution_count": 72,
   "id": "67094892",
   "metadata": {},
   "outputs": [
    {
     "name": "stdout",
     "output_type": "stream",
     "text": [
      "Probability of disruption: 0.06341019501428664\n",
      "Probability of disconnection: 0.012026510475349292\n"
     ]
    }
   ],
   "source": [
    "#cpm_od1 = variable_elim( cpms, ['haz', 'e1', 'e2', 'e3', 'e4', 'e5', 'e6'] )\n",
    "# The function above does not work.\n",
    "\n",
    "cpms_cp = list(cpms.values())\n",
    "for i in ['haz'] + list(arcs.keys()):\n",
    "    is_inscope = cpm.isinscope([varbs[i]], cpms_cp)\n",
    "    cpm_sel = [y for x, y in zip( is_inscope, cpms_cp ) if x]\n",
    "    cpm_mult = cpm.prod_cpms(cpm_sel)\n",
    "    cpm_mult = cpm_mult.sum( [varbs[i]] )\n",
    "    \n",
    "    cpms_cp = [y for (x,y) in zip( is_inscope, cpms_cp ) if x == False]\n",
    "    cpms_cp.insert(0, cpm_mult)\n",
    "\n",
    "print('Probability of disruption: ' + str(cpms_cp[0].p[1][0] + cpms_cp[0].p[2][0] ) )\n",
    "print('Probability of disconnection: ' + str(cpms_cp[0].p[2][0]) )"
   ]
  },
  {
   "cell_type": "code",
   "execution_count": 45,
   "id": "10382de8-6e80-43d4-9722-a174e115cec2",
   "metadata": {},
   "outputs": [
    {
     "data": {
      "text/plain": [
       "0.01235"
      ]
     },
     "execution_count": 45,
     "metadata": {},
     "output_type": "execute_result"
    }
   ],
   "source": [
    "0.01*0.95 + 0.057*0.05"
   ]
  },
  {
   "cell_type": "code",
   "execution_count": 46,
   "id": "8a95e85b-37f9-4709-9bf0-a628505de13d",
   "metadata": {},
   "outputs": [
    {
     "data": {
      "text/plain": [
       "0.0641"
      ]
     },
     "execution_count": 46,
     "metadata": {},
     "output_type": "execute_result"
    }
   ],
   "source": [
    "(0.049+0.01)*0.95 + (0.057+0.104)*0.05"
   ]
  },
  {
   "cell_type": "code",
   "execution_count": 41,
   "id": "6af0abaf-83c4-4045-adb6-4de3b3b0fa3e",
   "metadata": {},
   "outputs": [
    {
     "name": "stdout",
     "output_type": "stream",
     "text": [
      "Probability of disruption: 0.06341019501428664\n",
      "Probability of disconnection: 0.012026510475349295\n"
     ]
    }
   ],
   "source": [
    "#cpm_od1 = variable_elim( cpms, ['haz', 'e1', 'e2', 'e3', 'e4', 'e5', 'e6'] )\n",
    "# The function above does not work.\n",
    "\n",
    "cpms_cp = list(cpms.values())\n",
    "for i in ['haz'] + list(arcs.keys()):\n",
    "    is_inscope = cpm.isinscope([varis[i]], cpms_cp)\n",
    "    cpm_sel = [y for x, y in zip( is_inscope, cpms_cp ) if x]\n",
    "    cpm_mult = cpm.prod_cpms(cpm_sel)\n",
    "    cpm_mult = cpm_mult.sum( [varis[i]] )\n",
    "    \n",
    "    cpms_cp = [y for (x,y) in zip( is_inscope, cpms_cp ) if x == False]\n",
    "    cpms_cp.insert(0, cpm_mult)\n",
    "\n",
    "print('Probability of disruption: ' + str(cpms_cp[0].p[1][0] + cpms_cp[0].p[2][0] ) )\n",
    "print('Probability of disconnection: ' + str(cpms_cp[0].p[2][0]) )"
   ]
  },
  {
   "cell_type": "markdown",
   "id": "1e1310a1",
   "metadata": {},
   "source": [
    "## MCS product by conditioning"
   ]
  },
  {
   "cell_type": "code",
   "execution_count": 43,
   "id": "2842e640",
   "metadata": {},
   "outputs": [
    {
     "ename": "AssertionError",
     "evalue": "invalid cnd_vars",
     "output_type": "error",
     "traceback": [
      "\u001b[0;31m---------------------------------------------------------------------------\u001b[0m",
      "\u001b[0;31mAssertionError\u001b[0m                            Traceback (most recent call last)",
      "Cell \u001b[0;32mIn[43], line 10\u001b[0m\n\u001b[1;32m      7\u001b[0m \u001b[38;5;66;03m#print(cpm_h_mcs)\u001b[39;00m\n\u001b[1;32m      9\u001b[0m \u001b[38;5;28;01mfor\u001b[39;00m c, p \u001b[38;5;129;01min\u001b[39;00m \u001b[38;5;28mzip\u001b[39m( cpm_h_mcs\u001b[38;5;241m.\u001b[39mC, cpm_h_mcs\u001b[38;5;241m.\u001b[39mq ):\n\u001b[0;32m---> 10\u001b[0m     cpms_c \u001b[38;5;241m=\u001b[39m \u001b[43mcpm\u001b[49m\u001b[38;5;241;43m.\u001b[39;49m\u001b[43mcondition\u001b[49m\u001b[43m(\u001b[49m\u001b[43m \u001b[49m\u001b[43mcpms\u001b[49m\u001b[43m,\u001b[49m\u001b[43m \u001b[49m\u001b[38;5;124;43m'\u001b[39;49m\u001b[38;5;124;43mhaz\u001b[39;49m\u001b[38;5;124;43m'\u001b[39;49m\u001b[43m,\u001b[49m\u001b[43m \u001b[49m\u001b[43mc\u001b[49m\u001b[43m \u001b[49m\u001b[43m)\u001b[49m\n\u001b[1;32m     12\u001b[0m     \u001b[38;5;28;01mfor\u001b[39;00m v \u001b[38;5;129;01min\u001b[39;00m elim_order:\n\u001b[1;32m     13\u001b[0m         is_inscope \u001b[38;5;241m=\u001b[39m cpm\u001b[38;5;241m.\u001b[39misinscope([varis[i]], cpms_cp)\n",
      "File \u001b[0;32m~/Projects/BNS_JT/BNS_JT/cpm.py:550\u001b[0m, in \u001b[0;36mcondition\u001b[0;34m(M, cnd_vars, cnd_states, sample_idx)\u001b[0m\n\u001b[1;32m    547\u001b[0m \u001b[38;5;28;01melif\u001b[39;00m \u001b[38;5;28misinstance\u001b[39m(M, \u001b[38;5;28mdict\u001b[39m):\n\u001b[1;32m    548\u001b[0m     M \u001b[38;5;241m=\u001b[39m \u001b[38;5;28mlist\u001b[39m(M\u001b[38;5;241m.\u001b[39mvalues())\n\u001b[0;32m--> 550\u001b[0m \u001b[38;5;28;01massert\u001b[39;00m \u001b[38;5;28misinstance\u001b[39m(cnd_vars, (\u001b[38;5;28mlist\u001b[39m, np\u001b[38;5;241m.\u001b[39mndarray)), \u001b[38;5;124m'\u001b[39m\u001b[38;5;124minvalid cnd_vars\u001b[39m\u001b[38;5;124m'\u001b[39m\n\u001b[1;32m    552\u001b[0m \u001b[38;5;28;01mif\u001b[39;00m \u001b[38;5;28misinstance\u001b[39m(cnd_vars, np\u001b[38;5;241m.\u001b[39mndarray):\n\u001b[1;32m    553\u001b[0m     cnd_vars \u001b[38;5;241m=\u001b[39m cnd_vars\u001b[38;5;241m.\u001b[39mtolist()\n",
      "\u001b[0;31mAssertionError\u001b[0m: invalid cnd_vars"
     ]
    }
   ],
   "source": [
    "nSample = 10\n",
    "var_mcs = ['haz']\n",
    "elim_order = ['e1', 'e2', 'e3', 'e4', 'e5', 'e6'] # except 'haz' and 'od1'\n",
    "\n",
    "\n",
    "cpm_h_mcs = mcs_product([cpms['haz']], nSample)\n",
    "#print(cpm_h_mcs)\n",
    "\n",
    "for c, p in zip( cpm_h_mcs.C, cpm_h_mcs.q ):\n",
    "    cpms_c = cpm.condition( cpms, 'haz', c )\n",
    "    \n",
    "    for v in elim_order:\n",
    "        is_inscope = cpm.isinscope([varis[i]], cpms_cp)\n",
    "        cpm_sel = [y for x, y in zip( is_inscope, cpms_cp ) if x]\n",
    "        cpm_mult = cpm.prod_cpms(cpm_sel)\n",
    "        cpm_mult = cpm_mult.sum( [varis[i]] )\n",
    "\n",
    "        cpms_cp = [y for (x,y) in zip( is_inscope, cpms_cp ) if x == False]\n",
    "        cpms_cp.insert(0, cpm_mult)\n",
    "\n"
   ]
  },
  {
   "cell_type": "code",
   "execution_count": 90,
   "id": "b8418f4a",
   "metadata": {},
   "outputs": [
    {
     "name": "stdout",
     "output_type": "stream",
     "text": [
      "0\n"
     ]
    }
   ],
   "source": [
    "for i, (j, M) in enumerate(zip(sample_order, [cpms['haz']])):\n",
    "    print(i)"
   ]
  },
  {
   "cell_type": "code",
   "execution_count": 58,
   "id": "54f8db46",
   "metadata": {},
   "outputs": [
    {
     "name": "stdout",
     "output_type": "stream",
     "text": [
      "['haz', 'e1', 'e2', 'e3', 'e4', 'e5', 'e6']\n"
     ]
    }
   ],
   "source": [
    "print(['haz'] + list(arcs.keys()))"
   ]
  },
  {
   "cell_type": "code",
   "execution_count": 85,
   "id": "edadb235",
   "metadata": {},
   "outputs": [
    {
     "name": "stdout",
     "output_type": "stream",
     "text": [
      "[0 1 2 3 4 5 6 7 8 9]\n"
     ]
    }
   ],
   "source": []
  },
  {
   "cell_type": "code",
   "execution_count": null,
   "id": "42a22657",
   "metadata": {},
   "outputs": [],
   "source": []
  }
 ],
 "metadata": {
  "kernelspec": {
   "display_name": "bns",
   "language": "python",
   "name": "bns"
  },
  "language_info": {
   "codemirror_mode": {
    "name": "ipython",
    "version": 3
   },
   "file_extension": ".py",
   "mimetype": "text/x-python",
   "name": "python",
   "nbconvert_exporter": "python",
   "pygments_lexer": "ipython3",
   "version": "3.9.5"
  }
 },
 "nbformat": 4,
 "nbformat_minor": 5
}
